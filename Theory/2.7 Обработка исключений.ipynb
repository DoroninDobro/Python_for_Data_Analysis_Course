{
  "nbformat": 4,
  "nbformat_minor": 0,
  "metadata": {
    "colab": {
      "name": "2.7 Обработка исключений.ipynb",
      "provenance": [],
      "collapsed_sections": [
        "5F_hHKVTNzia"
      ]
    },
    "kernelspec": {
      "name": "python3",
      "display_name": "Python 3"
    }
  },
  "cells": [
    {
      "cell_type": "markdown",
      "metadata": {
        "id": "moIM-S1g7SKx",
        "colab_type": "text"
      },
      "source": [
        "# Курс \"Python для анализа данных\"\n",
        "\n",
        "---\n",
        "#2.7 Обработка исключений"
      ]
    },
    {
      "cell_type": "markdown",
      "metadata": {
        "id": "QZ1Arpnj7p_N",
        "colab_type": "text"
      },
      "source": [
        "## Где мы сейчас?\n"
      ]
    },
    {
      "cell_type": "markdown",
      "metadata": {
        "id": "J9A06fP5j1vS",
        "colab_type": "text"
      },
      "source": [
        "<html>\n",
        " <head>\n",
        "  <meta charset=\"utf-8\">\n",
        " </head>\n",
        " <body>\n",
        "  <ul>\n",
        "    <li>1. Введение в анализ данных и разработку на языке Python </li>\n",
        "    <li>2. <strong>Основы языка</strong> <i><- Вот в этой главе!</i>\n",
        "     <ul>\n",
        "      <li>2.1 - 2.5</li>\n",
        "      <li>2.6 Модули</li>\n",
        "      <li><strong>2.7 Обработка исключений</strong> <i><- Вот в этом параграфе!</i></li>\n",
        "      <li>2.8 Объектно-ориентированное программирование</i>\n",
        "      <li>2.9</li>\n",
        "     </ul>\n",
        "    </li>   \n",
        "  </ul>\n",
        " </body>\n",
        "</html>"
      ]
    },
    {
      "cell_type": "markdown",
      "metadata": {
        "id": "z1oJmp_4Po8K",
        "colab_type": "text"
      },
      "source": [
        "## О чем будем говорить?\n"
      ]
    },
    {
      "cell_type": "markdown",
      "metadata": {
        "id": "7X4Wlpraj7Yw",
        "colab_type": "text"
      },
      "source": [
        "О перехвате ошибок и исключительных ситуаций интерпретатором языка Python. О том, как работа с исключениями помогает повысить надежность работы приложения."
      ]
    },
    {
      "cell_type": "markdown",
      "metadata": {
        "id": "NhfVXiTGAkND",
        "colab_type": "text"
      },
      "source": [
        "## Ключевые слова, понятия и выражения\n",
        "\n",
        "\n",
        "\n",
        "\n"
      ]
    },
    {
      "cell_type": "markdown",
      "metadata": {
        "id": "ixnuL5V2rZtz",
        "colab_type": "text"
      },
      "source": [
        "*   исключения\n",
        "*   ```try ... except ...```\n",
        "*   иерархия классов исключений\n",
        "\n"
      ]
    },
    {
      "cell_type": "markdown",
      "metadata": {
        "id": "H1MGw-jK3t_v",
        "colab_type": "text"
      },
      "source": [
        "## Материал"
      ]
    },
    {
      "cell_type": "markdown",
      "metadata": {
        "id": "uzq4MPDdJgGP",
        "colab_type": "text"
      },
      "source": [
        "### Примеры возникновения исключительных ситуаций"
      ]
    },
    {
      "cell_type": "markdown",
      "metadata": {
        "id": "e_UD_84oQF5I",
        "colab_type": "text"
      },
      "source": [
        "Рассмотрим примеры наиболее часто встречающихся исключений."
      ]
    },
    {
      "cell_type": "code",
      "metadata": {
        "id": "9lVRaEehMrK0",
        "colab_type": "code",
        "outputId": "f118c2c7-2e27-49e2-a9df-39f444dc7f6e",
        "colab": {
          "base_uri": "https://localhost:8080/",
          "height": 172
        }
      },
      "source": [
        "# Деление на ноль - ZeroDivisionError\n",
        "20/0"
      ],
      "execution_count": 0,
      "outputs": [
        {
          "output_type": "error",
          "ename": "ZeroDivisionError",
          "evalue": "ignored",
          "traceback": [
            "\u001b[0;31m---------------------------------------------------------------------------\u001b[0m",
            "\u001b[0;31mZeroDivisionError\u001b[0m                         Traceback (most recent call last)",
            "\u001b[0;32m<ipython-input-1-f83a26030bd4>\u001b[0m in \u001b[0;36m<module>\u001b[0;34m()\u001b[0m\n\u001b[0;32m----> 1\u001b[0;31m \u001b[0;36m20\u001b[0m\u001b[0;34m/\u001b[0m\u001b[0;36m0\u001b[0m\u001b[0;34m\u001b[0m\u001b[0;34m\u001b[0m\u001b[0m\n\u001b[0m",
            "\u001b[0;31mZeroDivisionError\u001b[0m: division by zero"
          ]
        }
      ]
    },
    {
      "cell_type": "code",
      "metadata": {
        "id": "EcdTZTGFM1Bx",
        "colab_type": "code",
        "outputId": "7ad4ea7a-7b57-4a63-dc4a-e81816ba799f",
        "colab": {
          "base_uri": "https://localhost:8080/",
          "height": 228
        }
      },
      "source": [
        "# Выход за пределы list - IndexError\n",
        "my_list = [1,2,3]\n",
        "print('my_list[0]=', my_list[0])\n",
        "print('my_list[3]=', my_list[3])"
      ],
      "execution_count": 0,
      "outputs": [
        {
          "output_type": "stream",
          "text": [
            "my_list[0]= 1\n"
          ],
          "name": "stdout"
        },
        {
          "output_type": "error",
          "ename": "IndexError",
          "evalue": "ignored",
          "traceback": [
            "\u001b[0;31m---------------------------------------------------------------------------\u001b[0m",
            "\u001b[0;31mIndexError\u001b[0m                                Traceback (most recent call last)",
            "\u001b[0;32m<ipython-input-2-b392babc550f>\u001b[0m in \u001b[0;36m<module>\u001b[0;34m()\u001b[0m\n\u001b[1;32m      1\u001b[0m \u001b[0mmy_list\u001b[0m \u001b[0;34m=\u001b[0m \u001b[0;34m[\u001b[0m\u001b[0;36m1\u001b[0m\u001b[0;34m,\u001b[0m\u001b[0;36m2\u001b[0m\u001b[0;34m,\u001b[0m\u001b[0;36m3\u001b[0m\u001b[0;34m]\u001b[0m\u001b[0;34m\u001b[0m\u001b[0;34m\u001b[0m\u001b[0m\n\u001b[1;32m      2\u001b[0m \u001b[0mprint\u001b[0m\u001b[0;34m(\u001b[0m\u001b[0;34m'my_list[0]='\u001b[0m\u001b[0;34m,\u001b[0m \u001b[0mmy_list\u001b[0m\u001b[0;34m[\u001b[0m\u001b[0;36m0\u001b[0m\u001b[0;34m]\u001b[0m\u001b[0;34m)\u001b[0m\u001b[0;34m\u001b[0m\u001b[0;34m\u001b[0m\u001b[0m\n\u001b[0;32m----> 3\u001b[0;31m \u001b[0mprint\u001b[0m\u001b[0;34m(\u001b[0m\u001b[0;34m'my_list[3]='\u001b[0m\u001b[0;34m,\u001b[0m \u001b[0mmy_list\u001b[0m\u001b[0;34m[\u001b[0m\u001b[0;36m3\u001b[0m\u001b[0;34m]\u001b[0m\u001b[0;34m)\u001b[0m\u001b[0;34m\u001b[0m\u001b[0;34m\u001b[0m\u001b[0m\n\u001b[0m",
            "\u001b[0;31mIndexError\u001b[0m: list index out of range"
          ]
        }
      ]
    },
    {
      "cell_type": "code",
      "metadata": {
        "id": "gLGSQBj_NI8n",
        "colab_type": "code",
        "outputId": "ef7a3d15-f571-4992-d7ea-f7ef2db3f510",
        "colab": {
          "base_uri": "https://localhost:8080/",
          "height": 228
        }
      },
      "source": [
        "# Отсутствие ключа в словаре - KeyError\n",
        "my_dict = {'a':1, 'b':2, 'c':3}\n",
        "print(my_dict['a'])\n",
        "print(my_dict['d'])"
      ],
      "execution_count": 0,
      "outputs": [
        {
          "output_type": "stream",
          "text": [
            "1\n"
          ],
          "name": "stdout"
        },
        {
          "output_type": "error",
          "ename": "KeyError",
          "evalue": "ignored",
          "traceback": [
            "\u001b[0;31m---------------------------------------------------------------------------\u001b[0m",
            "\u001b[0;31mKeyError\u001b[0m                                  Traceback (most recent call last)",
            "\u001b[0;32m<ipython-input-3-f22b195593fb>\u001b[0m in \u001b[0;36m<module>\u001b[0;34m()\u001b[0m\n\u001b[1;32m      1\u001b[0m \u001b[0mmy_dict\u001b[0m \u001b[0;34m=\u001b[0m \u001b[0;34m{\u001b[0m\u001b[0;34m'a'\u001b[0m\u001b[0;34m:\u001b[0m\u001b[0;36m1\u001b[0m\u001b[0;34m,\u001b[0m \u001b[0;34m'b'\u001b[0m\u001b[0;34m:\u001b[0m\u001b[0;36m2\u001b[0m\u001b[0;34m,\u001b[0m \u001b[0;34m'c'\u001b[0m\u001b[0;34m:\u001b[0m\u001b[0;36m3\u001b[0m\u001b[0;34m}\u001b[0m\u001b[0;34m\u001b[0m\u001b[0;34m\u001b[0m\u001b[0m\n\u001b[1;32m      2\u001b[0m \u001b[0mprint\u001b[0m\u001b[0;34m(\u001b[0m\u001b[0mmy_dict\u001b[0m\u001b[0;34m[\u001b[0m\u001b[0;34m'a'\u001b[0m\u001b[0;34m]\u001b[0m\u001b[0;34m)\u001b[0m\u001b[0;34m\u001b[0m\u001b[0;34m\u001b[0m\u001b[0m\n\u001b[0;32m----> 3\u001b[0;31m \u001b[0mprint\u001b[0m\u001b[0;34m(\u001b[0m\u001b[0mmy_dict\u001b[0m\u001b[0;34m[\u001b[0m\u001b[0;34m'd'\u001b[0m\u001b[0;34m]\u001b[0m\u001b[0;34m)\u001b[0m\u001b[0;34m\u001b[0m\u001b[0;34m\u001b[0m\u001b[0m\n\u001b[0m",
            "\u001b[0;31mKeyError\u001b[0m: 'd'"
          ]
        }
      ]
    },
    {
      "cell_type": "code",
      "metadata": {
        "id": "jmnj2AINNehi",
        "colab_type": "code",
        "outputId": "e9bc1506-b8f8-4c5b-a333-91db97e446a0",
        "colab": {
          "base_uri": "https://localhost:8080/",
          "height": 172
        }
      },
      "source": [
        "# Четие несуществующего файла - FileNotFoundError\n",
        "my_file = open('smth.txt', 'r')"
      ],
      "execution_count": 0,
      "outputs": [
        {
          "output_type": "error",
          "ename": "FileNotFoundError",
          "evalue": "ignored",
          "traceback": [
            "\u001b[0;31m---------------------------------------------------------------------------\u001b[0m",
            "\u001b[0;31mFileNotFoundError\u001b[0m                         Traceback (most recent call last)",
            "\u001b[0;32m<ipython-input-4-78aab968c852>\u001b[0m in \u001b[0;36m<module>\u001b[0;34m()\u001b[0m\n\u001b[0;32m----> 1\u001b[0;31m \u001b[0mmy_file\u001b[0m \u001b[0;34m=\u001b[0m \u001b[0mopen\u001b[0m\u001b[0;34m(\u001b[0m\u001b[0;34m'smth.txt'\u001b[0m\u001b[0;34m,\u001b[0m \u001b[0;34m'r'\u001b[0m\u001b[0;34m)\u001b[0m\u001b[0;34m\u001b[0m\u001b[0;34m\u001b[0m\u001b[0m\n\u001b[0m",
            "\u001b[0;31mFileNotFoundError\u001b[0m: [Errno 2] No such file or directory: 'smth.txt'"
          ]
        }
      ]
    },
    {
      "cell_type": "markdown",
      "metadata": {
        "id": "Mh6Hc1kVN6Po",
        "colab_type": "text"
      },
      "source": [
        "### Обработка исключений"
      ]
    },
    {
      "cell_type": "markdown",
      "metadata": {
        "id": "m6YrMz85QPbM",
        "colab_type": "text"
      },
      "source": [
        "**Общая конструкция** для перехвата исключений выглядит следующим образом: \n",
        "```\n",
        "try:\n",
        "  try_suite\n",
        "except exception_group1 as variablel:\n",
        "  except_suite1\n",
        "...\n",
        "except ...\n",
        "...\n",
        "except exception_groupN as variableN:\n",
        "  except_suiteN\n",
        "else:\n",
        "  else_suite\n",
        "finally:\n",
        "  finally_suite\n",
        "```\n",
        "\n",
        "\n",
        "*   ```try, except, else, finally``` - ключевые слова\n",
        "*   ```try_suite``` - то, что пытается выполнить интерпритатор\n",
        "*   ```exception_group1 as variablel``` - ошибка 1 и ссылка на нее (необязательно)\n",
        "*   ```except_suite1``` - поведение в случае возникновения ошибки 1\n",
        "*   ```exception_groupN as variablel``` - ошибка N и ссылка на нее (необязательно)\n",
        "*   ```except_suiteN``` - поведение в случае возникновения ошибки N\n",
        "*   ```else_suite``` - поведение в случае не возникновения ошибки\n",
        "*   ```finally_suite``` - поведение после окончания не зависимо от возникновения ошибки\n",
        "\n"
      ]
    },
    {
      "cell_type": "markdown",
      "metadata": {
        "id": "knnGg3LLtp-i",
        "colab_type": "text"
      },
      "source": [
        "**Порядок вполнения** конструкции try...except...finally"
      ]
    },
    {
      "cell_type": "markdown",
      "metadata": {
        "id": "phlBTcN9UxzV",
        "colab_type": "text"
      },
      "source": [
        "Согласно приведенной выше схеме: \n",
        "интерпретатор пытается выполнить блок try_suite. Если все в порядке, то выполняется else_suite блок, а затем блок finally_suite. В случае возникновения ошибки интерпретатор проверит каждое предложение except. Если найдена соответствующа группа exception_group, то выполнится except_suite. \n",
        "\n",
        "Соответствующей считается\n",
        "группа, в которой присутствует исключение того же типа, что и \n",
        "возникшее исключение, или возникшее исключение является \n",
        "подклассом одного из исключений, перечисленных в группе.\n",
        "\n",
        "![Порядок выполнения конструкции](https://drive.google.com/uc?id=1gqkl-QFneY6gKdXd2I20-2WfTd5QAQiF)"
      ]
    },
    {
      "cell_type": "code",
      "metadata": {
        "id": "3Wiofr2FOkFF",
        "colab_type": "code",
        "colab": {}
      },
      "source": [
        "# Функция перехвата исключения\n",
        "def exc_func(input_list, return_value_index):\n",
        "  try:\n",
        "    return input_list[return_value_index]\n",
        "  except IndexError as ie:\n",
        "    print('Error:', ie)\n",
        "  finally:\n",
        "    print('A finally part of try ... except ...!')\n",
        "  \n",
        "  print('A code block after try ... except ...!')"
      ],
      "execution_count": 0,
      "outputs": []
    },
    {
      "cell_type": "code",
      "metadata": {
        "id": "tsDqEbBdPed_",
        "colab_type": "code",
        "outputId": "fda45a32-b548-4bfc-8af8-f40b353347e7",
        "colab": {
          "base_uri": "https://localhost:8080/",
          "height": 72
        }
      },
      "source": [
        "# Нормальное выполнение \n",
        "my_list = [1, 2, 3]\n",
        "print('Нормальное выполнение')\n",
        "a = exc_func(my_list, 0)\n",
        "print(a)"
      ],
      "execution_count": 0,
      "outputs": [
        {
          "output_type": "stream",
          "text": [
            "Нормальное выполнение\n",
            "A finally part of try ... except ...!\n",
            "1\n"
          ],
          "name": "stdout"
        }
      ]
    },
    {
      "cell_type": "code",
      "metadata": {
        "id": "0NIOgTXiQFMH",
        "colab_type": "code",
        "outputId": "858353fd-a7a4-4c50-b75e-db7b26d860d2",
        "colab": {
          "base_uri": "https://localhost:8080/",
          "height": 109
        }
      },
      "source": [
        "# Обработанное исключение\n",
        "print('Обработанное исключение')\n",
        "a = exc_func(my_list, 3)\n",
        "print(a)"
      ],
      "execution_count": 0,
      "outputs": [
        {
          "output_type": "stream",
          "text": [
            "Обработанное исключение\n",
            "Error: list index out of range\n",
            "A finally part of try ... except ...!\n",
            "A code block after try ... except ...!\n",
            "None\n"
          ],
          "name": "stdout"
        }
      ]
    },
    {
      "cell_type": "code",
      "metadata": {
        "id": "5Tmrr0T3Qmmt",
        "colab_type": "code",
        "outputId": "71da4258-1cfc-490c-8557-3750fa4c36d7",
        "colab": {
          "base_uri": "https://localhost:8080/",
          "height": 357
        }
      },
      "source": [
        "# Необработанное исключение\n",
        "print('Необработанное исключение')\n",
        "a = exc_func(my_list, 'index')"
      ],
      "execution_count": 0,
      "outputs": [
        {
          "output_type": "stream",
          "text": [
            "Необработанное исключение\n",
            "A finally part of try ... except ...!\n"
          ],
          "name": "stdout"
        },
        {
          "output_type": "error",
          "ename": "TypeError",
          "evalue": "ignored",
          "traceback": [
            "\u001b[0;31m---------------------------------------------------------------------------\u001b[0m",
            "\u001b[0;31mTypeError\u001b[0m                                 Traceback (most recent call last)",
            "\u001b[0;32m<ipython-input-8-8acf0972e2bc>\u001b[0m in \u001b[0;36m<module>\u001b[0;34m()\u001b[0m\n\u001b[1;32m      1\u001b[0m \u001b[0mprint\u001b[0m\u001b[0;34m(\u001b[0m\u001b[0;34m'Необработанное исключение'\u001b[0m\u001b[0;34m)\u001b[0m\u001b[0;34m\u001b[0m\u001b[0;34m\u001b[0m\u001b[0m\n\u001b[0;32m----> 2\u001b[0;31m \u001b[0ma\u001b[0m \u001b[0;34m=\u001b[0m \u001b[0mexc_func\u001b[0m\u001b[0;34m(\u001b[0m\u001b[0mmy_list\u001b[0m\u001b[0;34m,\u001b[0m \u001b[0;34m'index'\u001b[0m\u001b[0;34m)\u001b[0m\u001b[0;34m\u001b[0m\u001b[0;34m\u001b[0m\u001b[0m\n\u001b[0m",
            "\u001b[0;32m<ipython-input-5-d67ac185ba83>\u001b[0m in \u001b[0;36mexc_func\u001b[0;34m(input_list, return_value_index)\u001b[0m\n\u001b[1;32m      1\u001b[0m \u001b[0;32mdef\u001b[0m \u001b[0mexc_func\u001b[0m\u001b[0;34m(\u001b[0m\u001b[0minput_list\u001b[0m\u001b[0;34m,\u001b[0m \u001b[0mreturn_value_index\u001b[0m\u001b[0;34m)\u001b[0m\u001b[0;34m:\u001b[0m\u001b[0;34m\u001b[0m\u001b[0;34m\u001b[0m\u001b[0m\n\u001b[1;32m      2\u001b[0m   \u001b[0;32mtry\u001b[0m\u001b[0;34m:\u001b[0m\u001b[0;34m\u001b[0m\u001b[0;34m\u001b[0m\u001b[0m\n\u001b[0;32m----> 3\u001b[0;31m     \u001b[0;32mreturn\u001b[0m \u001b[0minput_list\u001b[0m\u001b[0;34m[\u001b[0m\u001b[0mreturn_value_index\u001b[0m\u001b[0;34m]\u001b[0m\u001b[0;34m\u001b[0m\u001b[0;34m\u001b[0m\u001b[0m\n\u001b[0m\u001b[1;32m      4\u001b[0m   \u001b[0;32mexcept\u001b[0m \u001b[0mIndexError\u001b[0m \u001b[0;32mas\u001b[0m \u001b[0mie\u001b[0m\u001b[0;34m:\u001b[0m\u001b[0;34m\u001b[0m\u001b[0;34m\u001b[0m\u001b[0m\n\u001b[1;32m      5\u001b[0m     \u001b[0mprint\u001b[0m\u001b[0;34m(\u001b[0m\u001b[0;34m'Error:'\u001b[0m\u001b[0;34m,\u001b[0m \u001b[0mie\u001b[0m\u001b[0;34m)\u001b[0m\u001b[0;34m\u001b[0m\u001b[0;34m\u001b[0m\u001b[0m\n",
            "\u001b[0;31mTypeError\u001b[0m: list indices must be integers or slices, not str"
          ]
        }
      ]
    },
    {
      "cell_type": "markdown",
      "metadata": {
        "id": "wZtv7Im5Jh5d",
        "colab_type": "text"
      },
      "source": [
        "### Иерархия классов исключений в языке Python"
      ]
    },
    {
      "cell_type": "markdown",
      "metadata": {
        "id": "n7RJHB4eXfYW",
        "colab_type": "text"
      },
      "source": [
        "![alt text](https://drive.google.com/uc?id=1rW8TQ1LMsywBdJ8tlRNoJDKxRGj8VYME)"
      ]
    },
    {
      "cell_type": "code",
      "metadata": {
        "id": "IoYnaGohRZ1T",
        "colab_type": "code",
        "outputId": "d2413bbe-8632-40c1-f380-afee08e03a28",
        "colab": {
          "base_uri": "https://localhost:8080/",
          "height": 72
        }
      },
      "source": [
        "# Функция перехвата исключения IndexError\n",
        "def exc_func(input_list, return_value_index):\n",
        "  try:\n",
        "    return input_list[return_value_index]\n",
        "  except IndexError as ie:\n",
        "    print('Error:', ie)\n",
        "  finally:\n",
        "    print('A finally part of try ... except ...!')\n",
        "  \n",
        "  print('A code block after try ... except ...!')\n",
        "\n",
        "my_list = [1, 2, 3]\n",
        "a = exc_func(my_list, 3)"
      ],
      "execution_count": 0,
      "outputs": [
        {
          "output_type": "stream",
          "text": [
            "Error: list index out of range\n",
            "A finally part of try ... except ...!\n",
            "A code block after try ... except ...!\n"
          ],
          "name": "stdout"
        }
      ]
    },
    {
      "cell_type": "code",
      "metadata": {
        "id": "m5SXtnGIRuQ9",
        "colab_type": "code",
        "outputId": "b0023c9e-8a8c-4cb7-a7af-a0bf2b6a1258",
        "colab": {
          "base_uri": "https://localhost:8080/",
          "height": 72
        }
      },
      "source": [
        "# Функция перехвата исключения LookupError\n",
        "def exc_func(input_list, return_value_index):\n",
        "  try:\n",
        "    return input_list[return_value_index]\n",
        "  except LookupError as le:\n",
        "    print('Error:', le)\n",
        "  finally:\n",
        "    print('A finally part of try ... except ...!')\n",
        "  \n",
        "  print('A code block after try ... except ...!')\n",
        "\n",
        "my_list = [1, 2, 3]\n",
        "a = exc_func(my_list, 3)"
      ],
      "execution_count": 0,
      "outputs": [
        {
          "output_type": "stream",
          "text": [
            "Error: list index out of range\n",
            "A finally part of try ... except ...!\n",
            "A code block after try ... except ...!\n"
          ],
          "name": "stdout"
        }
      ]
    },
    {
      "cell_type": "code",
      "metadata": {
        "id": "_Nx98RGCR9Nu",
        "colab_type": "code",
        "outputId": "583334ba-195e-44f5-f088-d8facff2836f",
        "colab": {
          "base_uri": "https://localhost:8080/",
          "height": 72
        }
      },
      "source": [
        "# Функция перехвата исключения Exception\n",
        "def exc_func(input_list, return_value_index):\n",
        "  try:\n",
        "    return input_list[return_value_index]\n",
        "  except Exception as ee:\n",
        "    print('Error:', ee)\n",
        "  finally:\n",
        "    print('A finally part of try ... except ...!')\n",
        "  \n",
        "  print('A code block after try ... except ...!')\n",
        "\n",
        "my_list = [1, 2, 3]\n",
        "a = exc_func(my_list, 3)"
      ],
      "execution_count": 0,
      "outputs": [
        {
          "output_type": "stream",
          "text": [
            "Error: list index out of range\n",
            "A finally part of try ... except ...!\n",
            "A code block after try ... except ...!\n"
          ],
          "name": "stdout"
        }
      ]
    },
    {
      "cell_type": "code",
      "metadata": {
        "id": "5mWVvVaBSdkX",
        "colab_type": "code",
        "outputId": "32f4b521-3891-46db-aad9-6bd40e62a570",
        "colab": {
          "base_uri": "https://localhost:8080/",
          "height": 72
        }
      },
      "source": [
        "# Функция перехвата неожидаемого исключения\n",
        "def exc_func(input_list, return_value_index):\n",
        "  try:\n",
        "    return input_list[return_value_index]\n",
        "  except IndexError as ie:\n",
        "    print('Error:', ie)\n",
        "  except:\n",
        "    print('Unexpected error!')\n",
        "  finally:\n",
        "    print('A finally part of try ... except ...!')\n",
        "  \n",
        "  print('A code block after try ... except ...!')\n",
        "\n",
        "my_list = [1, 2, 3]\n",
        "a = exc_func(my_list, 'index')"
      ],
      "execution_count": 0,
      "outputs": [
        {
          "output_type": "stream",
          "text": [
            "Unexpected error!\n",
            "A finally part of try ... except ...!\n",
            "A code block after try ... except ...!\n"
          ],
          "name": "stdout"
        }
      ]
    },
    {
      "cell_type": "markdown",
      "metadata": {
        "id": "T5PYaeN1N3y0",
        "colab_type": "text"
      },
      "source": [
        "### Возбуждение исключений"
      ]
    },
    {
      "cell_type": "markdown",
      "metadata": {
        "id": "ixOTb5Sod5JB",
        "colab_type": "text"
      },
      "source": [
        "Удобное средство управления потоком выполнения и тестирования программы - конструкция ```raise```.\n",
        "\n",
        "Общий вид:\n",
        "```\n",
        "raise exception\n",
        "raise\n",
        "```\n",
        "\n",
        "\n",
        "*   ```raise``` - ключевое слово\n",
        "*   ```exception``` - возбуждаемое исключение\n",
        "\n"
      ]
    },
    {
      "cell_type": "code",
      "metadata": {
        "id": "EHW4bR4LTXeF",
        "colab_type": "code",
        "outputId": "31dccdd5-b6fa-4da8-fe3a-f50d9b91bfd3",
        "colab": {
          "base_uri": "https://localhost:8080/",
          "height": 209
        }
      },
      "source": [
        "a = 2\n",
        "b = 7\n",
        "if a < b:\n",
        "  raise ZeroDivisionError"
      ],
      "execution_count": 0,
      "outputs": [
        {
          "output_type": "error",
          "ename": "ZeroDivisionError",
          "evalue": "ignored",
          "traceback": [
            "\u001b[0;31m---------------------------------------------------------------------------\u001b[0m",
            "\u001b[0;31mZeroDivisionError\u001b[0m                         Traceback (most recent call last)",
            "\u001b[0;32m<ipython-input-13-8df067ba8851>\u001b[0m in \u001b[0;36m<module>\u001b[0;34m()\u001b[0m\n\u001b[1;32m      2\u001b[0m \u001b[0mb\u001b[0m \u001b[0;34m=\u001b[0m \u001b[0;36m7\u001b[0m\u001b[0;34m\u001b[0m\u001b[0;34m\u001b[0m\u001b[0m\n\u001b[1;32m      3\u001b[0m \u001b[0;32mif\u001b[0m \u001b[0ma\u001b[0m \u001b[0;34m<\u001b[0m \u001b[0mb\u001b[0m\u001b[0;34m:\u001b[0m\u001b[0;34m\u001b[0m\u001b[0;34m\u001b[0m\u001b[0m\n\u001b[0;32m----> 4\u001b[0;31m   \u001b[0;32mraise\u001b[0m \u001b[0mZeroDivisionError\u001b[0m\u001b[0;34m\u001b[0m\u001b[0;34m\u001b[0m\u001b[0m\n\u001b[0m",
            "\u001b[0;31mZeroDivisionError\u001b[0m: "
          ]
        }
      ]
    },
    {
      "cell_type": "markdown",
      "metadata": {
        "id": "S9ZAaIc7d0Si",
        "colab_type": "text"
      },
      "source": [
        "## За рамками материала"
      ]
    },
    {
      "cell_type": "markdown",
      "metadata": {
        "id": "8T-AFlP0gRsC",
        "colab_type": "text"
      },
      "source": [
        "\n",
        "\n",
        "*   Подробное изучение иерархии классов исключений\n",
        "*   Создание собственных классов исключений\n",
        "\n"
      ]
    },
    {
      "cell_type": "markdown",
      "metadata": {
        "id": "5F_hHKVTNzia",
        "colab_type": "text"
      },
      "source": [
        "## Дополнительные материалы и литература"
      ]
    },
    {
      "cell_type": "markdown",
      "metadata": {
        "id": "YWhDk5dJN8NC",
        "colab_type": "text"
      },
      "source": [
        "\n",
        "\n",
        "*   Саммерфилд М., Программирование на Python 3. Подробное руководство. - Пер. с англ. - СПб.: Символ-Плюс, 2009. - 608 с, ил., ISBN: 978-5-93286-161-5 С. 192.\n",
        "*   https://python-scripts.com/try-except-finally\n",
        "\n"
      ]
    },
    {
      "cell_type": "code",
      "metadata": {
        "id": "_u5UD_l0eLzx",
        "colab_type": "code",
        "colab": {}
      },
      "source": [
        ""
      ],
      "execution_count": 0,
      "outputs": []
    }
  ]
}