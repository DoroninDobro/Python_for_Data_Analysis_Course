{
  "nbformat": 4,
  "nbformat_minor": 0,
  "metadata": {
    "colab": {
      "name": "2.8.3 Объектно-ориентированное программирование как ключевой элемент языка Python.ipynb",
      "provenance": [],
      "collapsed_sections": []
    },
    "kernelspec": {
      "name": "python3",
      "display_name": "Python 3"
    }
  },
  "cells": [
    {
      "cell_type": "markdown",
      "metadata": {
        "id": "moIM-S1g7SKx",
        "colab_type": "text"
      },
      "source": [
        "# Курс \"Python для анализа данных\"\n",
        "\n",
        "---\n",
        "#2.8.3 Объектно-ориентированное программирование как ключевой элемент языка Python "
      ]
    },
    {
      "cell_type": "markdown",
      "metadata": {
        "id": "QZ1Arpnj7p_N",
        "colab_type": "text"
      },
      "source": [
        "## Где мы сейчас?\n"
      ]
    },
    {
      "cell_type": "markdown",
      "metadata": {
        "id": "J9A06fP5j1vS",
        "colab_type": "text"
      },
      "source": [
        "<html>\n",
        " <head>\n",
        "  <meta charset=\"utf-8\">\n",
        " </head>\n",
        " <body>\n",
        "  <ul>\n",
        "    <li>1. Введение в анализ данных и разработку на языке Python </li>\n",
        "    <li>2. <strong>Основы языка</strong> <i><- Вот в этой главе!</i>\n",
        "     <ul>\n",
        "      <li>2.1 - 2.6</li>\n",
        "      <li>2.7 Обработка исключений</li>\n",
        "      <li><strong>2.8 Объектно-ориентированное программирование</strong> <i><- Вот в этом параграфе!</i></li>\n",
        "      <ul>\n",
        "        <li>2.8.1 Объектно-ориентированные концепции и терминология</li>\n",
        "        <li>2.8.2 Создание собственных классов</li>\n",
        "        <li><strong>2.8.3 Объектно-ориентированное программирование как ключевой элемент языка Python</strong> <i><- Вот в этом пункте!</i></li>\n",
        "       </ul>\n",
        "      <li>2.9 Обзор стандартной библиотеки языка Python</li>\n",
        "     </ul>\n",
        "    </li>   \n",
        "  </ul>\n",
        " </body>\n",
        "</html>"
      ]
    },
    {
      "cell_type": "markdown",
      "metadata": {
        "id": "z1oJmp_4Po8K",
        "colab_type": "text"
      },
      "source": [
        "## О чем будем говорить?\n"
      ]
    },
    {
      "cell_type": "markdown",
      "metadata": {
        "id": "7X4Wlpraj7Yw",
        "colab_type": "text"
      },
      "source": [
        "Посмотрим, что на самом деле представляют из себя элементы языка Python, а именно: типы данных, функции, классы, модули, - и что можно из этого почерпнуть."
      ]
    },
    {
      "cell_type": "markdown",
      "metadata": {
        "id": "NhfVXiTGAkND",
        "colab_type": "text"
      },
      "source": [
        "## Ключевые слова, понятия и выражения\n",
        "\n",
        "\n",
        "\n",
        "\n"
      ]
    },
    {
      "cell_type": "markdown",
      "metadata": {
        "id": "ixnuL5V2rZtz",
        "colab_type": "text"
      },
      "source": [
        "*   объект\n",
        "*   наследование\n",
        "*   встроенные атрибуты и методы\n",
        "*   базовый тип\n"
      ]
    },
    {
      "cell_type": "markdown",
      "metadata": {
        "id": "H1MGw-jK3t_v",
        "colab_type": "text"
      },
      "source": [
        "## Материал"
      ]
    },
    {
      "cell_type": "markdown",
      "metadata": {
        "id": "Rqa2k8kIPA0S",
        "colab_type": "text"
      },
      "source": [
        "### Общий взгляд на элементы языка Python"
      ]
    },
    {
      "cell_type": "markdown",
      "metadata": {
        "id": "6MIkZlFOPG5f",
        "colab_type": "text"
      },
      "source": [
        "Язык программирования Python является чисто ярким примером объектно-ориентированного программирования, поскольку все, что мы можем увидеть в нем, - это объекты и классы."
      ]
    },
    {
      "cell_type": "markdown",
      "metadata": {
        "id": "5UVwFxsOjF2o",
        "colab_type": "text"
      },
      "source": [
        "### Место в иерархии классов основных типов данных"
      ]
    },
    {
      "cell_type": "code",
      "metadata": {
        "id": "HIofNFVZxCVe",
        "colab_type": "code",
        "outputId": "d4fa220b-0a68-47dd-d8a9-c7a0e7b478f6",
        "colab": {
          "base_uri": "https://localhost:8080/",
          "height": 35
        }
      },
      "source": [
        "# Самый базовый класс\n",
        "print(object)"
      ],
      "execution_count": 0,
      "outputs": [
        {
          "output_type": "stream",
          "text": [
            "<class 'object'>\n"
          ],
          "name": "stdout"
        }
      ]
    },
    {
      "cell_type": "code",
      "metadata": {
        "id": "X8Lp4I1exQt9",
        "colab_type": "code",
        "outputId": "9c7733c2-608c-4c20-a2be-e7e150e67334",
        "colab": {
          "base_uri": "https://localhost:8080/",
          "height": 435
        }
      },
      "source": [
        "# Посмтрим, какими атрибутами и методами обладает данный класс\n",
        "dir(object)"
      ],
      "execution_count": 0,
      "outputs": [
        {
          "output_type": "execute_result",
          "data": {
            "text/plain": [
              "['__class__',\n",
              " '__delattr__',\n",
              " '__dir__',\n",
              " '__doc__',\n",
              " '__eq__',\n",
              " '__format__',\n",
              " '__ge__',\n",
              " '__getattribute__',\n",
              " '__gt__',\n",
              " '__hash__',\n",
              " '__init__',\n",
              " '__init_subclass__',\n",
              " '__le__',\n",
              " '__lt__',\n",
              " '__ne__',\n",
              " '__new__',\n",
              " '__reduce__',\n",
              " '__reduce_ex__',\n",
              " '__repr__',\n",
              " '__setattr__',\n",
              " '__sizeof__',\n",
              " '__str__',\n",
              " '__subclasshook__']"
            ]
          },
          "metadata": {
            "tags": []
          },
          "execution_count": 61
        }
      ]
    },
    {
      "cell_type": "code",
      "metadata": {
        "id": "pDYW7qtexfgb",
        "colab_type": "code",
        "outputId": "d7f16fc7-887e-4ec2-dc8c-c35067e4b539",
        "colab": {
          "base_uri": "https://localhost:8080/",
          "height": 35
        }
      },
      "source": [
        "print(object.__doc__)"
      ],
      "execution_count": 0,
      "outputs": [
        {
          "output_type": "stream",
          "text": [
            "The most base type\n"
          ],
          "name": "stdout"
        }
      ]
    },
    {
      "cell_type": "code",
      "metadata": {
        "id": "nDI1wDZmxqGM",
        "colab_type": "code",
        "outputId": "34d5811c-46e7-4bfe-dad2-0f34de477343",
        "colab": {
          "base_uri": "https://localhost:8080/",
          "height": 53
        }
      },
      "source": [
        "# Посмотрим на произвольный класс\n",
        "print(str)\n",
        "print(str.__bases__)"
      ],
      "execution_count": 0,
      "outputs": [
        {
          "output_type": "stream",
          "text": [
            "<class 'str'>\n",
            "(<class 'object'>,)\n"
          ],
          "name": "stdout"
        }
      ]
    },
    {
      "cell_type": "code",
      "metadata": {
        "id": "0b-aRk1Wx-vk",
        "colab_type": "code",
        "outputId": "6ff491a0-1ab1-4e74-9ff0-971cf3af8421",
        "colab": {
          "base_uri": "https://localhost:8080/",
          "height": 35
        }
      },
      "source": [
        "# Проверим наличие наследования\n",
        "issubclass(str, object)"
      ],
      "execution_count": 0,
      "outputs": [
        {
          "output_type": "execute_result",
          "data": {
            "text/plain": [
              "True"
            ]
          },
          "metadata": {
            "tags": []
          },
          "execution_count": 66
        }
      ]
    },
    {
      "cell_type": "markdown",
      "metadata": {
        "id": "DVGiLwXDkIt-",
        "colab_type": "text"
      },
      "source": [
        "### Тип данных как класс"
      ]
    },
    {
      "cell_type": "code",
      "metadata": {
        "id": "SC5cxTn3yKxC",
        "colab_type": "code",
        "outputId": "adaab790-936b-4384-88dd-36fe8a213d3c",
        "colab": {
          "base_uri": "https://localhost:8080/",
          "height": 144
        }
      },
      "source": [
        "# Проверим прородителей у основных типов данных\n",
        "import inspect\n",
        "\n",
        "# Типы данных\n",
        "print(inspect.getmro(int))\n",
        "print(inspect.getmro(float))\n",
        "print(inspect.getmro(str))\n",
        "\n",
        "# Типы коллекций\n",
        "print(inspect.getmro(list))\n",
        "print(inspect.getmro(dict))\n",
        "print(inspect.getmro(tuple))\n",
        "\n",
        "# Типы исключений\n",
        "print(inspect.getmro(Exception))\n"
      ],
      "execution_count": 0,
      "outputs": [
        {
          "output_type": "stream",
          "text": [
            "(<class 'int'>, <class 'object'>)\n",
            "(<class 'float'>, <class 'object'>)\n",
            "(<class 'str'>, <class 'object'>)\n",
            "(<class 'list'>, <class 'object'>)\n",
            "(<class 'dict'>, <class 'object'>)\n",
            "(<class 'tuple'>, <class 'object'>)\n",
            "(<class 'Exception'>, <class 'BaseException'>, <class 'object'>)\n"
          ],
          "name": "stdout"
        }
      ]
    },
    {
      "cell_type": "code",
      "metadata": {
        "id": "Y-L1w0Udy08i",
        "colab_type": "code",
        "outputId": "86226970-cb1b-45fc-dc7f-e8a410abb714",
        "colab": {
          "base_uri": "https://localhost:8080/",
          "height": 1000
        }
      },
      "source": [
        "# Посмотрим на атрибуты и методы класса int\n",
        "dir(int)"
      ],
      "execution_count": 0,
      "outputs": [
        {
          "output_type": "execute_result",
          "data": {
            "text/plain": [
              "['__abs__',\n",
              " '__add__',\n",
              " '__and__',\n",
              " '__bool__',\n",
              " '__ceil__',\n",
              " '__class__',\n",
              " '__delattr__',\n",
              " '__dir__',\n",
              " '__divmod__',\n",
              " '__doc__',\n",
              " '__eq__',\n",
              " '__float__',\n",
              " '__floor__',\n",
              " '__floordiv__',\n",
              " '__format__',\n",
              " '__ge__',\n",
              " '__getattribute__',\n",
              " '__getnewargs__',\n",
              " '__gt__',\n",
              " '__hash__',\n",
              " '__index__',\n",
              " '__init__',\n",
              " '__init_subclass__',\n",
              " '__int__',\n",
              " '__invert__',\n",
              " '__le__',\n",
              " '__lshift__',\n",
              " '__lt__',\n",
              " '__mod__',\n",
              " '__mul__',\n",
              " '__ne__',\n",
              " '__neg__',\n",
              " '__new__',\n",
              " '__or__',\n",
              " '__pos__',\n",
              " '__pow__',\n",
              " '__radd__',\n",
              " '__rand__',\n",
              " '__rdivmod__',\n",
              " '__reduce__',\n",
              " '__reduce_ex__',\n",
              " '__repr__',\n",
              " '__rfloordiv__',\n",
              " '__rlshift__',\n",
              " '__rmod__',\n",
              " '__rmul__',\n",
              " '__ror__',\n",
              " '__round__',\n",
              " '__rpow__',\n",
              " '__rrshift__',\n",
              " '__rshift__',\n",
              " '__rsub__',\n",
              " '__rtruediv__',\n",
              " '__rxor__',\n",
              " '__setattr__',\n",
              " '__sizeof__',\n",
              " '__str__',\n",
              " '__sub__',\n",
              " '__subclasshook__',\n",
              " '__truediv__',\n",
              " '__trunc__',\n",
              " '__xor__',\n",
              " 'bit_length',\n",
              " 'conjugate',\n",
              " 'denominator',\n",
              " 'from_bytes',\n",
              " 'imag',\n",
              " 'numerator',\n",
              " 'real',\n",
              " 'to_bytes']"
            ]
          },
          "metadata": {
            "tags": []
          },
          "execution_count": 71
        }
      ]
    },
    {
      "cell_type": "code",
      "metadata": {
        "id": "KvPDeb6yzGBe",
        "colab_type": "code",
        "outputId": "6855abbb-731d-4da6-a227-ed677de3cace",
        "colab": {
          "base_uri": "https://localhost:8080/",
          "height": 35
        }
      },
      "source": [
        "a = 21\n",
        "a.to_bytes(4, 'big')"
      ],
      "execution_count": 0,
      "outputs": [
        {
          "output_type": "execute_result",
          "data": {
            "text/plain": [
              "b'\\x00\\x00\\x00\\x15'"
            ]
          },
          "metadata": {
            "tags": []
          },
          "execution_count": 72
        }
      ]
    },
    {
      "cell_type": "markdown",
      "metadata": {
        "id": "5pmRAllvjApo",
        "colab_type": "text"
      },
      "source": [
        "### Функция как объект класса ```function```"
      ]
    },
    {
      "cell_type": "code",
      "metadata": {
        "id": "4uQ5R-_mzdar",
        "colab_type": "code",
        "colab": {}
      },
      "source": [
        "def func(a=1,b=2):\n",
        "  '''Возращает сумму чисел.'''\n",
        "  return a + b"
      ],
      "execution_count": 0,
      "outputs": []
    },
    {
      "cell_type": "code",
      "metadata": {
        "id": "XVloSB7lzrwc",
        "colab_type": "code",
        "outputId": "f075c25d-be45-464b-8e68-81e48a9ec504",
        "colab": {
          "base_uri": "https://localhost:8080/",
          "height": 671
        }
      },
      "source": [
        "print(func)\n",
        "dir(func)"
      ],
      "execution_count": 0,
      "outputs": [
        {
          "output_type": "stream",
          "text": [
            "<function func at 0x7f8a46bdb6a8>\n"
          ],
          "name": "stdout"
        },
        {
          "output_type": "execute_result",
          "data": {
            "text/plain": [
              "['__annotations__',\n",
              " '__call__',\n",
              " '__class__',\n",
              " '__closure__',\n",
              " '__code__',\n",
              " '__defaults__',\n",
              " '__delattr__',\n",
              " '__dict__',\n",
              " '__dir__',\n",
              " '__doc__',\n",
              " '__eq__',\n",
              " '__format__',\n",
              " '__ge__',\n",
              " '__get__',\n",
              " '__getattribute__',\n",
              " '__globals__',\n",
              " '__gt__',\n",
              " '__hash__',\n",
              " '__init__',\n",
              " '__init_subclass__',\n",
              " '__kwdefaults__',\n",
              " '__le__',\n",
              " '__lt__',\n",
              " '__module__',\n",
              " '__name__',\n",
              " '__ne__',\n",
              " '__new__',\n",
              " '__qualname__',\n",
              " '__reduce__',\n",
              " '__reduce_ex__',\n",
              " '__repr__',\n",
              " '__setattr__',\n",
              " '__sizeof__',\n",
              " '__str__',\n",
              " '__subclasshook__']"
            ]
          },
          "metadata": {
            "tags": []
          },
          "execution_count": 75
        }
      ]
    },
    {
      "cell_type": "code",
      "metadata": {
        "id": "My3B18Nfz26q",
        "colab_type": "code",
        "outputId": "647b35bf-58e1-4dfd-9544-67bad8a4d5f6",
        "colab": {
          "base_uri": "https://localhost:8080/",
          "height": 35
        }
      },
      "source": [
        "print(func.__doc__)"
      ],
      "execution_count": 0,
      "outputs": [
        {
          "output_type": "stream",
          "text": [
            "Возращает сумму чисел.\n"
          ],
          "name": "stdout"
        }
      ]
    },
    {
      "cell_type": "code",
      "metadata": {
        "id": "yCRTuxjC0KiH",
        "colab_type": "code",
        "outputId": "a52acfbe-904c-4181-ea3c-5626a71bedcc",
        "colab": {
          "base_uri": "https://localhost:8080/",
          "height": 35
        }
      },
      "source": [
        "print(func.__class__.__mro__)"
      ],
      "execution_count": 0,
      "outputs": [
        {
          "output_type": "stream",
          "text": [
            "(<class 'function'>, <class 'object'>)\n"
          ],
          "name": "stdout"
        }
      ]
    },
    {
      "cell_type": "markdown",
      "metadata": {
        "id": "kAdU90D_mwNW",
        "colab_type": "text"
      },
      "source": [
        "### Классы как классы"
      ]
    },
    {
      "cell_type": "code",
      "metadata": {
        "id": "5E6rI4tg0WOe",
        "colab_type": "code",
        "colab": {}
      },
      "source": [
        "class MyCls:\n",
        "  pass"
      ],
      "execution_count": 0,
      "outputs": []
    },
    {
      "cell_type": "code",
      "metadata": {
        "id": "SntEAD800d1x",
        "colab_type": "code",
        "outputId": "79a5b2fd-d09b-4b9f-e0b3-5c6168002bcc",
        "colab": {
          "base_uri": "https://localhost:8080/",
          "height": 35
        }
      },
      "source": [
        "print(inspect.getmro(MyCls))"
      ],
      "execution_count": 0,
      "outputs": [
        {
          "output_type": "stream",
          "text": [
            "(<class '__main__.MyCls'>, <class 'object'>)\n"
          ],
          "name": "stdout"
        }
      ]
    },
    {
      "cell_type": "markdown",
      "metadata": {
        "id": "AGcnGanSnOiP",
        "colab_type": "text"
      },
      "source": [
        "### Модули как объекты классы ```module```"
      ]
    },
    {
      "cell_type": "code",
      "metadata": {
        "id": "EVgW_5M80tuB",
        "colab_type": "code",
        "colab": {}
      },
      "source": [
        "import math"
      ],
      "execution_count": 0,
      "outputs": []
    },
    {
      "cell_type": "code",
      "metadata": {
        "id": "5nJ1RImz0vka",
        "colab_type": "code",
        "outputId": "2b805fe4-ca22-4230-b68a-397956194dd8",
        "colab": {
          "base_uri": "https://localhost:8080/",
          "height": 35
        }
      },
      "source": [
        "print(math)"
      ],
      "execution_count": 0,
      "outputs": [
        {
          "output_type": "stream",
          "text": [
            "<module 'math' (built-in)>\n"
          ],
          "name": "stdout"
        }
      ]
    },
    {
      "cell_type": "code",
      "metadata": {
        "id": "V8mFlQ1g00-0",
        "colab_type": "code",
        "outputId": "82a29c58-c490-4957-dd7b-b19ad77d767d",
        "colab": {
          "base_uri": "https://localhost:8080/",
          "height": 35
        }
      },
      "source": [
        "print(math.__class__.__mro__)"
      ],
      "execution_count": 0,
      "outputs": [
        {
          "output_type": "stream",
          "text": [
            "(<class 'module'>, <class 'object'>)\n"
          ],
          "name": "stdout"
        }
      ]
    },
    {
      "cell_type": "markdown",
      "metadata": {
        "id": "fUnnR5N3n2JZ",
        "colab_type": "text"
      },
      "source": [
        "### Пример глубокой иерархии классов"
      ]
    },
    {
      "cell_type": "markdown",
      "metadata": {
        "id": "f4RkAXvxo_Xj",
        "colab_type": "text"
      },
      "source": [
        "Рассмотрим известные нам исключения языка Python.\n",
        "\n",
        "![alt text](https://drive.google.com/uc?id=1rW8TQ1LMsywBdJ8tlRNoJDKxRGj8VYME)"
      ]
    },
    {
      "cell_type": "code",
      "metadata": {
        "id": "fp97dybI1DnC",
        "colab_type": "code",
        "outputId": "1a7157ff-e942-4f1e-8aca-2c3199ebf3b2",
        "colab": {
          "base_uri": "https://localhost:8080/",
          "height": 108
        }
      },
      "source": [
        "for cl in inspect.getmro(KeyError):\n",
        "  print(cl)"
      ],
      "execution_count": 0,
      "outputs": [
        {
          "output_type": "stream",
          "text": [
            "<class 'KeyError'>\n",
            "<class 'LookupError'>\n",
            "<class 'Exception'>\n",
            "<class 'BaseException'>\n",
            "<class 'object'>\n"
          ],
          "name": "stdout"
        }
      ]
    },
    {
      "cell_type": "markdown",
      "metadata": {
        "id": "S9ZAaIc7d0Si",
        "colab_type": "text"
      },
      "source": [
        "## За рамками материала"
      ]
    },
    {
      "cell_type": "markdown",
      "metadata": {
        "id": "8T-AFlP0gRsC",
        "colab_type": "text"
      },
      "source": [
        "*   подробное знакомство с атрибутами и методами классов вида ```__name__```\n",
        "\n"
      ]
    },
    {
      "cell_type": "markdown",
      "metadata": {
        "id": "5F_hHKVTNzia",
        "colab_type": "text"
      },
      "source": [
        "## Дополнительные материалы и литература"
      ]
    },
    {
      "cell_type": "markdown",
      "metadata": {
        "id": "YWhDk5dJN8NC",
        "colab_type": "text"
      },
      "source": [
        "\n",
        "*   https://python.ivan-shamaev.ru/classes-python-3-methods-oop-examples/"
      ]
    }
  ]
}