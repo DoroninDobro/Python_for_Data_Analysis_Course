{
  "nbformat": 4,
  "nbformat_minor": 0,
  "metadata": {
    "colab": {
      "name": "3.2.3 Уход от циклов_ обработка данных с применением массивов.ipynb",
      "provenance": [],
      "collapsed_sections": []
    },
    "kernelspec": {
      "name": "python3",
      "display_name": "Python 3"
    }
  },
  "cells": [
    {
      "cell_type": "markdown",
      "metadata": {
        "id": "moIM-S1g7SKx",
        "colab_type": "text"
      },
      "source": [
        "# Курс \"Python для анализа данных\"\n",
        "\n",
        "---\n",
        "#3.2.3 Уход от циклов: обработка данных с применением массивов"
      ]
    },
    {
      "cell_type": "markdown",
      "metadata": {
        "id": "QZ1Arpnj7p_N",
        "colab_type": "text"
      },
      "source": [
        "## Где мы сейчас?\n"
      ]
    },
    {
      "cell_type": "markdown",
      "metadata": {
        "id": "J9A06fP5j1vS",
        "colab_type": "text"
      },
      "source": [
        "<html>\n",
        " <head>\n",
        "  <meta charset=\"utf-8\">\n",
        " </head>\n",
        " <body>\n",
        "  <ul>\n",
        "    <li>1. Введение в анализ данных и разработку на языке Python </li> <!-2.1->\n",
        "    <li>2. Основы языка </li> <!-2.1->\n",
        "    <li>3. <strong>Библиотеки NumPy и SciPy для решения задач анализа данных и машинного обучения</strong> <i><- Вот в этой главе!</i>\n",
        "     <ul>\n",
        "      <li>3.1 Математические дисциплины в анализе данных и машинном обучении</li>      \n",
        "      <li><strong>3.2 Основной объект NumPy ndarray</strong> <i><- Вот в этом параграфе!</i></li>\n",
        "       <ul>\n",
        "        <li>3.2.1 Быстрые поэлементные операции над массивами</li>\n",
        "        <li>3.2.2 Индексирование и вырезание</li>\n",
        "        <li><strong>3.2.3 Уход от циклов: обработка данных с применением массивов</strong><i> <- Вот в этом пункте!</i></li>\n",
        "        <li>3.2.4 Математические и статистические операции</li>\n",
        "        <li>3.2.5 Файловый ввод-вывод массивов</li>\n",
        "       </ul>\n",
        "      <li>3.3 Библиотека SciPy</li>\n",
        "     </ul>\n",
        "    </li>   \n",
        "  </ul>\n",
        " </body>\n",
        "</html>"
      ]
    },
    {
      "cell_type": "markdown",
      "metadata": {
        "id": "z1oJmp_4Po8K",
        "colab_type": "text"
      },
      "source": [
        "## О чем будем говорить?\n"
      ]
    },
    {
      "cell_type": "markdown",
      "metadata": {
        "id": "7X4Wlpraj7Yw",
        "colab_type": "text"
      },
      "source": [
        "О встороенных методах переиндексации массивов ```ndarray``` и манипулировании с векторными представлениями данных без использования циклов."
      ]
    },
    {
      "cell_type": "markdown",
      "metadata": {
        "id": "NhfVXiTGAkND",
        "colab_type": "text"
      },
      "source": [
        "## Ключевые слова, понятия и выражения\n",
        "\n",
        "\n",
        "\n",
        "\n"
      ]
    },
    {
      "cell_type": "markdown",
      "metadata": {
        "id": "ixnuL5V2rZtz",
        "colab_type": "text"
      },
      "source": [
        "*   переиндексация\n",
        "*   изменение размеров"
      ]
    },
    {
      "cell_type": "markdown",
      "metadata": {
        "id": "2lFBeeLHjcc7",
        "colab_type": "text"
      },
      "source": [
        "## Материал"
      ]
    },
    {
      "cell_type": "markdown",
      "metadata": {
        "id": "EdWCagu-incR",
        "colab_type": "text"
      },
      "source": [
        "### Изменение формы массивов ```ndarray```"
      ]
    },
    {
      "cell_type": "markdown",
      "metadata": {
        "id": "jl3_7-_ki0wP",
        "colab_type": "text"
      },
      "source": [
        "Материал опирается на [статью](https://proglib.io/p/illyustrirovannoe-rukovodstvo-po-izmeneniyu-formy-mnogomernyh-massivov-numpy-2020-01-12) с proglib.io."
      ]
    },
    {
      "cell_type": "markdown",
      "metadata": {
        "id": "1GvkeoCXjHV9",
        "colab_type": "text"
      },
      "source": [
        "#### Изменение формы массива с помощью метода ```reshape()```"
      ]
    },
    {
      "cell_type": "code",
      "metadata": {
        "id": "TeqFknDSisyc",
        "colab_type": "code",
        "outputId": "360c5d24-d30f-40a0-960a-d8524b233484",
        "colab": {
          "base_uri": "https://localhost:8080/",
          "height": 72
        }
      },
      "source": [
        "import numpy as np\n",
        "\n",
        "a1 = np.arange(1, 13)  # числа от 1 до 12\n",
        "print('Исходный массив:')\n",
        "print(a1.shape)\n",
        "print(a1)"
      ],
      "execution_count": 0,
      "outputs": [
        {
          "output_type": "stream",
          "text": [
            "Исходный массив:\n",
            "(12,)\n",
            "[ 1  2  3  4  5  6  7  8  9 10 11 12]\n"
          ],
          "name": "stdout"
        }
      ]
    },
    {
      "cell_type": "code",
      "metadata": {
        "id": "wrDjIOOJjZoI",
        "colab_type": "code",
        "outputId": "4949c8e2-e830-4321-f10e-7ce80051c64b",
        "colab": {
          "base_uri": "https://localhost:8080/",
          "height": 199
        }
      },
      "source": [
        "a1_2d = a1.reshape(3, 4)\n",
        "print('Двумерный массив после преобразования размера:')\n",
        "print(a1_2d.shape)\n",
        "print(a1_2d)\n",
        "\n",
        "print('Двумерный массив с автоматическим вычислением размера:')\n",
        "a1_2d = a1.reshape(3, -1)\n",
        "print(a1_2d.shape)\n",
        "print(a1_2d)"
      ],
      "execution_count": 0,
      "outputs": [
        {
          "output_type": "stream",
          "text": [
            "Двумерный массив после преобразования размера:\n",
            "(3, 4)\n",
            "[[ 1  2  3  4]\n",
            " [ 5  6  7  8]\n",
            " [ 9 10 11 12]]\n",
            "Двумерный массив с автоматическим вычислением размера:\n",
            "(3, 4)\n",
            "[[ 1  2  3  4]\n",
            " [ 5  6  7  8]\n",
            " [ 9 10 11 12]]\n"
          ],
          "name": "stdout"
        }
      ]
    },
    {
      "cell_type": "code",
      "metadata": {
        "id": "S465LJiXkibJ",
        "colab_type": "code",
        "outputId": "b3f45fb8-9ee4-4063-807a-6c86aec10a19",
        "colab": {
          "base_uri": "https://localhost:8080/",
          "height": 181
        }
      },
      "source": [
        "print('Изменение формы по направлению:')\n",
        "print('* как в C:')\n",
        "print(a1.reshape(3, 4, order='C'))\n",
        "print('* как в Fortran:')\n",
        "print(a1.reshape(3, 4, order='F'))"
      ],
      "execution_count": 0,
      "outputs": [
        {
          "output_type": "stream",
          "text": [
            "Изменение формы по направлению:\n",
            "* как в C:\n",
            "[[ 1  2  3  4]\n",
            " [ 5  6  7  8]\n",
            " [ 9 10 11 12]]\n",
            "* как в Fortran:\n",
            "[[ 1  4  7 10]\n",
            " [ 2  5  8 11]\n",
            " [ 3  6  9 12]]\n"
          ],
          "name": "stdout"
        }
      ]
    },
    {
      "cell_type": "code",
      "metadata": {
        "id": "dsioHIeVlN5y",
        "colab_type": "code",
        "outputId": "906bed09-3441-4376-d267-64f29911ba8e",
        "colab": {
          "base_uri": "https://localhost:8080/",
          "height": 144
        }
      },
      "source": [
        "print('Преобразование одномерного массива в двумерный:')\n",
        "print('до')\n",
        "print(a1)\n",
        "print(a1.shape)\n",
        "\n",
        "print('после')\n",
        "print(a1.reshape(1,-1))\n",
        "print(a1.reshape(1,-1).shape)"
      ],
      "execution_count": 0,
      "outputs": [
        {
          "output_type": "stream",
          "text": [
            "Преобразование одномерного массива в двумерный:\n",
            "до\n",
            "[ 1  2  3  4  5  6  7  8  9 10 11 12]\n",
            "(12,)\n",
            "после\n",
            "[[ 1  2  3  4  5  6  7  8  9 10 11 12]]\n",
            "(1, 12)\n"
          ],
          "name": "stdout"
        }
      ]
    },
    {
      "cell_type": "markdown",
      "metadata": {
        "id": "e1VCxtKOlMlo",
        "colab_type": "text"
      },
      "source": [
        "#### Схлопование массива в одномерный методом ```ravel()```"
      ]
    },
    {
      "cell_type": "code",
      "metadata": {
        "id": "BY6dEwPjlyV_",
        "colab_type": "code",
        "outputId": "8e3f7844-3c6c-45c7-c851-96550bfcd698",
        "colab": {
          "base_uri": "https://localhost:8080/",
          "height": 162
        }
      },
      "source": [
        "print('Исходный массив:')\n",
        "print(a1_2d)\n",
        "\n",
        "print('Схлопываем строка за строкой:')\n",
        "print(a1_2d.ravel()) \n",
        "\n",
        "print('Схлопываем столбец за столбцом:')\n",
        "print(a1_2d.ravel(order='F')) "
      ],
      "execution_count": 0,
      "outputs": [
        {
          "output_type": "stream",
          "text": [
            "Исходный массив:\n",
            "[[ 1  2  3  4]\n",
            " [ 5  6  7  8]\n",
            " [ 9 10 11 12]]\n",
            "Схлопываем строка за строкой:\n",
            "[ 1  2  3  4  5  6  7  8  9 10 11 12]\n",
            "Схлопываем столбец за столбцом:\n",
            "[ 1  5  9  2  6 10  3  7 11  4  8 12]\n"
          ],
          "name": "stdout"
        }
      ]
    },
    {
      "cell_type": "markdown",
      "metadata": {
        "id": "Ki3GZTLmmaWg",
        "colab_type": "text"
      },
      "source": [
        "#### Конкатенация массивов методами ```stack()``` и ```hstack()```"
      ]
    },
    {
      "cell_type": "markdown",
      "metadata": {
        "id": "UJ7d78ppoIiU",
        "colab_type": "text"
      },
      "source": [
        "![alt text](https://drive.google.com/uc?id=1vIq1Qn3_ZiJ7P0hIS0jjRkQ18_mKo3Co)"
      ]
    },
    {
      "cell_type": "code",
      "metadata": {
        "id": "IvKTwI3amZgd",
        "colab_type": "code",
        "outputId": "868a06d8-e78a-4bd7-c784-d04b77d15c04",
        "colab": {
          "base_uri": "https://localhost:8080/",
          "height": 399
        }
      },
      "source": [
        "a1 = np.arange(1, 13)\n",
        "print('Массив 1:')\n",
        "print(a1)\n",
        "print('Массив 2:')\n",
        "a2 = np.arange(13, 25)\n",
        "print(a2)\n",
        "\n",
        "print('Горизонтальная конкатенация:')\n",
        "print(np.hstack((a1, a2)))\n",
        "print(np.stack((a1, a2)))\n",
        "print('Вертикальныя конкатенация:')\n",
        "print(np.stack((a1, a2), axis=1))"
      ],
      "execution_count": 0,
      "outputs": [
        {
          "output_type": "stream",
          "text": [
            "Массив 1:\n",
            "[ 1  2  3  4  5  6  7  8  9 10 11 12]\n",
            "Массив 2:\n",
            "[13 14 15 16 17 18 19 20 21 22 23 24]\n",
            "Горизонтальная конкатенация:\n",
            "[ 1  2  3  4  5  6  7  8  9 10 11 12 13 14 15 16 17 18 19 20 21 22 23 24]\n",
            "[[ 1  2  3  4  5  6  7  8  9 10 11 12]\n",
            " [13 14 15 16 17 18 19 20 21 22 23 24]]\n",
            "Вертикальныя конкатенация:\n",
            "[[ 1 13]\n",
            " [ 2 14]\n",
            " [ 3 15]\n",
            " [ 4 16]\n",
            " [ 5 17]\n",
            " [ 6 18]\n",
            " [ 7 19]\n",
            " [ 8 20]\n",
            " [ 9 21]\n",
            " [10 22]\n",
            " [11 23]\n",
            " [12 24]]\n"
          ],
          "name": "stdout"
        }
      ]
    },
    {
      "cell_type": "markdown",
      "metadata": {
        "id": "Gu6HiDDtpW3d",
        "colab_type": "text"
      },
      "source": [
        "#### Объединение двумерных массивов в трехмерный"
      ]
    },
    {
      "cell_type": "markdown",
      "metadata": {
        "id": "Wy00dj__qUhh",
        "colab_type": "text"
      },
      "source": [
        "![alt text](https://drive.google.com/uc?id=1XMAVpMKVmI6665VDIrFwcvUla0_Ps5Wb)"
      ]
    },
    {
      "cell_type": "code",
      "metadata": {
        "id": "kEDQcioCqr1i",
        "colab_type": "code",
        "outputId": "a66574e1-ce7d-4e91-80a6-895c9ece1a3b",
        "colab": {
          "base_uri": "https://localhost:8080/",
          "height": 162
        }
      },
      "source": [
        "a1 = np.arange(1, 13).reshape(3, -1)\n",
        "print('Массив 1:')\n",
        "print(a1)\n",
        "print('Массив 2:')\n",
        "a2 = np.arange(13, 25).reshape(3, -1)\n",
        "print(a2)"
      ],
      "execution_count": 0,
      "outputs": [
        {
          "output_type": "stream",
          "text": [
            "Массив 1:\n",
            "[[ 1  2  3  4]\n",
            " [ 5  6  7  8]\n",
            " [ 9 10 11 12]]\n",
            "Массив 2:\n",
            "[[13 14 15 16]\n",
            " [17 18 19 20]\n",
            " [21 22 23 24]]\n"
          ],
          "name": "stdout"
        }
      ]
    },
    {
      "cell_type": "code",
      "metadata": {
        "id": "bPjGpKR1q5qn",
        "colab_type": "code",
        "outputId": "eb986417-c1dd-4442-f55b-394d0393e7e3",
        "colab": {
          "base_uri": "https://localhost:8080/",
          "height": 653
        }
      },
      "source": [
        "print('Соединение по оси 0:')\n",
        "a3_0 = np.stack((a1, a2))\n",
        "print(a3_0)\n",
        "print('Размер:', a3_0.shape)\n",
        "\n",
        "print('Соединение по оси 1:')\n",
        "a3_1 = np.stack((a1, a2), axis=1)\n",
        "print(a3_1)\n",
        "print('Размер:', a3_1.shape)\n",
        "\n",
        "print('Соединение по оси 2:')\n",
        "a3_2 = np.stack((a1, a2), axis=2)\n",
        "print(a3_2)\n",
        "print('Размер:', a3_2.shape)"
      ],
      "execution_count": 0,
      "outputs": [
        {
          "output_type": "stream",
          "text": [
            "Соединение по оси 0:\n",
            "[[[ 1  2  3  4]\n",
            "  [ 5  6  7  8]\n",
            "  [ 9 10 11 12]]\n",
            "\n",
            " [[13 14 15 16]\n",
            "  [17 18 19 20]\n",
            "  [21 22 23 24]]]\n",
            "Размер: (2, 3, 4)\n",
            "Соединение по оси 1:\n",
            "[[[ 1  2  3  4]\n",
            "  [13 14 15 16]]\n",
            "\n",
            " [[ 5  6  7  8]\n",
            "  [17 18 19 20]]\n",
            "\n",
            " [[ 9 10 11 12]\n",
            "  [21 22 23 24]]]\n",
            "Размер: (3, 2, 4)\n",
            "Соединение по оси 2:\n",
            "[[[ 1 13]\n",
            "  [ 2 14]\n",
            "  [ 3 15]\n",
            "  [ 4 16]]\n",
            "\n",
            " [[ 5 17]\n",
            "  [ 6 18]\n",
            "  [ 7 19]\n",
            "  [ 8 20]]\n",
            "\n",
            " [[ 9 21]\n",
            "  [10 22]\n",
            "  [11 23]\n",
            "  [12 24]]]\n",
            "Размер: (3, 4, 2)\n"
          ],
          "name": "stdout"
        }
      ]
    },
    {
      "cell_type": "markdown",
      "metadata": {
        "id": "B1Bo6wvvuBg9",
        "colab_type": "text"
      },
      "source": [
        "#### Схлопование многомерного массива в одномерный методом ```ravel()```"
      ]
    },
    {
      "cell_type": "code",
      "metadata": {
        "id": "tMM-7SJauONr",
        "colab_type": "code",
        "outputId": "076fae4f-4107-4021-e6d0-24dac9df3d31",
        "colab": {
          "base_uri": "https://localhost:8080/",
          "height": 162
        }
      },
      "source": [
        "print(a3_0)\n",
        "print(a3_0.ravel())"
      ],
      "execution_count": 0,
      "outputs": [
        {
          "output_type": "stream",
          "text": [
            "[[[ 1  2  3  4]\n",
            "  [ 5  6  7  8]\n",
            "  [ 9 10 11 12]]\n",
            "\n",
            " [[13 14 15 16]\n",
            "  [17 18 19 20]\n",
            "  [21 22 23 24]]]\n",
            "[ 1  2  3  4  5  6  7  8  9 10 11 12 13 14 15 16 17 18 19 20 21 22 23 24]\n"
          ],
          "name": "stdout"
        }
      ]
    },
    {
      "cell_type": "markdown",
      "metadata": {
        "id": "6e3NMJ81us9c",
        "colab_type": "text"
      },
      "source": [
        "### Векторизация"
      ]
    },
    {
      "cell_type": "markdown",
      "metadata": {
        "id": "RpnOikcHuvVm",
        "colab_type": "text"
      },
      "source": [
        "Векторизация - замена явных циклов выраже­ниями-массивами."
      ]
    },
    {
      "cell_type": "code",
      "metadata": {
        "id": "W_RJBC-Mu2df",
        "colab_type": "code",
        "outputId": "b69ca4d3-499d-473a-a66e-db9cd0ab878f",
        "colab": {
          "base_uri": "https://localhost:8080/",
          "height": 380
        }
      },
      "source": [
        "points = np.arange(-5, 5, 1) # 1000 equally spaced points\n",
        "xs, ys = np.meshgrid(points, points)\n",
        "print(xs)\n",
        "print(ys)"
      ],
      "execution_count": 0,
      "outputs": [
        {
          "output_type": "stream",
          "text": [
            "[[-5 -4 -3 -2 -1  0  1  2  3  4]\n",
            " [-5 -4 -3 -2 -1  0  1  2  3  4]\n",
            " [-5 -4 -3 -2 -1  0  1  2  3  4]\n",
            " [-5 -4 -3 -2 -1  0  1  2  3  4]\n",
            " [-5 -4 -3 -2 -1  0  1  2  3  4]\n",
            " [-5 -4 -3 -2 -1  0  1  2  3  4]\n",
            " [-5 -4 -3 -2 -1  0  1  2  3  4]\n",
            " [-5 -4 -3 -2 -1  0  1  2  3  4]\n",
            " [-5 -4 -3 -2 -1  0  1  2  3  4]\n",
            " [-5 -4 -3 -2 -1  0  1  2  3  4]]\n",
            "[[-5 -5 -5 -5 -5 -5 -5 -5 -5 -5]\n",
            " [-4 -4 -4 -4 -4 -4 -4 -4 -4 -4]\n",
            " [-3 -3 -3 -3 -3 -3 -3 -3 -3 -3]\n",
            " [-2 -2 -2 -2 -2 -2 -2 -2 -2 -2]\n",
            " [-1 -1 -1 -1 -1 -1 -1 -1 -1 -1]\n",
            " [ 0  0  0  0  0  0  0  0  0  0]\n",
            " [ 1  1  1  1  1  1  1  1  1  1]\n",
            " [ 2  2  2  2  2  2  2  2  2  2]\n",
            " [ 3  3  3  3  3  3  3  3  3  3]\n",
            " [ 4  4  4  4  4  4  4  4  4  4]]\n"
          ],
          "name": "stdout"
        }
      ]
    },
    {
      "cell_type": "code",
      "metadata": {
        "id": "9fkrp6AyvO31",
        "colab_type": "code",
        "outputId": "20fd77f7-2782-4c67-c634-3bfecb871109",
        "colab": {
          "base_uri": "https://localhost:8080/",
          "height": 380
        }
      },
      "source": [
        "z = np.sqrt(xs ** 2 + ys ** 2)\n",
        "z"
      ],
      "execution_count": 0,
      "outputs": [
        {
          "output_type": "execute_result",
          "data": {
            "text/plain": [
              "array([[7.07106781, 6.40312424, 5.83095189, 5.38516481, 5.09901951,\n",
              "        5.        , 5.09901951, 5.38516481, 5.83095189, 6.40312424],\n",
              "       [6.40312424, 5.65685425, 5.        , 4.47213595, 4.12310563,\n",
              "        4.        , 4.12310563, 4.47213595, 5.        , 5.65685425],\n",
              "       [5.83095189, 5.        , 4.24264069, 3.60555128, 3.16227766,\n",
              "        3.        , 3.16227766, 3.60555128, 4.24264069, 5.        ],\n",
              "       [5.38516481, 4.47213595, 3.60555128, 2.82842712, 2.23606798,\n",
              "        2.        , 2.23606798, 2.82842712, 3.60555128, 4.47213595],\n",
              "       [5.09901951, 4.12310563, 3.16227766, 2.23606798, 1.41421356,\n",
              "        1.        , 1.41421356, 2.23606798, 3.16227766, 4.12310563],\n",
              "       [5.        , 4.        , 3.        , 2.        , 1.        ,\n",
              "        0.        , 1.        , 2.        , 3.        , 4.        ],\n",
              "       [5.09901951, 4.12310563, 3.16227766, 2.23606798, 1.41421356,\n",
              "        1.        , 1.41421356, 2.23606798, 3.16227766, 4.12310563],\n",
              "       [5.38516481, 4.47213595, 3.60555128, 2.82842712, 2.23606798,\n",
              "        2.        , 2.23606798, 2.82842712, 3.60555128, 4.47213595],\n",
              "       [5.83095189, 5.        , 4.24264069, 3.60555128, 3.16227766,\n",
              "        3.        , 3.16227766, 3.60555128, 4.24264069, 5.        ],\n",
              "       [6.40312424, 5.65685425, 5.        , 4.47213595, 4.12310563,\n",
              "        4.        , 4.12310563, 4.47213595, 5.        , 5.65685425]])"
            ]
          },
          "metadata": {
            "tags": []
          },
          "execution_count": 12
        }
      ]
    },
    {
      "cell_type": "markdown",
      "metadata": {
        "id": "WEwjQKsCGzZ4",
        "colab_type": "text"
      },
      "source": [
        "### Укладывание"
      ]
    },
    {
      "cell_type": "markdown",
      "metadata": {
        "id": "YmciJPTAG2MR",
        "colab_type": "text"
      },
      "source": [
        "Укладывание - это способ выполнения арифметических операций над массивами разной формы.\n",
        "\n",
        "![alt text](https://drive.google.com/uc?id=14bWKPgrAAIzMyIEoAMtye3addSkVYuVL)"
      ]
    },
    {
      "cell_type": "code",
      "metadata": {
        "id": "8cEANzOYPRWe",
        "colab_type": "code",
        "outputId": "73a8a6e5-2715-45ed-c3c0-10948466eb71",
        "colab": {
          "base_uri": "https://localhost:8080/",
          "height": 53
        }
      },
      "source": [
        "arr = np.arange(12)\n",
        "print(arr)\n",
        "print(arr * 4)"
      ],
      "execution_count": 0,
      "outputs": [
        {
          "output_type": "stream",
          "text": [
            "[ 0  1  2  3  4  5  6  7  8  9 10 11]\n",
            "[ 0  4  8 12 16 20 24 28 32 36 40 44]\n"
          ],
          "name": "stdout"
        }
      ]
    },
    {
      "cell_type": "code",
      "metadata": {
        "id": "WydIBN_YP32d",
        "colab_type": "code",
        "outputId": "40b87c44-1add-4b3e-d54b-b6a776bc7318",
        "colab": {
          "base_uri": "https://localhost:8080/",
          "height": 235
        }
      },
      "source": [
        "arr0 = np.arange(4)\n",
        "arr = np.stack((arr0,arr0,arr0),axis=1)\n",
        "\n",
        "vec = np.array([1,2,3])\n",
        "\n",
        "print('Изначальная матрица:')\n",
        "print(arr)\n",
        "print('Вектор для суммирования:')\n",
        "print(vec)\n",
        "\n",
        "print('Результат суммирования:')\n",
        "print(arr + vec)"
      ],
      "execution_count": 0,
      "outputs": [
        {
          "output_type": "stream",
          "text": [
            "Изначальная матрица:\n",
            "[[0 0 0]\n",
            " [1 1 1]\n",
            " [2 2 2]\n",
            " [3 3 3]]\n",
            "Вектор для суммирования:\n",
            "[1 2 3]\n",
            "Результат суммирования:\n",
            "[[1 2 3]\n",
            " [2 3 4]\n",
            " [3 4 5]\n",
            " [4 5 6]]\n"
          ],
          "name": "stdout"
        }
      ]
    },
    {
      "cell_type": "code",
      "metadata": {
        "id": "Vc_0C2D6Q4uJ",
        "colab_type": "code",
        "outputId": "38d807b6-4e21-4f48-f5af-6cd0df6c73a8",
        "colab": {
          "base_uri": "https://localhost:8080/",
          "height": 271
        }
      },
      "source": [
        "arr = np.random.randn(4, 3)\n",
        "print('Изначальная матрица:')\n",
        "print(arr)\n",
        "\n",
        "print('Средние значения по столбцам:')\n",
        "print(arr.mean(0))\n",
        "\n",
        "print('Центрированные значения в столбцах:')\n",
        "demeaned = arr - arr.mean(0)\n",
        "print(demeaned)\n",
        "\n",
        "print('Средние значения по столбцам в центированной матрице:')\n",
        "print(demeaned.mean(0))"
      ],
      "execution_count": 0,
      "outputs": [
        {
          "output_type": "stream",
          "text": [
            "Изначальная матрица:\n",
            "[[-0.32581552 -0.13240649 -0.37831171]\n",
            " [-0.43855863 -0.24346432  1.215288  ]\n",
            " [ 1.30997662 -1.35880339 -2.09070716]\n",
            " [ 1.00515751  0.29292912 -0.50482256]]\n",
            "Средние значения по столбцам:\n",
            "[ 0.38769    -0.36043627 -0.43963836]\n",
            "Центрированные значения в столбцах:\n",
            "[[-0.71350551  0.22802978  0.06132665]\n",
            " [-0.82624863  0.11697195  1.65492636]\n",
            " [ 0.92228663 -0.99836712 -1.65106881]\n",
            " [ 0.61746752  0.65336539 -0.0651842 ]]\n",
            "Средние значения по столбцам в центированной матрице:\n",
            "[ 5.55111512e-17 -2.77555756e-17 -2.77555756e-17]\n"
          ],
          "name": "stdout"
        }
      ]
    },
    {
      "cell_type": "markdown",
      "metadata": {
        "id": "5F_hHKVTNzia",
        "colab_type": "text"
      },
      "source": [
        "## Дополнительные материалы и литература"
      ]
    },
    {
      "cell_type": "markdown",
      "metadata": {
        "id": "YWhDk5dJN8NC",
        "colab_type": "text"
      },
      "source": [
        "\n",
        "\n",
        "*   Уэс Маккинли, Python и анализ данных/ Пер. с англ. Слинкин А. А. - М.: ДМК Пресс, 2015. - 482 с.: ил. C. 112"
      ]
    }
  ]
}