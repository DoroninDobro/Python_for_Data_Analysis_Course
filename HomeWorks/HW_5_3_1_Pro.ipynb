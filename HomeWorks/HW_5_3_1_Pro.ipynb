{
  "nbformat": 4,
  "nbformat_minor": 0,
  "metadata": {
    "colab": {
      "name": "Копия блокнота \"ДЗ-5.3.1-Pro.ipynb\"",
      "provenance": [],
      "collapsed_sections": []
    },
    "kernelspec": {
      "name": "python3",
      "display_name": "Python 3"
    }
  },
  "cells": [
    {
      "cell_type": "markdown",
      "metadata": {
        "id": "MH-3kVwvJYeP",
        "colab_type": "text"
      },
      "source": [
        "# Курс \"Python для анализа данных\"\n",
        "\n",
        "---\n",
        "# Домашнее задание PRO\n",
        "#5.3.1 Линейные графики, столбчатые диаграммы, гистограммы и графики плотности, диаграммы рассеяния"
      ]
    },
    {
      "cell_type": "code",
      "metadata": {
        "id": "fGNSU6VDMU7f",
        "colab_type": "code",
        "colab": {}
      },
      "source": [
        "# Запустите код ниже для старта, но не правьте во избежания ошибок проверки!\n",
        "_HOMEWORK_NAME_ = '5.3.1_PRO'\n",
        "_HOMEWORK_ANSWER_DICT_ = dict()"
      ],
      "execution_count": 1,
      "outputs": []
    },
    {
      "cell_type": "markdown",
      "metadata": {
        "id": "xp_DlvMXJ8Ed",
        "colab_type": "text"
      },
      "source": [
        "## ФИО участника"
      ]
    },
    {
      "cell_type": "code",
      "metadata": {
        "id": "RHUt9t1XMw9a",
        "colab_type": "code",
        "colab": {}
      },
      "source": [
        "# Введите ваше имя и фамилию в соответствующую позицию 'NAME' и 'LAST_NAME'!\n",
        "_NAME_SERNAME_ = {\n",
        "    'NAME' : 'Vladimir',\n",
        "    'LAST_NAME' : 'Doronin'\n",
        "}"
      ],
      "execution_count": 13,
      "outputs": []
    },
    {
      "cell_type": "markdown",
      "metadata": {
        "id": "gMwyKhlQJ1mf",
        "colab_type": "text"
      },
      "source": [
        "## Задание"
      ]
    },
    {
      "cell_type": "markdown",
      "metadata": {
        "id": "Owu684lKKrjJ",
        "colab_type": "text"
      },
      "source": [
        "**Условие:** \n",
        "По [ссылке](https://github.com/mwaskom/seaborn-data) вы можете ознакомиться с доступными наборами данных библиотеки ```seaborn```. Выберите наиболее вас заинтересовавший датасет и проделайте все шаги по его визуализации и анализу, которые были в [блокноте](https://drive.google.com/open?id=1fNsV3vRLO8W-i7qjv0GMJVI_FDKKZJe3) к видео. Предпочтительно использовать датасет, c которым вы работали в домашнем задании к занятию по ```seaborn```.\n",
        "\n",
        "Обратите внимание на то, что все  должно быть выполнено только с использованием встроенных методов библиотеки ```pandas```.\n",
        "\n",
        "**Оценка в баллах:** 10 баллов"
      ]
    },
    {
      "cell_type": "markdown",
      "metadata": {
        "id": "OCTvo3fHLaaJ",
        "colab_type": "text"
      },
      "source": [
        "**Решение:**"
      ]
    },
    {
      "cell_type": "code",
      "metadata": {
        "colab_type": "code",
        "id": "JGsqjguHUoe4",
        "colab": {
          "base_uri": "https://localhost:8080/",
          "height": 74
        },
        "outputId": "bab04714-6edf-4289-8e6c-153bc66c61a4"
      },
      "source": [
        "import pandas as pd\n",
        "import seaborn as sns\n",
        "sns.set(style='ticks')"
      ],
      "execution_count": 2,
      "outputs": [
        {
          "output_type": "stream",
          "text": [
            "/usr/local/lib/python3.6/dist-packages/statsmodels/tools/_testing.py:19: FutureWarning: pandas.util.testing is deprecated. Use the functions in the public API at pandas.testing instead.\n",
            "  import pandas.util.testing as tm\n"
          ],
          "name": "stderr"
        }
      ]
    },
    {
      "cell_type": "code",
      "metadata": {
        "id": "G7eu1IB6Nxd9",
        "colab_type": "code",
        "colab": {
          "base_uri": "https://localhost:8080/",
          "height": 198
        },
        "outputId": "f2b7c2bf-c420-414f-c1df-a0236a64587f"
      },
      "source": [
        "data = sns.load_dataset('planets')\n",
        "data.dropna(inplace=True)\n",
        "data.head()"
      ],
      "execution_count": 3,
      "outputs": [
        {
          "output_type": "execute_result",
          "data": {
            "text/html": [
              "<div>\n",
              "<style scoped>\n",
              "    .dataframe tbody tr th:only-of-type {\n",
              "        vertical-align: middle;\n",
              "    }\n",
              "\n",
              "    .dataframe tbody tr th {\n",
              "        vertical-align: top;\n",
              "    }\n",
              "\n",
              "    .dataframe thead th {\n",
              "        text-align: right;\n",
              "    }\n",
              "</style>\n",
              "<table border=\"1\" class=\"dataframe\">\n",
              "  <thead>\n",
              "    <tr style=\"text-align: right;\">\n",
              "      <th></th>\n",
              "      <th>method</th>\n",
              "      <th>number</th>\n",
              "      <th>orbital_period</th>\n",
              "      <th>mass</th>\n",
              "      <th>distance</th>\n",
              "      <th>year</th>\n",
              "    </tr>\n",
              "  </thead>\n",
              "  <tbody>\n",
              "    <tr>\n",
              "      <th>0</th>\n",
              "      <td>Radial Velocity</td>\n",
              "      <td>1</td>\n",
              "      <td>269.300</td>\n",
              "      <td>7.10</td>\n",
              "      <td>77.40</td>\n",
              "      <td>2006</td>\n",
              "    </tr>\n",
              "    <tr>\n",
              "      <th>1</th>\n",
              "      <td>Radial Velocity</td>\n",
              "      <td>1</td>\n",
              "      <td>874.774</td>\n",
              "      <td>2.21</td>\n",
              "      <td>56.95</td>\n",
              "      <td>2008</td>\n",
              "    </tr>\n",
              "    <tr>\n",
              "      <th>2</th>\n",
              "      <td>Radial Velocity</td>\n",
              "      <td>1</td>\n",
              "      <td>763.000</td>\n",
              "      <td>2.60</td>\n",
              "      <td>19.84</td>\n",
              "      <td>2011</td>\n",
              "    </tr>\n",
              "    <tr>\n",
              "      <th>3</th>\n",
              "      <td>Radial Velocity</td>\n",
              "      <td>1</td>\n",
              "      <td>326.030</td>\n",
              "      <td>19.40</td>\n",
              "      <td>110.62</td>\n",
              "      <td>2007</td>\n",
              "    </tr>\n",
              "    <tr>\n",
              "      <th>4</th>\n",
              "      <td>Radial Velocity</td>\n",
              "      <td>1</td>\n",
              "      <td>516.220</td>\n",
              "      <td>10.50</td>\n",
              "      <td>119.47</td>\n",
              "      <td>2009</td>\n",
              "    </tr>\n",
              "  </tbody>\n",
              "</table>\n",
              "</div>"
            ],
            "text/plain": [
              "            method  number  orbital_period   mass  distance  year\n",
              "0  Radial Velocity       1         269.300   7.10     77.40  2006\n",
              "1  Radial Velocity       1         874.774   2.21     56.95  2008\n",
              "2  Radial Velocity       1         763.000   2.60     19.84  2011\n",
              "3  Radial Velocity       1         326.030  19.40    110.62  2007\n",
              "4  Radial Velocity       1         516.220  10.50    119.47  2009"
            ]
          },
          "metadata": {
            "tags": []
          },
          "execution_count": 3
        }
      ]
    },
    {
      "cell_type": "code",
      "metadata": {
        "id": "93zObmwBO1uG",
        "colab_type": "code",
        "colab": {
          "base_uri": "https://localhost:8080/",
          "height": 254
        },
        "outputId": "c959892d-06d9-405f-eba1-0d89b1af4ac5"
      },
      "source": [
        "data.info()"
      ],
      "execution_count": 4,
      "outputs": [
        {
          "output_type": "stream",
          "text": [
            "<class 'pandas.core.frame.DataFrame'>\n",
            "Int64Index: 498 entries, 0 to 784\n",
            "Data columns (total 6 columns):\n",
            " #   Column          Non-Null Count  Dtype  \n",
            "---  ------          --------------  -----  \n",
            " 0   method          498 non-null    object \n",
            " 1   number          498 non-null    int64  \n",
            " 2   orbital_period  498 non-null    float64\n",
            " 3   mass            498 non-null    float64\n",
            " 4   distance        498 non-null    float64\n",
            " 5   year            498 non-null    int64  \n",
            "dtypes: float64(3), int64(2), object(1)\n",
            "memory usage: 27.2+ KB\n"
          ],
          "name": "stdout"
        }
      ]
    },
    {
      "cell_type": "code",
      "metadata": {
        "id": "Gim-BxZqNxnv",
        "colab_type": "code",
        "colab": {
          "base_uri": "https://localhost:8080/",
          "height": 303
        },
        "outputId": "6eadb223-6e6c-486b-ff5f-5d5c108c46b8"
      },
      "source": [
        "ax = data.mass.plot()\n",
        "ax.set_xlabel('position')\n",
        "ax.set_ylabel('mass')"
      ],
      "execution_count": 5,
      "outputs": [
        {
          "output_type": "execute_result",
          "data": {
            "text/plain": [
              "Text(0, 0.5, 'mass')"
            ]
          },
          "metadata": {
            "tags": []
          },
          "execution_count": 5
        },
        {
          "output_type": "display_data",
          "data": {
            "image/png": "[encoded data removed]",
            "text/plain": [
              "<Figure size 432x288 with 1 Axes>"
            ]
          },
          "metadata": {
            "tags": []
          }
        }
      ]
    },
    {
      "cell_type": "code",
      "metadata": {
        "id": "L1-YboENNxwH",
        "colab_type": "code",
        "colab": {
          "base_uri": "https://localhost:8080/",
          "height": 303
        },
        "outputId": "604c5821-79b2-4f96-a451-41101dee2325"
      },
      "source": [
        "ax = data.mass.plot(kind='hist')\n",
        "ax.set_xlabel('mass')\n",
        "ax.set_ylabel('frequency')"
      ],
      "execution_count": 6,
      "outputs": [
        {
          "output_type": "execute_result",
          "data": {
            "text/plain": [
              "Text(0, 0.5, 'frequency')"
            ]
          },
          "metadata": {
            "tags": []
          },
          "execution_count": 6
        },
        {
          "output_type": "display_data",
          "data": {
            "image/png": "[encoded data removed]",
            "text/plain": [
              "<Figure size 432x288 with 1 Axes>"
            ]
          },
          "metadata": {
            "tags": []
          }
        }
      ]
    },
    {
      "cell_type": "code",
      "metadata": {
        "id": "KCFwkQfYQ1nu",
        "colab_type": "code",
        "colab": {
          "base_uri": "https://localhost:8080/",
          "height": 284
        },
        "outputId": "606b7a23-2474-4463-b1b0-5c61595aae12"
      },
      "source": [
        "ax = data.drop(columns=['year']).hist(bins=20)"
      ],
      "execution_count": 7,
      "outputs": [
        {
          "output_type": "display_data",
          "data": {
            "image/png": "[encoded data removed]",
            "text/plain": [
              "<Figure size 432x288 with 4 Axes>"
            ]
          },
          "metadata": {
            "tags": []
          }
        }
      ]
    },
    {
      "cell_type": "code",
      "metadata": {
        "id": "q8-7Zm5jQ1wA",
        "colab_type": "code",
        "colab": {
          "base_uri": "https://localhost:8080/",
          "height": 341
        },
        "outputId": "b3cbee75-ed53-48c8-ae0a-166ec2442256"
      },
      "source": [
        "ax = data.plot(x='mass', y='orbital_period', kind='scatter')\n",
        "ax.set_xlabel('mass')\n",
        "ax.set_ylabel('orbital_period')"
      ],
      "execution_count": 8,
      "outputs": [
        {
          "output_type": "stream",
          "text": [
            "*c* argument looks like a single numeric RGB or RGBA sequence, which should be avoided as value-mapping will have precedence in case its length matches with *x* & *y*.  Please use the *color* keyword-argument or provide a 2-D array with a single row if you intend to specify the same RGB or RGBA value for all points.\n"
          ],
          "name": "stderr"
        },
        {
          "output_type": "execute_result",
          "data": {
            "text/plain": [
              "Text(0, 0.5, 'orbital_period')"
            ]
          },
          "metadata": {
            "tags": []
          },
          "execution_count": 8
        },
        {
          "output_type": "display_data",
          "data": {
            "image/png": "[encoded data removed]",
            "text/plain": [
              "<Figure size 432x288 with 1 Axes>"
            ]
          },
          "metadata": {
            "tags": []
          }
        }
      ]
    },
    {
      "cell_type": "code",
      "metadata": {
        "id": "xQnZfx9bNyQx",
        "colab_type": "code",
        "colab": {
          "base_uri": "https://localhost:8080/",
          "height": 270
        },
        "outputId": "9ba6331d-c2c6-449c-82d2-4e39ca01377d"
      },
      "source": [
        "ax = data.year.plot(kind='box')"
      ],
      "execution_count": 9,
      "outputs": [
        {
          "output_type": "display_data",
          "data": {
            "image/png": "[encoded data removed]",
            "text/plain": [
              "<Figure size 432x288 with 1 Axes>"
            ]
          },
          "metadata": {
            "tags": []
          }
        }
      ]
    },
    {
      "cell_type": "code",
      "metadata": {
        "id": "Mr2zh9YnS9Pp",
        "colab_type": "code",
        "colab": {
          "base_uri": "https://localhost:8080/",
          "height": 500
        },
        "outputId": "7b32de55-f37b-47dd-adec-3b7dfdf8ddc2"
      },
      "source": [
        "gdata = data.groupby(['year', 'number']).distance.mean().unstack().fillna(0)\n",
        "gdata.style.background_gradient(cmap='Blues')"
      ],
      "execution_count": 10,
      "outputs": [
        {
          "output_type": "execute_result",
          "data": {
            "text/html": [
              "<style  type=\"text/css\" >\n",
              "    #T_3d7debfa_d119_11ea_98da_0242ac1c0002row0_col0 {\n",
              "            background-color:  #add0e6;\n",
              "            color:  #000000;\n",
              "        }    #T_3d7debfa_d119_11ea_98da_0242ac1c0002row0_col1 {\n",
              "            background-color:  #f7fbff;\n",
              "            color:  #000000;\n",
              "        }    #T_3d7debfa_d119_11ea_98da_0242ac1c0002row0_col2 {\n",
              "            background-color:  #f7fbff;\n",
              "            color:  #000000;\n",
              "        }    #T_3d7debfa_d119_11ea_98da_0242ac1c0002row0_col3 {\n",
              "            background-color:  #f7fbff;\n",
              "            color:  #000000;\n",
              "        }    #T_3d7debfa_d119_11ea_98da_0242ac1c0002row0_col4 {\n",
              "            background-color:  #f7fbff;\n",
              "            color:  #000000;\n",
              "        }    #T_3d7debfa_d119_11ea_98da_0242ac1c0002row0_col5 {\n",
              "            background-color:  #f7fbff;\n",
              "            color:  #000000;\n",
              "        }    #T_3d7debfa_d119_11ea_98da_0242ac1c0002row1_col0 {\n",
              "            background-color:  #f7fbff;\n",
              "            color:  #000000;\n",
              "        }    #T_3d7debfa_d119_11ea_98da_0242ac1c0002row1_col1 {\n",
              "            background-color:  #f7fbff;\n",
              "            color:  #000000;\n",
              "        }    #T_3d7debfa_d119_11ea_98da_0242ac1c0002row1_col2 {\n",
              "            background-color:  #f7fbff;\n",
              "            color:  #000000;\n",
              "        }    #T_3d7debfa_d119_11ea_98da_0242ac1c0002row1_col3 {\n",
              "            background-color:  #f7fbff;\n",
              "            color:  #000000;\n",
              "        }    #T_3d7debfa_d119_11ea_98da_0242ac1c0002row1_col4 {\n",
              "            background-color:  #f7fbff;\n",
              "            color:  #000000;\n",
              "        }    #T_3d7debfa_d119_11ea_98da_0242ac1c0002row1_col5 {\n",
              "            background-color:  #f7fbff;\n",
              "            color:  #000000;\n",
              "        }    #T_3d7debfa_d119_11ea_98da_0242ac1c0002row2_col0 {\n",
              "            background-color:  #f7fbff;\n",
              "            color:  #000000;\n",
              "        }    #T_3d7debfa_d119_11ea_98da_0242ac1c0002row2_col1 {\n",
              "            background-color:  #f7fbff;\n",
              "            color:  #000000;\n",
              "        }    #T_3d7debfa_d119_11ea_98da_0242ac1c0002row2_col2 {\n",
              "            background-color:  #cddff1;\n",
              "            color:  #000000;\n",
              "        }    #T_3d7debfa_d119_11ea_98da_0242ac1c0002row2_col3 {\n",
              "            background-color:  #084f99;\n",
              "            color:  #f1f1f1;\n",
              "        }    #T_3d7debfa_d119_11ea_98da_0242ac1c0002row2_col4 {\n",
              "            background-color:  #08306b;\n",
              "            color:  #f1f1f1;\n",
              "        }    #T_3d7debfa_d119_11ea_98da_0242ac1c0002row2_col5 {\n",
              "            background-color:  #f7fbff;\n",
              "            color:  #000000;\n",
              "        }    #T_3d7debfa_d119_11ea_98da_0242ac1c0002row3_col0 {\n",
              "            background-color:  #f2f8fd;\n",
              "            color:  #000000;\n",
              "        }    #T_3d7debfa_d119_11ea_98da_0242ac1c0002row3_col1 {\n",
              "            background-color:  #f7fbff;\n",
              "            color:  #000000;\n",
              "        }    #T_3d7debfa_d119_11ea_98da_0242ac1c0002row3_col2 {\n",
              "            background-color:  #f7fbff;\n",
              "            color:  #000000;\n",
              "        }    #T_3d7debfa_d119_11ea_98da_0242ac1c0002row3_col3 {\n",
              "            background-color:  #f7fbff;\n",
              "            color:  #000000;\n",
              "        }    #T_3d7debfa_d119_11ea_98da_0242ac1c0002row3_col4 {\n",
              "            background-color:  #f7fbff;\n",
              "            color:  #000000;\n",
              "        }    #T_3d7debfa_d119_11ea_98da_0242ac1c0002row3_col5 {\n",
              "            background-color:  #f7fbff;\n",
              "            color:  #000000;\n",
              "        }    #T_3d7debfa_d119_11ea_98da_0242ac1c0002row4_col0 {\n",
              "            background-color:  #e8f1fa;\n",
              "            color:  #000000;\n",
              "        }    #T_3d7debfa_d119_11ea_98da_0242ac1c0002row4_col1 {\n",
              "            background-color:  #66abd4;\n",
              "            color:  #000000;\n",
              "        }    #T_3d7debfa_d119_11ea_98da_0242ac1c0002row4_col2 {\n",
              "            background-color:  #f7fbff;\n",
              "            color:  #000000;\n",
              "        }    #T_3d7debfa_d119_11ea_98da_0242ac1c0002row4_col3 {\n",
              "            background-color:  #b4d3e9;\n",
              "            color:  #000000;\n",
              "        }    #T_3d7debfa_d119_11ea_98da_0242ac1c0002row4_col4 {\n",
              "            background-color:  #f7fbff;\n",
              "            color:  #000000;\n",
              "        }    #T_3d7debfa_d119_11ea_98da_0242ac1c0002row4_col5 {\n",
              "            background-color:  #f7fbff;\n",
              "            color:  #000000;\n",
              "        }    #T_3d7debfa_d119_11ea_98da_0242ac1c0002row5_col0 {\n",
              "            background-color:  #d5e5f4;\n",
              "            color:  #000000;\n",
              "        }    #T_3d7debfa_d119_11ea_98da_0242ac1c0002row5_col1 {\n",
              "            background-color:  #3c8cc3;\n",
              "            color:  #000000;\n",
              "        }    #T_3d7debfa_d119_11ea_98da_0242ac1c0002row5_col2 {\n",
              "            background-color:  #f7fbff;\n",
              "            color:  #000000;\n",
              "        }    #T_3d7debfa_d119_11ea_98da_0242ac1c0002row5_col3 {\n",
              "            background-color:  #084f99;\n",
              "            color:  #f1f1f1;\n",
              "        }    #T_3d7debfa_d119_11ea_98da_0242ac1c0002row5_col4 {\n",
              "            background-color:  #f7fbff;\n",
              "            color:  #000000;\n",
              "        }    #T_3d7debfa_d119_11ea_98da_0242ac1c0002row5_col5 {\n",
              "            background-color:  #f7fbff;\n",
              "            color:  #000000;\n",
              "        }    #T_3d7debfa_d119_11ea_98da_0242ac1c0002row6_col0 {\n",
              "            background-color:  #dfecf7;\n",
              "            color:  #000000;\n",
              "        }    #T_3d7debfa_d119_11ea_98da_0242ac1c0002row6_col1 {\n",
              "            background-color:  #539ecd;\n",
              "            color:  #000000;\n",
              "        }    #T_3d7debfa_d119_11ea_98da_0242ac1c0002row6_col2 {\n",
              "            background-color:  #f7fbff;\n",
              "            color:  #000000;\n",
              "        }    #T_3d7debfa_d119_11ea_98da_0242ac1c0002row6_col3 {\n",
              "            background-color:  #b4d3e9;\n",
              "            color:  #000000;\n",
              "        }    #T_3d7debfa_d119_11ea_98da_0242ac1c0002row6_col4 {\n",
              "            background-color:  #f7fbff;\n",
              "            color:  #000000;\n",
              "        }    #T_3d7debfa_d119_11ea_98da_0242ac1c0002row6_col5 {\n",
              "            background-color:  #f7fbff;\n",
              "            color:  #000000;\n",
              "        }    #T_3d7debfa_d119_11ea_98da_0242ac1c0002row7_col0 {\n",
              "            background-color:  #aacfe5;\n",
              "            color:  #000000;\n",
              "        }    #T_3d7debfa_d119_11ea_98da_0242ac1c0002row7_col1 {\n",
              "            background-color:  #9fcae1;\n",
              "            color:  #000000;\n",
              "        }    #T_3d7debfa_d119_11ea_98da_0242ac1c0002row7_col2 {\n",
              "            background-color:  #cddff1;\n",
              "            color:  #000000;\n",
              "        }    #T_3d7debfa_d119_11ea_98da_0242ac1c0002row7_col3 {\n",
              "            background-color:  #f7fbff;\n",
              "            color:  #000000;\n",
              "        }    #T_3d7debfa_d119_11ea_98da_0242ac1c0002row7_col4 {\n",
              "            background-color:  #f7fbff;\n",
              "            color:  #000000;\n",
              "        }    #T_3d7debfa_d119_11ea_98da_0242ac1c0002row7_col5 {\n",
              "            background-color:  #f7fbff;\n",
              "            color:  #000000;\n",
              "        }    #T_3d7debfa_d119_11ea_98da_0242ac1c0002row8_col0 {\n",
              "            background-color:  #a9cfe5;\n",
              "            color:  #000000;\n",
              "        }    #T_3d7debfa_d119_11ea_98da_0242ac1c0002row8_col1 {\n",
              "            background-color:  #084184;\n",
              "            color:  #f1f1f1;\n",
              "        }    #T_3d7debfa_d119_11ea_98da_0242ac1c0002row8_col2 {\n",
              "            background-color:  #66abd4;\n",
              "            color:  #000000;\n",
              "        }    #T_3d7debfa_d119_11ea_98da_0242ac1c0002row8_col3 {\n",
              "            background-color:  #f7fbff;\n",
              "            color:  #000000;\n",
              "        }    #T_3d7debfa_d119_11ea_98da_0242ac1c0002row8_col4 {\n",
              "            background-color:  #08306b;\n",
              "            color:  #f1f1f1;\n",
              "        }    #T_3d7debfa_d119_11ea_98da_0242ac1c0002row8_col5 {\n",
              "            background-color:  #f7fbff;\n",
              "            color:  #000000;\n",
              "        }    #T_3d7debfa_d119_11ea_98da_0242ac1c0002row9_col0 {\n",
              "            background-color:  #94c4df;\n",
              "            color:  #000000;\n",
              "        }    #T_3d7debfa_d119_11ea_98da_0242ac1c0002row9_col1 {\n",
              "            background-color:  #8abfdd;\n",
              "            color:  #000000;\n",
              "        }    #T_3d7debfa_d119_11ea_98da_0242ac1c0002row9_col2 {\n",
              "            background-color:  #08306b;\n",
              "            color:  #f1f1f1;\n",
              "        }    #T_3d7debfa_d119_11ea_98da_0242ac1c0002row9_col3 {\n",
              "            background-color:  #f7fbff;\n",
              "            color:  #000000;\n",
              "        }    #T_3d7debfa_d119_11ea_98da_0242ac1c0002row9_col4 {\n",
              "            background-color:  #f7fbff;\n",
              "            color:  #000000;\n",
              "        }    #T_3d7debfa_d119_11ea_98da_0242ac1c0002row9_col5 {\n",
              "            background-color:  #f7fbff;\n",
              "            color:  #000000;\n",
              "        }    #T_3d7debfa_d119_11ea_98da_0242ac1c0002row10_col0 {\n",
              "            background-color:  #89bedc;\n",
              "            color:  #000000;\n",
              "        }    #T_3d7debfa_d119_11ea_98da_0242ac1c0002row10_col1 {\n",
              "            background-color:  #3787c0;\n",
              "            color:  #000000;\n",
              "        }    #T_3d7debfa_d119_11ea_98da_0242ac1c0002row10_col2 {\n",
              "            background-color:  #f7fbff;\n",
              "            color:  #000000;\n",
              "        }    #T_3d7debfa_d119_11ea_98da_0242ac1c0002row10_col3 {\n",
              "            background-color:  #08306b;\n",
              "            color:  #f1f1f1;\n",
              "        }    #T_3d7debfa_d119_11ea_98da_0242ac1c0002row10_col4 {\n",
              "            background-color:  #08306b;\n",
              "            color:  #f1f1f1;\n",
              "        }    #T_3d7debfa_d119_11ea_98da_0242ac1c0002row10_col5 {\n",
              "            background-color:  #f7fbff;\n",
              "            color:  #000000;\n",
              "        }    #T_3d7debfa_d119_11ea_98da_0242ac1c0002row11_col0 {\n",
              "            background-color:  #58a1cf;\n",
              "            color:  #000000;\n",
              "        }    #T_3d7debfa_d119_11ea_98da_0242ac1c0002row11_col1 {\n",
              "            background-color:  #4896c8;\n",
              "            color:  #000000;\n",
              "        }    #T_3d7debfa_d119_11ea_98da_0242ac1c0002row11_col2 {\n",
              "            background-color:  #3787c0;\n",
              "            color:  #000000;\n",
              "        }    #T_3d7debfa_d119_11ea_98da_0242ac1c0002row11_col3 {\n",
              "            background-color:  #99c7e0;\n",
              "            color:  #000000;\n",
              "        }    #T_3d7debfa_d119_11ea_98da_0242ac1c0002row11_col4 {\n",
              "            background-color:  #f7fbff;\n",
              "            color:  #000000;\n",
              "        }    #T_3d7debfa_d119_11ea_98da_0242ac1c0002row11_col5 {\n",
              "            background-color:  #f7fbff;\n",
              "            color:  #000000;\n",
              "        }    #T_3d7debfa_d119_11ea_98da_0242ac1c0002row12_col0 {\n",
              "            background-color:  #7fb9da;\n",
              "            color:  #000000;\n",
              "        }    #T_3d7debfa_d119_11ea_98da_0242ac1c0002row12_col1 {\n",
              "            background-color:  #1d6cb1;\n",
              "            color:  #f1f1f1;\n",
              "        }    #T_3d7debfa_d119_11ea_98da_0242ac1c0002row12_col2 {\n",
              "            background-color:  #a6cee4;\n",
              "            color:  #000000;\n",
              "        }    #T_3d7debfa_d119_11ea_98da_0242ac1c0002row12_col3 {\n",
              "            background-color:  #f7fbff;\n",
              "            color:  #000000;\n",
              "        }    #T_3d7debfa_d119_11ea_98da_0242ac1c0002row12_col4 {\n",
              "            background-color:  #f7fbff;\n",
              "            color:  #000000;\n",
              "        }    #T_3d7debfa_d119_11ea_98da_0242ac1c0002row12_col5 {\n",
              "            background-color:  #f7fbff;\n",
              "            color:  #000000;\n",
              "        }    #T_3d7debfa_d119_11ea_98da_0242ac1c0002row13_col0 {\n",
              "            background-color:  #2b7bba;\n",
              "            color:  #000000;\n",
              "        }    #T_3d7debfa_d119_11ea_98da_0242ac1c0002row13_col1 {\n",
              "            background-color:  #549fcd;\n",
              "            color:  #000000;\n",
              "        }    #T_3d7debfa_d119_11ea_98da_0242ac1c0002row13_col2 {\n",
              "            background-color:  #08488e;\n",
              "            color:  #f1f1f1;\n",
              "        }    #T_3d7debfa_d119_11ea_98da_0242ac1c0002row13_col3 {\n",
              "            background-color:  #f7fbff;\n",
              "            color:  #000000;\n",
              "        }    #T_3d7debfa_d119_11ea_98da_0242ac1c0002row13_col4 {\n",
              "            background-color:  #08306b;\n",
              "            color:  #f1f1f1;\n",
              "        }    #T_3d7debfa_d119_11ea_98da_0242ac1c0002row13_col5 {\n",
              "            background-color:  #f7fbff;\n",
              "            color:  #000000;\n",
              "        }    #T_3d7debfa_d119_11ea_98da_0242ac1c0002row14_col0 {\n",
              "            background-color:  #4695c8;\n",
              "            color:  #000000;\n",
              "        }    #T_3d7debfa_d119_11ea_98da_0242ac1c0002row14_col1 {\n",
              "            background-color:  #083c7d;\n",
              "            color:  #f1f1f1;\n",
              "        }    #T_3d7debfa_d119_11ea_98da_0242ac1c0002row14_col2 {\n",
              "            background-color:  #92c4de;\n",
              "            color:  #000000;\n",
              "        }    #T_3d7debfa_d119_11ea_98da_0242ac1c0002row14_col3 {\n",
              "            background-color:  #f7fbff;\n",
              "            color:  #000000;\n",
              "        }    #T_3d7debfa_d119_11ea_98da_0242ac1c0002row14_col4 {\n",
              "            background-color:  #f7fbff;\n",
              "            color:  #000000;\n",
              "        }    #T_3d7debfa_d119_11ea_98da_0242ac1c0002row14_col5 {\n",
              "            background-color:  #aed1e7;\n",
              "            color:  #000000;\n",
              "        }    #T_3d7debfa_d119_11ea_98da_0242ac1c0002row15_col0 {\n",
              "            background-color:  #3a8ac2;\n",
              "            color:  #000000;\n",
              "        }    #T_3d7debfa_d119_11ea_98da_0242ac1c0002row15_col1 {\n",
              "            background-color:  #1460a8;\n",
              "            color:  #f1f1f1;\n",
              "        }    #T_3d7debfa_d119_11ea_98da_0242ac1c0002row15_col2 {\n",
              "            background-color:  #75b4d8;\n",
              "            color:  #000000;\n",
              "        }    #T_3d7debfa_d119_11ea_98da_0242ac1c0002row15_col3 {\n",
              "            background-color:  #f7fbff;\n",
              "            color:  #000000;\n",
              "        }    #T_3d7debfa_d119_11ea_98da_0242ac1c0002row15_col4 {\n",
              "            background-color:  #f7fbff;\n",
              "            color:  #000000;\n",
              "        }    #T_3d7debfa_d119_11ea_98da_0242ac1c0002row15_col5 {\n",
              "            background-color:  #f7fbff;\n",
              "            color:  #000000;\n",
              "        }    #T_3d7debfa_d119_11ea_98da_0242ac1c0002row16_col0 {\n",
              "            background-color:  #68acd5;\n",
              "            color:  #000000;\n",
              "        }    #T_3d7debfa_d119_11ea_98da_0242ac1c0002row16_col1 {\n",
              "            background-color:  #125da6;\n",
              "            color:  #f1f1f1;\n",
              "        }    #T_3d7debfa_d119_11ea_98da_0242ac1c0002row16_col2 {\n",
              "            background-color:  #c7dbef;\n",
              "            color:  #000000;\n",
              "        }    #T_3d7debfa_d119_11ea_98da_0242ac1c0002row16_col3 {\n",
              "            background-color:  #4b98ca;\n",
              "            color:  #000000;\n",
              "        }    #T_3d7debfa_d119_11ea_98da_0242ac1c0002row16_col4 {\n",
              "            background-color:  #f7fbff;\n",
              "            color:  #000000;\n",
              "        }    #T_3d7debfa_d119_11ea_98da_0242ac1c0002row16_col5 {\n",
              "            background-color:  #08306b;\n",
              "            color:  #f1f1f1;\n",
              "        }    #T_3d7debfa_d119_11ea_98da_0242ac1c0002row17_col0 {\n",
              "            background-color:  #08316d;\n",
              "            color:  #f1f1f1;\n",
              "        }    #T_3d7debfa_d119_11ea_98da_0242ac1c0002row17_col1 {\n",
              "            background-color:  #4695c8;\n",
              "            color:  #000000;\n",
              "        }    #T_3d7debfa_d119_11ea_98da_0242ac1c0002row17_col2 {\n",
              "            background-color:  #9fcae1;\n",
              "            color:  #000000;\n",
              "        }    #T_3d7debfa_d119_11ea_98da_0242ac1c0002row17_col3 {\n",
              "            background-color:  #f7fbff;\n",
              "            color:  #000000;\n",
              "        }    #T_3d7debfa_d119_11ea_98da_0242ac1c0002row17_col4 {\n",
              "            background-color:  #f7fbff;\n",
              "            color:  #000000;\n",
              "        }    #T_3d7debfa_d119_11ea_98da_0242ac1c0002row17_col5 {\n",
              "            background-color:  #d5e5f4;\n",
              "            color:  #000000;\n",
              "        }    #T_3d7debfa_d119_11ea_98da_0242ac1c0002row18_col0 {\n",
              "            background-color:  #08306b;\n",
              "            color:  #f1f1f1;\n",
              "        }    #T_3d7debfa_d119_11ea_98da_0242ac1c0002row18_col1 {\n",
              "            background-color:  #3383be;\n",
              "            color:  #000000;\n",
              "        }    #T_3d7debfa_d119_11ea_98da_0242ac1c0002row18_col2 {\n",
              "            background-color:  #115ca5;\n",
              "            color:  #f1f1f1;\n",
              "        }    #T_3d7debfa_d119_11ea_98da_0242ac1c0002row18_col3 {\n",
              "            background-color:  #f7fbff;\n",
              "            color:  #000000;\n",
              "        }    #T_3d7debfa_d119_11ea_98da_0242ac1c0002row18_col4 {\n",
              "            background-color:  #f7fbff;\n",
              "            color:  #000000;\n",
              "        }    #T_3d7debfa_d119_11ea_98da_0242ac1c0002row18_col5 {\n",
              "            background-color:  #aed1e7;\n",
              "            color:  #000000;\n",
              "        }    #T_3d7debfa_d119_11ea_98da_0242ac1c0002row19_col0 {\n",
              "            background-color:  #08326e;\n",
              "            color:  #f1f1f1;\n",
              "        }    #T_3d7debfa_d119_11ea_98da_0242ac1c0002row19_col1 {\n",
              "            background-color:  #1c6bb0;\n",
              "            color:  #f1f1f1;\n",
              "        }    #T_3d7debfa_d119_11ea_98da_0242ac1c0002row19_col2 {\n",
              "            background-color:  #caddf0;\n",
              "            color:  #000000;\n",
              "        }    #T_3d7debfa_d119_11ea_98da_0242ac1c0002row19_col3 {\n",
              "            background-color:  #f7fbff;\n",
              "            color:  #000000;\n",
              "        }    #T_3d7debfa_d119_11ea_98da_0242ac1c0002row19_col4 {\n",
              "            background-color:  #f7fbff;\n",
              "            color:  #000000;\n",
              "        }    #T_3d7debfa_d119_11ea_98da_0242ac1c0002row19_col5 {\n",
              "            background-color:  #d5e5f4;\n",
              "            color:  #000000;\n",
              "        }    #T_3d7debfa_d119_11ea_98da_0242ac1c0002row20_col0 {\n",
              "            background-color:  #eaf2fb;\n",
              "            color:  #000000;\n",
              "        }    #T_3d7debfa_d119_11ea_98da_0242ac1c0002row20_col1 {\n",
              "            background-color:  #08306b;\n",
              "            color:  #f1f1f1;\n",
              "        }    #T_3d7debfa_d119_11ea_98da_0242ac1c0002row20_col2 {\n",
              "            background-color:  #f7fbff;\n",
              "            color:  #000000;\n",
              "        }    #T_3d7debfa_d119_11ea_98da_0242ac1c0002row20_col3 {\n",
              "            background-color:  #f7fbff;\n",
              "            color:  #000000;\n",
              "        }    #T_3d7debfa_d119_11ea_98da_0242ac1c0002row20_col4 {\n",
              "            background-color:  #f7fbff;\n",
              "            color:  #000000;\n",
              "        }    #T_3d7debfa_d119_11ea_98da_0242ac1c0002row20_col5 {\n",
              "            background-color:  #f7fbff;\n",
              "            color:  #000000;\n",
              "        }</style><table id=\"T_3d7debfa_d119_11ea_98da_0242ac1c0002\" ><thead>    <tr>        <th class=\"index_name level0\" >number</th>        <th class=\"col_heading level0 col0\" >1</th>        <th class=\"col_heading level0 col1\" >2</th>        <th class=\"col_heading level0 col2\" >3</th>        <th class=\"col_heading level0 col3\" >4</th>        <th class=\"col_heading level0 col4\" >5</th>        <th class=\"col_heading level0 col5\" >6</th>    </tr>    <tr>        <th class=\"index_name level0\" >year</th>        <th class=\"blank\" ></th>        <th class=\"blank\" ></th>        <th class=\"blank\" ></th>        <th class=\"blank\" ></th>        <th class=\"blank\" ></th>        <th class=\"blank\" ></th>    </tr></thead><tbody>\n",
              "                <tr>\n",
              "                        <th id=\"T_3d7debfa_d119_11ea_98da_0242ac1c0002level0_row0\" class=\"row_heading level0 row0\" >1989</th>\n",
              "                        <td id=\"T_3d7debfa_d119_11ea_98da_0242ac1c0002row0_col0\" class=\"data row0 col0\" >40.570000</td>\n",
              "                        <td id=\"T_3d7debfa_d119_11ea_98da_0242ac1c0002row0_col1\" class=\"data row0 col1\" >0.000000</td>\n",
              "                        <td id=\"T_3d7debfa_d119_11ea_98da_0242ac1c0002row0_col2\" class=\"data row0 col2\" >0.000000</td>\n",
              "                        <td id=\"T_3d7debfa_d119_11ea_98da_0242ac1c0002row0_col3\" class=\"data row0 col3\" >0.000000</td>\n",
              "                        <td id=\"T_3d7debfa_d119_11ea_98da_0242ac1c0002row0_col4\" class=\"data row0 col4\" >0.000000</td>\n",
              "                        <td id=\"T_3d7debfa_d119_11ea_98da_0242ac1c0002row0_col5\" class=\"data row0 col5\" >0.000000</td>\n",
              "            </tr>\n",
              "            <tr>\n",
              "                        <th id=\"T_3d7debfa_d119_11ea_98da_0242ac1c0002level0_row1\" class=\"row_heading level0 row1\" >1995</th>\n",
              "                        <td id=\"T_3d7debfa_d119_11ea_98da_0242ac1c0002row1_col0\" class=\"data row1 col0\" >15.360000</td>\n",
              "                        <td id=\"T_3d7debfa_d119_11ea_98da_0242ac1c0002row1_col1\" class=\"data row1 col1\" >0.000000</td>\n",
              "                        <td id=\"T_3d7debfa_d119_11ea_98da_0242ac1c0002row1_col2\" class=\"data row1 col2\" >0.000000</td>\n",
              "                        <td id=\"T_3d7debfa_d119_11ea_98da_0242ac1c0002row1_col3\" class=\"data row1 col3\" >0.000000</td>\n",
              "                        <td id=\"T_3d7debfa_d119_11ea_98da_0242ac1c0002row1_col4\" class=\"data row1 col4\" >0.000000</td>\n",
              "                        <td id=\"T_3d7debfa_d119_11ea_98da_0242ac1c0002row1_col5\" class=\"data row1 col5\" >0.000000</td>\n",
              "            </tr>\n",
              "            <tr>\n",
              "                        <th id=\"T_3d7debfa_d119_11ea_98da_0242ac1c0002level0_row2\" class=\"row_heading level0 row2\" >1996</th>\n",
              "                        <td id=\"T_3d7debfa_d119_11ea_98da_0242ac1c0002row2_col0\" class=\"data row2 col0\" >15.600000</td>\n",
              "                        <td id=\"T_3d7debfa_d119_11ea_98da_0242ac1c0002row2_col1\" class=\"data row2 col1\" >0.000000</td>\n",
              "                        <td id=\"T_3d7debfa_d119_11ea_98da_0242ac1c0002row2_col2\" class=\"data row2 col2\" >14.080000</td>\n",
              "                        <td id=\"T_3d7debfa_d119_11ea_98da_0242ac1c0002row2_col3\" class=\"data row2 col3\" >13.470000</td>\n",
              "                        <td id=\"T_3d7debfa_d119_11ea_98da_0242ac1c0002row2_col4\" class=\"data row2 col4\" >12.530000</td>\n",
              "                        <td id=\"T_3d7debfa_d119_11ea_98da_0242ac1c0002row2_col5\" class=\"data row2 col5\" >0.000000</td>\n",
              "            </tr>\n",
              "            <tr>\n",
              "                        <th id=\"T_3d7debfa_d119_11ea_98da_0242ac1c0002level0_row3\" class=\"row_heading level0 row3\" >1997</th>\n",
              "                        <td id=\"T_3d7debfa_d119_11ea_98da_0242ac1c0002row3_col0\" class=\"data row3 col0\" >17.430000</td>\n",
              "                        <td id=\"T_3d7debfa_d119_11ea_98da_0242ac1c0002row3_col1\" class=\"data row3 col1\" >0.000000</td>\n",
              "                        <td id=\"T_3d7debfa_d119_11ea_98da_0242ac1c0002row3_col2\" class=\"data row3 col2\" >0.000000</td>\n",
              "                        <td id=\"T_3d7debfa_d119_11ea_98da_0242ac1c0002row3_col3\" class=\"data row3 col3\" >0.000000</td>\n",
              "                        <td id=\"T_3d7debfa_d119_11ea_98da_0242ac1c0002row3_col4\" class=\"data row3 col4\" >0.000000</td>\n",
              "                        <td id=\"T_3d7debfa_d119_11ea_98da_0242ac1c0002row3_col5\" class=\"data row3 col5\" >0.000000</td>\n",
              "            </tr>\n",
              "            <tr>\n",
              "                        <th id=\"T_3d7debfa_d119_11ea_98da_0242ac1c0002level0_row4\" class=\"row_heading level0 row4\" >1998</th>\n",
              "                        <td id=\"T_3d7debfa_d119_11ea_98da_0242ac1c0002row4_col0\" class=\"data row4 col0\" >21.290000</td>\n",
              "                        <td id=\"T_3d7debfa_d119_11ea_98da_0242ac1c0002row4_col1\" class=\"data row4 col1\" >35.173333</td>\n",
              "                        <td id=\"T_3d7debfa_d119_11ea_98da_0242ac1c0002row4_col2\" class=\"data row4 col2\" >0.000000</td>\n",
              "                        <td id=\"T_3d7debfa_d119_11ea_98da_0242ac1c0002row4_col3\" class=\"data row4 col3\" >4.700000</td>\n",
              "                        <td id=\"T_3d7debfa_d119_11ea_98da_0242ac1c0002row4_col4\" class=\"data row4 col4\" >0.000000</td>\n",
              "                        <td id=\"T_3d7debfa_d119_11ea_98da_0242ac1c0002row4_col5\" class=\"data row4 col5\" >0.000000</td>\n",
              "            </tr>\n",
              "            <tr>\n",
              "                        <th id=\"T_3d7debfa_d119_11ea_98da_0242ac1c0002level0_row5\" class=\"row_heading level0 row5\" >1999</th>\n",
              "                        <td id=\"T_3d7debfa_d119_11ea_98da_0242ac1c0002row5_col0\" class=\"data row5 col0\" >28.621111</td>\n",
              "                        <td id=\"T_3d7debfa_d119_11ea_98da_0242ac1c0002row5_col1\" class=\"data row5 col1\" >44.200000</td>\n",
              "                        <td id=\"T_3d7debfa_d119_11ea_98da_0242ac1c0002row5_col2\" class=\"data row5 col2\" >0.000000</td>\n",
              "                        <td id=\"T_3d7debfa_d119_11ea_98da_0242ac1c0002row5_col3\" class=\"data row5 col3\" >13.470000</td>\n",
              "                        <td id=\"T_3d7debfa_d119_11ea_98da_0242ac1c0002row5_col4\" class=\"data row5 col4\" >0.000000</td>\n",
              "                        <td id=\"T_3d7debfa_d119_11ea_98da_0242ac1c0002row5_col5\" class=\"data row5 col5\" >0.000000</td>\n",
              "            </tr>\n",
              "            <tr>\n",
              "                        <th id=\"T_3d7debfa_d119_11ea_98da_0242ac1c0002level0_row6\" class=\"row_heading level0 row6\" >2000</th>\n",
              "                        <td id=\"T_3d7debfa_d119_11ea_98da_0242ac1c0002row6_col0\" class=\"data row6 col0\" >24.480000</td>\n",
              "                        <td id=\"T_3d7debfa_d119_11ea_98da_0242ac1c0002row6_col1\" class=\"data row6 col1\" >39.244000</td>\n",
              "                        <td id=\"T_3d7debfa_d119_11ea_98da_0242ac1c0002row6_col2\" class=\"data row6 col2\" >0.000000</td>\n",
              "                        <td id=\"T_3d7debfa_d119_11ea_98da_0242ac1c0002row6_col3\" class=\"data row6 col3\" >4.700000</td>\n",
              "                        <td id=\"T_3d7debfa_d119_11ea_98da_0242ac1c0002row6_col4\" class=\"data row6 col4\" >0.000000</td>\n",
              "                        <td id=\"T_3d7debfa_d119_11ea_98da_0242ac1c0002row6_col5\" class=\"data row6 col5\" >0.000000</td>\n",
              "            </tr>\n",
              "            <tr>\n",
              "                        <th id=\"T_3d7debfa_d119_11ea_98da_0242ac1c0002level0_row7\" class=\"row_heading level0 row7\" >2001</th>\n",
              "                        <td id=\"T_3d7debfa_d119_11ea_98da_0242ac1c0002row7_col0\" class=\"data row7 col0\" >41.068889</td>\n",
              "                        <td id=\"T_3d7debfa_d119_11ea_98da_0242ac1c0002row7_col1\" class=\"data row7 col1\" >25.640000</td>\n",
              "                        <td id=\"T_3d7debfa_d119_11ea_98da_0242ac1c0002row7_col2\" class=\"data row7 col2\" >14.080000</td>\n",
              "                        <td id=\"T_3d7debfa_d119_11ea_98da_0242ac1c0002row7_col3\" class=\"data row7 col3\" >0.000000</td>\n",
              "                        <td id=\"T_3d7debfa_d119_11ea_98da_0242ac1c0002row7_col4\" class=\"data row7 col4\" >0.000000</td>\n",
              "                        <td id=\"T_3d7debfa_d119_11ea_98da_0242ac1c0002row7_col5\" class=\"data row7 col5\" >0.000000</td>\n",
              "            </tr>\n",
              "            <tr>\n",
              "                        <th id=\"T_3d7debfa_d119_11ea_98da_0242ac1c0002level0_row8\" class=\"row_heading level0 row8\" >2002</th>\n",
              "                        <td id=\"T_3d7debfa_d119_11ea_98da_0242ac1c0002row8_col0\" class=\"data row8 col0\" >41.485909</td>\n",
              "                        <td id=\"T_3d7debfa_d119_11ea_98da_0242ac1c0002row8_col1\" class=\"data row8 col1\" >64.096667</td>\n",
              "                        <td id=\"T_3d7debfa_d119_11ea_98da_0242ac1c0002row8_col2\" class=\"data row8 col2\" >33.240000</td>\n",
              "                        <td id=\"T_3d7debfa_d119_11ea_98da_0242ac1c0002row8_col3\" class=\"data row8 col3\" >0.000000</td>\n",
              "                        <td id=\"T_3d7debfa_d119_11ea_98da_0242ac1c0002row8_col4\" class=\"data row8 col4\" >12.530000</td>\n",
              "                        <td id=\"T_3d7debfa_d119_11ea_98da_0242ac1c0002row8_col5\" class=\"data row8 col5\" >0.000000</td>\n",
              "            </tr>\n",
              "            <tr>\n",
              "                        <th id=\"T_3d7debfa_d119_11ea_98da_0242ac1c0002level0_row9\" class=\"row_heading level0 row9\" >2003</th>\n",
              "                        <td id=\"T_3d7debfa_d119_11ea_98da_0242ac1c0002row9_col0\" class=\"data row9 col0\" >45.885625</td>\n",
              "                        <td id=\"T_3d7debfa_d119_11ea_98da_0242ac1c0002row9_col1\" class=\"data row9 col1\" >28.960000</td>\n",
              "                        <td id=\"T_3d7debfa_d119_11ea_98da_0242ac1c0002row9_col2\" class=\"data row9 col2\" >64.560000</td>\n",
              "                        <td id=\"T_3d7debfa_d119_11ea_98da_0242ac1c0002row9_col3\" class=\"data row9 col3\" >0.000000</td>\n",
              "                        <td id=\"T_3d7debfa_d119_11ea_98da_0242ac1c0002row9_col4\" class=\"data row9 col4\" >0.000000</td>\n",
              "                        <td id=\"T_3d7debfa_d119_11ea_98da_0242ac1c0002row9_col5\" class=\"data row9 col5\" >0.000000</td>\n",
              "            </tr>\n",
              "            <tr>\n",
              "                        <th id=\"T_3d7debfa_d119_11ea_98da_0242ac1c0002level0_row10\" class=\"row_heading level0 row10\" >2004</th>\n",
              "                        <td id=\"T_3d7debfa_d119_11ea_98da_0242ac1c0002row10_col0\" class=\"data row10 col0\" >48.036250</td>\n",
              "                        <td id=\"T_3d7debfa_d119_11ea_98da_0242ac1c0002row10_col1\" class=\"data row10 col1\" >45.716000</td>\n",
              "                        <td id=\"T_3d7debfa_d119_11ea_98da_0242ac1c0002row10_col2\" class=\"data row10 col2\" >0.000000</td>\n",
              "                        <td id=\"T_3d7debfa_d119_11ea_98da_0242ac1c0002row10_col3\" class=\"data row10 col3\" >15.280000</td>\n",
              "                        <td id=\"T_3d7debfa_d119_11ea_98da_0242ac1c0002row10_col4\" class=\"data row10 col4\" >12.530000</td>\n",
              "                        <td id=\"T_3d7debfa_d119_11ea_98da_0242ac1c0002row10_col5\" class=\"data row10 col5\" >0.000000</td>\n",
              "            </tr>\n",
              "            <tr>\n",
              "                        <th id=\"T_3d7debfa_d119_11ea_98da_0242ac1c0002level0_row11\" class=\"row_heading level0 row11\" >2005</th>\n",
              "                        <td id=\"T_3d7debfa_d119_11ea_98da_0242ac1c0002row11_col0\" class=\"data row11 col0\" >57.670476</td>\n",
              "                        <td id=\"T_3d7debfa_d119_11ea_98da_0242ac1c0002row11_col1\" class=\"data row11 col1\" >41.551667</td>\n",
              "                        <td id=\"T_3d7debfa_d119_11ea_98da_0242ac1c0002row11_col2\" class=\"data row11 col2\" >43.060000</td>\n",
              "                        <td id=\"T_3d7debfa_d119_11ea_98da_0242ac1c0002row11_col3\" class=\"data row11 col3\" >5.956000</td>\n",
              "                        <td id=\"T_3d7debfa_d119_11ea_98da_0242ac1c0002row11_col4\" class=\"data row11 col4\" >0.000000</td>\n",
              "                        <td id=\"T_3d7debfa_d119_11ea_98da_0242ac1c0002row11_col5\" class=\"data row11 col5\" >0.000000</td>\n",
              "            </tr>\n",
              "            <tr>\n",
              "                        <th id=\"T_3d7debfa_d119_11ea_98da_0242ac1c0002level0_row12\" class=\"row_heading level0 row12\" >2006</th>\n",
              "                        <td id=\"T_3d7debfa_d119_11ea_98da_0242ac1c0002row12_col0\" class=\"data row12 col0\" >49.636667</td>\n",
              "                        <td id=\"T_3d7debfa_d119_11ea_98da_0242ac1c0002row12_col1\" class=\"data row12 col1\" >52.720000</td>\n",
              "                        <td id=\"T_3d7debfa_d119_11ea_98da_0242ac1c0002row12_col2\" class=\"data row12 col2\" >22.655000</td>\n",
              "                        <td id=\"T_3d7debfa_d119_11ea_98da_0242ac1c0002row12_col3\" class=\"data row12 col3\" >0.000000</td>\n",
              "                        <td id=\"T_3d7debfa_d119_11ea_98da_0242ac1c0002row12_col4\" class=\"data row12 col4\" >0.000000</td>\n",
              "                        <td id=\"T_3d7debfa_d119_11ea_98da_0242ac1c0002row12_col5\" class=\"data row12 col5\" >0.000000</td>\n",
              "            </tr>\n",
              "            <tr>\n",
              "                        <th id=\"T_3d7debfa_d119_11ea_98da_0242ac1c0002level0_row13\" class=\"row_heading level0 row13\" >2007</th>\n",
              "                        <td id=\"T_3d7debfa_d119_11ea_98da_0242ac1c0002row13_col0\" class=\"data row13 col0\" >69.813000</td>\n",
              "                        <td id=\"T_3d7debfa_d119_11ea_98da_0242ac1c0002row13_col1\" class=\"data row13 col1\" >38.930000</td>\n",
              "                        <td id=\"T_3d7debfa_d119_11ea_98da_0242ac1c0002row13_col2\" class=\"data row13 col2\" >58.695000</td>\n",
              "                        <td id=\"T_3d7debfa_d119_11ea_98da_0242ac1c0002row13_col3\" class=\"data row13 col3\" >0.000000</td>\n",
              "                        <td id=\"T_3d7debfa_d119_11ea_98da_0242ac1c0002row13_col4\" class=\"data row13 col4\" >12.530000</td>\n",
              "                        <td id=\"T_3d7debfa_d119_11ea_98da_0242ac1c0002row13_col5\" class=\"data row13 col5\" >0.000000</td>\n",
              "            </tr>\n",
              "            <tr>\n",
              "                        <th id=\"T_3d7debfa_d119_11ea_98da_0242ac1c0002level0_row14\" class=\"row_heading level0 row14\" >2008</th>\n",
              "                        <td id=\"T_3d7debfa_d119_11ea_98da_0242ac1c0002row14_col0\" class=\"data row14 col0\" >62.001600</td>\n",
              "                        <td id=\"T_3d7debfa_d119_11ea_98da_0242ac1c0002row14_col1\" class=\"data row14 col1\" >65.219167</td>\n",
              "                        <td id=\"T_3d7debfa_d119_11ea_98da_0242ac1c0002row14_col2\" class=\"data row14 col2\" >26.150000</td>\n",
              "                        <td id=\"T_3d7debfa_d119_11ea_98da_0242ac1c0002row14_col3\" class=\"data row14 col3\" >0.000000</td>\n",
              "                        <td id=\"T_3d7debfa_d119_11ea_98da_0242ac1c0002row14_col4\" class=\"data row14 col4\" >0.000000</td>\n",
              "                        <td id=\"T_3d7debfa_d119_11ea_98da_0242ac1c0002row14_col5\" class=\"data row14 col5\" >12.830000</td>\n",
              "            </tr>\n",
              "            <tr>\n",
              "                        <th id=\"T_3d7debfa_d119_11ea_98da_0242ac1c0002level0_row15\" class=\"row_heading level0 row15\" >2009</th>\n",
              "                        <td id=\"T_3d7debfa_d119_11ea_98da_0242ac1c0002row15_col0\" class=\"data row15 col0\" >65.083400</td>\n",
              "                        <td id=\"T_3d7debfa_d119_11ea_98da_0242ac1c0002row15_col1\" class=\"data row15 col1\" >55.849167</td>\n",
              "                        <td id=\"T_3d7debfa_d119_11ea_98da_0242ac1c0002row15_col2\" class=\"data row15 col2\" >30.685000</td>\n",
              "                        <td id=\"T_3d7debfa_d119_11ea_98da_0242ac1c0002row15_col3\" class=\"data row15 col3\" >0.000000</td>\n",
              "                        <td id=\"T_3d7debfa_d119_11ea_98da_0242ac1c0002row15_col4\" class=\"data row15 col4\" >0.000000</td>\n",
              "                        <td id=\"T_3d7debfa_d119_11ea_98da_0242ac1c0002row15_col5\" class=\"data row15 col5\" >0.000000</td>\n",
              "            </tr>\n",
              "            <tr>\n",
              "                        <th id=\"T_3d7debfa_d119_11ea_98da_0242ac1c0002level0_row16\" class=\"row_heading level0 row16\" >2010</th>\n",
              "                        <td id=\"T_3d7debfa_d119_11ea_98da_0242ac1c0002row16_col0\" class=\"data row16 col0\" >54.136667</td>\n",
              "                        <td id=\"T_3d7debfa_d119_11ea_98da_0242ac1c0002row16_col1\" class=\"data row16 col1\" >56.690909</td>\n",
              "                        <td id=\"T_3d7debfa_d119_11ea_98da_0242ac1c0002row16_col2\" class=\"data row16 col2\" >16.130000</td>\n",
              "                        <td id=\"T_3d7debfa_d119_11ea_98da_0242ac1c0002row16_col3\" class=\"data row16 col3\" >9.085000</td>\n",
              "                        <td id=\"T_3d7debfa_d119_11ea_98da_0242ac1c0002row16_col4\" class=\"data row16 col4\" >0.000000</td>\n",
              "                        <td id=\"T_3d7debfa_d119_11ea_98da_0242ac1c0002row16_col5\" class=\"data row16 col5\" >39.390000</td>\n",
              "            </tr>\n",
              "            <tr>\n",
              "                        <th id=\"T_3d7debfa_d119_11ea_98da_0242ac1c0002level0_row17\" class=\"row_heading level0 row17\" >2011</th>\n",
              "                        <td id=\"T_3d7debfa_d119_11ea_98da_0242ac1c0002row17_col0\" class=\"data row17 col0\" >90.996829</td>\n",
              "                        <td id=\"T_3d7debfa_d119_11ea_98da_0242ac1c0002row17_col1\" class=\"data row17 col1\" >42.028214</td>\n",
              "                        <td id=\"T_3d7debfa_d119_11ea_98da_0242ac1c0002row17_col2\" class=\"data row17 col2\" >24.121053</td>\n",
              "                        <td id=\"T_3d7debfa_d119_11ea_98da_0242ac1c0002row17_col3\" class=\"data row17 col3\" >0.000000</td>\n",
              "                        <td id=\"T_3d7debfa_d119_11ea_98da_0242ac1c0002row17_col4\" class=\"data row17 col4\" >0.000000</td>\n",
              "                        <td id=\"T_3d7debfa_d119_11ea_98da_0242ac1c0002row17_col5\" class=\"data row17 col5\" >6.800000</td>\n",
              "            </tr>\n",
              "            <tr>\n",
              "                        <th id=\"T_3d7debfa_d119_11ea_98da_0242ac1c0002level0_row18\" class=\"row_heading level0 row18\" >2012</th>\n",
              "                        <td id=\"T_3d7debfa_d119_11ea_98da_0242ac1c0002row18_col0\" class=\"data row18 col0\" >91.563636</td>\n",
              "                        <td id=\"T_3d7debfa_d119_11ea_98da_0242ac1c0002row18_col1\" class=\"data row18 col1\" >46.848000</td>\n",
              "                        <td id=\"T_3d7debfa_d119_11ea_98da_0242ac1c0002row18_col2\" class=\"data row18 col2\" >53.640000</td>\n",
              "                        <td id=\"T_3d7debfa_d119_11ea_98da_0242ac1c0002row18_col3\" class=\"data row18 col3\" >0.000000</td>\n",
              "                        <td id=\"T_3d7debfa_d119_11ea_98da_0242ac1c0002row18_col4\" class=\"data row18 col4\" >0.000000</td>\n",
              "                        <td id=\"T_3d7debfa_d119_11ea_98da_0242ac1c0002row18_col5\" class=\"data row18 col5\" >12.830000</td>\n",
              "            </tr>\n",
              "            <tr>\n",
              "                        <th id=\"T_3d7debfa_d119_11ea_98da_0242ac1c0002level0_row19\" class=\"row_heading level0 row19\" >2013</th>\n",
              "                        <td id=\"T_3d7debfa_d119_11ea_98da_0242ac1c0002row19_col0\" class=\"data row19 col0\" >90.768333</td>\n",
              "                        <td id=\"T_3d7debfa_d119_11ea_98da_0242ac1c0002row19_col1\" class=\"data row19 col1\" >52.906000</td>\n",
              "                        <td id=\"T_3d7debfa_d119_11ea_98da_0242ac1c0002row19_col2\" class=\"data row19 col2\" >14.970000</td>\n",
              "                        <td id=\"T_3d7debfa_d119_11ea_98da_0242ac1c0002row19_col3\" class=\"data row19 col3\" >0.000000</td>\n",
              "                        <td id=\"T_3d7debfa_d119_11ea_98da_0242ac1c0002row19_col4\" class=\"data row19 col4\" >0.000000</td>\n",
              "                        <td id=\"T_3d7debfa_d119_11ea_98da_0242ac1c0002row19_col5\" class=\"data row19 col5\" >6.800000</td>\n",
              "            </tr>\n",
              "            <tr>\n",
              "                        <th id=\"T_3d7debfa_d119_11ea_98da_0242ac1c0002level0_row20\" class=\"row_heading level0 row20\" >2014</th>\n",
              "                        <td id=\"T_3d7debfa_d119_11ea_98da_0242ac1c0002row20_col0\" class=\"data row20 col0\" >20.480000</td>\n",
              "                        <td id=\"T_3d7debfa_d119_11ea_98da_0242ac1c0002row20_col1\" class=\"data row20 col1\" >68.540000</td>\n",
              "                        <td id=\"T_3d7debfa_d119_11ea_98da_0242ac1c0002row20_col2\" class=\"data row20 col2\" >0.000000</td>\n",
              "                        <td id=\"T_3d7debfa_d119_11ea_98da_0242ac1c0002row20_col3\" class=\"data row20 col3\" >0.000000</td>\n",
              "                        <td id=\"T_3d7debfa_d119_11ea_98da_0242ac1c0002row20_col4\" class=\"data row20 col4\" >0.000000</td>\n",
              "                        <td id=\"T_3d7debfa_d119_11ea_98da_0242ac1c0002row20_col5\" class=\"data row20 col5\" >0.000000</td>\n",
              "            </tr>\n",
              "    </tbody></table>"
            ],
            "text/plain": [
              "<pandas.io.formats.style.Styler at 0x7f23e0ae04e0>"
            ]
          },
          "metadata": {
            "tags": []
          },
          "execution_count": 10
        }
      ]
    },
    {
      "cell_type": "markdown",
      "metadata": {
        "id": "kiKkFcn6KQFA",
        "colab_type": "text"
      },
      "source": [
        "## Комментарии участника"
      ]
    },
    {
      "cell_type": "code",
      "metadata": {
        "id": "3aI3lBQVdvaY",
        "colab_type": "code",
        "colab": {}
      },
      "source": [
        "_YOUR_COMMENT_ = 'All right!'"
      ],
      "execution_count": 11,
      "outputs": []
    },
    {
      "cell_type": "markdown",
      "metadata": {
        "id": "TvzA7RQXcywE",
        "colab_type": "text"
      },
      "source": [
        "## Создание отчета"
      ]
    },
    {
      "cell_type": "code",
      "metadata": {
        "id": "y-d24eqmdn4x",
        "colab_type": "code",
        "colab": {
          "base_uri": "https://localhost:8080/",
          "height": 35
        },
        "outputId": "d21b20ad-4216-4096-c966-d0a23f7c7270"
      },
      "source": [
        "# Проверьте правильность заполнения полей и \n",
        "# выполните данный код для создания отчета\n",
        "# и сохранения на локальную машину\n",
        "from google.colab import files\n",
        "import json\n",
        "try:\n",
        "  # form a report\n",
        "  _HM_REPORT_ = {'Answers':_HOMEWORK_ANSWER_DICT_,\n",
        "                'Comment':_YOUR_COMMENT_,\n",
        "                'User':_NAME_SERNAME_,\n",
        "                }\n",
        "\n",
        "  # create a report name\n",
        "  _REPORT_NAME_ = 'HM_' +\\\n",
        "                    _HOMEWORK_NAME_ + \\\n",
        "                  '_by_' + \\\n",
        "                  _NAME_SERNAME_['LAST_NAME'] + \\\n",
        "                  '.json'\n",
        "  \n",
        "  # Save a report to a file\n",
        "  f = open(_REPORT_NAME_,\"w\")\n",
        "  f.write(json.dumps(_HM_REPORT_))\n",
        "  f.close()\n",
        "\n",
        "  # Donwnload the file into a local host\n",
        "  files.download(_REPORT_NAME_) \n",
        "  print('Thanks for the work, {name}!'.format(name=_NAME_SERNAME_['NAME']))\n",
        "except Exception as error:\n",
        "   print(error)\n",
        "   print('Something went wrong! Check the data entry and try again!')"
      ],
      "execution_count": 14,
      "outputs": [
        {
          "output_type": "display_data",
          "data": {
            "application/javascript": [
              "\n",
              "    async function download(id, filename, size) {\n",
              "      if (!google.colab.kernel.accessAllowed) {\n",
              "        return;\n",
              "      }\n",
              "      const div = document.createElement('div');\n",
              "      const label = document.createElement('label');\n",
              "      label.textContent = `Downloading \"${filename}\": `;\n",
              "      div.appendChild(label);\n",
              "      const progress = document.createElement('progress');\n",
              "      progress.max = size;\n",
              "      div.appendChild(progress);\n",
              "      document.body.appendChild(div);\n",
              "\n",
              "      const buffers = [];\n",
              "      let downloaded = 0;\n",
              "\n",
              "      const channel = await google.colab.kernel.comms.open(id);\n",
              "      // Send a message to notify the kernel that we're ready.\n",
              "      channel.send({})\n",
              "\n",
              "      for await (const message of channel.messages) {\n",
              "        // Send a message to notify the kernel that we're ready.\n",
              "        channel.send({})\n",
              "        if (message.buffers) {\n",
              "          for (const buffer of message.buffers) {\n",
              "            buffers.push(buffer);\n",
              "            downloaded += buffer.byteLength;\n",
              "            progress.value = downloaded;\n",
              "          }\n",
              "        }\n",
              "      }\n",
              "      const blob = new Blob(buffers, {type: 'application/binary'});\n",
              "      const a = document.createElement('a');\n",
              "      a.href = window.URL.createObjectURL(blob);\n",
              "      a.download = filename;\n",
              "      div.appendChild(a);\n",
              "      a.click();\n",
              "      div.remove();\n",
              "    }\n",
              "  "
            ],
            "text/plain": [
              "<IPython.core.display.Javascript object>"
            ]
          },
          "metadata": {
            "tags": []
          }
        },
        {
          "output_type": "display_data",
          "data": {
            "application/javascript": [
              "download(\"download_f0ff5b58-60ab-41ca-bf49-0408a3d38841\", \"HM_5.3.1_PRO_by_Doronin.json\", 94)"
            ],
            "text/plain": [
              "<IPython.core.display.Javascript object>"
            ]
          },
          "metadata": {
            "tags": []
          }
        },
        {
          "output_type": "stream",
          "text": [
            "Thanks for the work, Vladimir!\n"
          ],
          "name": "stdout"
        }
      ]
    },
    {
      "cell_type": "code",
      "metadata": {
        "id": "6Cf5dsv5VAHU",
        "colab_type": "code",
        "colab": {}
      },
      "source": [
        ""
      ],
      "execution_count": null,
      "outputs": []
    }
  ]
}