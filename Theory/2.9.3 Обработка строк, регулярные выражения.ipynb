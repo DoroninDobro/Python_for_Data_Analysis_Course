{
  "nbformat": 4,
  "nbformat_minor": 0,
  "metadata": {
    "colab": {
      "name": "2.9.3 Обработка строк, регулярные выражения.ipynb",
      "provenance": [],
      "collapsed_sections": [
        "S9ZAaIc7d0Si"
      ]
    },
    "kernelspec": {
      "name": "python3",
      "display_name": "Python 3"
    },
    "accelerator": "GPU"
  },
  "cells": [
    {
      "cell_type": "markdown",
      "metadata": {
        "id": "moIM-S1g7SKx",
        "colab_type": "text"
      },
      "source": [
        "# Курс \"Python для анализа данных\"\n",
        "\n",
        "---\n",
        "#2.9.3 Обработка строк, регулярные выражения"
      ]
    },
    {
      "cell_type": "markdown",
      "metadata": {
        "id": "QZ1Arpnj7p_N",
        "colab_type": "text"
      },
      "source": [
        "## Где мы сейчас?\n"
      ]
    },
    {
      "cell_type": "markdown",
      "metadata": {
        "id": "J9A06fP5j1vS",
        "colab_type": "text"
      },
      "source": [
        "<html>\n",
        " <head>\n",
        "  <meta charset=\"utf-8\">\n",
        " </head>\n",
        " <body>\n",
        "  <ul>\n",
        "    <li>1. Введение в анализ данных и разработку на языке Python </li>\n",
        "    <li>2. <strong>Основы языка</strong> <i><- Вот в этой главе!</i>\n",
        "     <ul>\n",
        "      <li>2.1 - 2.7</li>\n",
        "      <li>2.8 Объектно-ориентированное программирование</li>\n",
        "      <li><strong>2.9 Обзор стандартной библиотеки языка Python</strong> <i><- Вот в этом параграфе!</i></li>\n",
        "       <ul>\n",
        "        <li>2.9.1 Математические вычисления и числа, алгоритмы и типы коллекций</li>\n",
        "        <li>2.9.2 Работа с аргументами командной строки, время и дата</li>\n",
        "        <li><strong>2.9.3 Обработка строк, регулярные выражения</strong><i> <- Вот в этом пункте!</i></li>\n",
        "        <li>2.9.4 Форматы файлов, кодировки и сохранение данных. Работа с файлами и каталогами</li>\n",
        "       </ul>\n",
        "     </ul>\n",
        "    </li>   \n",
        "  </ul>\n",
        " </body>\n",
        "</html>"
      ]
    },
    {
      "cell_type": "markdown",
      "metadata": {
        "id": "z1oJmp_4Po8K",
        "colab_type": "text"
      },
      "source": [
        "## О чем будем говорить?\n"
      ]
    },
    {
      "cell_type": "markdown",
      "metadata": {
        "id": "7X4Wlpraj7Yw",
        "colab_type": "text"
      },
      "source": [
        "О том, какие бывают типы строк в языке Python и как с ними работать. Что такое регулярные выражения и в чем их преимущество по сравнению со стандартными методами работы со строками.\n"
      ]
    },
    {
      "cell_type": "markdown",
      "metadata": {
        "id": "NhfVXiTGAkND",
        "colab_type": "text"
      },
      "source": [
        "## Ключевые слова, понятия и выражения\n",
        "\n",
        "\n",
        "\n",
        "\n"
      ]
    },
    {
      "cell_type": "markdown",
      "metadata": {
        "id": "ixnuL5V2rZtz",
        "colab_type": "text"
      },
      "source": [
        "*   строка\n",
        "*   регулярное выражение\n",
        "*   функция ```format```\n",
        "*   модуль ```re```\n"
      ]
    },
    {
      "cell_type": "markdown",
      "metadata": {
        "id": "H1MGw-jK3t_v",
        "colab_type": "text"
      },
      "source": [
        "## Материал"
      ]
    },
    {
      "cell_type": "markdown",
      "metadata": {
        "id": "yrqONzXrr0fF",
        "colab_type": "text"
      },
      "source": [
        "### Строки"
      ]
    },
    {
      "cell_type": "markdown",
      "metadata": {
        "id": "MrP46LjwyzzU",
        "colab_type": "text"
      },
      "source": [
        "#### Запись строк"
      ]
    },
    {
      "cell_type": "code",
      "metadata": {
        "id": "SY2AeC925Ml4",
        "colab_type": "code",
        "colab": {}
      },
      "source": [
        "# Литералы строк\n",
        "s1 = 'str with \"\" symb'\n",
        "s2 = \"str with '' symb\"\n",
        "s3 = '''str\n",
        "with tho rows'''\n",
        "\n",
        "s4 = \"\"\"str\n",
        "with tho rows\"\"\""
      ],
      "execution_count": 0,
      "outputs": []
    },
    {
      "cell_type": "code",
      "metadata": {
        "id": "QdSnYFEx01DX",
        "colab_type": "code",
        "outputId": "0d5dcbf4-a1a0-49a9-b458-7fd38117bb13",
        "colab": {
          "base_uri": "https://localhost:8080/",
          "height": 72
        }
      },
      "source": [
        "print(s3)\n",
        "s3"
      ],
      "execution_count": 0,
      "outputs": [
        {
          "output_type": "stream",
          "text": [
            "str\n",
            "with tho rows\n"
          ],
          "name": "stdout"
        },
        {
          "output_type": "execute_result",
          "data": {
            "text/plain": [
              "'str\\nwith tho rows'"
            ]
          },
          "metadata": {
            "tags": []
          },
          "execution_count": 3
        }
      ]
    },
    {
      "cell_type": "code",
      "metadata": {
        "id": "zBcDPi876AN9",
        "colab_type": "code",
        "outputId": "caf5aed3-ea5a-463b-a9c8-765aac321855",
        "colab": {
          "base_uri": "https://localhost:8080/",
          "height": 90
        }
      },
      "source": [
        "# Неформатированные строки(подавление экранирования)\n",
        "s5 = 'c:\\new_file'\n",
        "print(s5)\n",
        "s6 = 'c:\\\\new_file'\n",
        "print(s6)\n",
        "s7 = r'c:\\new_file'\n",
        "print(s7)"
      ],
      "execution_count": 0,
      "outputs": [
        {
          "output_type": "stream",
          "text": [
            "c:\n",
            "ew_file\n",
            "c:\\new_file\n",
            "c:\\new_file\n"
          ],
          "name": "stdout"
        }
      ]
    },
    {
      "cell_type": "markdown",
      "metadata": {
        "id": "-fLxWrYur8Gj",
        "colab_type": "text"
      },
      "source": [
        "#### Базовые операции"
      ]
    },
    {
      "cell_type": "code",
      "metadata": {
        "id": "HP7VN07t6k1y",
        "colab_type": "code",
        "outputId": "031e834d-32fc-49bb-c55b-94ec8abff784",
        "colab": {
          "base_uri": "https://localhost:8080/",
          "height": 53
        }
      },
      "source": [
        "# Конкатенация\n",
        "s1 =  'Helo'\n",
        "s2 = 'world'\n",
        "print(s1 + s2)\n",
        "print(s1 + ' ' + s2)"
      ],
      "execution_count": 0,
      "outputs": [
        {
          "output_type": "stream",
          "text": [
            "Heloworld\n",
            "Helo world\n"
          ],
          "name": "stdout"
        }
      ]
    },
    {
      "cell_type": "code",
      "metadata": {
        "id": "CgZi72cl6y_n",
        "colab_type": "code",
        "outputId": "1c0a976c-c9c8-4bb0-f7fb-01c80ea0e943",
        "colab": {
          "base_uri": "https://localhost:8080/",
          "height": 35
        }
      },
      "source": [
        "# Дублирование строк\n",
        "print('-'*30)"
      ],
      "execution_count": 0,
      "outputs": [
        {
          "output_type": "stream",
          "text": [
            "------------------------------\n"
          ],
          "name": "stdout"
        }
      ]
    },
    {
      "cell_type": "code",
      "metadata": {
        "id": "bYxF9fOI67bq",
        "colab_type": "code",
        "outputId": "ab5273bb-41c7-48d4-9b0d-26edde38da1d",
        "colab": {
          "base_uri": "https://localhost:8080/",
          "height": 35
        }
      },
      "source": [
        "# Длина строки\n",
        "len('Hello world!')"
      ],
      "execution_count": 0,
      "outputs": [
        {
          "output_type": "execute_result",
          "data": {
            "text/plain": [
              "12"
            ]
          },
          "metadata": {
            "tags": []
          },
          "execution_count": 11
        }
      ]
    },
    {
      "cell_type": "code",
      "metadata": {
        "id": "M8HQ5Rt37Rgo",
        "colab_type": "code",
        "outputId": "f93ba2e0-90ba-44ad-ee8d-330d21d82a2e",
        "colab": {
          "base_uri": "https://localhost:8080/",
          "height": 53
        }
      },
      "source": [
        "# Доступ по индексу\n",
        "my_str = 'Hello world!'\n",
        "print(my_str[0])\n",
        "print(my_str[-1])"
      ],
      "execution_count": 0,
      "outputs": [
        {
          "output_type": "stream",
          "text": [
            "H\n",
            "!\n"
          ],
          "name": "stdout"
        }
      ]
    },
    {
      "cell_type": "code",
      "metadata": {
        "id": "tIyPiq_U7jIH",
        "colab_type": "code",
        "outputId": "f3d020ce-d231-4aa2-e984-8630336dac34",
        "colab": {
          "base_uri": "https://localhost:8080/",
          "height": 108
        }
      },
      "source": [
        "# Срез\n",
        "my_str = 'Hello world!'\n",
        "print(my_str[3:5])\n",
        "print(my_str[0:-1])\n",
        "print(my_str[6:-2])\n",
        "print(my_str[6:])\n",
        "print(my_str[:])"
      ],
      "execution_count": 0,
      "outputs": [
        {
          "output_type": "stream",
          "text": [
            "lo\n",
            "Hello world\n",
            "worl\n",
            "world!\n",
            "Hello world!\n"
          ],
          "name": "stdout"
        }
      ]
    },
    {
      "cell_type": "code",
      "metadata": {
        "id": "2TeRbNlV8DXU",
        "colab_type": "code",
        "outputId": "197140fb-e259-4cb4-ed55-c8e169b308e7",
        "colab": {
          "base_uri": "https://localhost:8080/",
          "height": 53
        }
      },
      "source": [
        "# Шаг извлечения среза\n",
        "print(my_str[0:6:1])\n",
        "print(my_str[::-1])"
      ],
      "execution_count": 0,
      "outputs": [
        {
          "output_type": "stream",
          "text": [
            "Hello \n",
            "!dlrow olleH\n"
          ],
          "name": "stdout"
        }
      ]
    },
    {
      "cell_type": "markdown",
      "metadata": {
        "id": "qaozsbQxyusE",
        "colab_type": "text"
      },
      "source": [
        "#### Функции и методы строк"
      ]
    },
    {
      "cell_type": "code",
      "metadata": {
        "id": "fFO5MQQryybl",
        "colab_type": "code",
        "colab": {}
      },
      "source": [
        "text_str = '''Вы пишите код в браузере в ноутбуке, он выполняется на виртуальной машине в облаке Google.\n",
        "Машина выдается вам на 12 часов, после этого она останавливается. Однако ничто не мешает вам запустить еще одну виртуальную машину и работать еще 12 часов.\n",
        "Только имейте в виду, что после остановки виртуальной машины все данные с нее удаляются. \n",
        "Поэтому не забывайте сохранять нужные данные на свой компьютер или Google Drive, а после перезапуска виртуальной машины загружать заново.'''"
      ],
      "execution_count": 0,
      "outputs": []
    },
    {
      "cell_type": "code",
      "metadata": {
        "id": "PupJ39D-8m_q",
        "colab_type": "code",
        "outputId": "b2f22d70-cc83-480e-bf61-7a9ea751bd2a",
        "colab": {
          "base_uri": "https://localhost:8080/",
          "height": 35
        }
      },
      "source": [
        "# Возвращает номер первого вхождения подстроки\n",
        "text_str.find('код')"
      ],
      "execution_count": 0,
      "outputs": [
        {
          "output_type": "execute_result",
          "data": {
            "text/plain": [
              "10"
            ]
          },
          "metadata": {
            "tags": []
          },
          "execution_count": 26
        }
      ]
    },
    {
      "cell_type": "code",
      "metadata": {
        "id": "t5hHLbxR8zE9",
        "colab_type": "code",
        "outputId": "8046537c-fc28-48cd-b432-fbdcbab26eb2",
        "colab": {
          "base_uri": "https://localhost:8080/",
          "height": 35
        }
      },
      "source": [
        "# Возвращает номер последнего вхождения подстроки\n",
        "text_str.rfind('на')"
      ],
      "execution_count": 0,
      "outputs": [
        {
          "output_type": "execute_result",
          "data": {
            "text/plain": [
              "382"
            ]
          },
          "metadata": {
            "tags": []
          },
          "execution_count": 27
        }
      ]
    },
    {
      "cell_type": "code",
      "metadata": {
        "id": "yqBb_Drr8695",
        "colab_type": "code",
        "outputId": "93089a01-5b12-4f88-c8a3-773cc514ca26",
        "colab": {
          "base_uri": "https://localhost:8080/",
          "height": 55
        }
      },
      "source": [
        "# Замена шаблона\n",
        "text_str.replace(',', \" \")"
      ],
      "execution_count": 0,
      "outputs": [
        {
          "output_type": "execute_result",
          "data": {
            "text/plain": [
              "'Вы пишите код в браузере в ноутбуке  он выполняется на виртуальной машине в облаке Google.\\nМашина выдается вам на 12 часов  после этого она останавливается. Однако ничто не мешает вам запустить еще одну виртуальную машину и работать еще 12 часов.\\nТолько имейте в виду  что после остановки виртуальной машины все данные с нее удаляются. \\nПоэтому не забывайте сохранять нужные данные на свой компьютер или Google Drive  а после перезапуска виртуальной машины загружать заново.'"
            ]
          },
          "metadata": {
            "tags": []
          },
          "execution_count": 28
        }
      ]
    },
    {
      "cell_type": "code",
      "metadata": {
        "id": "p9sP31I29Jr-",
        "colab_type": "code",
        "outputId": "c7614a07-045c-4cc2-ae40-44ee8b22bbae",
        "colab": {
          "base_uri": "https://localhost:8080/",
          "height": 1000
        }
      },
      "source": [
        "# Разбиение строки по разделителю\n",
        "text_str.split(' ')"
      ],
      "execution_count": 0,
      "outputs": [
        {
          "output_type": "execute_result",
          "data": {
            "text/plain": [
              "['Вы',\n",
              " 'пишите',\n",
              " 'код',\n",
              " 'в',\n",
              " 'браузере',\n",
              " 'в',\n",
              " 'ноутбуке,',\n",
              " 'он',\n",
              " 'выполняется',\n",
              " 'на',\n",
              " 'виртуальной',\n",
              " 'машине',\n",
              " 'в',\n",
              " 'облаке',\n",
              " 'Google.\\nМашина',\n",
              " 'выдается',\n",
              " 'вам',\n",
              " 'на',\n",
              " '12',\n",
              " 'часов,',\n",
              " 'после',\n",
              " 'этого',\n",
              " 'она',\n",
              " 'останавливается.',\n",
              " 'Однако',\n",
              " 'ничто',\n",
              " 'не',\n",
              " 'мешает',\n",
              " 'вам',\n",
              " 'запустить',\n",
              " 'еще',\n",
              " 'одну',\n",
              " 'виртуальную',\n",
              " 'машину',\n",
              " 'и',\n",
              " 'работать',\n",
              " 'еще',\n",
              " '12',\n",
              " 'часов.\\nТолько',\n",
              " 'имейте',\n",
              " 'в',\n",
              " 'виду,',\n",
              " 'что',\n",
              " 'после',\n",
              " 'остановки',\n",
              " 'виртуальной',\n",
              " 'машины',\n",
              " 'все',\n",
              " 'данные',\n",
              " 'с',\n",
              " 'нее',\n",
              " 'удаляются.',\n",
              " '\\nПоэтому',\n",
              " 'не',\n",
              " 'забывайте',\n",
              " 'сохранять',\n",
              " 'нужные',\n",
              " 'данные',\n",
              " 'на',\n",
              " 'свой',\n",
              " 'компьютер',\n",
              " 'или',\n",
              " 'Google',\n",
              " 'Drive,',\n",
              " 'а',\n",
              " 'после',\n",
              " 'перезапуска',\n",
              " 'виртуальной',\n",
              " 'машины',\n",
              " 'загружать',\n",
              " 'заново.']"
            ]
          },
          "metadata": {
            "tags": []
          },
          "execution_count": 29
        }
      ]
    },
    {
      "cell_type": "code",
      "metadata": {
        "id": "bq4GJ_XZ9hWv",
        "colab_type": "code",
        "outputId": "4e544c31-e9ca-4d93-9cda-02f4973e32c9",
        "colab": {
          "base_uri": "https://localhost:8080/",
          "height": 181
        }
      },
      "source": [
        "# Запись всех символов в одном регистре\n",
        "print(text_str.upper())\n",
        "print('*'*40)\n",
        "print(text_str.lower())"
      ],
      "execution_count": 0,
      "outputs": [
        {
          "output_type": "stream",
          "text": [
            "ВЫ ПИШИТЕ КОД В БРАУЗЕРЕ В НОУТБУКЕ, ОН ВЫПОЛНЯЕТСЯ НА ВИРТУАЛЬНОЙ МАШИНЕ В ОБЛАКЕ GOOGLE.\n",
            "МАШИНА ВЫДАЕТСЯ ВАМ НА 12 ЧАСОВ, ПОСЛЕ ЭТОГО ОНА ОСТАНАВЛИВАЕТСЯ. ОДНАКО НИЧТО НЕ МЕШАЕТ ВАМ ЗАПУСТИТЬ ЕЩЕ ОДНУ ВИРТУАЛЬНУЮ МАШИНУ И РАБОТАТЬ ЕЩЕ 12 ЧАСОВ.\n",
            "ТОЛЬКО ИМЕЙТЕ В ВИДУ, ЧТО ПОСЛЕ ОСТАНОВКИ ВИРТУАЛЬНОЙ МАШИНЫ ВСЕ ДАННЫЕ С НЕЕ УДАЛЯЮТСЯ. \n",
            "ПОЭТОМУ НЕ ЗАБЫВАЙТЕ СОХРАНЯТЬ НУЖНЫЕ ДАННЫЕ НА СВОЙ КОМПЬЮТЕР ИЛИ GOOGLE DRIVE, А ПОСЛЕ ПЕРЕЗАПУСКА ВИРТУАЛЬНОЙ МАШИНЫ ЗАГРУЖАТЬ ЗАНОВО.\n",
            "****************************************\n",
            "вы пишите код в браузере в ноутбуке, он выполняется на виртуальной машине в облаке google.\n",
            "машина выдается вам на 12 часов, после этого она останавливается. однако ничто не мешает вам запустить еще одну виртуальную машину и работать еще 12 часов.\n",
            "только имейте в виду, что после остановки виртуальной машины все данные с нее удаляются. \n",
            "поэтому не забывайте сохранять нужные данные на свой компьютер или google drive, а после перезапуска виртуальной машины загружать заново.\n"
          ],
          "name": "stdout"
        }
      ]
    },
    {
      "cell_type": "code",
      "metadata": {
        "id": "DIyoRS3_90sY",
        "colab_type": "code",
        "outputId": "35630b9b-9363-4fa0-d338-6361c45415df",
        "colab": {
          "base_uri": "https://localhost:8080/",
          "height": 35
        }
      },
      "source": [
        "# Сборка строки из списка слов с разделителем _\n",
        "word_list = ['Сборка', 'строки', 'из', 'списка', 'слов', 'с', 'разделителем', '_']\n",
        "'_'.join(word_list)"
      ],
      "execution_count": 0,
      "outputs": [
        {
          "output_type": "execute_result",
          "data": {
            "text/plain": [
              "'Сборка_строки_из_списка_слов_с_разделителем__'"
            ]
          },
          "metadata": {
            "tags": []
          },
          "execution_count": 32
        }
      ]
    },
    {
      "cell_type": "code",
      "metadata": {
        "id": "sLjQWxDo-RhF",
        "colab_type": "code",
        "outputId": "ed63aa94-6d4b-4e62-b790-0c69c8da9bb6",
        "colab": {
          "base_uri": "https://localhost:8080/",
          "height": 35
        }
      },
      "source": [
        "# Возврат отцентрированной строки\n",
        "print('Привет'.center(40,'*'))"
      ],
      "execution_count": 0,
      "outputs": [
        {
          "output_type": "stream",
          "text": [
            "*****************Привет*****************\n"
          ],
          "name": "stdout"
        }
      ]
    },
    {
      "cell_type": "code",
      "metadata": {
        "id": "HyGtmb26-h54",
        "colab_type": "code",
        "outputId": "98b2620c-2903-4c9d-ac08-74f84f97a9d6",
        "colab": {
          "base_uri": "https://localhost:8080/",
          "height": 35
        }
      },
      "source": [
        "# Удаление пробельных символов в начале и конце\n",
        "text_str = '      Пользователь слишком много жмет пробел        '\n",
        "text_str.strip()"
      ],
      "execution_count": 0,
      "outputs": [
        {
          "output_type": "execute_result",
          "data": {
            "text/plain": [
              "'Пользователь слишком много жмет пробел'"
            ]
          },
          "metadata": {
            "tags": []
          },
          "execution_count": 35
        }
      ]
    },
    {
      "cell_type": "markdown",
      "metadata": {
        "id": "jPjvL4fn_HtY",
        "colab_type": "text"
      },
      "source": [
        "#### Форматирование строк"
      ]
    },
    {
      "cell_type": "code",
      "metadata": {
        "id": "pELrxT-F_Od7",
        "colab_type": "code",
        "outputId": "e2d1bd5a-7a13-44c1-b684-ebadf0e32cb9",
        "colab": {
          "base_uri": "https://localhost:8080/",
          "height": 35
        }
      },
      "source": [
        "# Устаревший способ\n",
        "name = 'Bob'\n",
        "text_str = 'Hello %s' % name\n",
        "print(text_str)"
      ],
      "execution_count": 0,
      "outputs": [
        {
          "output_type": "stream",
          "text": [
            "Hello Bob\n"
          ],
          "name": "stdout"
        }
      ]
    },
    {
      "cell_type": "code",
      "metadata": {
        "id": "JPEwdFf2ACYJ",
        "colab_type": "code",
        "colab": {}
      },
      "source": [
        "# Популярный метод format\n",
        "name1 = 'Bob'\n",
        "name2 = 'Alice'"
      ],
      "execution_count": 0,
      "outputs": []
    },
    {
      "cell_type": "code",
      "metadata": {
        "id": "UJH7uFIt4k-5",
        "colab_type": "code",
        "outputId": "7c89069c-d33c-40e5-84e8-d089b1ca4bba",
        "colab": {
          "base_uri": "https://localhost:8080/",
          "height": 126
        }
      },
      "source": [
        "print('Hello {}'.format(name1))\n",
        "print('Hello {}'.format(name2))\n",
        "print('Hello {} and {}'.format(name1, name2))\n",
        "print('Hello {} and {}'.format(name2, name1))\n",
        "print('Hello {1} and {0}'.format(name1, name2))\n",
        "print('Hello {name1} and {name2}'.format(name1=name1, name2=name2))"
      ],
      "execution_count": 0,
      "outputs": [
        {
          "output_type": "stream",
          "text": [
            "Hello Bob\n",
            "Hello Alice\n",
            "Hello Bob and Alice\n",
            "Hello Alice and Bob\n",
            "Hello Alice and Bob\n",
            "Hello Bob and Alice\n"
          ],
          "name": "stdout"
        }
      ]
    },
    {
      "cell_type": "markdown",
      "metadata": {
        "id": "MUpDA04dr4QX",
        "colab_type": "text"
      },
      "source": [
        "### Регулярные выражения"
      ]
    },
    {
      "cell_type": "markdown",
      "metadata": {
        "id": "XRYJehiYuUMn",
        "colab_type": "text"
      },
      "source": [
        "Шаблоны выражений \n",
        "\n",
        "![alt text](https://drive.google.com/uc?id=1OWIIp4jumxUE_TLrtjEkPh17nOk4bO_K)"
      ]
    },
    {
      "cell_type": "markdown",
      "metadata": {
        "id": "5KmoWhioule2",
        "colab_type": "text"
      },
      "source": [
        "Количество повторений символов в шаблоне\n",
        "\n",
        "![alt text](https://drive.google.com/uc?id=1OVDsZA38Z6C4lDLPadHzqQpJQmx4d_xi)"
      ]
    },
    {
      "cell_type": "markdown",
      "metadata": {
        "id": "LJ2lDKRrszJA",
        "colab_type": "text"
      },
      "source": [
        "Основные функции\n",
        "\n",
        "![alt text](https://drive.google.com/uc?id=11u4kVMjN93KuRALSjTpjfhh4__f6QIo4)"
      ]
    },
    {
      "cell_type": "code",
      "metadata": {
        "id": "oQ76AZUL7FDx",
        "colab_type": "code",
        "colab": {}
      },
      "source": [
        "import re"
      ],
      "execution_count": 0,
      "outputs": []
    },
    {
      "cell_type": "code",
      "metadata": {
        "id": "7SN18JwT7JLx",
        "colab_type": "code",
        "outputId": "f00f065d-ea59-447b-d181-7cd9879f00e8",
        "colab": {
          "base_uri": "https://localhost:8080/",
          "height": 35
        }
      },
      "source": [
        "match = re.search( r'\\d\\d\\D\\d\\d',r'Телефон 123-12-12' )\n",
        "print(match[0])"
      ],
      "execution_count": 0,
      "outputs": [
        {
          "output_type": "stream",
          "text": [
            "23-12\n"
          ],
          "name": "stdout"
        }
      ]
    },
    {
      "cell_type": "code",
      "metadata": {
        "id": "LEzDsctN7irs",
        "colab_type": "code",
        "outputId": "d532773d-b208-45a5-dc9b-3293efcb0596",
        "colab": {
          "base_uri": "https://localhost:8080/",
          "height": 35
        }
      },
      "source": [
        "match = re.search( r'\\d\\d\\D\\d\\d',r'Телефон 1231212' )\n",
        "print(match[0] if match else 'Not found')"
      ],
      "execution_count": 0,
      "outputs": [
        {
          "output_type": "stream",
          "text": [
            "Not found\n"
          ],
          "name": "stdout"
        }
      ]
    },
    {
      "cell_type": "code",
      "metadata": {
        "id": "X_-Of0XE7w_3",
        "colab_type": "code",
        "outputId": "d0e4294f-7ca7-4cb9-c932-126a27169c23",
        "colab": {
          "base_uri": "https://localhost:8080/",
          "height": 35
        }
      },
      "source": [
        "match = re.fullmatch( r'\\d\\d\\D\\d\\d', r'12-12' )\n",
        "print(match[0] if match else 'Not found')"
      ],
      "execution_count": 0,
      "outputs": [
        {
          "output_type": "stream",
          "text": [
            "12-12\n"
          ],
          "name": "stdout"
        }
      ]
    },
    {
      "cell_type": "code",
      "metadata": {
        "id": "E9WRCxZo8FBx",
        "colab_type": "code",
        "outputId": "b949cfe6-f1fc-458b-81c2-e980ec66fed9",
        "colab": {
          "base_uri": "https://localhost:8080/",
          "height": 35
        }
      },
      "source": [
        "match = re.fullmatch( r'\\d\\d\\D\\d\\d', r'тел. 12-12' )\n",
        "print(match[0] if match else 'Not found')"
      ],
      "execution_count": 0,
      "outputs": [
        {
          "output_type": "stream",
          "text": [
            "Not found\n"
          ],
          "name": "stdout"
        }
      ]
    },
    {
      "cell_type": "code",
      "metadata": {
        "id": "yX_4Rbyw8Hfz",
        "colab_type": "code",
        "outputId": "0a50452e-ae3b-4c04-f76b-301853fb7784",
        "colab": {
          "base_uri": "https://localhost:8080/",
          "height": 35
        }
      },
      "source": [
        "print(re.split(r'\\W+', 'Где, скажите мне, мои очки??!'))"
      ],
      "execution_count": 0,
      "outputs": [
        {
          "output_type": "stream",
          "text": [
            "['Где', 'скажите', 'мне', 'мои', 'очки', '']\n"
          ],
          "name": "stdout"
        }
      ]
    },
    {
      "cell_type": "code",
      "metadata": {
        "id": "7plJJDLs7IqG",
        "colab_type": "code",
        "outputId": "aad6a59e-dbf0-49d2-e8ab-c7831e22d0d7",
        "colab": {
          "base_uri": "https://localhost:8080/",
          "height": 35
        }
      },
      "source": [
        "print(re.findall(r'\\d\\d.\\d\\d.\\d\\d', r' Эта строка написана 19-12-19, а могла бы 19.01.20'))"
      ],
      "execution_count": 0,
      "outputs": [
        {
          "output_type": "stream",
          "text": [
            "['19-12-19', '19.01.20']\n"
          ],
          "name": "stdout"
        }
      ]
    },
    {
      "cell_type": "code",
      "metadata": {
        "id": "A0aV2C9b9AuF",
        "colab_type": "code",
        "outputId": "2953d4d5-39f2-4461-cb2e-566531a7a961",
        "colab": {
          "base_uri": "https://localhost:8080/",
          "height": 35
        }
      },
      "source": [
        "print(re.sub(r'\\d\\d.\\d\\d.\\d{4}',\n",
        "             r'DD.MM.YYYY',\n",
        "             r' Эта строка написана 19-12-2019, а могла бы 19.01.2020'))"
      ],
      "execution_count": 0,
      "outputs": [
        {
          "output_type": "stream",
          "text": [
            " Эта строка написана DD.MM.YYYY, а могла бы DD.MM.YYYY\n"
          ],
          "name": "stdout"
        }
      ]
    },
    {
      "cell_type": "markdown",
      "metadata": {
        "id": "eudmCnRNy3by",
        "colab_type": "text"
      },
      "source": [
        "Группирующие скобки и match-объекты\n",
        "\n",
        "![alt text](https://drive.google.com/uc?id=1ebR6Kxusoae58CJQtIjMcXHM3XWJ5NVk)"
      ]
    },
    {
      "cell_type": "code",
      "metadata": {
        "id": "5u6OONKb9pGl",
        "colab_type": "code",
        "outputId": "d6b2bb05-47c3-4e03-e0b4-6089c90847d5",
        "colab": {
          "base_uri": "https://localhost:8080/",
          "height": 72
        }
      },
      "source": [
        "pattern = r'\\s*([А-Яа-яЁё]+)(\\d+)\\s*'\n",
        "string = r'--    Привет123276       -----'\n",
        "match = re.search(pattern, string)\n",
        "print(match[0])\n",
        "print(match[1])\n",
        "print(match[2])"
      ],
      "execution_count": 0,
      "outputs": [
        {
          "output_type": "stream",
          "text": [
            "    Привет123276       \n",
            "Привет\n",
            "123276\n"
          ],
          "name": "stdout"
        }
      ]
    },
    {
      "cell_type": "markdown",
      "metadata": {
        "id": "S9ZAaIc7d0Si",
        "colab_type": "text"
      },
      "source": [
        "## За рамками материала"
      ]
    },
    {
      "cell_type": "markdown",
      "metadata": {
        "id": "8T-AFlP0gRsC",
        "colab_type": "text"
      },
      "source": [
        "\n",
        "\n",
        "*   Глубокое погружение в возможности регулярных выражений\n",
        "\n"
      ]
    },
    {
      "cell_type": "markdown",
      "metadata": {
        "id": "5F_hHKVTNzia",
        "colab_type": "text"
      },
      "source": [
        "## Дополнительные материалы и литература"
      ]
    },
    {
      "cell_type": "markdown",
      "metadata": {
        "id": "YWhDk5dJN8NC",
        "colab_type": "text"
      },
      "source": [
        "\n",
        "\n",
        "*   Саммерфилд М., Программирование на Python 3. Подробное руководство. - Пер. с англ. - СПб.: Символ-Плюс, 2009. - 608 с, ил., ISBN: 978-5-93286-161-5 С. 249.\n",
        "*   https://habr.com/ru/post/349860/\n"
      ]
    }
  ]
}