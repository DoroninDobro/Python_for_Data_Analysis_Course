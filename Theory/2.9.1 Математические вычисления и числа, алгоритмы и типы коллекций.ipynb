{
  "nbformat": 4,
  "nbformat_minor": 0,
  "metadata": {
    "colab": {
      "name": "2.9.1 Математические вычисления и числа, алгоритмы и типы коллекций.ipynb",
      "provenance": [],
      "collapsed_sections": [
        "S9ZAaIc7d0Si",
        "5F_hHKVTNzia"
      ]
    },
    "kernelspec": {
      "name": "python3",
      "display_name": "Python 3"
    }
  },
  "cells": [
    {
      "cell_type": "markdown",
      "metadata": {
        "id": "moIM-S1g7SKx",
        "colab_type": "text"
      },
      "source": [
        "# Курс \"Python для анализа данных\"\n",
        "\n",
        "---\n",
        "#2.9.1 Математические вычисления и числа, типы коллекций"
      ]
    },
    {
      "cell_type": "markdown",
      "metadata": {
        "id": "QZ1Arpnj7p_N",
        "colab_type": "text"
      },
      "source": [
        "## Где мы сейчас?\n"
      ]
    },
    {
      "cell_type": "markdown",
      "metadata": {
        "id": "J9A06fP5j1vS",
        "colab_type": "text"
      },
      "source": [
        "<html>\n",
        " <head>\n",
        "  <meta charset=\"utf-8\">\n",
        " </head>\n",
        " <body>\n",
        "  <ul>\n",
        "    <li>1. Введение в анализ данных и разработку на языке Python </li>\n",
        "    <li>2. <strong>Основы языка</strong> <i><- Вот в этой главе!</i>\n",
        "     <ul>\n",
        "      <li>2.1 - 2.7</li>\n",
        "      <li>2.8 Объектно-ориентированное программирование</li>\n",
        "      <li><strong>2.9 Обзор стандартной библиотеки языка Python</strong> <i><- Вот в этом параграфе!</i></li>\n",
        "       <ul>\n",
        "        <li><strong>2.9.1 Математические вычисления и числа, типы коллекций</strong><i> <- Вот в этом пункте!</i></li>\n",
        "        <li>2.9.2 Работа с аргументами командной строки, время и дата</li>\n",
        "        <li>2.9.3 Обработка строк, регулярные выражения</li>\n",
        "        <li>2.9.4 Форматы файлов, кодировки и сохранение данных. Работа с файлами и каталогами</li>\n",
        "       </ul>\n",
        "     </ul>\n",
        "    </li>   \n",
        "  </ul>\n",
        " </body>\n",
        "</html>"
      ]
    },
    {
      "cell_type": "markdown",
      "metadata": {
        "id": "z1oJmp_4Po8K",
        "colab_type": "text"
      },
      "source": [
        "## О чем будем говорить?\n"
      ]
    },
    {
      "cell_type": "markdown",
      "metadata": {
        "id": "7X4Wlpraj7Yw",
        "colab_type": "text"
      },
      "source": [
        "О таких ресурсах стандартной библиотеки языка Python как библиотеки для математических вычислений и различные типы коллекций. "
      ]
    },
    {
      "cell_type": "markdown",
      "metadata": {
        "id": "NhfVXiTGAkND",
        "colab_type": "text"
      },
      "source": [
        "## Ключевые слова, понятия и выражения\n",
        "\n",
        "\n",
        "\n",
        "\n"
      ]
    },
    {
      "cell_type": "markdown",
      "metadata": {
        "id": "ixnuL5V2rZtz",
        "colab_type": "text"
      },
      "source": [
        "*   ```math, cmath, random, numbers```\n",
        "*   ```collections```\n",
        "\n"
      ]
    },
    {
      "cell_type": "markdown",
      "metadata": {
        "id": "H1MGw-jK3t_v",
        "colab_type": "text"
      },
      "source": [
        "## Материал"
      ]
    },
    {
      "cell_type": "markdown",
      "metadata": {
        "id": "yMCzhO6sP7Ii",
        "colab_type": "text"
      },
      "source": [
        "### Математические библиотеки и числа"
      ]
    },
    {
      "cell_type": "markdown",
      "metadata": {
        "id": "QygGd_-rgLET",
        "colab_type": "text"
      },
      "source": [
        "Встроенные типы"
      ]
    },
    {
      "cell_type": "code",
      "metadata": {
        "id": "N42y9yD2nyii",
        "colab_type": "code",
        "outputId": "78d9baf2-7740-4d2d-e42f-106da0f88c84",
        "colab": {
          "base_uri": "https://localhost:8080/",
          "height": 35
        }
      },
      "source": [
        "# int\n",
        "a = int(2)\n",
        "\n",
        "# float\n",
        "b = float(5.0)\n",
        "\n",
        "# complex\n",
        "c = 1.0 + 2.0j\n",
        "d = complex(1.0 - 2.0j)\n",
        "print(c*d)"
      ],
      "execution_count": 0,
      "outputs": [
        {
          "output_type": "stream",
          "text": [
            "(5+0j)\n"
          ],
          "name": "stdout"
        }
      ]
    },
    {
      "cell_type": "markdown",
      "metadata": {
        "id": "42haSH89gRKJ",
        "colab_type": "text"
      },
      "source": [
        "Модуль ```math```"
      ]
    },
    {
      "cell_type": "code",
      "metadata": {
        "id": "Oznilp7doV5S",
        "colab_type": "code",
        "outputId": "63a75ca2-9ff2-49ed-bf0e-7cfcf6843dae",
        "colab": {
          "base_uri": "https://localhost:8080/",
          "height": 290
        }
      },
      "source": [
        "from pprint import pprint\n",
        "import math\n",
        "\n",
        "pprint(dir(math), compact=True, width=40)\n",
        "print(math.sin(math.pi/6))"
      ],
      "execution_count": 0,
      "outputs": [
        {
          "output_type": "stream",
          "text": [
            "['__doc__', '__loader__', '__name__',\n",
            " '__package__', '__spec__', 'acos',\n",
            " 'acosh', 'asin', 'asinh', 'atan',\n",
            " 'atan2', 'atanh', 'ceil', 'copysign',\n",
            " 'cos', 'cosh', 'degrees', 'e', 'erf',\n",
            " 'erfc', 'exp', 'expm1', 'fabs',\n",
            " 'factorial', 'floor', 'fmod', 'frexp',\n",
            " 'fsum', 'gamma', 'gcd', 'hypot', 'inf',\n",
            " 'isclose', 'isfinite', 'isinf',\n",
            " 'isnan', 'ldexp', 'lgamma', 'log',\n",
            " 'log10', 'log1p', 'log2', 'modf',\n",
            " 'nan', 'pi', 'pow', 'radians', 'sin',\n",
            " 'sinh', 'sqrt', 'tan', 'tanh', 'tau',\n",
            " 'trunc']\n",
            "0.49999999999999994\n"
          ],
          "name": "stdout"
        }
      ]
    },
    {
      "cell_type": "markdown",
      "metadata": {
        "id": "oFV9qwJFgVt4",
        "colab_type": "text"
      },
      "source": [
        "Модуль ```сmath``` - функции для работы с комплексными числами"
      ]
    },
    {
      "cell_type": "code",
      "metadata": {
        "id": "SsVpVdNzpCiD",
        "colab_type": "code",
        "outputId": "45dc0fc2-970d-4e50-dc74-63ec8575eff2",
        "colab": {
          "base_uri": "https://localhost:8080/",
          "height": 181
        }
      },
      "source": [
        "import cmath\n",
        "pprint(dir(cmath), compact=True, width=40)"
      ],
      "execution_count": 0,
      "outputs": [
        {
          "output_type": "stream",
          "text": [
            "['__doc__', '__loader__', '__name__',\n",
            " '__package__', '__spec__', 'acos',\n",
            " 'acosh', 'asin', 'asinh', 'atan',\n",
            " 'atanh', 'cos', 'cosh', 'e', 'exp',\n",
            " 'inf', 'infj', 'isclose', 'isfinite',\n",
            " 'isinf', 'isnan', 'log', 'log10',\n",
            " 'nan', 'nanj', 'phase', 'pi', 'polar',\n",
            " 'rect', 'sin', 'sinh', 'sqrt', 'tan',\n",
            " 'tanh', 'tau']\n"
          ],
          "name": "stdout"
        }
      ]
    },
    {
      "cell_type": "markdown",
      "metadata": {
        "id": "tBE82ikugZB-",
        "colab_type": "text"
      },
      "source": [
        "Формула Эйлера: $e^{\\phi j} = \\cos \\phi + j\\sin\\phi$"
      ]
    },
    {
      "cell_type": "code",
      "metadata": {
        "id": "G5oHjdWspUVU",
        "colab_type": "code",
        "outputId": "6e9b7e5b-181b-4564-8e8a-92e12e110195",
        "colab": {
          "base_uri": "https://localhost:8080/",
          "height": 35
        }
      },
      "source": [
        "phi = cmath.pi/2\n",
        "res_exp = cmath.exp(complex(0,phi))\n",
        "print(res_exp)"
      ],
      "execution_count": 0,
      "outputs": [
        {
          "output_type": "stream",
          "text": [
            "(6.123233995736766e-17+1j)\n"
          ],
          "name": "stdout"
        }
      ]
    },
    {
      "cell_type": "markdown",
      "metadata": {
        "id": "V3KVHpnThS6z",
        "colab_type": "text"
      },
      "source": [
        "Модуль ```numbers```"
      ]
    },
    {
      "cell_type": "code",
      "metadata": {
        "id": "Y8rw_Werp2Uq",
        "colab_type": "code",
        "outputId": "0d64b406-14f1-4d67-e40b-acc8b21f0cb1",
        "colab": {
          "base_uri": "https://localhost:8080/",
          "height": 108
        }
      },
      "source": [
        "import numbers\n",
        "print(isinstance(phi, numbers.Number))\n",
        "print(isinstance(phi, numbers.Integral))\n",
        "print(isinstance(phi, numbers.Rational))\n",
        "print(isinstance(phi, numbers.Real))\n",
        "print(isinstance(phi, numbers.Complex))"
      ],
      "execution_count": 0,
      "outputs": [
        {
          "output_type": "stream",
          "text": [
            "True\n",
            "False\n",
            "False\n",
            "True\n",
            "True\n"
          ],
          "name": "stdout"
        }
      ]
    },
    {
      "cell_type": "markdown",
      "metadata": {
        "id": "G_aoRCkIiq_n",
        "colab_type": "text"
      },
      "source": [
        "Модуль ```random```"
      ]
    },
    {
      "cell_type": "code",
      "metadata": {
        "id": "5LX5qZ3Oqlf7",
        "colab_type": "code",
        "outputId": "bea5f491-f419-493d-c543-9d603d9e840f",
        "colab": {
          "base_uri": "https://localhost:8080/",
          "height": 35
        }
      },
      "source": [
        "import random\n",
        "random.choice([1,2,3,4,5,6])"
      ],
      "execution_count": 0,
      "outputs": [
        {
          "output_type": "execute_result",
          "data": {
            "text/plain": [
              "6"
            ]
          },
          "metadata": {
            "tags": []
          },
          "execution_count": 14
        }
      ]
    },
    {
      "cell_type": "code",
      "metadata": {
        "id": "jfBHR9a3qwI1",
        "colab_type": "code",
        "outputId": "0e2a3810-4e97-45d4-b33a-b1482e2385cf",
        "colab": {
          "base_uri": "https://localhost:8080/",
          "height": 35
        }
      },
      "source": [
        "num_list = [1,2,3,4,5,6,7]\n",
        "random.shuffle(num_list)\n",
        "print(num_list)"
      ],
      "execution_count": 0,
      "outputs": [
        {
          "output_type": "stream",
          "text": [
            "[3, 1, 2, 7, 5, 6, 4]\n"
          ],
          "name": "stdout"
        }
      ]
    },
    {
      "cell_type": "code",
      "metadata": {
        "id": "j-wx_qohrCnC",
        "colab_type": "code",
        "outputId": "c5bb148d-fb90-4c4b-835c-3acbbc9546ef",
        "colab": {
          "base_uri": "https://localhost:8080/",
          "height": 35
        }
      },
      "source": [
        "random.random()"
      ],
      "execution_count": 0,
      "outputs": [
        {
          "output_type": "execute_result",
          "data": {
            "text/plain": [
              "0.3550080895617288"
            ]
          },
          "metadata": {
            "tags": []
          },
          "execution_count": 17
        }
      ]
    },
    {
      "cell_type": "code",
      "metadata": {
        "id": "G06-BKM9rHuX",
        "colab_type": "code",
        "outputId": "afeae878-19e1-4747-ac8c-3eeb83a7e16f",
        "colab": {
          "base_uri": "https://localhost:8080/",
          "height": 35
        }
      },
      "source": [
        "random.normalvariate(0, 1)"
      ],
      "execution_count": 0,
      "outputs": [
        {
          "output_type": "execute_result",
          "data": {
            "text/plain": [
              "0.9205815074048332"
            ]
          },
          "metadata": {
            "tags": []
          },
          "execution_count": 23
        }
      ]
    },
    {
      "cell_type": "markdown",
      "metadata": {
        "id": "E6GZX6vMQK4x",
        "colab_type": "text"
      },
      "source": [
        "### Типы коллекций"
      ]
    },
    {
      "cell_type": "markdown",
      "metadata": {
        "id": "EtcNzS3KwROu",
        "colab_type": "text"
      },
      "source": [
        "Страндартные типы коллекций"
      ]
    },
    {
      "cell_type": "code",
      "metadata": {
        "id": "cEmSXlrerkev",
        "colab_type": "code",
        "colab": {}
      },
      "source": [
        "dict_ = {'a':1, 'b':2}\n",
        "list_ = [1,2,3,4]\n",
        "tuple_ = (1,2,3)\n",
        "set_ = {1,2,3,4,5}"
      ],
      "execution_count": 0,
      "outputs": []
    },
    {
      "cell_type": "markdown",
      "metadata": {
        "id": "QSoZl1pYwtDj",
        "colab_type": "text"
      },
      "source": [
        "Модуль ```collections```"
      ]
    },
    {
      "cell_type": "code",
      "metadata": {
        "id": "REaCgqVNr3rl",
        "colab_type": "code",
        "outputId": "fa0e4714-b19f-476c-9efd-ff71a2b724af",
        "colab": {
          "base_uri": "https://localhost:8080/",
          "height": 508
        }
      },
      "source": [
        "import collections\n",
        "pprint(dir(collections), compact=True, width=40)"
      ],
      "execution_count": 0,
      "outputs": [
        {
          "output_type": "stream",
          "text": [
            "['AsyncGenerator', 'AsyncIterable',\n",
            " 'AsyncIterator', 'Awaitable',\n",
            " 'ByteString', 'Callable', 'ChainMap',\n",
            " 'Collection', 'Container', 'Coroutine',\n",
            " 'Counter', 'Generator', 'Hashable',\n",
            " 'ItemsView', 'Iterable', 'Iterator',\n",
            " 'KeysView', 'Mapping', 'MappingView',\n",
            " 'MutableMapping', 'MutableSequence',\n",
            " 'MutableSet', 'OrderedDict',\n",
            " 'Reversible', 'Sequence', 'Set',\n",
            " 'Sized', 'UserDict', 'UserList',\n",
            " 'UserString', 'ValuesView', '_Link',\n",
            " '_OrderedDictItemsView',\n",
            " '_OrderedDictKeysView',\n",
            " '_OrderedDictValuesView', '__all__',\n",
            " '__builtins__', '__cached__',\n",
            " '__doc__', '__file__', '__loader__',\n",
            " '__name__', '__package__', '__path__',\n",
            " '__spec__', '_chain',\n",
            " '_class_template', '_collections_abc',\n",
            " '_count_elements', '_eq',\n",
            " '_field_template', '_heapq',\n",
            " '_iskeyword', '_itemgetter', '_proxy',\n",
            " '_recursive_repr', '_repeat',\n",
            " '_repr_template', '_starmap', '_sys',\n",
            " 'abc', 'defaultdict', 'deque',\n",
            " 'namedtuple']\n"
          ],
          "name": "stdout"
        }
      ]
    },
    {
      "cell_type": "markdown",
      "metadata": {
        "id": "fyv2BCZFykY3",
        "colab_type": "text"
      },
      "source": [
        "Словарь по умолчанию"
      ]
    },
    {
      "cell_type": "code",
      "metadata": {
        "id": "v8j97v77sXcG",
        "colab_type": "code",
        "outputId": "81207dd4-1ad3-4ced-cda1-aa9cc95f03b2",
        "colab": {
          "base_uri": "https://localhost:8080/",
          "height": 171
        }
      },
      "source": [
        "dict_['c'] += 1"
      ],
      "execution_count": 0,
      "outputs": [
        {
          "output_type": "error",
          "ename": "KeyError",
          "evalue": "ignored",
          "traceback": [
            "\u001b[0;31m---------------------------------------------------------------------------\u001b[0m",
            "\u001b[0;31mKeyError\u001b[0m                                  Traceback (most recent call last)",
            "\u001b[0;32m<ipython-input-27-95a1985c3adc>\u001b[0m in \u001b[0;36m<module>\u001b[0;34m()\u001b[0m\n\u001b[0;32m----> 1\u001b[0;31m \u001b[0mdict_\u001b[0m\u001b[0;34m[\u001b[0m\u001b[0;34m'c'\u001b[0m\u001b[0;34m]\u001b[0m \u001b[0;34m+=\u001b[0m \u001b[0;36m1\u001b[0m\u001b[0;34m\u001b[0m\u001b[0;34m\u001b[0m\u001b[0m\n\u001b[0m",
            "\u001b[0;31mKeyError\u001b[0m: 'c'"
          ]
        }
      ]
    },
    {
      "cell_type": "code",
      "metadata": {
        "id": "2qATZjkSsl5g",
        "colab_type": "code",
        "outputId": "5e9ff696-9e64-454f-e57d-0e161470e7b4",
        "colab": {
          "base_uri": "https://localhost:8080/",
          "height": 35
        }
      },
      "source": [
        "def_dict = collections.defaultdict(int)\n",
        "def_dict['a'] = 1\n",
        "def_dict['b'] = 2\n",
        "\n",
        "def_dict['c'] += 1 \n",
        "def_dict['d'] += 2 \n",
        "\n",
        "print(def_dict)"
      ],
      "execution_count": 0,
      "outputs": [
        {
          "output_type": "stream",
          "text": [
            "defaultdict(<class 'int'>, {'a': 1, 'b': 2, 'c': 1, 'd': 2})\n"
          ],
          "name": "stdout"
        }
      ]
    },
    {
      "cell_type": "markdown",
      "metadata": {
        "id": "6GqmNz1ayrnL",
        "colab_type": "text"
      },
      "source": [
        "Счетчик"
      ]
    },
    {
      "cell_type": "code",
      "metadata": {
        "id": "fwS3cQNLtLsM",
        "colab_type": "code",
        "outputId": "27093cf9-1d95-40b5-f78c-847f5aad816d",
        "colab": {
          "base_uri": "https://localhost:8080/",
          "height": 53
        }
      },
      "source": [
        "c = collections.Counter()\n",
        "for word in ['spam','egg','spam','counter','counter', 'counter']:\n",
        "  c[word] += 1\n",
        "print(c)\n",
        "print(dict(c)['egg'])"
      ],
      "execution_count": 0,
      "outputs": [
        {
          "output_type": "stream",
          "text": [
            "Counter({'counter': 3, 'spam': 2, 'egg': 1})\n",
            "1\n"
          ],
          "name": "stdout"
        }
      ]
    },
    {
      "cell_type": "markdown",
      "metadata": {
        "id": "S9ZAaIc7d0Si",
        "colab_type": "text"
      },
      "source": [
        "## За рамками материала"
      ]
    },
    {
      "cell_type": "markdown",
      "metadata": {
        "id": "8T-AFlP0gRsC",
        "colab_type": "text"
      },
      "source": [
        "\n",
        "\n",
        "*   Детальное рассмотрение рассмотренных модулей\n",
        "\n"
      ]
    },
    {
      "cell_type": "markdown",
      "metadata": {
        "id": "5F_hHKVTNzia",
        "colab_type": "text"
      },
      "source": [
        "## Дополнительные материалы и литература"
      ]
    },
    {
      "cell_type": "markdown",
      "metadata": {
        "id": "YWhDk5dJN8NC",
        "colab_type": "text"
      },
      "source": [
        "\n",
        "\n",
        "*   Саммерфилд М., Программирование на Python 3. Подробное руководство. - Пер. с англ. - СПб.: Символ-Плюс, 2009. - 608 с, ил., ISBN: 978-5-93286-161-5 С. 252.\n",
        "\n"
      ]
    },
    {
      "cell_type": "code",
      "metadata": {
        "id": "qw6ZBFnBx5El",
        "colab_type": "code",
        "colab": {}
      },
      "source": [
        ""
      ],
      "execution_count": 0,
      "outputs": []
    }
  ]
}