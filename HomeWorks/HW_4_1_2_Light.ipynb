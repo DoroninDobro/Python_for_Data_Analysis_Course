{
  "nbformat": 4,
  "nbformat_minor": 0,
  "metadata": {
    "colab": {
      "name": "Копия блокнота \"ДЗ-4.1.2-Light.ipynb\"",
      "provenance": [],
      "collapsed_sections": []
    },
    "kernelspec": {
      "name": "python3",
      "display_name": "Python 3"
    }
  },
  "cells": [
    {
      "cell_type": "markdown",
      "metadata": {
        "id": "MH-3kVwvJYeP",
        "colab_type": "text"
      },
      "source": [
        "# Курс \"Python для анализа данных\"\n",
        "\n",
        "---\n",
        "# Домашнее задание LIGHT\n",
        "#4.1.2 Применение функций и отображений, арифметические операции и выравнивание данных"
      ]
    },
    {
      "cell_type": "code",
      "metadata": {
        "id": "fGNSU6VDMU7f",
        "colab_type": "code",
        "colab": {}
      },
      "source": [
        "# Запустите код ниже для старта, но не правьте во избежания ошибок проверки!\n",
        "_HOMEWORK_NAME_ = '4.1.2_LIGHT'\n",
        "_HOMEWORK_ANSWER_DICT_ = dict()"
      ],
      "execution_count": 1,
      "outputs": []
    },
    {
      "cell_type": "markdown",
      "metadata": {
        "id": "xp_DlvMXJ8Ed",
        "colab_type": "text"
      },
      "source": [
        "## ФИО участника"
      ]
    },
    {
      "cell_type": "code",
      "metadata": {
        "id": "RHUt9t1XMw9a",
        "colab_type": "code",
        "colab": {}
      },
      "source": [
        "# Введите ваше имя и фамилию в соответствующую позицию 'NAME' и 'LAST_NAME'!\n",
        "_NAME_SERNAME_ = {\n",
        "    'NAME' : 'Vladimir',\n",
        "    'LAST_NAME' : 'Doronin'\n",
        "}"
      ],
      "execution_count": 2,
      "outputs": []
    },
    {
      "cell_type": "markdown",
      "metadata": {
        "id": "gMwyKhlQJ1mf",
        "colab_type": "text"
      },
      "source": [
        "## Задание 1"
      ]
    },
    {
      "cell_type": "markdown",
      "metadata": {
        "id": "Owu684lKKrjJ",
        "colab_type": "text"
      },
      "source": [
        "**Условие:** \n",
        "Найдите сумму заданных объектов ```DataFrame```, используя в качестве ```fill_value``` значения максимальный элемент среди всех элементов обоих объектов. Найдите минимальный элемент в полученной сумме.\n",
        "\n",
        "**Формат ответа:** \n",
        "Число (например, ```3.8```)\n",
        "\n",
        "**Оценка в баллах:** 3 балла"
      ]
    },
    {
      "cell_type": "markdown",
      "metadata": {
        "id": "OCTvo3fHLaaJ",
        "colab_type": "text"
      },
      "source": [
        "**Решение:**"
      ]
    },
    {
      "cell_type": "code",
      "metadata": {
        "id": "f9_8IGndLeRO",
        "colab_type": "code",
        "colab": {
          "base_uri": "https://localhost:8080/",
          "height": 54
        },
        "outputId": "4bd747c4-33b8-4a79-b606-c6a82bd555c9"
      },
      "source": [
        "import pandas as pd\n",
        "import numpy as np\n",
        "\n",
        "df1 = pd.DataFrame(np.arange(9.).reshape((3, 3)), columns=list('bcd'),\n",
        "                   index=['Ohio', 'Texas', 'Colorado'])\n",
        "df2 = pd.DataFrame(np.arange(12.).reshape((4, 3)), columns=list('bde'),\n",
        "                   index=['Utah', 'Ohio', 'Texas', 'Oregon'])\n",
        "x = float('-inf')\n",
        "for i in (df1, df2):\n",
        "  if i.max().max() > x:\n",
        "    x = i.max().max()\n",
        "print(x)\n",
        "df3 = df1.add(df2, fill_value=x)\n",
        "ans1 = df3.min().min()\n",
        "print(ans1)"
      ],
      "execution_count": 9,
      "outputs": [
        {
          "output_type": "stream",
          "text": [
            "11.0\n",
            "3.0\n"
          ],
          "name": "stdout"
        }
      ]
    },
    {
      "cell_type": "markdown",
      "metadata": {
        "id": "p0CmJgA5LWoT",
        "colab_type": "text"
      },
      "source": [
        "**Ответ:**"
      ]
    },
    {
      "cell_type": "code",
      "metadata": {
        "id": "bL0LuTGTJShl",
        "colab_type": "code",
        "colab": {}
      },
      "source": [
        "# Не изменяйте текст до знака = во избежании ошибок проверки!\n",
        "_HOMEWORK_ANSWER_DICT_['A1'] = ans1"
      ],
      "execution_count": 10,
      "outputs": []
    },
    {
      "cell_type": "markdown",
      "metadata": {
        "colab_type": "text",
        "id": "g5S0h2-wKfGE"
      },
      "source": [
        "## Задание 2"
      ]
    },
    {
      "cell_type": "markdown",
      "metadata": {
        "colab_type": "text",
        "id": "orX7BUzcPKKf"
      },
      "source": [
        "**Условие:** \n",
        "Создайте объект ```DataFrame``` размера ```(4,4)``` с автоматической индексацией, используя ```np.random.randn```. Напишите лямбда-функцию поиска среднего арифметического для входного массива. Примените указанную функцию ко всем столбцам созданного объекта. Найдите среди полученных средних максимальное значение.\n",
        "\n",
        "**Формат ответа:** \n",
        "Число (например, ```0.78```)\n",
        "\n",
        "**Оценка в баллах:** 3 балла"
      ]
    },
    {
      "cell_type": "markdown",
      "metadata": {
        "colab_type": "text",
        "id": "ESSLfwqEPKKn"
      },
      "source": [
        "**Решение:**"
      ]
    },
    {
      "cell_type": "code",
      "metadata": {
        "colab_type": "code",
        "id": "y8HOlaNLPKKq",
        "colab": {
          "base_uri": "https://localhost:8080/",
          "height": 168
        },
        "outputId": "ca91b321-af13-4a48-e8a3-3e18bccb03c3"
      },
      "source": [
        "a = np.random.randn(4,4)\n",
        "data = pd.DataFrame(a)\n",
        "data"
      ],
      "execution_count": 12,
      "outputs": [
        {
          "output_type": "execute_result",
          "data": {
            "text/html": [
              "<div>\n",
              "<style scoped>\n",
              "    .dataframe tbody tr th:only-of-type {\n",
              "        vertical-align: middle;\n",
              "    }\n",
              "\n",
              "    .dataframe tbody tr th {\n",
              "        vertical-align: top;\n",
              "    }\n",
              "\n",
              "    .dataframe thead th {\n",
              "        text-align: right;\n",
              "    }\n",
              "</style>\n",
              "<table border=\"1\" class=\"dataframe\">\n",
              "  <thead>\n",
              "    <tr style=\"text-align: right;\">\n",
              "      <th></th>\n",
              "      <th>0</th>\n",
              "      <th>1</th>\n",
              "      <th>2</th>\n",
              "      <th>3</th>\n",
              "    </tr>\n",
              "  </thead>\n",
              "  <tbody>\n",
              "    <tr>\n",
              "      <th>0</th>\n",
              "      <td>1.004066</td>\n",
              "      <td>-0.150859</td>\n",
              "      <td>-0.017242</td>\n",
              "      <td>0.545547</td>\n",
              "    </tr>\n",
              "    <tr>\n",
              "      <th>1</th>\n",
              "      <td>-0.154087</td>\n",
              "      <td>0.547960</td>\n",
              "      <td>0.047064</td>\n",
              "      <td>2.319027</td>\n",
              "    </tr>\n",
              "    <tr>\n",
              "      <th>2</th>\n",
              "      <td>1.405942</td>\n",
              "      <td>0.266369</td>\n",
              "      <td>-1.393442</td>\n",
              "      <td>-1.099548</td>\n",
              "    </tr>\n",
              "    <tr>\n",
              "      <th>3</th>\n",
              "      <td>0.222131</td>\n",
              "      <td>0.210573</td>\n",
              "      <td>-0.791677</td>\n",
              "      <td>0.063551</td>\n",
              "    </tr>\n",
              "  </tbody>\n",
              "</table>\n",
              "</div>"
            ],
            "text/plain": [
              "          0         1         2         3\n",
              "0  1.004066 -0.150859 -0.017242  0.545547\n",
              "1 -0.154087  0.547960  0.047064  2.319027\n",
              "2  1.405942  0.266369 -1.393442 -1.099548\n",
              "3  0.222131  0.210573 -0.791677  0.063551"
            ]
          },
          "metadata": {
            "tags": []
          },
          "execution_count": 12
        }
      ]
    },
    {
      "cell_type": "code",
      "metadata": {
        "id": "1NY6npXItHgK",
        "colab_type": "code",
        "colab": {
          "base_uri": "https://localhost:8080/",
          "height": 35
        },
        "outputId": "c482ebba-ed36-42c2-e658-33d6543dc25a"
      },
      "source": [
        "ans2_ = data.apply(lambda x: x.mean(), axis = 1)\n",
        "ans2 = ans2_.max()\n",
        "print(ans2)"
      ],
      "execution_count": 15,
      "outputs": [
        {
          "output_type": "stream",
          "text": [
            "0.689990989976482\n"
          ],
          "name": "stdout"
        }
      ]
    },
    {
      "cell_type": "markdown",
      "metadata": {
        "colab_type": "text",
        "id": "Trvrl2qPPKKx"
      },
      "source": [
        "**Ответ:**"
      ]
    },
    {
      "cell_type": "code",
      "metadata": {
        "colab_type": "code",
        "id": "iiWu4IpuKfxV",
        "colab": {}
      },
      "source": [
        "# Не изменяйте текст до знака = во избежании ошибок проверки!\n",
        "_HOMEWORK_ANSWER_DICT_['A2'] = ans2"
      ],
      "execution_count": 16,
      "outputs": []
    },
    {
      "cell_type": "markdown",
      "metadata": {
        "colab_type": "text",
        "id": "xLU6K8LobFfx"
      },
      "source": [
        "## Задание 3"
      ]
    },
    {
      "cell_type": "markdown",
      "metadata": {
        "colab_type": "text",
        "id": "XP6w819obFgS"
      },
      "source": [
        "**Условие:** \n",
        "Напишите функцию, которая возвращает объект ```Series``` со значениями среднего(```mean```) и стандартного отклонения(```std```). Примените указанную функцию для объекта ```DataFrame``` из задания 2. Найдите минимальное отношение ```mean/std``` в полученном ```DataFrame```.\n",
        "\n",
        "**Формат ответа:** \n",
        "Число (например, ```0.75```)\n",
        "\n",
        "**Оценка в баллах:** 4 балла"
      ]
    },
    {
      "cell_type": "markdown",
      "metadata": {
        "colab_type": "text",
        "id": "BAxzTe0qbFgl"
      },
      "source": [
        "**Решение:**"
      ]
    },
    {
      "cell_type": "code",
      "metadata": {
        "colab_type": "code",
        "id": "pyzDh-Y7bFg0",
        "colab": {
          "base_uri": "https://localhost:8080/",
          "height": 108
        },
        "outputId": "9f38c24d-413d-41d0-90d1-216baf806894"
      },
      "source": [
        "def t3(data):\n",
        "  return pd.Series([data.mean(), data.std()], index=['mean', 'std'])\n",
        "\n",
        "data3 = data.apply(t3)\n",
        "data3"
      ],
      "execution_count": 21,
      "outputs": [
        {
          "output_type": "execute_result",
          "data": {
            "text/html": [
              "<div>\n",
              "<style scoped>\n",
              "    .dataframe tbody tr th:only-of-type {\n",
              "        vertical-align: middle;\n",
              "    }\n",
              "\n",
              "    .dataframe tbody tr th {\n",
              "        vertical-align: top;\n",
              "    }\n",
              "\n",
              "    .dataframe thead th {\n",
              "        text-align: right;\n",
              "    }\n",
              "</style>\n",
              "<table border=\"1\" class=\"dataframe\">\n",
              "  <thead>\n",
              "    <tr style=\"text-align: right;\">\n",
              "      <th></th>\n",
              "      <th>0</th>\n",
              "      <th>1</th>\n",
              "      <th>2</th>\n",
              "      <th>3</th>\n",
              "    </tr>\n",
              "  </thead>\n",
              "  <tbody>\n",
              "    <tr>\n",
              "      <th>mean</th>\n",
              "      <td>0.619513</td>\n",
              "      <td>0.218511</td>\n",
              "      <td>-0.538824</td>\n",
              "      <td>0.457144</td>\n",
              "    </tr>\n",
              "    <tr>\n",
              "      <th>std</th>\n",
              "      <td>0.712442</td>\n",
              "      <td>0.287126</td>\n",
              "      <td>0.685473</td>\n",
              "      <td>1.420402</td>\n",
              "    </tr>\n",
              "  </tbody>\n",
              "</table>\n",
              "</div>"
            ],
            "text/plain": [
              "             0         1         2         3\n",
              "mean  0.619513  0.218511 -0.538824  0.457144\n",
              "std   0.712442  0.287126  0.685473  1.420402"
            ]
          },
          "metadata": {
            "tags": []
          },
          "execution_count": 21
        }
      ]
    },
    {
      "cell_type": "code",
      "metadata": {
        "id": "OhgYmlWKwpfo",
        "colab_type": "code",
        "colab": {
          "base_uri": "https://localhost:8080/",
          "height": 108
        },
        "outputId": "d0f55e98-3714-4f26-eaab-a8c46ceb22e6"
      },
      "source": [
        "ans3_ = data3.apply(lambda x: x['mean']/x['std'])\n",
        "ans3_"
      ],
      "execution_count": 26,
      "outputs": [
        {
          "output_type": "execute_result",
          "data": {
            "text/plain": [
              "0    0.869563\n",
              "1    0.761027\n",
              "2   -0.786062\n",
              "3    0.321841\n",
              "dtype: float64"
            ]
          },
          "metadata": {
            "tags": []
          },
          "execution_count": 26
        }
      ]
    },
    {
      "cell_type": "code",
      "metadata": {
        "id": "3aSjO53NxUB_",
        "colab_type": "code",
        "colab": {
          "base_uri": "https://localhost:8080/",
          "height": 35
        },
        "outputId": "5203d356-9c6f-4ca7-fb76-256c25ec5f3c"
      },
      "source": [
        "print(ans3)"
      ],
      "execution_count": 27,
      "outputs": [
        {
          "output_type": "stream",
          "text": [
            "-0.7860622195534336\n"
          ],
          "name": "stdout"
        }
      ]
    },
    {
      "cell_type": "markdown",
      "metadata": {
        "colab_type": "text",
        "id": "BvyLPwCPbFhi"
      },
      "source": [
        "**Ответ:**"
      ]
    },
    {
      "cell_type": "code",
      "metadata": {
        "colab_type": "code",
        "id": "EpgGA2_XbFhn",
        "colab": {}
      },
      "source": [
        "# Не изменяйте текст до знака = во избежании ошибок проверки!\n",
        "_HOMEWORK_ANSWER_DICT_['A3'] = ans3"
      ],
      "execution_count": 28,
      "outputs": []
    },
    {
      "cell_type": "markdown",
      "metadata": {
        "id": "kiKkFcn6KQFA",
        "colab_type": "text"
      },
      "source": [
        "## Комментарии участника"
      ]
    },
    {
      "cell_type": "code",
      "metadata": {
        "id": "3aI3lBQVdvaY",
        "colab_type": "code",
        "colab": {}
      },
      "source": [
        "_YOUR_COMMENT_ = 'All right!'"
      ],
      "execution_count": 29,
      "outputs": []
    },
    {
      "cell_type": "markdown",
      "metadata": {
        "id": "TvzA7RQXcywE",
        "colab_type": "text"
      },
      "source": [
        "## Создание отчета"
      ]
    },
    {
      "cell_type": "code",
      "metadata": {
        "id": "y-d24eqmdn4x",
        "colab_type": "code",
        "colab": {
          "base_uri": "https://localhost:8080/",
          "height": 35
        },
        "outputId": "3591994e-e4fa-4a4d-9b3e-3e9e4968489d"
      },
      "source": [
        "# Проверьте правильность заполнения полей и \n",
        "# выполните данный код для создания отчета\n",
        "# и сохранения на локальную машину\n",
        "from google.colab import files\n",
        "import json\n",
        "try:\n",
        "  # form a report\n",
        "  _HM_REPORT_ = {'Answers':_HOMEWORK_ANSWER_DICT_,\n",
        "                'Comment':_YOUR_COMMENT_,\n",
        "                'User':_NAME_SERNAME_,\n",
        "                }\n",
        "\n",
        "  # create a report name\n",
        "  _REPORT_NAME_ = 'HM_' +\\\n",
        "                    _HOMEWORK_NAME_ + \\\n",
        "                  '_by_' + \\\n",
        "                  _NAME_SERNAME_['LAST_NAME'] + \\\n",
        "                  '.json'\n",
        "  \n",
        "  # Save a report to a file\n",
        "  f = open(_REPORT_NAME_,\"w\")\n",
        "  f.write(json.dumps(_HM_REPORT_))\n",
        "  f.close()\n",
        "\n",
        "  # Donwnload the file into a local host\n",
        "  files.download(_REPORT_NAME_) \n",
        "  print('Thanks for the work, {name}!'.format(name=_NAME_SERNAME_['NAME']))\n",
        "except Exception as error:\n",
        "   print(error)\n",
        "   print('Something went wrong! Check the data entry and try again!')"
      ],
      "execution_count": 30,
      "outputs": [
        {
          "output_type": "display_data",
          "data": {
            "application/javascript": [
              "\n",
              "    async function download(id, filename, size) {\n",
              "      if (!google.colab.kernel.accessAllowed) {\n",
              "        return;\n",
              "      }\n",
              "      const div = document.createElement('div');\n",
              "      const label = document.createElement('label');\n",
              "      label.textContent = `Downloading \"${filename}\": `;\n",
              "      div.appendChild(label);\n",
              "      const progress = document.createElement('progress');\n",
              "      progress.max = size;\n",
              "      div.appendChild(progress);\n",
              "      document.body.appendChild(div);\n",
              "\n",
              "      const buffers = [];\n",
              "      let downloaded = 0;\n",
              "\n",
              "      const channel = await google.colab.kernel.comms.open(id);\n",
              "      // Send a message to notify the kernel that we're ready.\n",
              "      channel.send({})\n",
              "\n",
              "      for await (const message of channel.messages) {\n",
              "        // Send a message to notify the kernel that we're ready.\n",
              "        channel.send({})\n",
              "        if (message.buffers) {\n",
              "          for (const buffer of message.buffers) {\n",
              "            buffers.push(buffer);\n",
              "            downloaded += buffer.byteLength;\n",
              "            progress.value = downloaded;\n",
              "          }\n",
              "        }\n",
              "      }\n",
              "      const blob = new Blob(buffers, {type: 'application/binary'});\n",
              "      const a = document.createElement('a');\n",
              "      a.href = window.URL.createObjectURL(blob);\n",
              "      a.download = filename;\n",
              "      div.appendChild(a);\n",
              "      a.click();\n",
              "      div.remove();\n",
              "    }\n",
              "  "
            ],
            "text/plain": [
              "<IPython.core.display.Javascript object>"
            ]
          },
          "metadata": {
            "tags": []
          }
        },
        {
          "output_type": "display_data",
          "data": {
            "application/javascript": [
              "download(\"download_82e6cb9e-d6a1-4e73-afd1-819c541d8884\", \"HM_4.1.2_LIGHT_by_Doronin.json\", 155)"
            ],
            "text/plain": [
              "<IPython.core.display.Javascript object>"
            ]
          },
          "metadata": {
            "tags": []
          }
        },
        {
          "output_type": "stream",
          "text": [
            "Thanks for the work, Vladimir!\n"
          ],
          "name": "stdout"
        }
      ]
    },
    {
      "cell_type": "code",
      "metadata": {
        "id": "2IsoWN0glMYv",
        "colab_type": "code",
        "colab": {}
      },
      "source": [
        ""
      ],
      "execution_count": null,
      "outputs": []
    }
  ]
}