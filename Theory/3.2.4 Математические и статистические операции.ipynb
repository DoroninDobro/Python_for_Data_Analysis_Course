{
  "nbformat": 4,
  "nbformat_minor": 0,
  "metadata": {
    "colab": {
      "name": "3.2.4 Математические и статистические операции.ipynb",
      "provenance": [],
      "collapsed_sections": []
    },
    "kernelspec": {
      "name": "python3",
      "display_name": "Python 3"
    }
  },
  "cells": [
    {
      "cell_type": "markdown",
      "metadata": {
        "id": "moIM-S1g7SKx",
        "colab_type": "text"
      },
      "source": [
        "# Курс \"Python для анализа данных\"\n",
        "\n",
        "---\n",
        "#3.2.4 Математические и статистические операции\n"
      ]
    },
    {
      "cell_type": "markdown",
      "metadata": {
        "id": "QZ1Arpnj7p_N",
        "colab_type": "text"
      },
      "source": [
        "## Где мы сейчас?\n"
      ]
    },
    {
      "cell_type": "markdown",
      "metadata": {
        "id": "J9A06fP5j1vS",
        "colab_type": "text"
      },
      "source": [
        "<html>\n",
        " <head>\n",
        "  <meta charset=\"utf-8\">\n",
        " </head>\n",
        " <body>\n",
        "  <ul>\n",
        "    <li>1. Введение в анализ данных и разработку на языке Python </li> <!-2.1->\n",
        "    <li>2. Основы языка </li> <!-2.1->\n",
        "    <li>3. <strong>Библиотеки NumPy и SciPy для решения задач анализа данных и машинного обучения</strong> <i><- Вот в этой главе!</i>\n",
        "     <ul>\n",
        "      <li>3.1 Математические дисциплины в анализе данных и машинном обучении</li>      \n",
        "      <li><strong>3.2 Основной объект NumPy ndarray</strong> <i><- Вот в этом параграфе!</i></li>\n",
        "       <ul>\n",
        "        <li>3.2.1 Быстрые поэлементные операции над массивами</li>\n",
        "        <li>3.2.2 Индексирование и вырезание</li>\n",
        "        <li>3.2.3 Уход от циклов: обработка данных с применением массивов</li>\n",
        "        <li><strong>3.2.4 Математические и статистические операции</strong><i> <- Вот в этом пункте!</i></li>\n",
        "        <li>3.2.5 Файловый ввод-вывод массивов</li>\n",
        "       </ul>\n",
        "      <li>3.3 Библиотека SciPy</li>\n",
        "     </ul>\n",
        "    </li>   \n",
        "  </ul>\n",
        " </body>\n",
        "</html>"
      ]
    },
    {
      "cell_type": "markdown",
      "metadata": {
        "id": "z1oJmp_4Po8K",
        "colab_type": "text"
      },
      "source": [
        "## О чем будем говорить?\n"
      ]
    },
    {
      "cell_type": "markdown",
      "metadata": {
        "id": "7X4Wlpraj7Yw",
        "colab_type": "text"
      },
      "source": [
        "О функциях ```NumPy```, позволяющих вычислять статистики массивов ```ndarray```в целом или вдоль одной оси. Также поговорим о функциях, которые позволяют решать задачи линейной алгебры и теории вероятностей."
      ]
    },
    {
      "cell_type": "markdown",
      "metadata": {
        "id": "NhfVXiTGAkND",
        "colab_type": "text"
      },
      "source": [
        "## Ключевые слова, понятия и выражения\n",
        "\n",
        "\n",
        "\n",
        "\n"
      ]
    },
    {
      "cell_type": "markdown",
      "metadata": {
        "id": "ixnuL5V2rZtz",
        "colab_type": "text"
      },
      "source": [
        "*   ```sum()```, ```std()```, ```mean()```\n",
        "*   транспонирование\n",
        "*   матричное умножение\n",
        "*   генерация случайных чисел"
      ]
    },
    {
      "cell_type": "markdown",
      "metadata": {
        "id": "2lFBeeLHjcc7",
        "colab_type": "text"
      },
      "source": [
        "## Материал"
      ]
    },
    {
      "cell_type": "markdown",
      "metadata": {
        "id": "t3QIw61eNINI",
        "colab_type": "text"
      },
      "source": [
        "### Математические и статистические методы"
      ]
    },
    {
      "cell_type": "markdown",
      "metadata": {
        "id": "5W66S0gfUtkZ",
        "colab_type": "text"
      },
      "source": [
        "![alt text](https://drive.google.com/uc?id=1XvWjo9XCAS-CqSs0qKtrU-rZ4boW155k)"
      ]
    },
    {
      "cell_type": "code",
      "metadata": {
        "id": "nEwBfO9mNHQD",
        "colab_type": "code",
        "outputId": "795afee3-10f4-471f-b2b8-80c0a6a0b9c4",
        "colab": {
          "base_uri": "https://localhost:8080/",
          "height": 184
        }
      },
      "source": [
        "import numpy as np\n",
        "\n",
        "arr = np.random.randn(5, 4)\n",
        "print('Исходная матрица\\n', arr)\n",
        "print('Среднее значение', arr.mean())\n",
        "print('Среднее значение', np.mean(arr))\n",
        "print('Сумма элементов', arr.sum())"
      ],
      "execution_count": 0,
      "outputs": [
        {
          "output_type": "stream",
          "text": [
            "Исходная матрица\n",
            " [[ 0.52860787 -1.02747625 -0.27946906  0.75358208]\n",
            " [-0.43146672 -0.10254044  0.91717433  0.3899317 ]\n",
            " [ 0.43689319 -0.09629962  1.53339129 -1.51149779]\n",
            " [ 0.28165691 -0.757956   -1.06177232  0.55057446]\n",
            " [ 0.58612626 -1.35837354  0.03571287 -1.63623133]]\n",
            "Среднее значение -0.11247160518632\n",
            "Среднее значение -0.11247160518632\n",
            "Сумма элементов -2.2494321037264\n"
          ],
          "name": "stdout"
        }
      ]
    },
    {
      "cell_type": "code",
      "metadata": {
        "id": "UdU5nTndPGYq",
        "colab_type": "code",
        "outputId": "336668b7-8391-45d2-a683-85204f24451d",
        "colab": {
          "base_uri": "https://localhost:8080/",
          "height": 91
        }
      },
      "source": [
        "print('Среднее значение по строкам', arr.mean(axis=1))\n",
        "print('Среднее значение по столбцам', arr.mean(axis=0))\n",
        "print('Сумма значений по столбцам', arr.sum(axis=0))\n",
        "print('Сумма значений по строкам', arr.sum(axis=1))"
      ],
      "execution_count": 0,
      "outputs": [
        {
          "output_type": "stream",
          "text": [
            "Среднее значение по строкам [-0.00618884  0.19327471  0.09062177 -0.24687424 -0.59319143]\n",
            "Среднее значение по столбцам [ 0.2803635  -0.66852917  0.22900742 -0.29072817]\n",
            "Сумма значений по столбцам [ 1.40181751 -3.34264586  1.14503712 -1.45364087]\n",
            "Сумма значений по строкам [-0.02475535  0.77309886  0.36248708 -0.98749695 -2.37276574]\n"
          ],
          "name": "stdout"
        }
      ]
    },
    {
      "cell_type": "code",
      "metadata": {
        "id": "lIDGpZ6yPgTj",
        "colab_type": "code",
        "outputId": "66e97210-8a70-40b1-ba2e-f54e0be43e64",
        "colab": {
          "base_uri": "https://localhost:8080/",
          "height": 54
        }
      },
      "source": [
        "arr = np.array([0, 1, 2, 3, 4, 5, 6, 7])\n",
        "print('Исходный массив:', arr)\n",
        "print('Сумма с промежуточными результатами:', arr.cumsum())"
      ],
      "execution_count": 0,
      "outputs": [
        {
          "output_type": "stream",
          "text": [
            "Исходный массив: [0 1 2 3 4 5 6 7]\n",
            "Сумма с промежуточными результатами: [ 0  1  3  6 10 15 21 28]\n"
          ],
          "name": "stdout"
        }
      ]
    },
    {
      "cell_type": "code",
      "metadata": {
        "id": "r5fQTEivUXID",
        "colab_type": "code",
        "outputId": "7ac21107-c6e0-434a-a68f-c0d5634f376a",
        "colab": {
          "base_uri": "https://localhost:8080/",
          "height": 36
        }
      },
      "source": [
        "print('Индекс максимального элемента массива:', arr.argmax())"
      ],
      "execution_count": 0,
      "outputs": [
        {
          "output_type": "stream",
          "text": [
            "Индекс максимального элемента массива: 7\n"
          ],
          "name": "stdout"
        }
      ]
    },
    {
      "cell_type": "markdown",
      "metadata": {
        "id": "baJudqW-VHXT",
        "colab_type": "text"
      },
      "source": [
        "### Методы булевых массивов"
      ]
    },
    {
      "cell_type": "code",
      "metadata": {
        "id": "2RX-FV1uVBHw",
        "colab_type": "code",
        "outputId": "d3b48006-5d3c-42bc-f2b0-fe32fbe15420",
        "colab": {
          "base_uri": "https://localhost:8080/",
          "height": 147
        }
      },
      "source": [
        "arr = np.random.randn(5, 4)\n",
        "print('Исходная матрица\\n', arr)\n",
        "\n",
        "print('Количество положительных значений:',(arr>0).sum())"
      ],
      "execution_count": 0,
      "outputs": [
        {
          "output_type": "stream",
          "text": [
            "Исходная матрица\n",
            " [[ 0.14985978 -0.20548681  0.97504743 -0.22703155]\n",
            " [ 1.14831777  0.28229171 -1.07878193  0.99395241]\n",
            " [-2.30359432 -0.3511886   0.61159009  0.31863064]\n",
            " [-0.3324795  -0.57310043 -0.41103013 -1.70737839]\n",
            " [-0.931477   -0.51110021  1.12233282 -0.19503009]]\n",
            "Количество положительных значений: 8\n"
          ],
          "name": "stdout"
        }
      ]
    },
    {
      "cell_type": "code",
      "metadata": {
        "id": "lomLbF1cVacQ",
        "colab_type": "code",
        "outputId": "82ab6c55-ab7e-46c3-e244-98817a7d2629",
        "colab": {
          "base_uri": "https://localhost:8080/",
          "height": 54
        }
      },
      "source": [
        "bool_arr = np.array([True, False, False])\n",
        "print('Все True:', bool_arr.all())\n",
        "print('Хотя бы один True:', bool_arr.any())"
      ],
      "execution_count": 0,
      "outputs": [
        {
          "output_type": "stream",
          "text": [
            "Все True: False\n",
            "Хотя бы один True: True\n"
          ],
          "name": "stdout"
        }
      ]
    },
    {
      "cell_type": "markdown",
      "metadata": {
        "id": "ac4-kEy5V8y8",
        "colab_type": "text"
      },
      "source": [
        "### Теоретико-множественные операции"
      ]
    },
    {
      "cell_type": "markdown",
      "metadata": {
        "id": "-G51c-GQWQNV",
        "colab_type": "text"
      },
      "source": [
        "![alt text](https://drive.google.com/uc?id=1ziuzpdxlN4tPQwVBk0ij2GFN_0PK37hu)"
      ]
    },
    {
      "cell_type": "code",
      "metadata": {
        "id": "z0Dd0KmbVXNL",
        "colab_type": "code",
        "outputId": "9d355fe7-9c62-48c9-f126-dfb5ec3946dd",
        "colab": {
          "base_uri": "https://localhost:8080/",
          "height": 36
        }
      },
      "source": [
        "ints = np.array([3, 3, 3, 2, 2, 1, 1, 4, 4])\n",
        "np.unique(ints)"
      ],
      "execution_count": 0,
      "outputs": [
        {
          "output_type": "execute_result",
          "data": {
            "text/plain": [
              "array([1, 2, 3, 4])"
            ]
          },
          "metadata": {
            "tags": []
          },
          "execution_count": 25
        }
      ]
    },
    {
      "cell_type": "markdown",
      "metadata": {
        "id": "IDSN-RX5XA3a",
        "colab_type": "text"
      },
      "source": [
        "### Линейная алгебра"
      ]
    },
    {
      "cell_type": "markdown",
      "metadata": {
        "id": "1nncU1OQXznU",
        "colab_type": "text"
      },
      "source": [
        "![alt text](https://drive.google.com/uc?id=1gpvES_c1py_Ww3JKYq7v-HWidLp468pl)"
      ]
    },
    {
      "cell_type": "code",
      "metadata": {
        "id": "TywXpBp2W8Iz",
        "colab_type": "code",
        "outputId": "9adc651f-ec05-45bb-89de-1209dacb4876",
        "colab": {
          "base_uri": "https://localhost:8080/",
          "height": 314
        }
      },
      "source": [
        "A = np.array([[1., 2., 3.], [4., 5., 6.]])\n",
        "B = np.array([[6., 23.], [-1, 7], [8, 9]])\n",
        "print('Матрица A')\n",
        "print(A)\n",
        "print('Матрица B')\n",
        "print(B)\n",
        "\n",
        "print('Произведение матриц A*B')\n",
        "print(A.dot(B))\n",
        "\n",
        "print('Произведение матриц A*B')\n",
        "print(np.dot(A, B))\n",
        "\n",
        "print('Произведение матриц A*B')\n",
        "print(A @ B)"
      ],
      "execution_count": 0,
      "outputs": [
        {
          "output_type": "stream",
          "text": [
            "Матрица A\n",
            "[[1. 2. 3.]\n",
            " [4. 5. 6.]]\n",
            "Матрица B\n",
            "[[ 6. 23.]\n",
            " [-1.  7.]\n",
            " [ 8.  9.]]\n",
            "Произведение матриц A*B\n",
            "[[ 28.  64.]\n",
            " [ 67. 181.]]\n",
            "Произведение матриц A*B\n",
            "[[ 28.  64.]\n",
            " [ 67. 181.]]\n",
            "Произведение матриц A*B\n",
            "[[ 28.  64.]\n",
            " [ 67. 181.]]\n"
          ],
          "name": "stdout"
        }
      ]
    },
    {
      "cell_type": "code",
      "metadata": {
        "id": "lRxPys4RYa_k",
        "colab_type": "code",
        "outputId": "7850c1f8-926a-4f4e-8599-f53aa17d77d2",
        "colab": {
          "base_uri": "https://localhost:8080/",
          "height": 239
        }
      },
      "source": [
        "X = np.random.randn(5, 5)\n",
        "print('Исходная матрица:')\n",
        "print(X)\n",
        "\n",
        "mat = X.T.dot(X)\n",
        "print('Матрица Xtr*X:')\n",
        "print(mat)"
      ],
      "execution_count": 0,
      "outputs": [
        {
          "output_type": "stream",
          "text": [
            "Исходная матрица:\n",
            "[[-0.91780585 -0.05096368  0.83205348  0.65824526  1.3111014 ]\n",
            " [-1.17915452  0.21130346 -1.63801762 -0.30460216 -0.44311461]\n",
            " [-1.33053169  1.29285586 -0.88715365  0.22004652 -0.11119398]\n",
            " [ 0.39665679 -0.28932308  0.27459522  0.68973992 -1.86490823]\n",
            " [ 0.38327062 -0.19470529 -1.63821909 -0.83314364 -0.26576479]]\n",
            "Матрица Xtr*X:\n",
            "[[ 4.3073205  -2.11195714  1.82923719 -0.58347665 -1.37447719]\n",
            " [-2.11195714  1.84034072 -1.2959619   0.14923814  0.28709882]\n",
            " [ 1.82923719 -1.2959619   6.92162064  2.40569499  1.83866824]\n",
            " [-0.58347665  0.14923814  2.40569499  1.74435924 -0.0913493 ]\n",
            " [-1.37447719  0.28709882  1.83866824 -0.0913493   5.47621518]]\n"
          ],
          "name": "stdout"
        }
      ]
    },
    {
      "cell_type": "code",
      "metadata": {
        "id": "w_SYv39_ZmC8",
        "colab_type": "code",
        "outputId": "1dacb80b-fc27-44ae-8622-e37010982036",
        "colab": {
          "base_uri": "https://localhost:8080/",
          "height": 128
        }
      },
      "source": [
        "print('Обратная матрица для Xtr*X:')\n",
        "print(np.linalg.inv(mat))"
      ],
      "execution_count": 0,
      "outputs": [
        {
          "output_type": "stream",
          "text": [
            "Обратная матрица для Xtr*X:\n",
            "[[ 3.47841638  0.9282259  -3.25161988  5.67379511  2.01077907]\n",
            " [ 0.9282259   1.33473203 -0.26475324  0.57511509  0.26148627]\n",
            " [-3.25161988 -0.26475324  3.71907132 -6.30698471 -2.15615048]\n",
            " [ 5.67379511  0.57511509 -6.30698471 11.31383599  3.70024733]\n",
            " [ 2.01077907  0.26148627 -2.15615048  3.70024733  1.45924835]]\n"
          ],
          "name": "stdout"
        }
      ]
    },
    {
      "cell_type": "code",
      "metadata": {
        "id": "nBvUOCeXZD4m",
        "colab_type": "code",
        "outputId": "a99aa059-9450-4a9d-9712-4f4d1c044985",
        "colab": {
          "base_uri": "https://localhost:8080/",
          "height": 221
        }
      },
      "source": [
        "print('(Xtr*X)*(Xtr*X)^(-1):')\n",
        "print(mat.dot(np.linalg.inv(mat)))"
      ],
      "execution_count": 0,
      "outputs": [
        {
          "output_type": "stream",
          "text": [
            "(Xtr*X)*(Xtr*X)^(-1):\n",
            "[[ 1.00000000e+00  1.18759825e-16  6.96708909e-16 -1.68279231e-15\n",
            "  -1.32062042e-15]\n",
            " [-1.02035469e-15  1.00000000e+00 -5.94533270e-16  1.81057247e-16\n",
            "   1.47787604e-15]\n",
            " [ 2.21664328e-15 -1.78215277e-16  1.00000000e+00 -6.30554814e-16\n",
            "  -1.51682746e-15]\n",
            " [ 3.51465268e-16 -1.53291426e-16  1.36662373e-16  1.00000000e+00\n",
            "  -1.29402078e-15]\n",
            " [-2.18101216e-15 -8.73538493e-17 -1.57878072e-15  7.67822159e-16\n",
            "   1.00000000e+00]]\n"
          ],
          "name": "stdout"
        }
      ]
    },
    {
      "cell_type": "code",
      "metadata": {
        "id": "qGmAClMnY55-",
        "colab_type": "code",
        "outputId": "438a3e3c-a20d-48a2-de48-df33affdcd74",
        "colab": {
          "base_uri": "https://localhost:8080/",
          "height": 110
        }
      },
      "source": [
        "s,v,d = np.linalg.svd(mat)\n",
        "s"
      ],
      "execution_count": 0,
      "outputs": [
        {
          "output_type": "execute_result",
          "data": {
            "text/plain": [
              "array([[-0.30327652, -0.62313346, -0.4391579 , -0.40685819,  0.40166502],\n",
              "       [ 0.22022114,  0.29602753,  0.29403985, -0.87994869,  0.05568857],\n",
              "       [-0.8489024 ,  0.03577149,  0.26786638, -0.13829059, -0.43267591],\n",
              "       [-0.24194282,  0.08357476,  0.55846583,  0.20244446,  0.76263431],\n",
              "       [-0.28346851,  0.71819778, -0.58055527, -0.00697622,  0.25834951]])"
            ]
          },
          "metadata": {
            "tags": []
          },
          "execution_count": 30
        }
      ]
    },
    {
      "cell_type": "markdown",
      "metadata": {
        "id": "EgRLrXD1MsKu",
        "colab_type": "text"
      },
      "source": [
        "### Генерация случайных чисел"
      ]
    },
    {
      "cell_type": "markdown",
      "metadata": {
        "id": "cqM6hxY_OEH1",
        "colab_type": "text"
      },
      "source": [
        "![alt text](https://drive.google.com/uc?id=1Z36qj4Pxk_kITNINUFzXl03sZwyr7NEP)"
      ]
    },
    {
      "cell_type": "code",
      "metadata": {
        "id": "32W2UhJqNmQk",
        "colab_type": "code",
        "outputId": "df965b2a-b1c4-454f-87fd-a46dd0318173",
        "colab": {
          "base_uri": "https://localhost:8080/",
          "height": 91
        }
      },
      "source": [
        "samples = np.random.normal(size=(4, 4))\n",
        "samples"
      ],
      "execution_count": 0,
      "outputs": [
        {
          "output_type": "execute_result",
          "data": {
            "text/plain": [
              "array([[ 1.05546473, -0.46636013, -2.52191743,  1.29382948],\n",
              "       [ 0.48556524, -0.72167852, -1.28813533, -0.54316216],\n",
              "       [ 1.34106697,  0.42896088, -0.73745716, -0.44054361],\n",
              "       [ 0.0587648 , -0.51699792, -1.01848425, -0.16325273]])"
            ]
          },
          "metadata": {
            "tags": []
          },
          "execution_count": 31
        }
      ]
    },
    {
      "cell_type": "code",
      "metadata": {
        "id": "UjktuD27MvII",
        "colab_type": "code",
        "outputId": "19af0c68-c190-434b-8139-427df4099903",
        "colab": {
          "base_uri": "https://localhost:8080/",
          "height": 54
        }
      },
      "source": [
        "from random import normalvariate\n",
        "N = 1000000\n",
        "%timeit samples = [normalvariate(0, 1) for _ in range(N)]\n",
        "%timeit np.random.normal(size=N)"
      ],
      "execution_count": 0,
      "outputs": [
        {
          "output_type": "stream",
          "text": [
            "1 loop, best of 3: 675 ms per loop\n",
            "10 loops, best of 3: 43.4 ms per loop\n"
          ],
          "name": "stdout"
        }
      ]
    },
    {
      "cell_type": "markdown",
      "metadata": {
        "id": "5F_hHKVTNzia",
        "colab_type": "text"
      },
      "source": [
        "## Дополнительные материалы и литература"
      ]
    },
    {
      "cell_type": "markdown",
      "metadata": {
        "id": "YWhDk5dJN8NC",
        "colab_type": "text"
      },
      "source": [
        "\n",
        "\n",
        "*   Уэс Маккинли, Python и анализ данных/ Пер. с англ. Слинкин А. А. - М.: ДМК Пресс, 2015. - 482 с.: ил. C. 115"
      ]
    },
    {
      "cell_type": "code",
      "metadata": {
        "id": "iMeG_o8vUoT7",
        "colab_type": "code",
        "colab": {}
      },
      "source": [
        ""
      ],
      "execution_count": 0,
      "outputs": []
    }
  ]
}