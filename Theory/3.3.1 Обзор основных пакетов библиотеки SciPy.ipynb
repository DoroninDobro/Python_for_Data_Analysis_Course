{
  "nbformat": 4,
  "nbformat_minor": 0,
  "metadata": {
    "colab": {
      "name": "3.3.1 Обзор основных пакетов библиотеки SciPy.ipynb",
      "provenance": [],
      "collapsed_sections": [
        "5F_hHKVTNzia"
      ]
    },
    "kernelspec": {
      "name": "python3",
      "display_name": "Python 3"
    }
  },
  "cells": [
    {
      "cell_type": "markdown",
      "metadata": {
        "id": "moIM-S1g7SKx",
        "colab_type": "text"
      },
      "source": [
        "# Курс \"Python для анализа данных\"\n",
        "\n",
        "---\n",
        "#3.3.1 Обзор основных пакетов библиотеки SciPy"
      ]
    },
    {
      "cell_type": "markdown",
      "metadata": {
        "id": "QZ1Arpnj7p_N",
        "colab_type": "text"
      },
      "source": [
        "## Где мы сейчас?\n"
      ]
    },
    {
      "cell_type": "markdown",
      "metadata": {
        "id": "J9A06fP5j1vS",
        "colab_type": "text"
      },
      "source": [
        "<html>\n",
        " <head>\n",
        "  <meta charset=\"utf-8\">\n",
        " </head>\n",
        " <body>\n",
        "  <ul>\n",
        "    <li>1. Введение в анализ данных и разработку на языке Python </li> <!-2.1->\n",
        "    <li>2. Основы языка </li> <!-2.1->\n",
        "    <li>3. <strong>Библиотеки NumPy и SciPy для решения задач анализа данных и машинного обучения</strong> <i><- Вот в этой главе!</i>\n",
        "     <ul>\n",
        "      <li>3.1 Математические дисциплины в анализе данных и машинном обучении</li>      \n",
        "      <li>3.2 Основной объект NumPy ndarray</li>\n",
        "      <li><strong>3.3 Библиотека SciPy</strong> <i><- Вот в этом параграфе!</i></li>\n",
        "       <ul>\n",
        "        <li><strong>3.3.1 Обзор основных пакетов библиотеки SciPy</strong><i> <- Вот в этом пункте!</i></li>\n",
        "        <li>3.3.2 Решение некоторых задач линейной алгебры</li>\n",
        "        <li>3.3.3 Решение некоторых задач математической статистики</li>\n",
        "        <li>3.3.4 Решение некоторых задач математического анализа</li>\n",
        "        <li>3.3.5 Решение специальных задач из области анализа данных и машинного обучения</li>\n",
        "       </ul>\n",
        "     </ul>\n",
        "    </li>   \n",
        "  </ul>\n",
        " </body>\n",
        "</html>\n",
        "\n",
        "\n",
        "\n",
        "\n",
        "\n"
      ]
    },
    {
      "cell_type": "markdown",
      "metadata": {
        "id": "z1oJmp_4Po8K",
        "colab_type": "text"
      },
      "source": [
        "## О чем будем говорить?\n"
      ]
    },
    {
      "cell_type": "markdown",
      "metadata": {
        "id": "7X4Wlpraj7Yw",
        "colab_type": "text"
      },
      "source": [
        "О том, как многие задачи из различных математических дисциплин решаются с использованием пакетов библиотеки ```SciPy```. Настоящее видео обозревает возможности указанной библиотеки и является введением к рассматриваемому параграфу."
      ]
    },
    {
      "cell_type": "markdown",
      "metadata": {
        "id": "NhfVXiTGAkND",
        "colab_type": "text"
      },
      "source": [
        "## Ключевые слова, понятия и выражения\n",
        "\n",
        "\n",
        "\n",
        "\n"
      ]
    },
    {
      "cell_type": "markdown",
      "metadata": {
        "id": "ixnuL5V2rZtz",
        "colab_type": "text"
      },
      "source": [
        "*   ```SciPy```"
      ]
    },
    {
      "cell_type": "markdown",
      "metadata": {
        "id": "2lFBeeLHjcc7",
        "colab_type": "text"
      },
      "source": [
        "## Материал"
      ]
    },
    {
      "cell_type": "markdown",
      "metadata": {
        "id": "m56Orp45u2MY",
        "colab_type": "text"
      },
      "source": [
        "Материалы настоящего блокнота опираются на [документацию](https://docs.scipy.org/doc/scipy/reference/tutorial/index.html)."
      ]
    },
    {
      "cell_type": "markdown",
      "metadata": {
        "id": "g2aiR-NM-1-h",
        "colab_type": "text"
      },
      "source": [
        "### Линейная алгебра"
      ]
    },
    {
      "cell_type": "markdown",
      "metadata": {
        "id": "lbtceWxRCz3A",
        "colab_type": "text"
      },
      "source": [
        "Список всех функций линейной алгебры доступен по [ссылке](https://docs.scipy.org/doc/scipy/reference/linalg.html)."
      ]
    },
    {
      "cell_type": "code",
      "metadata": {
        "id": "FA1mZvi2-38j",
        "colab_type": "code",
        "colab": {
          "base_uri": "https://localhost:8080/",
          "height": 54
        },
        "outputId": "11fd9078-959a-438c-f391-ab55335dccdc"
      },
      "source": [
        "import numpy as np\n",
        "from scipy import linalg\n",
        "A = np.array([[1,2],[3,4]])\n",
        "A"
      ],
      "execution_count": null,
      "outputs": [
        {
          "output_type": "execute_result",
          "data": {
            "text/plain": [
              "array([[1, 2],\n",
              "       [3, 4]])"
            ]
          },
          "metadata": {
            "tags": []
          },
          "execution_count": 3
        }
      ]
    },
    {
      "cell_type": "code",
      "metadata": {
        "id": "kDnJ3BegBMvE",
        "colab_type": "code",
        "colab": {
          "base_uri": "https://localhost:8080/",
          "height": 74
        },
        "outputId": "04f5bd73-2997-4230-f560-53f4700f3119"
      },
      "source": [
        "%timeit np.linalg.inv(A)"
      ],
      "execution_count": null,
      "outputs": [
        {
          "output_type": "stream",
          "text": [
            "The slowest run took 1645.91 times longer than the fastest. This could mean that an intermediate result is being cached.\n",
            "100000 loops, best of 3: 16.3 µs per loop\n"
          ],
          "name": "stdout"
        }
      ]
    },
    {
      "cell_type": "code",
      "metadata": {
        "id": "DJNrsYwHB31E",
        "colab_type": "code",
        "colab": {
          "base_uri": "https://localhost:8080/",
          "height": 74
        },
        "outputId": "20edb93f-74e9-47d3-e49b-323d16c3c49b"
      },
      "source": [
        "%timeit linalg.inv(A)"
      ],
      "execution_count": null,
      "outputs": [
        {
          "output_type": "stream",
          "text": [
            "The slowest run took 1909.33 times longer than the fastest. This could mean that an intermediate result is being cached.\n",
            "100000 loops, best of 3: 10.4 µs per loop\n"
          ],
          "name": "stdout"
        }
      ]
    },
    {
      "cell_type": "markdown",
      "metadata": {
        "id": "8xzgtHXE-5DK",
        "colab_type": "text"
      },
      "source": [
        "### Математическая статистика"
      ]
    },
    {
      "cell_type": "markdown",
      "metadata": {
        "id": "ricHQ9qxFiGr",
        "colab_type": "text"
      },
      "source": [
        "Список всех функций теории вероятностей и математической статистике доступен по [ссылке](https://docs.scipy.org/doc/scipy/reference/stats.html)."
      ]
    },
    {
      "cell_type": "markdown",
      "metadata": {
        "id": "pxE8WtX2IFEE",
        "colab_type": "text"
      },
      "source": [
        "Главные методы непрерывной случайной величины:\n",
        "\n",
        "*   rvs: Random Variates\n",
        "\n",
        "*   pdf: функция плотности\n",
        "\n",
        "*   cdf: функция распределения\n",
        "\n",
        "*   sf: Survival Function (1-CDF)\n",
        "\n",
        "*   ppf: Percent Point Function (Inverse of CDF)\n",
        "\n",
        "*   isf: Inverse Survival Function (Inverse of SF)\n",
        "\n",
        "*   stats: получение среднего(mean), дисперсии(variance), скошенности(skew), эксцесса(kurtosis)\n",
        "\n",
        "*   moment: моменты распределения\n"
      ]
    },
    {
      "cell_type": "code",
      "metadata": {
        "id": "hCG68RL_GwlC",
        "colab_type": "code",
        "colab": {
          "base_uri": "https://localhost:8080/",
          "height": 35
        },
        "outputId": "c74f1c09-5968-4cfb-c4d9-3c6c6091e4a9"
      },
      "source": [
        "from scipy import stats\n",
        "stats.norm.cdf(0)"
      ],
      "execution_count": null,
      "outputs": [
        {
          "output_type": "execute_result",
          "data": {
            "text/plain": [
              "0.5"
            ]
          },
          "metadata": {
            "tags": []
          },
          "execution_count": 6
        }
      ]
    },
    {
      "cell_type": "code",
      "metadata": {
        "id": "yZn99GdVJqfO",
        "colab_type": "code",
        "colab": {
          "base_uri": "https://localhost:8080/",
          "height": 35
        },
        "outputId": "a58d32fc-a572-4fc5-8982-2177ce54167f"
      },
      "source": [
        "stats.norm.cdf([-1., 0, 1])"
      ],
      "execution_count": null,
      "outputs": [
        {
          "output_type": "execute_result",
          "data": {
            "text/plain": [
              "array([0.15865525, 0.5       , 0.84134475])"
            ]
          },
          "metadata": {
            "tags": []
          },
          "execution_count": 7
        }
      ]
    },
    {
      "cell_type": "code",
      "metadata": {
        "id": "Ydr1muaj--Ah",
        "colab_type": "code",
        "colab": {
          "base_uri": "https://localhost:8080/",
          "height": 35
        },
        "outputId": "06531588-e435-4ede-c0e5-39e9b560841f"
      },
      "source": [
        "%timeit np.random.normal(size=10000)"
      ],
      "execution_count": null,
      "outputs": [
        {
          "output_type": "stream",
          "text": [
            "1000 loops, best of 3: 501 µs per loop\n"
          ],
          "name": "stdout"
        }
      ]
    },
    {
      "cell_type": "code",
      "metadata": {
        "id": "IT3-TJrhGsOQ",
        "colab_type": "code",
        "colab": {
          "base_uri": "https://localhost:8080/",
          "height": 74
        },
        "outputId": "5e7c11ed-c99b-40ef-8c46-3c7dcdab1988"
      },
      "source": [
        "%timeit stats.norm.rvs(size=10000)"
      ],
      "execution_count": null,
      "outputs": [
        {
          "output_type": "stream",
          "text": [
            "The slowest run took 4.03 times longer than the fastest. This could mean that an intermediate result is being cached.\n",
            "1000 loops, best of 3: 635 µs per loop\n"
          ],
          "name": "stdout"
        }
      ]
    },
    {
      "cell_type": "markdown",
      "metadata": {
        "id": "rX3O22VE--n5",
        "colab_type": "text"
      },
      "source": [
        "### Математический анализ"
      ]
    },
    {
      "cell_type": "markdown",
      "metadata": {
        "id": "XTuHecm0XoZ_",
        "colab_type": "text"
      },
      "source": [
        "Для решения задач математического анализа в библиотеке ```SciPy``` имеются следующие модули:\n",
        "\n",
        "*   [scipy.integrate](https://docs.scipy.org/doc/scipy/reference/tutorial/integrate.html) \n",
        "*   [scipy.optimize](https://docs.scipy.org/doc/scipy/reference/tutorial/optimize.html)\n",
        "*   [scipy.interpolate](https://docs.scipy.org/doc/scipy/reference/tutorial/index.html)\n",
        "\n"
      ]
    },
    {
      "cell_type": "code",
      "metadata": {
        "id": "kLgRujyJ_Bt5",
        "colab_type": "code",
        "colab": {
          "base_uri": "https://localhost:8080/",
          "height": 35
        },
        "outputId": "bcfde8eb-52b9-4920-a3dd-1b912ca52118"
      },
      "source": [
        "import scipy.integrate as integrate\n",
        "def f(x):\n",
        "  return x\n",
        "\n",
        "result = integrate.quad(f, 0,1)\n",
        "print(result)"
      ],
      "execution_count": null,
      "outputs": [
        {
          "output_type": "stream",
          "text": [
            "(0.5, 5.551115123125783e-15)\n"
          ],
          "name": "stdout"
        }
      ]
    },
    {
      "cell_type": "markdown",
      "metadata": {
        "id": "5F_hHKVTNzia",
        "colab_type": "text"
      },
      "source": [
        "## Дополнительные материалы и литература"
      ]
    },
    {
      "cell_type": "markdown",
      "metadata": {
        "id": "YWhDk5dJN8NC",
        "colab_type": "text"
      },
      "source": [
        "\n",
        "\n",
        "*   https://docs.scipy.org/doc/scipy/reference/tutorial/"
      ]
    },
    {
      "cell_type": "code",
      "metadata": {
        "id": "Hsm5IgDv5jPl",
        "colab_type": "code",
        "colab": {}
      },
      "source": [
        ""
      ],
      "execution_count": null,
      "outputs": []
    }
  ]
}