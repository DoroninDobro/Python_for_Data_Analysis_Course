{
  "nbformat": 4,
  "nbformat_minor": 0,
  "metadata": {
    "colab": {
      "name": "HW_2_9_3_Pro.ipynb",
      "provenance": [],
      "collapsed_sections": []
    },
    "kernelspec": {
      "name": "python3",
      "display_name": "Python 3"
    }
  },
  "cells": [
    {
      "cell_type": "markdown",
      "metadata": {
        "id": "MH-3kVwvJYeP",
        "colab_type": "text"
      },
      "source": [
        "# Курс \"Python для анализа данных\"\n",
        "\n",
        "---\n",
        "# Домашнее задание PRO\n",
        "#2.9.3 Обработка строк, регулярные выражения"
      ]
    },
    {
      "cell_type": "code",
      "metadata": {
        "id": "fGNSU6VDMU7f",
        "colab_type": "code",
        "colab": {}
      },
      "source": [
        "# Запустите код ниже для старта, но не правьте во избежании ошибок проверки!\n",
        "_HOMEWORK_NAME_ = '2.9.3_PRO'\n",
        "_HOMEWORK_ANSWER_DICT_ = dict()"
      ],
      "execution_count": 0,
      "outputs": []
    },
    {
      "cell_type": "markdown",
      "metadata": {
        "id": "xp_DlvMXJ8Ed",
        "colab_type": "text"
      },
      "source": [
        "## ФИО участника"
      ]
    },
    {
      "cell_type": "code",
      "metadata": {
        "id": "RHUt9t1XMw9a",
        "colab_type": "code",
        "colab": {}
      },
      "source": [
        "# Введите ваше имя и фамилию в соответствующую позицию 'NAME' и 'LAST_NAME'!\n",
        "# Пример: Иван Иванов - 'NAME' : 'Иван', 'LAST_NAME' : 'Иванов'\n",
        "_NAME_SERNAME_ = {\n",
        "    'NAME' : 'Vladimir',\n",
        "    'LAST_NAME' : 'Doronin'\n",
        "}"
      ],
      "execution_count": 0,
      "outputs": []
    },
    {
      "cell_type": "markdown",
      "metadata": {
        "id": "gMwyKhlQJ1mf",
        "colab_type": "text"
      },
      "source": [
        "## Задание 1"
      ]
    },
    {
      "cell_type": "markdown",
      "metadata": {
        "id": "Owu684lKKrjJ",
        "colab_type": "text"
      },
      "source": [
        "**Условие:** \n",
        "Перевести текст ```_Text_``` в нижний регистр(```str.lower```), подсчитать статистику встречаемости символов(модуль ```collections```), получить лист всех слов(модуль ```re```). \n",
        "\n",
        "**Оценка в баллах:** 3 балла"
      ]
    },
    {
      "cell_type": "markdown",
      "metadata": {
        "id": "OCTvo3fHLaaJ",
        "colab_type": "text"
      },
      "source": [
        "**Решение:**"
      ]
    },
    {
      "cell_type": "code",
      "metadata": {
        "id": "f9_8IGndLeRO",
        "colab_type": "code",
        "colab": {}
      },
      "source": [
        "# Не изменять!\n",
        "_Text_ = r'Представим, что какая-нибудь высокоразвитая цивилизация нашла быстровращающуюся чёрную дыру и построила вокруг неё сферическую оболочку из зеркал, обращённых внутрь. Оболочку сплошную, как каноническая сфера Дайсона. Благо, чёрные дыры намного меньше звёзд, так что и оболочку построить несравненно проще. Теперь открываем в ней отверстие и запускаем внутрь пучок электромагнитных волн. Эти волны получают с помощью эргосферы ускорение и вылетают наружу, отражаются от зеркала, возвращаются в эргосферу, ещё больше ускоряются, опять вылетают, отражаются, возвращаются, ускоряются, и т. д. (какая-то часть волн будет потеряна из-за падения на горизонт событий). Каждое попадание излучения в эргосферу приводит его экспоненциальному усилению. Это так называемый эффект рассеивания с помощью сверхизлучения, впервые предсказанный советским физиком Яковом Зельдовичем.'"
      ],
      "execution_count": 0,
      "outputs": []
    },
    {
      "cell_type": "code",
      "metadata": {
        "id": "NfVB5hkxgXu9",
        "colab_type": "code",
        "colab": {}
      },
      "source": [
        "from collections import Counter\n",
        "import re\n",
        "\n",
        "_Text_ = _Text_.lower()\n",
        "c = Counter()\n",
        "for letter in _Text_:\n",
        "  c[letter] += 1\n",
        "\n",
        "l_word = re.findall(r'\\w+', _Text_)\n",
        "# I hope, you mean it"
      ],
      "execution_count": 0,
      "outputs": []
    },
    {
      "cell_type": "markdown",
      "metadata": {
        "colab_type": "text",
        "id": "g5S0h2-wKfGE"
      },
      "source": [
        "## Задание 2"
      ]
    },
    {
      "cell_type": "markdown",
      "metadata": {
        "colab_type": "text",
        "id": "orX7BUzcPKKf"
      },
      "source": [
        "**Условие:** \n",
        "Напишите функцию, которая просит пользователя ввести название параграфа и страницу, после чего разбирает данную строку и делает красивый форматированный вывод в виде: ```Название параграфа---------12```. Количество знаков ```-``` зависит от ширины поля, заданного в параметрах функции.  \n",
        "\n",
        "\n",
        "**Оценка в баллах:** 3 балла"
      ]
    },
    {
      "cell_type": "markdown",
      "metadata": {
        "colab_type": "text",
        "id": "ESSLfwqEPKKn"
      },
      "source": [
        "**Решение:**"
      ]
    },
    {
      "cell_type": "code",
      "metadata": {
        "colab_type": "code",
        "id": "y8HOlaNLPKKq",
        "colab": {
          "base_uri": "https://localhost:8080/",
          "height": 51
        },
        "outputId": "d4c8a60e-9bdc-4e4b-b520-2f17d140bb32"
      },
      "source": [
        "def so_strange_beauty(width):\n",
        "  text = input('Введите название параграфа и номер страницы через один пробел: ')\n",
        "  # page = re.search(r'\\d+', text)\n",
        "  # I think this is not best solution\n",
        "  count_ = width - len(text) + 1\n",
        "  last_space = text.rfind(' ')\n",
        "  return text[:last_space] + '-'*count_ + text[last_space+1:]\n",
        "\n",
        "so_strange_beauty(70)"
      ],
      "execution_count": 10,
      "outputs": [
        {
          "output_type": "stream",
          "text": [
            "Введите название параграфа и номер страницы через один пробел: Doronin Vovka 45\n"
          ],
          "name": "stdout"
        },
        {
          "output_type": "execute_result",
          "data": {
            "text/plain": [
              "'Doronin Vovka-------------------------------------------------------45'"
            ]
          },
          "metadata": {
            "tags": []
          },
          "execution_count": 10
        }
      ]
    },
    {
      "cell_type": "markdown",
      "metadata": {
        "id": "kiKkFcn6KQFA",
        "colab_type": "text"
      },
      "source": [
        "## Комментарии участника"
      ]
    },
    {
      "cell_type": "code",
      "metadata": {
        "id": "3aI3lBQVdvaY",
        "colab_type": "code",
        "colab": {}
      },
      "source": [
        "_YOUR_COMMENT_ = 'All right!'"
      ],
      "execution_count": 0,
      "outputs": []
    },
    {
      "cell_type": "markdown",
      "metadata": {
        "id": "TvzA7RQXcywE",
        "colab_type": "text"
      },
      "source": [
        "## Создание отчета"
      ]
    },
    {
      "cell_type": "code",
      "metadata": {
        "id": "y-d24eqmdn4x",
        "colab_type": "code",
        "colab": {
          "base_uri": "https://localhost:8080/",
          "height": 34
        },
        "outputId": "ff43bc65-fc7e-4de5-8f9c-2fad4043bbe0"
      },
      "source": [
        "# Проверьте правильность заполнения полей выше и \n",
        "# выполните данный код для создания отчета\n",
        "# и сохранения его на локальную машину\n",
        "from google.colab import files\n",
        "import json\n",
        "try:\n",
        "  # form a report\n",
        "  _HM_REPORT_ = {'Answers':_HOMEWORK_ANSWER_DICT_,\n",
        "                'Comment':_YOUR_COMMENT_,\n",
        "                'User':_NAME_SERNAME_,\n",
        "                }\n",
        "\n",
        "  # create a report name\n",
        "  _REPORT_NAME_ = 'HM_' +\\\n",
        "                    _HOMEWORK_NAME_ + \\\n",
        "                  '_by_' + \\\n",
        "                  _NAME_SERNAME_['LAST_NAME'] + \\\n",
        "                  '.json'\n",
        "  \n",
        "  # Save a report to a file\n",
        "  f = open(_REPORT_NAME_,\"w\")\n",
        "  f.write(json.dumps(_HM_REPORT_))\n",
        "  f.close()\n",
        "\n",
        "  # Donwnload the file into a local host\n",
        "  files.download(_REPORT_NAME_) \n",
        "  print('Thanks for the work, {name}!'.format(name=_NAME_SERNAME_['NAME']))\n",
        "except Exception as error:\n",
        "   print(error)\n",
        "   print('Something went wrong! Check the data entry and try again!')"
      ],
      "execution_count": 12,
      "outputs": [
        {
          "output_type": "stream",
          "text": [
            "Thanks for the work, Vladimir!\n"
          ],
          "name": "stdout"
        }
      ]
    }
  ]
}