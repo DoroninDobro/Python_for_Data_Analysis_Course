{
  "nbformat": 4,
  "nbformat_minor": 0,
  "metadata": {
    "colab": {
      "name": "HW_2_8_2_Pro.ipynb",
      "provenance": [],
      "collapsed_sections": []
    },
    "kernelspec": {
      "name": "python3",
      "display_name": "Python 3"
    }
  },
  "cells": [
    {
      "cell_type": "markdown",
      "metadata": {
        "id": "MH-3kVwvJYeP",
        "colab_type": "text"
      },
      "source": [
        "# Курс \"Python для анализа данных\"\n",
        "\n",
        "---\n",
        "# Домашнее задание PRO\n",
        "#2.8.2 Создание собственных классов"
      ]
    },
    {
      "cell_type": "code",
      "metadata": {
        "id": "fGNSU6VDMU7f",
        "colab_type": "code",
        "colab": {}
      },
      "source": [
        "# Запустите код ниже для старта, но не правьте во избежании ошибок проверки!\n",
        "_HOMEWORK_NAME_ = '2.8.2_PRO'\n",
        "_HOMEWORK_ANSWER_DICT_ = dict()"
      ],
      "execution_count": 0,
      "outputs": []
    },
    {
      "cell_type": "markdown",
      "metadata": {
        "id": "xp_DlvMXJ8Ed",
        "colab_type": "text"
      },
      "source": [
        "## ФИО участника"
      ]
    },
    {
      "cell_type": "code",
      "metadata": {
        "id": "RHUt9t1XMw9a",
        "colab_type": "code",
        "colab": {}
      },
      "source": [
        "# Введите ваше имя и фамилию в соответствующую позицию 'NAME' и 'LAST_NAME'!\n",
        "# Пример: Иван Иванов - 'NAME' : 'Иван', 'LAST_NAME' : 'Иванов'\n",
        "_NAME_SERNAME_ = {\n",
        "    'NAME' : 'Vladimir',\n",
        "    'LAST_NAME' : 'Doronin'\n",
        "}"
      ],
      "execution_count": 0,
      "outputs": []
    },
    {
      "cell_type": "markdown",
      "metadata": {
        "id": "gMwyKhlQJ1mf",
        "colab_type": "text"
      },
      "source": [
        "## Задание 1"
      ]
    },
    {
      "cell_type": "markdown",
      "metadata": {
        "id": "Owu684lKKrjJ",
        "colab_type": "text"
      },
      "source": [
        "**Условие:** Создайте собственный класс ```Person``` работника компании. Добавьте следующие атрибуты данных, использую конструктор ```__init__```:\n",
        "\n",
        "*   ```name```(фамилия)\n",
        "*   ```job```(должность)\n",
        "*   ```pai```(зарплата)\n",
        "\n",
        "Создайте метод класса ```person_raise(self, prcnt)```, который повышает зарплату на ```prcnt``` процентов от имеющегося значения. Создайте работника и выведите кортеж с 2мя значениями: (зарплата при создании работника, зарплата после повышения на 20%)\n",
        "\n",
        "**Формат ответа:** кортеж (например, ```(150, 200)```)\n",
        "\n",
        "**Оценка в баллах:** 3"
      ]
    },
    {
      "cell_type": "markdown",
      "metadata": {
        "id": "OCTvo3fHLaaJ",
        "colab_type": "text"
      },
      "source": [
        "**Решение:**"
      ]
    },
    {
      "cell_type": "code",
      "metadata": {
        "id": "f9_8IGndLeRO",
        "colab_type": "code",
        "colab": {}
      },
      "source": [
        "class Person:\n",
        "  \n",
        "  def __init__(self, name, job=None, pai=0): \n",
        "    # the task does not say to give them default values, but it seemed more logical to me\n",
        "    self.name = name\n",
        "    self.job = job\n",
        "    self.pai = pai\n",
        "\n",
        "  def person_raise(self, prcnt):\n",
        "    self.pai += self.pai * prcnt / 100 "
      ],
      "execution_count": 0,
      "outputs": []
    },
    {
      "cell_type": "code",
      "metadata": {
        "id": "o1ATJ-XJP9tW",
        "colab_type": "code",
        "colab": {
          "base_uri": "https://localhost:8080/",
          "height": 34
        },
        "outputId": "e2a88579-b131-4d3d-b2dd-25ea85e0cb94"
      },
      "source": [
        "Vasya = Person('Vasya', job='DataScinetist', pai=10000)\n",
        "old_pai = Vasya.pai\n",
        "Vasya.person_raise(20)\n",
        "new_pai = Vasya.pai\n",
        "ans1 = (old_pai, new_pai)\n",
        "print(ans1)"
      ],
      "execution_count": 14,
      "outputs": [
        {
          "output_type": "stream",
          "text": [
            "(10000, 12000.0)\n"
          ],
          "name": "stdout"
        }
      ]
    },
    {
      "cell_type": "markdown",
      "metadata": {
        "id": "p0CmJgA5LWoT",
        "colab_type": "text"
      },
      "source": [
        "**Ответ:**"
      ]
    },
    {
      "cell_type": "code",
      "metadata": {
        "id": "bL0LuTGTJShl",
        "colab_type": "code",
        "colab": {}
      },
      "source": [
        "# Не изменяйте текст до знака = во избежании ошибок проверки!\n",
        "_HOMEWORK_ANSWER_DICT_['A1'] = ans1"
      ],
      "execution_count": 0,
      "outputs": []
    },
    {
      "cell_type": "markdown",
      "metadata": {
        "colab_type": "text",
        "id": "g5S0h2-wKfGE"
      },
      "source": [
        "## Задание 2"
      ]
    },
    {
      "cell_type": "markdown",
      "metadata": {
        "colab_type": "text",
        "id": "orX7BUzcPKKf"
      },
      "source": [
        "**Условие:** Создайте класс ```Manager``` наследника класса ```Person```, который имеет дополнительный атрибут данных ```client_counts```(количество клиентов). В классе ```Manager``` создайте метод ```manager_raise()```, который \n",
        "увеличивает количество клиентов менеджера на 1 и зарплату менеджера на 1%. Выведите кортеж с 2мя значениями: (зарплата менеджера при создании, зарплата после добавления 10 клиентов). Замечание: зарплата менеджера должна быть повышена с использованием методов наследуемого класса.\n",
        "\n",
        "**Формат ответа:** кортеж (например, ```(150, 170)```)\n",
        "\n",
        "**Оценка в баллах:** 3 "
      ]
    },
    {
      "cell_type": "markdown",
      "metadata": {
        "colab_type": "text",
        "id": "ESSLfwqEPKKn"
      },
      "source": [
        "**Решение:**"
      ]
    },
    {
      "cell_type": "code",
      "metadata": {
        "colab_type": "code",
        "id": "y8HOlaNLPKKq",
        "colab": {}
      },
      "source": [
        "class Manager(Person):\n",
        "  def __init__(self, name, job='Manager', pai=5000, client_counts=0): \n",
        "    # I again take liberties with the parameters\n",
        "    self.name = name\n",
        "    self.job = job\n",
        "    self.pai = pai\n",
        "    self.client_counts = client_counts\n",
        "\n",
        "  def manager_raise(self, count=1):\n",
        "    self.pai += self.pai * count / 100\n",
        "    self.client_counts += count"
      ],
      "execution_count": 0,
      "outputs": []
    },
    {
      "cell_type": "code",
      "metadata": {
        "id": "2frprGenQIyP",
        "colab_type": "code",
        "colab": {
          "base_uri": "https://localhost:8080/",
          "height": 34
        },
        "outputId": "6aea0a03-17ac-46da-c411-eae5eb4622c4"
      },
      "source": [
        "Lisa = Manager('Lisa', client_counts=70, pai=7600)\n",
        "old_pai = Lisa.pai\n",
        "Lisa.manager_raise(10)\n",
        "new_pai = Lisa.pai\n",
        "ans2 = (old_pai, new_pai)\n",
        "print(ans2)"
      ],
      "execution_count": 17,
      "outputs": [
        {
          "output_type": "stream",
          "text": [
            "(7600, 8360.0)\n"
          ],
          "name": "stdout"
        }
      ]
    },
    {
      "cell_type": "markdown",
      "metadata": {
        "colab_type": "text",
        "id": "Trvrl2qPPKKx"
      },
      "source": [
        "**Ответ:**"
      ]
    },
    {
      "cell_type": "code",
      "metadata": {
        "colab_type": "code",
        "id": "iiWu4IpuKfxV",
        "colab": {}
      },
      "source": [
        "# Не изменяйте текст до знака = во избежании ошибок проверки!\n",
        "_HOMEWORK_ANSWER_DICT_['A2'] = ans2"
      ],
      "execution_count": 0,
      "outputs": []
    },
    {
      "cell_type": "markdown",
      "metadata": {
        "colab_type": "text",
        "id": "tq0Fcrg1KfXQ"
      },
      "source": [
        "## Задание 3"
      ]
    },
    {
      "cell_type": "markdown",
      "metadata": {
        "colab_type": "text",
        "id": "3xp-jyyHPMIb"
      },
      "source": [
        "**Условие:** Используя конструктор, создайте класс ```Department``` с атрибутами данных:\n",
        "\n",
        "*   ```name```(название департамента)\n",
        "*   ```chief```(начальник - объект класса ```Person```)\n",
        "*   ```person_list```(список подчиненных - объектов классов ```Person``` и ```Manager```)\n",
        "\n",
        "Создайте департамент с ```5``` менеджерами и ```5``` разнорабочими. Создайте метод класса ```xristmas_tree()```, который выберает ```3``` случайных сотрудников (можно/нужно начальника) и повышает им зарплату на ```30%```. Запустите этот метод ```20``` раз и выведите количество поощренных сотрудников(поощренный - получил надбавку хотя бы один раз).\n",
        "\n",
        "**Формат ответа:** число(например, 3)\n",
        "\n",
        "**Оценка в баллах:** 4"
      ]
    },
    {
      "cell_type": "markdown",
      "metadata": {
        "colab_type": "text",
        "id": "H5ZlBsI2PMIi"
      },
      "source": [
        "**Решение:**"
      ]
    },
    {
      "cell_type": "code",
      "metadata": {
        "colab_type": "code",
        "id": "6amsYUCoPMIn",
        "colab": {}
      },
      "source": [
        "import random\n",
        "\n",
        "class Department:\n",
        "\n",
        "  def __init__(self, name, chief, person_list):\n",
        "    self.name = name\n",
        "    self.chief = chief\n",
        "    self.person_list = person_list\n",
        "\n",
        "  def xristmas_tree(self):\n",
        "    employees = self.person_list[:]\n",
        "    employees.append(self.chief)\n",
        "    luckers = random.sample(employees,3)\n",
        "    for l in luckers:\n",
        "      l.person_raise(30)\n",
        "\n",
        "  def add_employee(self, Person):\n",
        "    self.person_list.append(Person)"
      ],
      "execution_count": 0,
      "outputs": []
    },
    {
      "cell_type": "code",
      "metadata": {
        "id": "7qpStrr4R0tY",
        "colab_type": "code",
        "colab": {
          "base_uri": "https://localhost:8080/",
          "height": 34
        },
        "outputId": "0c2a2b11-9e45-4fdb-d527-6293d0a1dde1"
      },
      "source": [
        "Putin = Person('Vovka', job='God', pai=100000000000000000000000)\n",
        "Google = Department('Google', Putin, [Putin])\n",
        "Lisa = Manager('Lisa', client_counts=70, pai=7600)\n",
        "Google.add_employee(Lisa)\n",
        "Kolya = Manager('Kolya', client_counts=7, pai=3400)\n",
        "Google.add_employee(Kolya)\n",
        "Denis = Manager('Denis', client_counts=17, pai=4600)\n",
        "Google.add_employee(Denis)\n",
        "Anna = Manager('Anna', client_counts=9, pai=2400)\n",
        "Google.add_employee(Lisa)\n",
        "Ron = Manager('Ron', client_counts=700, pai=72600)\n",
        "Google.add_employee(Ron)\n",
        "Vasya = Person('Vasya', job='Handyman', pai=1000)\n",
        "Google.add_employee(Vasya)\n",
        "Petya = Person('Petya', job='Handyman', pai=1000)\n",
        "Google.add_employee(Petya)\n",
        "Sasha = Person('Sasha', job='Handyman', pai=1000)\n",
        "Google.add_employee(Sasha)\n",
        "Garry = Person('Garry', job='Handyman', pai=1000)\n",
        "Google.add_employee(Garry)\n",
        "Malfoy = Person('Malfoy', job='Handyman', pai=780)\n",
        "Google.add_employee(Malfoy)\n",
        "\n",
        "# make list of old salary\n",
        "old_pai = {}\n",
        "for emp in Google.person_list:\n",
        "  old_pai[emp] = emp.pai\n",
        "\n",
        "# distribution of bonuses\n",
        "for _ in range(20):\n",
        "  Google.xristmas_tree()\n",
        "\n",
        "# make list of new_salary and write count luckers\n",
        "new_pai = {}\n",
        "for emp in Google.person_list:\n",
        "  new_pai[emp] = emp.pai\n",
        "\n",
        "ans3 = 0\n",
        "for emp in Google.person_list:\n",
        "  if new_pai[emp] != old_pai[emp]:\n",
        "    ans3 += 1\n",
        "\n",
        "print(ans3)\n",
        "# in fact, we could just write 11 and almost never make a mistake"
      ],
      "execution_count": 54,
      "outputs": [
        {
          "output_type": "stream",
          "text": [
            "11\n"
          ],
          "name": "stdout"
        }
      ]
    },
    {
      "cell_type": "markdown",
      "metadata": {
        "colab_type": "text",
        "id": "WD4OnFZXPMIx"
      },
      "source": [
        "**Ответ:**"
      ]
    },
    {
      "cell_type": "code",
      "metadata": {
        "colab_type": "code",
        "id": "_UaAEhX7Kflq",
        "colab": {}
      },
      "source": [
        "# Не изменяйте текст до знака = во избежании ошибок проверки!\n",
        "_HOMEWORK_ANSWER_DICT_['A3'] = ans3"
      ],
      "execution_count": 0,
      "outputs": []
    },
    {
      "cell_type": "markdown",
      "metadata": {
        "id": "kiKkFcn6KQFA",
        "colab_type": "text"
      },
      "source": [
        "## Комментарии участника"
      ]
    },
    {
      "cell_type": "code",
      "metadata": {
        "id": "3aI3lBQVdvaY",
        "colab_type": "code",
        "colab": {}
      },
      "source": [
        "_YOUR_COMMENT_ = 'All right!'"
      ],
      "execution_count": 0,
      "outputs": []
    },
    {
      "cell_type": "markdown",
      "metadata": {
        "id": "TvzA7RQXcywE",
        "colab_type": "text"
      },
      "source": [
        "## Создание отчета"
      ]
    },
    {
      "cell_type": "code",
      "metadata": {
        "id": "y-d24eqmdn4x",
        "colab_type": "code",
        "colab": {
          "base_uri": "https://localhost:8080/",
          "height": 34
        },
        "outputId": "c8f9f5c1-746a-4d4c-f92b-23bb6a1b5d87"
      },
      "source": [
        "# Проверьте правильность заполнения полей выше и \n",
        "# выполните данный код для создания отчета\n",
        "# и сохранения его на локальную машину\n",
        "from google.colab import files\n",
        "import json\n",
        "try:\n",
        "  # form a report\n",
        "  _HM_REPORT_ = {'Answers':_HOMEWORK_ANSWER_DICT_,\n",
        "                'Comment':_YOUR_COMMENT_,\n",
        "                'User':_NAME_SERNAME_,\n",
        "                }\n",
        "\n",
        "  # create a report name\n",
        "  _REPORT_NAME_ = 'HM_' +\\\n",
        "                    _HOMEWORK_NAME_ + \\\n",
        "                  '_by_' + \\\n",
        "                  _NAME_SERNAME_['LAST_NAME'] + \\\n",
        "                  '.json'\n",
        "  \n",
        "  # Save a report to a file\n",
        "  f = open(_REPORT_NAME_,\"w\")\n",
        "  f.write(json.dumps(_HM_REPORT_))\n",
        "  f.close()\n",
        "\n",
        "  # Donwnload the file into a local host\n",
        "  files.download(_REPORT_NAME_) \n",
        "  print('Thanks for the work, {name}!'.format(name=_NAME_SERNAME_['NAME']))\n",
        "except Exception as error:\n",
        "   print(error)\n",
        "   print('Something went wrong! Check the data entry and try again!')"
      ],
      "execution_count": 57,
      "outputs": [
        {
          "output_type": "stream",
          "text": [
            "Thanks for the work, Vladimir!\n"
          ],
          "name": "stdout"
        }
      ]
    }
  ]
}