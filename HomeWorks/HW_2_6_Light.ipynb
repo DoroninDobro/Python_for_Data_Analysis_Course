{
  "nbformat": 4,
  "nbformat_minor": 0,
  "metadata": {
    "colab": {
      "name": "HW_2_6_Light.ipynb",
      "provenance": [],
      "collapsed_sections": []
    },
    "kernelspec": {
      "name": "python3",
      "display_name": "Python 3"
    }
  },
  "cells": [
    {
      "cell_type": "markdown",
      "metadata": {
        "id": "MH-3kVwvJYeP",
        "colab_type": "text"
      },
      "source": [
        "# Курс \"Python для анализа данных\"\n",
        "\n",
        "---\n",
        "# Домашнее задание LIGHT\n",
        "#2.6 Модули"
      ]
    },
    {
      "cell_type": "code",
      "metadata": {
        "id": "fGNSU6VDMU7f",
        "colab_type": "code",
        "colab": {}
      },
      "source": [
        "# Запустите код ниже для старта, но не правьте во избежании ошибок проверки!\n",
        "_HOMEWORK_NAME_ = '2.6_LIGHT'\n",
        "_HOMEWORK_ANSWER_DICT_ = dict()"
      ],
      "execution_count": 0,
      "outputs": []
    },
    {
      "cell_type": "markdown",
      "metadata": {
        "id": "xp_DlvMXJ8Ed",
        "colab_type": "text"
      },
      "source": [
        "## ФИО участника"
      ]
    },
    {
      "cell_type": "code",
      "metadata": {
        "id": "RHUt9t1XMw9a",
        "colab_type": "code",
        "colab": {}
      },
      "source": [
        "# Введите ваше имя и фамилию в соответствующую позицию 'NAME' и 'LAST_NAME'!\n",
        "# Пример: Иван Иванов - 'NAME' : 'Иван', 'LAST_NAME' : 'Иванов'\n",
        "_NAME_SERNAME_ = {\n",
        "    'NAME' : 'Vladimir',\n",
        "    'LAST_NAME' : 'Doronin'\n",
        "}"
      ],
      "execution_count": 0,
      "outputs": []
    },
    {
      "cell_type": "markdown",
      "metadata": {
        "colab_type": "text",
        "id": "Ul9jm4IVKflm"
      },
      "source": [
        "## Задание 1"
      ]
    },
    {
      "cell_type": "markdown",
      "metadata": {
        "colab_type": "text",
        "id": "MHcCRybmPN2l"
      },
      "source": [
        "**Условие:** \n",
        "Посчитать значение $\\cos^2(\\pi/7)$ и $\\sin^2(\\pi/7)$, используя указанные функции из библиотеки ```math```, применив для этого **каждую** из конструкций импорта:\n",
        "```\n",
        "# 1. Импорт модуля или модулей целиком\n",
        "import имя_модуля\n",
        "import имя_модуля1, имя_модуля2\n",
        " \n",
        "# 2. Импорт модуля с присвоением псевдонима модулю\n",
        "import имя_модуля as новое_имя\n",
        " \n",
        "# 3. Импорт конкретного объекта из модуля\n",
        "from имя_модуля import имя_объекта\n",
        "from имя_модуля import имя_объекта1, имя_объекта2\n",
        " \n",
        "# 4. Импорт конкретного объекта из модуля с присвоением псевдонима объекту\n",
        "from имя_модуля import имя_объекта as псевдоним_объекта\n",
        " \n",
        "# 5. Импорт всех объектов из модуля\n",
        "from имя_модуля import *\n",
        "```\n",
        "Найдите сумму $\\cos^2(\\pi/7)$ и $\\sin^2(\\pi/7)$.\n",
        "\n",
        "**Формат ответа:** Число с плавающей запятой, округленное до десятых (например,```0.1```) \n",
        "\n",
        "**Оценка в баллах:** 3"
      ]
    },
    {
      "cell_type": "markdown",
      "metadata": {
        "colab_type": "text",
        "id": "KGKyYMeJPN2v"
      },
      "source": [
        "**Решение:**"
      ]
    },
    {
      "cell_type": "code",
      "metadata": {
        "colab_type": "code",
        "id": "JXulcWCxPN26",
        "colab": {}
      },
      "source": [
        "import math\n",
        "import math as m\n",
        "from math import cos, sin\n",
        "from math import sin as s\n",
        "from math import *\n",
        "\n",
        "ans1 = m.cos(math.pi/7)**2 + pow(s(pi/7),2)\n",
        "assert ans1 == 1"
      ],
      "execution_count": 0,
      "outputs": []
    },
    {
      "cell_type": "markdown",
      "metadata": {
        "colab_type": "text",
        "id": "sGxZJJQpPN3G"
      },
      "source": [
        "**Ответ:**"
      ]
    },
    {
      "cell_type": "code",
      "metadata": {
        "colab_type": "code",
        "id": "TmYdst1HKfXT",
        "colab": {}
      },
      "source": [
        "# Не изменяйте текст до знака = во избежании ошибок проверки!\n",
        "_HOMEWORK_ANSWER_DICT_['A1'] = ans1"
      ],
      "execution_count": 0,
      "outputs": []
    },
    {
      "cell_type": "markdown",
      "metadata": {
        "id": "kiKkFcn6KQFA",
        "colab_type": "text"
      },
      "source": [
        "## Комментарии участника"
      ]
    },
    {
      "cell_type": "code",
      "metadata": {
        "id": "3aI3lBQVdvaY",
        "colab_type": "code",
        "colab": {}
      },
      "source": [
        "_YOUR_COMMENT_ = 'All right!'"
      ],
      "execution_count": 0,
      "outputs": []
    },
    {
      "cell_type": "markdown",
      "metadata": {
        "id": "TvzA7RQXcywE",
        "colab_type": "text"
      },
      "source": [
        "## Создание отчета"
      ]
    },
    {
      "cell_type": "code",
      "metadata": {
        "id": "y-d24eqmdn4x",
        "colab_type": "code",
        "colab": {
          "base_uri": "https://localhost:8080/",
          "height": 34
        },
        "outputId": "5022e6a8-8c37-4338-ea55-0dc4c98c3ac7"
      },
      "source": [
        "# Проверьте правильность заполнения полей выше и \n",
        "# выполните данный код для создания отчета\n",
        "# и сохранения его на локальную машину\n",
        "from google.colab import files\n",
        "import json\n",
        "try:\n",
        "  # form a report\n",
        "  _HM_REPORT_ = {'Answers':_HOMEWORK_ANSWER_DICT_,\n",
        "                'Comment':_YOUR_COMMENT_,\n",
        "                'User':_NAME_SERNAME_,\n",
        "                }\n",
        "\n",
        "  # create a report name\n",
        "  _REPORT_NAME_ = 'HM_' +\\\n",
        "                    _HOMEWORK_NAME_ + \\\n",
        "                  '_by_' + \\\n",
        "                  _NAME_SERNAME_['LAST_NAME'] + \\\n",
        "                  '.json'\n",
        "  \n",
        "  # Save a report to a file\n",
        "  f = open(_REPORT_NAME_,\"w\")\n",
        "  f.write(json.dumps(_HM_REPORT_))\n",
        "  f.close()\n",
        "\n",
        "  # Donwnload the file into a local host\n",
        "  files.download(_REPORT_NAME_) \n",
        "  print('Thanks for the work, {name}!'.format(name=_NAME_SERNAME_['NAME']))\n",
        "except Exception as error:\n",
        "   print(error)\n",
        "   print('Something went wrong! Check the data entry and try again!')"
      ],
      "execution_count": 6,
      "outputs": [
        {
          "output_type": "stream",
          "text": [
            "Thanks for the work, Vladimir!\n"
          ],
          "name": "stdout"
        }
      ]
    }
  ]
}