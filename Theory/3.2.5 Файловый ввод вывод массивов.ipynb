{
  "nbformat": 4,
  "nbformat_minor": 0,
  "metadata": {
    "colab": {
      "name": "3.2.5 Файловый ввод-вывод массивов.ipynb",
      "provenance": [],
      "collapsed_sections": []
    },
    "kernelspec": {
      "name": "python3",
      "display_name": "Python 3"
    }
  },
  "cells": [
    {
      "cell_type": "markdown",
      "metadata": {
        "id": "moIM-S1g7SKx",
        "colab_type": "text"
      },
      "source": [
        "# Курс \"Python для анализа данных\"\n",
        "\n",
        "---\n",
        "#3.2.5 Файловый ввод-вывод массивов"
      ]
    },
    {
      "cell_type": "markdown",
      "metadata": {
        "id": "QZ1Arpnj7p_N",
        "colab_type": "text"
      },
      "source": [
        "## Где мы сейчас?\n"
      ]
    },
    {
      "cell_type": "markdown",
      "metadata": {
        "id": "J9A06fP5j1vS",
        "colab_type": "text"
      },
      "source": [
        "<html>\n",
        " <head>\n",
        "  <meta charset=\"utf-8\">\n",
        " </head>\n",
        " <body>\n",
        "  <ul>\n",
        "    <li>1. Введение в анализ данных и разработку на языке Python </li> <!-2.1->\n",
        "    <li>2. Основы языка </li> <!-2.1->\n",
        "    <li>3. <strong>Библиотеки NumPy и SciPy для решения задач анализа данных и машинного обучения</strong> <i><- Вот в этой главе!</i>\n",
        "     <ul>\n",
        "      <li>3.1 Математические дисциплины в анализе данных и машинном обучении</li>      \n",
        "      <li><strong>3.2 Основной объект NumPy ndarray</strong> <i><- Вот в этом параграфе!</i></li>\n",
        "       <ul>\n",
        "        <li>3.2.1 Быстрые поэлементные операции над массивами</li>\n",
        "        <li>3.2.2 Индексирование и вырезание</li>\n",
        "        <li>3.2.3 Уход от циклов: обработка данных с применением массивов</li>\n",
        "        <li>3.2.4 Математические и статистические операции</li>\n",
        "        <li><strong>3.2.5 Файловый ввод-вывод массивов</strong><i> <- Вот в этом пункте!</i></li>\n",
        "       </ul>\n",
        "      <li>3.3 Библиотека SciPy</li>\n",
        "     </ul>\n",
        "    </li>   \n",
        "  </ul>\n",
        " </body>\n",
        "</html>"
      ]
    },
    {
      "cell_type": "markdown",
      "metadata": {
        "id": "z1oJmp_4Po8K",
        "colab_type": "text"
      },
      "source": [
        "## О чем будем говорить?\n"
      ]
    },
    {
      "cell_type": "markdown",
      "metadata": {
        "id": "7X4Wlpraj7Yw",
        "colab_type": "text"
      },
      "source": [
        "О том, как ```numpy``` сохраняет на диск и загружает данные с диска в текстовом или двоичном формате."
      ]
    },
    {
      "cell_type": "markdown",
      "metadata": {
        "id": "NhfVXiTGAkND",
        "colab_type": "text"
      },
      "source": [
        "## Ключевые слова, понятия и выражения\n",
        "\n",
        "\n",
        "\n",
        "\n"
      ]
    },
    {
      "cell_type": "markdown",
      "metadata": {
        "id": "ixnuL5V2rZtz",
        "colab_type": "text"
      },
      "source": [
        "*    ```np.save```   \n",
        "*    ```np.load```\n",
        "*    расширение ```*.npy```   "
      ]
    },
    {
      "cell_type": "markdown",
      "metadata": {
        "id": "2lFBeeLHjcc7",
        "colab_type": "text"
      },
      "source": [
        "## Материал"
      ]
    },
    {
      "cell_type": "markdown",
      "metadata": {
        "id": "rQCn5vwreBYj",
        "colab_type": "text"
      },
      "source": [
        "### Хранение на диске в двоичном формате"
      ]
    },
    {
      "cell_type": "code",
      "metadata": {
        "id": "1tgxSCvweE2i",
        "colab_type": "code",
        "colab": {
          "base_uri": "https://localhost:8080/",
          "height": 73
        },
        "outputId": "d3efb98d-5f2b-4282-8041-56f0e6b42eb4"
      },
      "source": [
        "import numpy as np\n",
        "arr = np.arange(10)\n",
        "print('Сохраняем массив\\n',arr,'\\nв файл some_array.npy')\n",
        "\n",
        "np.save('some_array', arr)"
      ],
      "execution_count": null,
      "outputs": [
        {
          "output_type": "stream",
          "text": [
            "Сохраняем массив\n",
            " [0 1 2 3 4 5 6 7 8 9] \n",
            "в файл some_array.npy\n"
          ],
          "name": "stdout"
        }
      ]
    },
    {
      "cell_type": "code",
      "metadata": {
        "id": "2MWTgVDGeotU",
        "colab_type": "code",
        "colab": {
          "base_uri": "https://localhost:8080/",
          "height": 36
        },
        "outputId": "9812983e-0b09-4321-aa10-d4e52b1100f2"
      },
      "source": [
        "!ls"
      ],
      "execution_count": null,
      "outputs": [
        {
          "output_type": "stream",
          "text": [
            "sample_data  some_array.npy\n"
          ],
          "name": "stdout"
        }
      ]
    },
    {
      "cell_type": "code",
      "metadata": {
        "id": "vpD_SFdwfAPJ",
        "colab_type": "code",
        "colab": {
          "base_uri": "https://localhost:8080/",
          "height": 73
        },
        "outputId": "6fc0fec8-51a8-41cc-9459-bbaa617fcf64"
      },
      "source": [
        "new_arr = np.load('some_array.npy')\n",
        "print('Считываем данные из файла some_array.npy:\\n',new_arr)\n",
        "print('Тип:', type(new_arr))"
      ],
      "execution_count": null,
      "outputs": [
        {
          "output_type": "stream",
          "text": [
            "Считываем данные из файла some_array.npy:\n",
            " [0 1 2 3 4 5 6 7 8 9]\n",
            "Тип: <class 'numpy.ndarray'>\n"
          ],
          "name": "stdout"
        }
      ]
    },
    {
      "cell_type": "code",
      "metadata": {
        "id": "W8p4oS1BfZFS",
        "colab_type": "code",
        "colab": {
          "base_uri": "https://localhost:8080/",
          "height": 91
        },
        "outputId": "4cae2e35-64b0-419c-ea04-0475b64a955d"
      },
      "source": [
        "arr_a = np.arange(10)\n",
        "arr_b = np.arange(10,20)\n",
        "print('Сохраняем массивы\\n',arr_a,'\\n',arr_b,'\\nв файл some_array_ab.npz')\n",
        "\n",
        "np.savez('some_array_ab', a=arr_a, b = arr_b)"
      ],
      "execution_count": null,
      "outputs": [
        {
          "output_type": "stream",
          "text": [
            "Сохраняем массивы\n",
            " [0 1 2 3 4 5 6 7 8 9] \n",
            " [10 11 12 13 14 15 16 17 18 19] \n",
            "в файл some_array_ab.npz\n"
          ],
          "name": "stdout"
        }
      ]
    },
    {
      "cell_type": "code",
      "metadata": {
        "id": "ZXlab1Usf1Bm",
        "colab_type": "code",
        "colab": {
          "base_uri": "https://localhost:8080/",
          "height": 36
        },
        "outputId": "f9addec3-9afe-4693-bdd7-322c906a7763"
      },
      "source": [
        "!ls"
      ],
      "execution_count": null,
      "outputs": [
        {
          "output_type": "stream",
          "text": [
            "sample_data  some_array_ab.npz\tsome_array.npy\n"
          ],
          "name": "stdout"
        }
      ]
    },
    {
      "cell_type": "code",
      "metadata": {
        "id": "kVCe6xy5f5V7",
        "colab_type": "code",
        "colab": {
          "base_uri": "https://localhost:8080/",
          "height": 73
        },
        "outputId": "197e7359-3562-40ef-b504-db59cd5a6230"
      },
      "source": [
        "new_arr = np.load('some_array_ab.npz')\n",
        "print('Считываем данные из файла some_array_ab.npz:\\n',new_arr['a'],new_arr['b'])\n",
        "print('Тип:', type(new_arr))"
      ],
      "execution_count": null,
      "outputs": [
        {
          "output_type": "stream",
          "text": [
            "Считываем данные из файла some_array_ab.npz:\n",
            " [0 1 2 3 4 5 6 7 8 9] [10 11 12 13 14 15 16 17 18 19]\n",
            "Тип: <class 'numpy.lib.npyio.NpzFile'>\n"
          ],
          "name": "stdout"
        }
      ]
    },
    {
      "cell_type": "markdown",
      "metadata": {
        "id": "1-NdMCH_eFZV",
        "colab_type": "text"
      },
      "source": [
        "### Сохранение и загрузка текстовых файлов"
      ]
    },
    {
      "cell_type": "code",
      "metadata": {
        "id": "V2ZRIUPmeKG7",
        "colab_type": "code",
        "colab": {
          "base_uri": "https://localhost:8080/",
          "height": 110
        },
        "outputId": "5fcf5148-2b76-45bc-bd35-74b3dcb73a93"
      },
      "source": [
        "arr = np.arange(12).reshape(3,4)\n",
        "print('Сохраняем массив\\n',arr,'\\nв файл some_array.txt')\n",
        "\n",
        "np.savetxt('some_array.txt', arr, delimiter=';')"
      ],
      "execution_count": null,
      "outputs": [
        {
          "output_type": "stream",
          "text": [
            "Сохраняем массив\n",
            " [[ 0  1  2  3]\n",
            " [ 4  5  6  7]\n",
            " [ 8  9 10 11]] \n",
            "в файл some_array.txt\n"
          ],
          "name": "stdout"
        }
      ]
    },
    {
      "cell_type": "code",
      "metadata": {
        "id": "LMnhvZtIggSW",
        "colab_type": "code",
        "colab": {
          "base_uri": "https://localhost:8080/",
          "height": 36
        },
        "outputId": "fb077330-c354-4bed-f5cc-37cb6e917711"
      },
      "source": [
        "!ls"
      ],
      "execution_count": null,
      "outputs": [
        {
          "output_type": "stream",
          "text": [
            "sample_data  some_array_ab.npz\tsome_array.npy\tsome_array.txt\n"
          ],
          "name": "stdout"
        }
      ]
    },
    {
      "cell_type": "code",
      "metadata": {
        "id": "SVsDfKzjgfgO",
        "colab_type": "code",
        "colab": {
          "base_uri": "https://localhost:8080/",
          "height": 93
        },
        "outputId": "6e11a10d-4c11-462f-a8c4-b55696c87b39"
      },
      "source": [
        "!cat some_array.txt"
      ],
      "execution_count": null,
      "outputs": [
        {
          "output_type": "stream",
          "text": [
            "0.000000000000000000e+00;1.000000000000000000e+00;2.000000000000000000e+00;3.000000000000000000e+00\n",
            "4.000000000000000000e+00;5.000000000000000000e+00;6.000000000000000000e+00;7.000000000000000000e+00\n",
            "8.000000000000000000e+00;9.000000000000000000e+00;1.000000000000000000e+01;1.100000000000000000e+01\n"
          ],
          "name": "stdout"
        }
      ]
    },
    {
      "cell_type": "code",
      "metadata": {
        "id": "RWvDz5ewgwVW",
        "colab_type": "code",
        "colab": {
          "base_uri": "https://localhost:8080/",
          "height": 128
        },
        "outputId": "bf49f48a-9029-4d88-a099-88e86a254ca1"
      },
      "source": [
        "new_arr = np.loadtxt('some_array.txt', delimiter=';')\n",
        "print('Считываем данные из файла some_array.txt:\\n',new_arr)\n",
        "print('Тип:', type(new_arr))\n",
        "print('Размер:', new_arr.shape)"
      ],
      "execution_count": null,
      "outputs": [
        {
          "output_type": "stream",
          "text": [
            "Считываем данные из файла some_array.txt:\n",
            " [[ 0.  1.  2.  3.]\n",
            " [ 4.  5.  6.  7.]\n",
            " [ 8.  9. 10. 11.]]\n",
            "Тип: <class 'numpy.ndarray'>\n",
            "Размер: (3, 4)\n"
          ],
          "name": "stdout"
        }
      ]
    },
    {
      "cell_type": "markdown",
      "metadata": {
        "id": "5F_hHKVTNzia",
        "colab_type": "text"
      },
      "source": [
        "## Дополнительные материалы и литература"
      ]
    },
    {
      "cell_type": "markdown",
      "metadata": {
        "id": "YWhDk5dJN8NC",
        "colab_type": "text"
      },
      "source": [
        "\n",
        "\n",
        "*   Уэс Маккинли, Python и анализ данных/ Пер. с англ. Слинкин А. А. - М.: ДМК Пресс, 2015. - 482 с.: ил. C. 119"
      ]
    }
  ]
}