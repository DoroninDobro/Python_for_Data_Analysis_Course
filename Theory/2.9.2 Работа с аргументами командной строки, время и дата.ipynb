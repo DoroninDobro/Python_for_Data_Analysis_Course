{
  "nbformat": 4,
  "nbformat_minor": 0,
  "metadata": {
    "colab": {
      "name": "2.9.2 Работа с аргументами командной строки, время и дата.ipynb",
      "provenance": [],
      "collapsed_sections": [
        "eoKZE5pRQoVB",
        "mRpSOSxmQwtg",
        "S9ZAaIc7d0Si"
      ]
    },
    "kernelspec": {
      "name": "python3",
      "display_name": "Python 3"
    },
    "accelerator": "GPU"
  },
  "cells": [
    {
      "cell_type": "markdown",
      "metadata": {
        "id": "moIM-S1g7SKx",
        "colab_type": "text"
      },
      "source": [
        "# Курс \"Python для анализа данных\"\n",
        "\n",
        "---\n",
        "#2.9.2 Работа с аргументами командной строки, время и дата"
      ]
    },
    {
      "cell_type": "markdown",
      "metadata": {
        "id": "QZ1Arpnj7p_N",
        "colab_type": "text"
      },
      "source": [
        "## Где мы сейчас?\n"
      ]
    },
    {
      "cell_type": "markdown",
      "metadata": {
        "id": "J9A06fP5j1vS",
        "colab_type": "text"
      },
      "source": [
        "<html>\n",
        " <head>\n",
        "  <meta charset=\"utf-8\">\n",
        " </head>\n",
        " <body>\n",
        "  <ul>\n",
        "    <li>1. Введение в анализ данных и разработку на языке Python </li>\n",
        "    <li>2. <strong>Основы языка</strong> <i><- Вот в этой главе!</i>\n",
        "     <ul>\n",
        "      <li>2.1 - 2.7</li>\n",
        "      <li>2.8 Объектно-ориентированное программирование</li>\n",
        "      <li><strong>2.9 Обзор стандартной библиотеки языка Python</strong> <i><- Вот в этом параграфе!</i></li>\n",
        "       <ul>\n",
        "        <li>2.9.1 Математические вычисления и числа, типы коллекций</li>\n",
        "        <li><strong>2.9.2 Работа с аргументами командной строки, время и дата</strong><i> <- Вот в этом пункте!</i></li>\n",
        "        <li>2.9.3 Обработка строк, регулярные выражения</li>\n",
        "        <li>2.9.4 Форматы файлов, кодировки и сохранение данных. Работа с файлами и каталогами</li>\n",
        "       </ul>\n",
        "     </ul>\n",
        "    </li>   \n",
        "  </ul>\n",
        " </body>\n",
        "</html>"
      ]
    },
    {
      "cell_type": "markdown",
      "metadata": {
        "id": "z1oJmp_4Po8K",
        "colab_type": "text"
      },
      "source": [
        "## О чем будем говорить?\n"
      ]
    },
    {
      "cell_type": "markdown",
      "metadata": {
        "id": "7X4Wlpraj7Yw",
        "colab_type": "text"
      },
      "source": [
        "О передаче параметров командной строки в скрипт Python. Посмотрим на возможности модуля argparse.\n"
      ]
    },
    {
      "cell_type": "markdown",
      "metadata": {
        "id": "NhfVXiTGAkND",
        "colab_type": "text"
      },
      "source": [
        "## Ключевые слова, понятия и выражения\n",
        "\n",
        "\n",
        "\n",
        "\n"
      ]
    },
    {
      "cell_type": "markdown",
      "metadata": {
        "id": "ixnuL5V2rZtz",
        "colab_type": "text"
      },
      "source": [
        "*   аргументы командной строки\n",
        "*   ```sys.argv```\n",
        "*   ```argparse```\n",
        "*   ```datetime```\n",
        "*   ```time```\n"
      ]
    },
    {
      "cell_type": "markdown",
      "metadata": {
        "id": "H1MGw-jK3t_v",
        "colab_type": "text"
      },
      "source": [
        "## Материал"
      ]
    },
    {
      "cell_type": "markdown",
      "metadata": {
        "id": "eoKZE5pRQoVB",
        "colab_type": "text"
      },
      "source": [
        "### Модуль ```sys```\n"
      ]
    },
    {
      "cell_type": "code",
      "metadata": {
        "id": "E_BPRh2sQ1NC",
        "colab_type": "code",
        "outputId": "d19762f1-a24c-4ea0-f170-1944d423ddd0",
        "colab": {
          "base_uri": "https://localhost:8080/",
          "height": 110
        }
      },
      "source": [
        "import sys\n",
        "\n",
        "def read_and_print(file_name):\n",
        "    '''\n",
        "    Считываем содержимое файла и выводим его!\n",
        "    '''\n",
        "\n",
        "    with open(file_name, 'r') as f:\n",
        "        data = f.read()\n",
        "    print('Data from file {}'.format(file_name))\n",
        "    print(data)\n",
        "\n",
        "if __name__=='__main__':\n",
        "    # Выводим все параметры\n",
        "    for i, arg in enumerate(sys.argv):\n",
        "        print('argv[{}] = {}'.format(i, arg))\n",
        "\n",
        "    if len(sys.argv) > 1:\n",
        "        if len(sys.argv) > 2 and sys.argv[2] == '--data':\n",
        "            read_and_print(sys.argv[1])\n",
        "        else:\n",
        "            print(sys.argv[1])\n",
        "    else:\n",
        "        print('There is no any args!')"
      ],
      "execution_count": 0,
      "outputs": [
        {
          "output_type": "stream",
          "text": [
            "argv[0] = /usr/local/lib/python3.6/dist-packages/ipykernel_launcher.py\n",
            "argv[1] = -f\n",
            "argv[2] = /root/.local/share/jupyter/runtime/kernel-c91b8592-9607-4b8c-a7aa-507403ca936c.json\n",
            "-f\n"
          ],
          "name": "stdout"
        }
      ]
    },
    {
      "cell_type": "markdown",
      "metadata": {
        "id": "mRpSOSxmQwtg",
        "colab_type": "text"
      },
      "source": [
        "### Модуль ```argparse```"
      ]
    },
    {
      "cell_type": "code",
      "metadata": {
        "id": "FVKzzj6IunlJ",
        "colab_type": "code",
        "colab": {}
      },
      "source": [
        "import argparse\n",
        "\n",
        "def create_parser():\n",
        "    '''\n",
        "    Создание парсера\n",
        "    '''\n",
        "    '''\n",
        "    1) Строим простой парсер\n",
        "    '''\n",
        "    parser = argparse.ArgumentParser()\n",
        "    # Добавление первого параметра filename\n",
        "    parser.add_argument('--filename', nargs='?')\n",
        "    \n",
        "    '''\n",
        "    2) Добавляем именованные переменные\n",
        "    '''\n",
        "    # Добавление именного параметра count\n",
        "    parser.add_argument('-c','--count', default=1, type=int)\n",
        "\n",
        "    '''\n",
        "    3) Разбираем список значений\n",
        "    '''\n",
        "    # Разбираем список значений\n",
        "    parser.add_argument('-l', '--list', nargs='+', default=['One'])\n",
        "    \n",
        "    '''\n",
        "    4) Создание подпарсеров\n",
        "    '''\n",
        "    # Создание подпарсеров\n",
        "    subparsers = parser.add_subparsers()\n",
        "\n",
        "    print_parser = subparsers.add_parser('print')\n",
        "    print_parser.add_argument('--count', type=int, default=1)\n",
        "\n",
        "    set_parser = subparsers.add_parser('set')\n",
        "    set_parser.add_argument('--value', type=int, default=2)\n",
        "\n",
        "    '''\n",
        "    5)  Создание справки\n",
        "    '''\n",
        "    # parser = argparse.ArgumentParser(\n",
        "    #         prog = 'parser_prog',\n",
        "    #         description = '''Программа для демонстрации работы парсера.''',\n",
        "    #         epilog = '''(c) GNU.'''\n",
        "    #         )\n",
        "\n",
        "    return parser\n",
        "\n",
        "if __name__=='__main__':\n",
        "    #read_and_print('Hello.txt')\n",
        "    '''\n",
        "    1) Строим простой парсер\n",
        "    '''\n",
        "    # Создаем парсер\n",
        "    parser = create_parser()\n",
        "    # Разбираем параметры командной строки\n",
        "    params = parser.parse_args()\n",
        "    \n",
        "    # Посмотрим, что такое парсер и что он разобрал\n",
        "    print(params)\n",
        "\n"
      ],
      "execution_count": 0,
      "outputs": []
    },
    {
      "cell_type": "markdown",
      "metadata": {
        "id": "8vICdKs7fwXN",
        "colab_type": "text"
      },
      "source": [
        "### Время и дата"
      ]
    },
    {
      "cell_type": "code",
      "metadata": {
        "id": "5koc23gcyyri",
        "colab_type": "code",
        "outputId": "e06e796b-faa7-4e4d-9a74-ad88003769b8",
        "colab": {
          "base_uri": "https://localhost:8080/",
          "height": 53
        }
      },
      "source": [
        "import datetime\n",
        "import time\n",
        "\n",
        "# Получение времени\n",
        "print(datetime.datetime.now())\n",
        "print(datetime.datetime.utcnow())"
      ],
      "execution_count": 0,
      "outputs": [
        {
          "output_type": "stream",
          "text": [
            "2019-12-27 19:19:20.664262\n",
            "2019-12-27 19:19:20.664604\n"
          ],
          "name": "stdout"
        }
      ]
    },
    {
      "cell_type": "code",
      "metadata": {
        "id": "tJElj3-TzQHu",
        "colab_type": "code",
        "outputId": "31880658-6e21-40e3-f737-f2973b8a9ba4",
        "colab": {
          "base_uri": "https://localhost:8080/",
          "height": 90
        }
      },
      "source": [
        "# Работа с датой\n",
        "d = datetime.date(2019,12,31)\n",
        "print(d)\n",
        "print(d.year)\n",
        "print(d.month)\n",
        "print(d.day)"
      ],
      "execution_count": 0,
      "outputs": [
        {
          "output_type": "stream",
          "text": [
            "2019-12-31\n",
            "2019\n",
            "12\n",
            "31\n"
          ],
          "name": "stdout"
        }
      ]
    },
    {
      "cell_type": "code",
      "metadata": {
        "id": "VF-cwzbazjoO",
        "colab_type": "code",
        "outputId": "e5b78f4a-22de-4715-ea39-18fb0a6cfe36",
        "colab": {
          "base_uri": "https://localhost:8080/",
          "height": 144
        }
      },
      "source": [
        "# Работа с датой и временем\n",
        "d = datetime.datetime(2019,12,31,12,30,40)\n",
        "print(d)\n",
        "print(d.year)\n",
        "print(d.month)\n",
        "print(d.day)\n",
        "print(d.hour)\n",
        "print(d.minute)\n",
        "print(d.second)"
      ],
      "execution_count": 0,
      "outputs": [
        {
          "output_type": "stream",
          "text": [
            "2019-12-31 12:30:40\n",
            "2019\n",
            "12\n",
            "31\n",
            "12\n",
            "30\n",
            "40\n"
          ],
          "name": "stdout"
        }
      ]
    },
    {
      "cell_type": "code",
      "metadata": {
        "id": "XyywwMvYzyYG",
        "colab_type": "code",
        "outputId": "e1e9f62a-6743-4079-e67b-035ae2aff3ae",
        "colab": {
          "base_uri": "https://localhost:8080/",
          "height": 53
        }
      },
      "source": [
        "# Формат вывода\n",
        "today = datetime.datetime.today()\n",
        "print(today.strftime(\"%m/%d/%Y\"))\n",
        "print(today.strftime(\"%m-%d-%Y-%H:%M:%S\"))"
      ],
      "execution_count": 0,
      "outputs": [
        {
          "output_type": "stream",
          "text": [
            "12/27/2019\n",
            "12-27-2019-19:24:02\n"
          ],
          "name": "stdout"
        }
      ]
    },
    {
      "cell_type": "code",
      "metadata": {
        "id": "K_vho0LG0RBb",
        "colab_type": "code",
        "outputId": "1bf9dc14-6836-4cd5-bfbb-5f7e2d9b1b55",
        "colab": {
          "base_uri": "https://localhost:8080/",
          "height": 35
        }
      },
      "source": [
        "# Начало Unix эпохи\n",
        "print(time.gmtime(0))"
      ],
      "execution_count": 0,
      "outputs": [
        {
          "output_type": "stream",
          "text": [
            "time.struct_time(tm_year=1970, tm_mon=1, tm_mday=1, tm_hour=0, tm_min=0, tm_sec=0, tm_wday=3, tm_yday=1, tm_isdst=0)\n"
          ],
          "name": "stdout"
        }
      ]
    },
    {
      "cell_type": "code",
      "metadata": {
        "id": "ltLMHNy20okt",
        "colab_type": "code",
        "outputId": "e198826e-a889-47f0-d088-dbbe38be7621",
        "colab": {
          "base_uri": "https://localhost:8080/",
          "height": 53
        }
      },
      "source": [
        "# Перевод времени из Unix\n",
        "print(time.time())\n",
        "print(time.ctime(time.time()))"
      ],
      "execution_count": 0,
      "outputs": [
        {
          "output_type": "stream",
          "text": [
            "1577474819.883234\n",
            "Fri Dec 27 19:26:59 2019\n"
          ],
          "name": "stdout"
        }
      ]
    },
    {
      "cell_type": "code",
      "metadata": {
        "id": "KdCaCbRD08JG",
        "colab_type": "code",
        "outputId": "82cb8226-7c62-4a10-f8e3-dd976280aeb6",
        "colab": {
          "base_uri": "https://localhost:8080/",
          "height": 108
        }
      },
      "source": [
        "# Отсрочка исполнения\n",
        "for x in range(5):\n",
        "  time.sleep(2)\n",
        "  print('Прошло 2 сек')"
      ],
      "execution_count": 0,
      "outputs": [
        {
          "output_type": "stream",
          "text": [
            "Прошло 2 сек\n",
            "Прошло 2 сек\n",
            "Прошло 2 сек\n",
            "Прошло 2 сек\n",
            "Прошло 2 сек\n"
          ],
          "name": "stdout"
        }
      ]
    },
    {
      "cell_type": "markdown",
      "metadata": {
        "id": "S9ZAaIc7d0Si",
        "colab_type": "text"
      },
      "source": [
        "## За рамками материала"
      ]
    },
    {
      "cell_type": "markdown",
      "metadata": {
        "id": "8T-AFlP0gRsC",
        "colab_type": "text"
      },
      "source": [
        "\n",
        "\n",
        "*   Подробный разбор всех возможностей модуля ```argparse```\n",
        "\n"
      ]
    },
    {
      "cell_type": "markdown",
      "metadata": {
        "id": "5F_hHKVTNzia",
        "colab_type": "text"
      },
      "source": [
        "## Дополнительные материалы и литература"
      ]
    },
    {
      "cell_type": "markdown",
      "metadata": {
        "id": "YWhDk5dJN8NC",
        "colab_type": "text"
      },
      "source": [
        "\n",
        "\n",
        "*   https://jenyay.net/Programming/Argparse\n",
        "\n"
      ]
    },
    {
      "cell_type": "code",
      "metadata": {
        "id": "qw6ZBFnBx5El",
        "colab_type": "code",
        "colab": {}
      },
      "source": [
        ""
      ],
      "execution_count": 0,
      "outputs": []
    }
  ]
}