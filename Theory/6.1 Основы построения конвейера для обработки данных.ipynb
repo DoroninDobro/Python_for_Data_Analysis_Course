{
  "nbformat": 4,
  "nbformat_minor": 0,
  "metadata": {
    "colab": {
      "name": "6.1 Основы построения конвейера для обработки данных.ipynb",
      "provenance": [],
      "collapsed_sections": [
        "5F_hHKVTNzia"
      ]
    },
    "kernelspec": {
      "name": "python3",
      "display_name": "Python 3"
    },
    "accelerator": "GPU"
  },
  "cells": [
    {
      "cell_type": "markdown",
      "metadata": {
        "id": "moIM-S1g7SKx",
        "colab_type": "text"
      },
      "source": [
        "# Курс \"Python для анализа данных\"\n",
        "\n",
        "---\n",
        "#6.1 Основы построения конвейера для обработки данных"
      ]
    },
    {
      "cell_type": "markdown",
      "metadata": {
        "id": "QZ1Arpnj7p_N",
        "colab_type": "text"
      },
      "source": [
        "## Где мы сейчас?\n"
      ]
    },
    {
      "cell_type": "markdown",
      "metadata": {
        "id": "J9A06fP5j1vS",
        "colab_type": "text"
      },
      "source": [
        "<html>\n",
        " <head>\n",
        "  <meta charset=\"utf-8\">\n",
        " </head>\n",
        " <body>\n",
        "  <ul>\n",
        "    <li>1. Введение в анализ данных и разработку на языке Python </li> \n",
        "    <li>2. Основы языка </li> \n",
        "    <li>3. Библиотеки NumPy и SciPy для решения задач анализа данных и машинного обучения </li> \n",
        "    <li>4. Библиотека Pandas для работы с высокоуровневыми структурами данных </li> \n",
        "    <li>5. Визуализации результатов анализа данных с использованием библиотек Matplotlib, Seaborn, Pandas </li>\n",
        "    <li><strong>6. Роль и место библиотек языка Python в построении конвейера для обработки и анализа данных. Пример обработки известного датасета</strong> <i><- Вот в этой главе!</i></li>\n",
        "     <ul>\n",
        "      <li><strong>6.1 Основы построения конвейера для обработки данных</strong><i><- Вот в этом параграфе!</i></li>\n",
        "      <li>6.2 Библиотека Pandas для загрузки и первичной обработки исходных данных</li>\n",
        "      <li>6.3 Статистический анализ данных, получение корреляционных значений и отбор значимых признаков</li>\n",
        "      <li>6.4 Итоговый вариант обработчика данных. Встраивание в процесс обучения модели машинного обучения.</li>\n",
        "     </ul>\n",
        "    </li>   \n",
        "  </ul>\n",
        " </body>\n",
        "</html>"
      ]
    },
    {
      "cell_type": "markdown",
      "metadata": {
        "id": "z1oJmp_4Po8K",
        "colab_type": "text"
      },
      "source": [
        "## О чем будем говорить?\n"
      ]
    },
    {
      "cell_type": "markdown",
      "metadata": {
        "id": "7X4Wlpraj7Yw",
        "colab_type": "text"
      },
      "source": [
        "О типичной последовательности шагов по обработке и анализу данных перед использованием их в моделях машинного обучения."
      ]
    },
    {
      "cell_type": "markdown",
      "metadata": {
        "id": "NhfVXiTGAkND",
        "colab_type": "text"
      },
      "source": [
        "## Ключевые слова, понятия и выражения\n",
        "\n",
        "\n",
        "\n",
        "\n"
      ]
    },
    {
      "cell_type": "markdown",
      "metadata": {
        "id": "ixnuL5V2rZtz",
        "colab_type": "text"
      },
      "source": [
        "*   обработка и анализ данных\n",
        "*   машинное обучение"
      ]
    },
    {
      "cell_type": "markdown",
      "metadata": {
        "id": "2lFBeeLHjcc7",
        "colab_type": "text"
      },
      "source": [
        "## Материал"
      ]
    },
    {
      "cell_type": "markdown",
      "metadata": {
        "id": "RroiaxEIQHgl",
        "colab_type": "text"
      },
      "source": [
        "### Этапы работы специалиста по анализу данных и машинного обучения"
      ]
    },
    {
      "cell_type": "markdown",
      "metadata": {
        "id": "yUCP8OfTQTU8",
        "colab_type": "text"
      },
      "source": [
        "![alt text](https://drive.google.com/uc?id=1ct-TRmls9bxmtyKn-k0XHhzD-OiI0xKe)"
      ]
    },
    {
      "cell_type": "markdown",
      "metadata": {
        "id": "M7HFD3WDQzKW",
        "colab_type": "text"
      },
      "source": [
        "### О чем пойдет речь в данной главе"
      ]
    },
    {
      "cell_type": "markdown",
      "metadata": {
        "id": "UbTv6ytoR15O",
        "colab_type": "text"
      },
      "source": [
        "![alt text](https://drive.google.com/uc?id=1-IEtXAEgimv_HuNRbI6sVBXw7XBjoU4-)"
      ]
    },
    {
      "cell_type": "markdown",
      "metadata": {
        "id": "PqxmaTDaWFdL",
        "colab_type": "text"
      },
      "source": [
        "### Принцип **GIGO**"
      ]
    },
    {
      "cell_type": "markdown",
      "metadata": {
        "colab_type": "text",
        "id": "tAEvsIrUkuS7"
      },
      "source": [
        "![alt text](https://drive.google.com/uc?id=19o9gk0QpLaZcBLYI_2RHY2xyGB-DHX4T)"
      ]
    },
    {
      "cell_type": "markdown",
      "metadata": {
        "id": "5mFXOhvBSWcv",
        "colab_type": "text"
      },
      "source": [
        "### Этапы предобработки данных"
      ]
    },
    {
      "cell_type": "code",
      "metadata": {
        "id": "xFj0qZFVk18h",
        "colab_type": "code",
        "colab": {
          "base_uri": "https://localhost:8080/",
          "height": 143
        },
        "outputId": "53e591ec-8680-4010-9ef3-72fe2d6de28d"
      },
      "source": [
        "import pandas as pd\n",
        "\n",
        "pd.DataFrame({'Sex':['M','F',None],\n",
        "              'Year':[1962,1963,2962],\n",
        "              'Feature':[1,2,1],\n",
        "              'Salary':[223,300,100000]})"
      ],
      "execution_count": null,
      "outputs": [
        {
          "output_type": "execute_result",
          "data": {
            "text/html": [
              "<div>\n",
              "<style scoped>\n",
              "    .dataframe tbody tr th:only-of-type {\n",
              "        vertical-align: middle;\n",
              "    }\n",
              "\n",
              "    .dataframe tbody tr th {\n",
              "        vertical-align: top;\n",
              "    }\n",
              "\n",
              "    .dataframe thead th {\n",
              "        text-align: right;\n",
              "    }\n",
              "</style>\n",
              "<table border=\"1\" class=\"dataframe\">\n",
              "  <thead>\n",
              "    <tr style=\"text-align: right;\">\n",
              "      <th></th>\n",
              "      <th>Sex</th>\n",
              "      <th>Year</th>\n",
              "      <th>Feature</th>\n",
              "      <th>Salary</th>\n",
              "    </tr>\n",
              "  </thead>\n",
              "  <tbody>\n",
              "    <tr>\n",
              "      <th>0</th>\n",
              "      <td>M</td>\n",
              "      <td>1962</td>\n",
              "      <td>1</td>\n",
              "      <td>223</td>\n",
              "    </tr>\n",
              "    <tr>\n",
              "      <th>1</th>\n",
              "      <td>F</td>\n",
              "      <td>1963</td>\n",
              "      <td>2</td>\n",
              "      <td>300</td>\n",
              "    </tr>\n",
              "    <tr>\n",
              "      <th>2</th>\n",
              "      <td>None</td>\n",
              "      <td>2962</td>\n",
              "      <td>1</td>\n",
              "      <td>100000</td>\n",
              "    </tr>\n",
              "  </tbody>\n",
              "</table>\n",
              "</div>"
            ],
            "text/plain": [
              "    Sex  Year  Feature  Salary\n",
              "0     M  1962        1     223\n",
              "1     F  1963        2     300\n",
              "2  None  2962        1  100000"
            ]
          },
          "metadata": {
            "tags": []
          },
          "execution_count": 4
        }
      ]
    },
    {
      "cell_type": "markdown",
      "metadata": {
        "id": "4xFJ1KzSSppK",
        "colab_type": "text"
      },
      "source": [
        "Типичные проблемы данных:\n",
        "1. Ошибки (опечатки и некорректные значения)\n",
        "2. Пропуски\n",
        "3. Выбросы\n",
        "4. Подозрительная точность\n",
        "5. Проблема сравнимости"
      ]
    },
    {
      "cell_type": "markdown",
      "metadata": {
        "id": "JmKOLDa5T385",
        "colab_type": "text"
      },
      "source": [
        "Методы борьбы с проблемами в данных:\n",
        "1. Ошибки - анализ частоты встречаемости с последующим решением о замене значения на среднее или типичное для набора или выбрасывании объекта из данных\n",
        "2. Пропуски - анализ частоты встречаемости с последующим решением о замене значения на новое,среднее или типичное или выбрасывании объекта из данных\n",
        "3. Выбросы - анализ причины, исходя из описания, и частоты встречаемости и с последующим решением о замене значения на новое,среднее или типичное или выбрасывании объекта из данных\n",
        "4. Подозрительная точность - анализ причины \n",
        "5. Проблема сравнимости - разделение на сравнимые подклассы признаков"
      ]
    },
    {
      "cell_type": "code",
      "metadata": {
        "id": "wFURD6dUb-RY",
        "colab_type": "code",
        "colab": {}
      },
      "source": [
        "https://www.kaggle.com/c/titanic"
      ],
      "execution_count": null,
      "outputs": []
    },
    {
      "cell_type": "markdown",
      "metadata": {
        "id": "5F_hHKVTNzia",
        "colab_type": "text"
      },
      "source": [
        "## Дополнительные материалы и литература"
      ]
    },
    {
      "cell_type": "markdown",
      "metadata": {
        "id": "YWhDk5dJN8NC",
        "colab_type": "text"
      },
      "source": [
        "\n",
        "\n",
        "*   https://www.kaggle.com/c/titanic\n",
        "*   https://www.kaggle.com/c/house-prices-advanced-regression-techniques\n",
        "*   https://www.kaggle.com/c/cifar-10\n",
        "*   https://www.kaggle.com/c/digit-recognizer"
      ]
    },
    {
      "cell_type": "code",
      "metadata": {
        "id": "dobeuj0rYZyO",
        "colab_type": "code",
        "colab": {}
      },
      "source": [
        ""
      ],
      "execution_count": null,
      "outputs": []
    }
  ]
}