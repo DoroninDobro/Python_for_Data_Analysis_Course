{
  "nbformat": 4,
  "nbformat_minor": 0,
  "metadata": {
    "colab": {
      "name": "3.3.2 Решение некоторых задач линейной алгебры.ipynb",
      "provenance": [],
      "collapsed_sections": []
    },
    "kernelspec": {
      "name": "python3",
      "display_name": "Python 3"
    }
  },
  "cells": [
    {
      "cell_type": "markdown",
      "metadata": {
        "id": "moIM-S1g7SKx",
        "colab_type": "text"
      },
      "source": [
        "# Курс \"Python для анализа данных\"\n",
        "\n",
        "---\n",
        "#3.3.2 Решение некоторых задач линейной алгебры"
      ]
    },
    {
      "cell_type": "markdown",
      "metadata": {
        "id": "QZ1Arpnj7p_N",
        "colab_type": "text"
      },
      "source": [
        "## Где мы сейчас?\n"
      ]
    },
    {
      "cell_type": "markdown",
      "metadata": {
        "id": "J9A06fP5j1vS",
        "colab_type": "text"
      },
      "source": [
        "<html>\n",
        " <head>\n",
        "  <meta charset=\"utf-8\">\n",
        " </head>\n",
        " <body>\n",
        "  <ul>\n",
        "    <li>1. Введение в анализ данных и разработку на языке Python </li> <!-2.1->\n",
        "    <li>2. Основы языка </li> <!-2.1->\n",
        "    <li>3. <strong>Библиотеки NumPy и SciPy для решения задач анализа данных и машинного обучения</strong> <i><- Вот в этой главе!</i>\n",
        "     <ul>\n",
        "      <li>3.1 Математические дисциплины в анализе данных и машинном обучении</li>      \n",
        "      <li>3.2 Основной объект NumPy ndarray</li>\n",
        "      <li><strong>3.3 Библиотека SciPy</strong> <i><- Вот в этом параграфе!</i></li>\n",
        "       <ul>\n",
        "        <li>3.3.1 Обзор основных пакетов библиотеки SciPy</li>\n",
        "        <li><strong>3.3.2 Решение некоторых задач линейной алгебры</strong><i> <- Вот в этом пункте!</i></li>\n",
        "        <li>3.3.3 Решение некоторых задач математической статистики</li>\n",
        "        <li>3.3.4 Решение некоторых задач математического анализа</li>\n",
        "        <li>3.3.5 Решение специальных задач из области анализа данных и машинного обучения</li>\n",
        "       </ul>\n",
        "     </ul>\n",
        "    </li>   \n",
        "  </ul>\n",
        " </body>\n",
        "</html>\n",
        "\n",
        "\n",
        "\n",
        "\n",
        "\n"
      ]
    },
    {
      "cell_type": "markdown",
      "metadata": {
        "id": "z1oJmp_4Po8K",
        "colab_type": "text"
      },
      "source": [
        "## О чем будем говорить?\n"
      ]
    },
    {
      "cell_type": "markdown",
      "metadata": {
        "id": "7X4Wlpraj7Yw",
        "colab_type": "text"
      },
      "source": [
        "О том, почему так важно владеть методами линейной алгебры для анализа данных и машинного обучения, а также о модулях библиотеки ```SciPy```, которые реализуют указанные методы."
      ]
    },
    {
      "cell_type": "markdown",
      "metadata": {
        "id": "NhfVXiTGAkND",
        "colab_type": "text"
      },
      "source": [
        "## Ключевые слова, понятия и выражения\n",
        "\n",
        "\n",
        "\n",
        "\n"
      ]
    },
    {
      "cell_type": "markdown",
      "metadata": {
        "id": "ixnuL5V2rZtz",
        "colab_type": "text"
      },
      "source": [
        "*   вектор\n",
        "*   матрица\n",
        "*   система уравнений\n",
        "*   разложение матриц\n",
        "*   ```scipy.linalg```   "
      ]
    },
    {
      "cell_type": "markdown",
      "metadata": {
        "id": "2lFBeeLHjcc7",
        "colab_type": "text"
      },
      "source": [
        "## Материал"
      ]
    },
    {
      "cell_type": "markdown",
      "metadata": {
        "id": "QVtiLOLR4wZm",
        "colab_type": "text"
      },
      "source": [
        "### Примеры практического использования линейной алгебры в анализе данных и машинном обучении"
      ]
    },
    {
      "cell_type": "markdown",
      "metadata": {
        "id": "AZ2vjjdw5HZ3",
        "colab_type": "text"
      },
      "source": [
        "\n",
        "\n",
        "*   нахождение ошибки предсказания модели, то есть разность векторов ожидаемого прогноза и полученного с использованием модели (операции с векторами)\n",
        "*   регуляризация - проблема \"запоминания\" моделью обучающих данных, а не выявление обобщений и  закономерностей (использование весовых коэффициентов и их норм)\n",
        "*   классификация объектов с использованием метода опорных векторов (понятие расстояния от точки до гиперплоскости)\n",
        "*   уменьшение размерности исходных данных с использованием метода главных компонент (собственные вектора и собственные значения матрицы)\n",
        "*   рекомендательные системы и понижение размерности(сингулярные разложения)\n",
        "*   векторное представление слов Word Embedding \n",
        "*   глубокое обучение (тензоры и операции над ними)"
      ]
    },
    {
      "cell_type": "markdown",
      "metadata": {
        "id": "x-RbnTUKEr0b",
        "colab_type": "text"
      },
      "source": [
        "#### Вектора, матрицы и тензоры"
      ]
    },
    {
      "cell_type": "code",
      "metadata": {
        "id": "kIzQoPTeEpgI",
        "colab_type": "code",
        "colab": {
          "base_uri": "https://localhost:8080/",
          "height": 312
        },
        "outputId": "7c2d7a97-9821-400e-ea3b-31ba7605e6ee"
      },
      "source": [
        "import numpy as np\n",
        "\n",
        "b = np.mat('[5 6]')\n",
        "print('Вектор:\\n',b)\n",
        "\n",
        "A = np.mat('[1 2;3 4]')\n",
        "print('Матрица:\\n',A)\n",
        "print('Транспонированная матрица:\\n', A.T)\n",
        "\n",
        "print('Сумма матриц:\\n',A + A.T)\n",
        "print('Умножение вектора на матрицу:\\n', b*A)\n",
        "print('Умножение матриц:\\n', A * A.T)"
      ],
      "execution_count": null,
      "outputs": [
        {
          "output_type": "stream",
          "text": [
            "Вектор:\n",
            " [[5 6]]\n",
            "Матрица:\n",
            " [[1 2]\n",
            " [3 4]]\n",
            "Транспонированная матрица:\n",
            " [[1 3]\n",
            " [2 4]]\n",
            "Сумма матриц:\n",
            " [[2 5]\n",
            " [5 8]]\n",
            "Умножение вектора на матрицу:\n",
            " [[23 34]]\n",
            "Умножение матриц:\n",
            " [[ 5 11]\n",
            " [11 25]]\n"
          ],
          "name": "stdout"
        }
      ]
    },
    {
      "cell_type": "markdown",
      "metadata": {
        "id": "r7ApK5aGLQw2",
        "colab_type": "text"
      },
      "source": [
        "#### Нахождение обратной матрицы"
      ]
    },
    {
      "cell_type": "markdown",
      "metadata": {
        "id": "KvJDqoPdLVYN",
        "colab_type": "text"
      },
      "source": [
        "![alt text](https://drive.google.com/uc?id=1tGXvrJ2ODkZ58p_HnHlKLojheagLiquU)"
      ]
    },
    {
      "cell_type": "code",
      "metadata": {
        "id": "lwS4rmZrLIsa",
        "colab_type": "code",
        "colab": {
          "base_uri": "https://localhost:8080/",
          "height": 238
        },
        "outputId": "6d49d8c7-faf5-4ea6-8003-ac51e0f7eebf"
      },
      "source": [
        "from scipy import linalg\n",
        "A = np.array([[1,3,5],[2,5,1],[2,3,8]])\n",
        "print('Матрица:\\n',A)\n",
        "print('Обратная ей матрица:\\n',linalg.inv(A))\n",
        "print('Проверка:\\n', A.dot(linalg.inv(A)))"
      ],
      "execution_count": null,
      "outputs": [
        {
          "output_type": "stream",
          "text": [
            "Матрица:\n",
            " [[1 3 5]\n",
            " [2 5 1]\n",
            " [2 3 8]]\n",
            "Обратная ей матрица:\n",
            " [[-1.48  0.36  0.88]\n",
            " [ 0.56  0.08 -0.36]\n",
            " [ 0.16 -0.12  0.04]]\n",
            "Проверка:\n",
            " [[ 1.00000000e+00 -1.11022302e-16  4.85722573e-17]\n",
            " [ 3.05311332e-16  1.00000000e+00  7.63278329e-17]\n",
            " [ 2.22044605e-16 -1.11022302e-16  1.00000000e+00]]\n"
          ],
          "name": "stdout"
        }
      ]
    },
    {
      "cell_type": "markdown",
      "metadata": {
        "id": "Cwtv85NcEwf3",
        "colab_type": "text"
      },
      "source": [
        "#### Вычисление нормы"
      ]
    },
    {
      "cell_type": "markdown",
      "metadata": {
        "id": "EFafkLVEMcUh",
        "colab_type": "text"
      },
      "source": [
        "![alt text](https://drive.google.com/uc?id=1l7ZUX_FmxjY1i8DOa0t_7vDW7RiXwotC)"
      ]
    },
    {
      "cell_type": "code",
      "metadata": {
        "id": "4h97AUuYE_aD",
        "colab_type": "code",
        "colab": {
          "base_uri": "https://localhost:8080/",
          "height": 91
        },
        "outputId": "d800eec4-d0ae-4a90-b1d6-52079161e840"
      },
      "source": [
        "x = np.array([2, 1, -2,4])\n",
        "print('Вектор:\\n', x)\n",
        "print('L1 норма: ', linalg.norm(x,1))\n",
        "print('L2 норма: ', linalg.norm(x,2))"
      ],
      "execution_count": null,
      "outputs": [
        {
          "output_type": "stream",
          "text": [
            "Вектор:\n",
            " [ 2  1 -2  4]\n",
            "L1 норма:  9.0\n",
            "L2 норма:  5.0\n"
          ],
          "name": "stdout"
        }
      ]
    },
    {
      "cell_type": "markdown",
      "metadata": {
        "id": "z1slOVcRFAAQ",
        "colab_type": "text"
      },
      "source": [
        "#### Решение систем линейных уравнений"
      ]
    },
    {
      "cell_type": "markdown",
      "metadata": {
        "id": "iYQ2s6RPN281",
        "colab_type": "text"
      },
      "source": [
        "![alt text](https://drive.google.com/uc?id=1JOCF10g_2uzc1Wmx26v2UYioGlVt1Tub)\n",
        "\n",
        "![alt text](https://drive.google.com/uc?id=1cxt2oMqzCmoSfEgyhzs2GkcUArEnSSbG)"
      ]
    },
    {
      "cell_type": "code",
      "metadata": {
        "id": "GXvCwSm8FIJX",
        "colab_type": "code",
        "colab": {
          "base_uri": "https://localhost:8080/",
          "height": 533
        },
        "outputId": "2f7eca2f-b45e-4b6f-c983-d80fe0c9c365"
      },
      "source": [
        "A = np.array([[1,3,5],\n",
        "              [2,5,1],\n",
        "              [2,3,8]])\n",
        "b = np.array([[10],[8],[3]])\n",
        "\n",
        "print('Уравнения:')\n",
        "print(A)\n",
        "print('*')\n",
        "print('[x,\\ny,\\nz]')\n",
        "print('=')\n",
        "print(b)\n",
        "\n",
        "print('Решение уравнения:')\n",
        "print('[x,\\ny,\\nz]')\n",
        "print('=')\n",
        "print(np.linalg.solve(A, b))\n",
        "\n",
        "print('Решение уравнения:')\n",
        "print('[x,\\ny,\\nz]')\n",
        "print('=')\n",
        "print(linalg.inv(A).dot(b))"
      ],
      "execution_count": null,
      "outputs": [
        {
          "output_type": "stream",
          "text": [
            "Уравнения:\n",
            "[[1 3 5]\n",
            " [2 5 1]\n",
            " [2 3 8]]\n",
            "*\n",
            "[x,\n",
            "y,\n",
            "z]\n",
            "=\n",
            "[[10]\n",
            " [ 8]\n",
            " [ 3]]\n",
            "Решение уравнения:\n",
            "[x,\n",
            "y,\n",
            "z]\n",
            "=\n",
            "[[-9.28]\n",
            " [ 5.16]\n",
            " [ 0.76]]\n",
            "Решение уравнения:\n",
            "[x,\n",
            "y,\n",
            "z]\n",
            "=\n",
            "[[-9.28]\n",
            " [ 5.16]\n",
            " [ 0.76]]\n"
          ],
          "name": "stdout"
        }
      ]
    },
    {
      "cell_type": "markdown",
      "metadata": {
        "id": "cYeK9w1pFIkc",
        "colab_type": "text"
      },
      "source": [
        "#### Собственные вектора и собственные значения"
      ]
    },
    {
      "cell_type": "markdown",
      "metadata": {
        "id": "59AnX3ZRQJWo",
        "colab_type": "text"
      },
      "source": [
        "![alt text](https://drive.google.com/uc?id=14krANqspWHmwopQa3TAazrmskJckd003)\n",
        "\n",
        "![alt text](https://drive.google.com/uc?id=1ijarYtFFM-lRUgxf4u9h83CIul75swT-)"
      ]
    },
    {
      "cell_type": "markdown",
      "metadata": {
        "id": "ZRxJhGxdRnbn",
        "colab_type": "text"
      },
      "source": [
        "![alt text](https://drive.google.com/uc?id=1rKrUgVoT3oGEPbbZPGNDL_OFo2BIq2ar)"
      ]
    },
    {
      "cell_type": "code",
      "metadata": {
        "id": "Fi2oy9ipFe10",
        "colab_type": "code",
        "colab": {
          "base_uri": "https://localhost:8080/",
          "height": 183
        },
        "outputId": "cdb7785d-6326-493b-e0f8-4907c2ca68be"
      },
      "source": [
        "A = np.array([[1,5,2],\n",
        "              [2,4,1],\n",
        "              [3,6,2]])\n",
        "\n",
        "la, v = linalg.eig(A)\n",
        "print('Собственные вектора:\\n',v)\n",
        "print('Собственные значения:', la)\n",
        "\n",
        "print('Проверка вектора',v[:,0].T)\n",
        "print('С собственным значением',la[0])\n",
        "print(A.dot(v[:,0].T))\n",
        "print(la[0]*v[:,0])"
      ],
      "execution_count": null,
      "outputs": [
        {
          "output_type": "stream",
          "text": [
            "Собственные вектора:\n",
            " [[-0.5297175  -0.90730751  0.28380519]\n",
            " [-0.44941741  0.28662547 -0.39012063]\n",
            " [-0.71932146  0.30763439  0.87593408]]\n",
            "Собственные значения: [ 7.9579162 +0.j -1.25766471+0.j  0.2997485 +0.j]\n",
            "Проверка вектора [-0.5297175  -0.44941741 -0.71932146]\n",
            "С собственным значением (7.957916204910748+0j)\n",
            "[-4.21544748 -3.57642611 -5.72429989]\n",
            "[-4.21544748+0.j -3.57642611+0.j -5.72429989+0.j]\n"
          ],
          "name": "stdout"
        }
      ]
    },
    {
      "cell_type": "markdown",
      "metadata": {
        "id": "xkl9RG3bFnzN",
        "colab_type": "text"
      },
      "source": [
        "#### Матричное разложение"
      ]
    },
    {
      "cell_type": "markdown",
      "metadata": {
        "id": "u2gwyxeDUMoG",
        "colab_type": "text"
      },
      "source": [
        "Пример разложения SVD(Singular value decomposition):\n",
        "\n",
        "![alt text](https://drive.google.com/uc?id=1-kaA8P7TIUqcvfCrqfHPEnDBKg0HO2h6)"
      ]
    },
    {
      "cell_type": "code",
      "metadata": {
        "id": "6XBZbXiNFmvm",
        "colab_type": "code",
        "colab": {
          "base_uri": "https://localhost:8080/",
          "height": 312
        },
        "outputId": "6b0dc21c-1b68-4cba-871c-66418399255e"
      },
      "source": [
        "A = np.array([[1,2,3],[4,5,6]])\n",
        "print('Матрица:\\n',A)\n",
        "M,N = A.shape\n",
        "U,s,Vh = linalg.svd(A)\n",
        "Sig = linalg.diagsvd(s,M,N)\n",
        "print('Матрица U:\\n',U)\n",
        "print('Матрица sigma:\\n',Sig)\n",
        "print('Матрица Vh:\\n',Vh)\n",
        "print('Проверка:\\n', U.dot(Sig.dot(Vh)))"
      ],
      "execution_count": null,
      "outputs": [
        {
          "output_type": "stream",
          "text": [
            "Матрица:\n",
            " [[1 2 3]\n",
            " [4 5 6]]\n",
            "Матрица U:\n",
            " [[-0.3863177  -0.92236578]\n",
            " [-0.92236578  0.3863177 ]]\n",
            "Матрица sigma:\n",
            " [[9.508032   0.         0.        ]\n",
            " [0.         0.77286964 0.        ]]\n",
            "Матрица Vh:\n",
            " [[-0.42866713 -0.56630692 -0.7039467 ]\n",
            " [ 0.80596391  0.11238241 -0.58119908]\n",
            " [ 0.40824829 -0.81649658  0.40824829]]\n",
            "Проверка:\n",
            " [[1. 2. 3.]\n",
            " [4. 5. 6.]]\n"
          ],
          "name": "stdout"
        }
      ]
    },
    {
      "cell_type": "code",
      "metadata": {
        "id": "2JEmi494mUJI",
        "colab_type": "code",
        "colab": {}
      },
      "source": [
        ""
      ],
      "execution_count": null,
      "outputs": []
    },
    {
      "cell_type": "markdown",
      "metadata": {
        "id": "5F_hHKVTNzia",
        "colab_type": "text"
      },
      "source": [
        "## Дополнительные материалы и литература"
      ]
    },
    {
      "cell_type": "markdown",
      "metadata": {
        "id": "YWhDk5dJN8NC",
        "colab_type": "text"
      },
      "source": [
        "\n",
        "\n",
        "*   https://docs.scipy.org/doc/scipy/reference/tutorial/linalg.html"
      ]
    },
    {
      "cell_type": "code",
      "metadata": {
        "id": "Hsm5IgDv5jPl",
        "colab_type": "code",
        "colab": {}
      },
      "source": [
        ""
      ],
      "execution_count": null,
      "outputs": []
    }
  ]
}