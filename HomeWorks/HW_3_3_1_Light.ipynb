{
  "nbformat": 4,
  "nbformat_minor": 0,
  "metadata": {
    "colab": {
      "name": "Копия блокнота \"ДЗ-3.3.1-Light.ipynb\"",
      "provenance": [],
      "collapsed_sections": []
    },
    "kernelspec": {
      "name": "python3",
      "display_name": "Python 3"
    }
  },
  "cells": [
    {
      "cell_type": "markdown",
      "metadata": {
        "id": "MH-3kVwvJYeP",
        "colab_type": "text"
      },
      "source": [
        "# Курс \"Python для анализа данных\"\n",
        "\n",
        "---\n",
        "# Домашнее задание LIGHT\n",
        "#3.3.1 Обзор основных пакетов библиотеки SciPy"
      ]
    },
    {
      "cell_type": "code",
      "metadata": {
        "id": "fGNSU6VDMU7f",
        "colab_type": "code",
        "colab": {}
      },
      "source": [
        "# Запустите код ниже для старта, но не правьте во избежания ошибок проверки!\n",
        "_HOMEWORK_NAME_ = '3.3.1_LIGHT'\n",
        "_HOMEWORK_ANSWER_DICT_ = dict()"
      ],
      "execution_count": 1,
      "outputs": []
    },
    {
      "cell_type": "markdown",
      "metadata": {
        "id": "xp_DlvMXJ8Ed",
        "colab_type": "text"
      },
      "source": [
        "## ФИО участника"
      ]
    },
    {
      "cell_type": "code",
      "metadata": {
        "id": "RHUt9t1XMw9a",
        "colab_type": "code",
        "colab": {}
      },
      "source": [
        "# Введите ваше имя и фамилию в соответствующую позицию 'NAME' и 'LAST_NAME'!\n",
        "_NAME_SERNAME_ = {\n",
        "    'NAME' : 'Vladimir',\n",
        "    'LAST_NAME' : 'Doronin'\n",
        "}"
      ],
      "execution_count": 2,
      "outputs": []
    },
    {
      "cell_type": "markdown",
      "metadata": {
        "id": "gMwyKhlQJ1mf",
        "colab_type": "text"
      },
      "source": [
        "## Задание 1"
      ]
    },
    {
      "cell_type": "markdown",
      "metadata": {
        "id": "Owu684lKKrjJ",
        "colab_type": "text"
      },
      "source": [
        "**Условие:** \n",
        "Создайте массив ```ndarray``` размера ```(20,20)``` элементов, взятых из стандартного нормального распределения, используя модуль ```scipy.stats```. Найдите определитель полученной матрицы с использованием функции ```scipy.linalg.det()```. \n",
        "\n",
        "**Формат ответа:** \n",
        "Число (например, ```3.8```)\n",
        "\n",
        "**Оценка в баллах:** 3 балла"
      ]
    },
    {
      "cell_type": "markdown",
      "metadata": {
        "id": "OCTvo3fHLaaJ",
        "colab_type": "text"
      },
      "source": [
        "**Решение:**"
      ]
    },
    {
      "cell_type": "code",
      "metadata": {
        "id": "f9_8IGndLeRO",
        "colab_type": "code",
        "colab": {
          "base_uri": "https://localhost:8080/",
          "height": 35
        },
        "outputId": "c4b8d033-78ba-4284-9a7a-d98493eb91c3"
      },
      "source": [
        "import scipy\n",
        "from scipy import stats\n",
        "\n",
        "a = scipy.stats.norm.rvs(size=(20,20))\n",
        "ans1 = scipy.linalg.det(a)\n",
        "print(ans1)"
      ],
      "execution_count": 4,
      "outputs": [
        {
          "output_type": "stream",
          "text": [
            "-240003217.17910692\n"
          ],
          "name": "stdout"
        }
      ]
    },
    {
      "cell_type": "markdown",
      "metadata": {
        "id": "p0CmJgA5LWoT",
        "colab_type": "text"
      },
      "source": [
        "**Ответ:**"
      ]
    },
    {
      "cell_type": "code",
      "metadata": {
        "id": "bL0LuTGTJShl",
        "colab_type": "code",
        "colab": {}
      },
      "source": [
        "# Не изменяйте текст до знака = во избежании ошибок проверки!\n",
        "_HOMEWORK_ANSWER_DICT_['A1'] = ans1"
      ],
      "execution_count": 5,
      "outputs": []
    },
    {
      "cell_type": "markdown",
      "metadata": {
        "colab_type": "text",
        "id": "g5S0h2-wKfGE"
      },
      "source": [
        "## Задание 2"
      ]
    },
    {
      "cell_type": "markdown",
      "metadata": {
        "colab_type": "text",
        "id": "orX7BUzcPKKf"
      },
      "source": [
        "**Условие:** \n",
        "С использованием модуля ```scipy.integrate``` найдите площадь фигуры, образованной при пересечении функций $f(x)=x$ и $g(x)=x^2$.\n",
        "\n",
        "**Формат ответа:** \n",
        "Число (например, ```10.7```)\n",
        "\n",
        "**Оценка в баллах:** 5 баллов"
      ]
    },
    {
      "cell_type": "markdown",
      "metadata": {
        "colab_type": "text",
        "id": "ESSLfwqEPKKn"
      },
      "source": [
        "**Решение:**"
      ]
    },
    {
      "cell_type": "code",
      "metadata": {
        "colab_type": "code",
        "id": "y8HOlaNLPKKq",
        "colab": {
          "base_uri": "https://localhost:8080/",
          "height": 35
        },
        "outputId": "63c12bb2-5251-41a6-a998-bc929ffd6c9e"
      },
      "source": [
        "import scipy.integrate as integrate\n",
        "\n",
        "def f(x):\n",
        "  return x\n",
        "\n",
        "def g(x):\n",
        "  return x**2\n",
        "\n",
        "ans2 = abs(integrate.quad(f,0,1)[0] - integrate.quad(g,0,1)[0])\n",
        "print(ans2)"
      ],
      "execution_count": 6,
      "outputs": [
        {
          "output_type": "stream",
          "text": [
            "0.16666666666666663\n"
          ],
          "name": "stdout"
        }
      ]
    },
    {
      "cell_type": "markdown",
      "metadata": {
        "colab_type": "text",
        "id": "Trvrl2qPPKKx"
      },
      "source": [
        "**Ответ:**"
      ]
    },
    {
      "cell_type": "code",
      "metadata": {
        "colab_type": "code",
        "id": "iiWu4IpuKfxV",
        "colab": {}
      },
      "source": [
        "# Не изменяйте текст до знака = во избежании ошибок проверки!\n",
        "_HOMEWORK_ANSWER_DICT_['A2'] = ans2"
      ],
      "execution_count": 7,
      "outputs": []
    },
    {
      "cell_type": "markdown",
      "metadata": {
        "id": "kiKkFcn6KQFA",
        "colab_type": "text"
      },
      "source": [
        "## Комментарии участника"
      ]
    },
    {
      "cell_type": "code",
      "metadata": {
        "id": "3aI3lBQVdvaY",
        "colab_type": "code",
        "colab": {}
      },
      "source": [
        "_YOUR_COMMENT_ = 'All right!'"
      ],
      "execution_count": 8,
      "outputs": []
    },
    {
      "cell_type": "markdown",
      "metadata": {
        "id": "TvzA7RQXcywE",
        "colab_type": "text"
      },
      "source": [
        "## Создание отчета"
      ]
    },
    {
      "cell_type": "code",
      "metadata": {
        "id": "y-d24eqmdn4x",
        "colab_type": "code",
        "colab": {
          "base_uri": "https://localhost:8080/",
          "height": 35
        },
        "outputId": "0e22992d-6cb3-444e-c54f-04a4684bbcff"
      },
      "source": [
        "# Проверьте правильность заполнения полей и \n",
        "# выполните данный код для создания отчета\n",
        "# и сохранения на локальную машину\n",
        "from google.colab import files\n",
        "import json\n",
        "try:\n",
        "  # form a report\n",
        "  _HM_REPORT_ = {'Answers':_HOMEWORK_ANSWER_DICT_,\n",
        "                'Comment':_YOUR_COMMENT_,\n",
        "                'User':_NAME_SERNAME_,\n",
        "                }\n",
        "\n",
        "  # create a report name\n",
        "  _REPORT_NAME_ = 'HM_' +\\\n",
        "                    _HOMEWORK_NAME_ + \\\n",
        "                  '_by_' + \\\n",
        "                  _NAME_SERNAME_['LAST_NAME'] + \\\n",
        "                  '.json'\n",
        "  \n",
        "  # Save a report to a file\n",
        "  f = open(_REPORT_NAME_,\"w\")\n",
        "  f.write(json.dumps(_HM_REPORT_))\n",
        "  f.close()\n",
        "\n",
        "  # Donwnload the file into a local host\n",
        "  files.download(_REPORT_NAME_) \n",
        "  print('Thanks for the work, {name}!'.format(name=_NAME_SERNAME_['NAME']))\n",
        "except Exception as error:\n",
        "   print(error)\n",
        "   print('Something went wrong! Check the data entry and try again!')"
      ],
      "execution_count": 9,
      "outputs": [
        {
          "output_type": "display_data",
          "data": {
            "application/javascript": [
              "\n",
              "    async function download(id, filename, size) {\n",
              "      if (!google.colab.kernel.accessAllowed) {\n",
              "        return;\n",
              "      }\n",
              "      const div = document.createElement('div');\n",
              "      const label = document.createElement('label');\n",
              "      label.textContent = `Downloading \"${filename}\": `;\n",
              "      div.appendChild(label);\n",
              "      const progress = document.createElement('progress');\n",
              "      progress.max = size;\n",
              "      div.appendChild(progress);\n",
              "      document.body.appendChild(div);\n",
              "\n",
              "      const buffers = [];\n",
              "      let downloaded = 0;\n",
              "\n",
              "      const channel = await google.colab.kernel.comms.open(id);\n",
              "      // Send a message to notify the kernel that we're ready.\n",
              "      channel.send({})\n",
              "\n",
              "      for await (const message of channel.messages) {\n",
              "        // Send a message to notify the kernel that we're ready.\n",
              "        channel.send({})\n",
              "        if (message.buffers) {\n",
              "          for (const buffer of message.buffers) {\n",
              "            buffers.push(buffer);\n",
              "            downloaded += buffer.byteLength;\n",
              "            progress.value = downloaded;\n",
              "          }\n",
              "        }\n",
              "      }\n",
              "      const blob = new Blob(buffers, {type: 'application/binary'});\n",
              "      const a = document.createElement('a');\n",
              "      a.href = window.URL.createObjectURL(blob);\n",
              "      a.download = filename;\n",
              "      div.appendChild(a);\n",
              "      a.click();\n",
              "      div.remove();\n",
              "    }\n",
              "  "
            ],
            "text/plain": [
              "<IPython.core.display.Javascript object>"
            ]
          },
          "metadata": {
            "tags": []
          }
        },
        {
          "output_type": "display_data",
          "data": {
            "application/javascript": [
              "download(\"download_7f9ad7d3-dc97-49b3-ae91-23e9ccb54973\", \"HM_3.3.1_LIGHT_by_Doronin.json\", 146)"
            ],
            "text/plain": [
              "<IPython.core.display.Javascript object>"
            ]
          },
          "metadata": {
            "tags": []
          }
        },
        {
          "output_type": "stream",
          "text": [
            "Thanks for the work, Vladimir!\n"
          ],
          "name": "stdout"
        }
      ]
    }
  ]
}