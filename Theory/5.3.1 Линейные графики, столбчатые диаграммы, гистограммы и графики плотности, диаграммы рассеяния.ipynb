{
  "nbformat": 4,
  "nbformat_minor": 0,
  "metadata": {
    "colab": {
      "name": "5.3.1 Линейные графики, столбчатые диаграммы, гистограммы и графики плотности, диаграммы рассеяния.ipynb",
      "provenance": [],
      "collapsed_sections": []
    },
    "kernelspec": {
      "name": "python3",
      "display_name": "Python 3"
    },
    "accelerator": "GPU"
  },
  "cells": [
    {
      "cell_type": "markdown",
      "metadata": {
        "id": "moIM-S1g7SKx",
        "colab_type": "text"
      },
      "source": [
        "# Курс \"Python для анализа данных\"\n",
        "\n",
        "---\n",
        "#5.3.1 Линейные графики, столбчатые диаграммы, гистограммы и графики плотности, диаграммы рассеяния"
      ]
    },
    {
      "cell_type": "markdown",
      "metadata": {
        "id": "QZ1Arpnj7p_N",
        "colab_type": "text"
      },
      "source": [
        "## Где мы сейчас?\n"
      ]
    },
    {
      "cell_type": "markdown",
      "metadata": {
        "id": "J9A06fP5j1vS",
        "colab_type": "text"
      },
      "source": [
        "<html>\n",
        " <head>\n",
        "  <meta charset=\"utf-8\">\n",
        " </head>\n",
        " <body>\n",
        "  <ul>\n",
        "    <li>1. Введение в анализ данных и разработку на языке Python </li> \n",
        "    <li>2. Основы языка </li> \n",
        "    <li>3. Библиотеки NumPy и SciPy для решения задач анализа данных и машинного обучения </li> \n",
        "    <li>4. Библиотека Pandas для работы с высокоуровневыми структурами данных </li> \n",
        "    <li>5. <strong>Визуализации результатов анализа данных с использованием библиотек Matplotlib, Seaborn, Pandas</strong> <i><- Вот в этой главе!</i>\n",
        "     <ul>\n",
        "      <li>5.1 Краткое введение в API библиотеки Matplotlib</li> \n",
        "      <li>5.2 Краткое введение в API библиотеки Seaborn</li>\n",
        "      <li><strong>5.3 Функции построения графиков в Pandas</strong> <i><- Вот в этом параграфе!</i></li>\n",
        "       <ul>\n",
        "        <li><strong>5.3.1 Линейные графики, столбчатые диаграммы, гистограммы и графики плотности, диаграммы рассеяния</strong><i> <- Вот в этом пункте!</i></li>\n",
        "       </ul>\n",
        "     </ul>\n",
        "    </li>   \n",
        "  </ul>\n",
        " </body>\n",
        "</html>"
      ]
    },
    {
      "cell_type": "markdown",
      "metadata": {
        "id": "z1oJmp_4Po8K",
        "colab_type": "text"
      },
      "source": [
        "## О чем будем говорить?\n"
      ]
    },
    {
      "cell_type": "markdown",
      "metadata": {
        "id": "7X4Wlpraj7Yw",
        "colab_type": "text"
      },
      "source": [
        "Об использовании функционала визуализации анализа данных, встроенного в библиотеку ```pandas```."
      ]
    },
    {
      "cell_type": "markdown",
      "metadata": {
        "id": "NhfVXiTGAkND",
        "colab_type": "text"
      },
      "source": [
        "## Ключевые слова, понятия и выражения\n",
        "\n",
        "\n",
        "\n",
        "\n"
      ]
    },
    {
      "cell_type": "markdown",
      "metadata": {
        "id": "ixnuL5V2rZtz",
        "colab_type": "text"
      },
      "source": [
        "*   ```pandas```"
      ]
    },
    {
      "cell_type": "markdown",
      "metadata": {
        "id": "2lFBeeLHjcc7",
        "colab_type": "text"
      },
      "source": [
        "## Материал"
      ]
    },
    {
      "cell_type": "markdown",
      "metadata": {
        "id": "NuAbQqZXRWr0",
        "colab_type": "text"
      },
      "source": [
        "Библиотека ```seaborn``` будет использована только для получения встроенного датасета ```mpg```. "
      ]
    },
    {
      "cell_type": "code",
      "metadata": {
        "id": "e3Z3bf4jLpFc",
        "colab_type": "code",
        "colab": {}
      },
      "source": [
        "# Загрузка данных\n",
        "import pandas as pd\n",
        "import seaborn as sns\n",
        "sns.set(style=\"ticks\")"
      ],
      "execution_count": null,
      "outputs": []
    },
    {
      "cell_type": "code",
      "metadata": {
        "id": "RCOAAe9QLprT",
        "colab_type": "code",
        "colab": {
          "base_uri": "https://localhost:8080/",
          "height": 206
        },
        "outputId": "82e60919-9e3e-4958-a73a-ccc207ffe3e7"
      },
      "source": [
        "data = sns.load_dataset(\"mpg\")\n",
        "data.dropna(inplace=True)\n",
        "data.head()"
      ],
      "execution_count": null,
      "outputs": [
        {
          "output_type": "execute_result",
          "data": {
            "text/html": [
              "<div>\n",
              "<style scoped>\n",
              "    .dataframe tbody tr th:only-of-type {\n",
              "        vertical-align: middle;\n",
              "    }\n",
              "\n",
              "    .dataframe tbody tr th {\n",
              "        vertical-align: top;\n",
              "    }\n",
              "\n",
              "    .dataframe thead th {\n",
              "        text-align: right;\n",
              "    }\n",
              "</style>\n",
              "<table border=\"1\" class=\"dataframe\">\n",
              "  <thead>\n",
              "    <tr style=\"text-align: right;\">\n",
              "      <th></th>\n",
              "      <th>mpg</th>\n",
              "      <th>cylinders</th>\n",
              "      <th>displacement</th>\n",
              "      <th>horsepower</th>\n",
              "      <th>weight</th>\n",
              "      <th>acceleration</th>\n",
              "      <th>model_year</th>\n",
              "      <th>origin</th>\n",
              "      <th>name</th>\n",
              "    </tr>\n",
              "  </thead>\n",
              "  <tbody>\n",
              "    <tr>\n",
              "      <th>0</th>\n",
              "      <td>18.0</td>\n",
              "      <td>8</td>\n",
              "      <td>307.0</td>\n",
              "      <td>130.0</td>\n",
              "      <td>3504</td>\n",
              "      <td>12.0</td>\n",
              "      <td>70</td>\n",
              "      <td>usa</td>\n",
              "      <td>chevrolet chevelle malibu</td>\n",
              "    </tr>\n",
              "    <tr>\n",
              "      <th>1</th>\n",
              "      <td>15.0</td>\n",
              "      <td>8</td>\n",
              "      <td>350.0</td>\n",
              "      <td>165.0</td>\n",
              "      <td>3693</td>\n",
              "      <td>11.5</td>\n",
              "      <td>70</td>\n",
              "      <td>usa</td>\n",
              "      <td>buick skylark 320</td>\n",
              "    </tr>\n",
              "    <tr>\n",
              "      <th>2</th>\n",
              "      <td>18.0</td>\n",
              "      <td>8</td>\n",
              "      <td>318.0</td>\n",
              "      <td>150.0</td>\n",
              "      <td>3436</td>\n",
              "      <td>11.0</td>\n",
              "      <td>70</td>\n",
              "      <td>usa</td>\n",
              "      <td>plymouth satellite</td>\n",
              "    </tr>\n",
              "    <tr>\n",
              "      <th>3</th>\n",
              "      <td>16.0</td>\n",
              "      <td>8</td>\n",
              "      <td>304.0</td>\n",
              "      <td>150.0</td>\n",
              "      <td>3433</td>\n",
              "      <td>12.0</td>\n",
              "      <td>70</td>\n",
              "      <td>usa</td>\n",
              "      <td>amc rebel sst</td>\n",
              "    </tr>\n",
              "    <tr>\n",
              "      <th>4</th>\n",
              "      <td>17.0</td>\n",
              "      <td>8</td>\n",
              "      <td>302.0</td>\n",
              "      <td>140.0</td>\n",
              "      <td>3449</td>\n",
              "      <td>10.5</td>\n",
              "      <td>70</td>\n",
              "      <td>usa</td>\n",
              "      <td>ford torino</td>\n",
              "    </tr>\n",
              "  </tbody>\n",
              "</table>\n",
              "</div>"
            ],
            "text/plain": [
              "    mpg  cylinders  displacement  ...  model_year  origin                       name\n",
              "0  18.0          8         307.0  ...          70     usa  chevrolet chevelle malibu\n",
              "1  15.0          8         350.0  ...          70     usa          buick skylark 320\n",
              "2  18.0          8         318.0  ...          70     usa         plymouth satellite\n",
              "3  16.0          8         304.0  ...          70     usa              amc rebel sst\n",
              "4  17.0          8         302.0  ...          70     usa                ford torino\n",
              "\n",
              "[5 rows x 9 columns]"
            ]
          },
          "metadata": {
            "tags": []
          },
          "execution_count": 60
        }
      ]
    },
    {
      "cell_type": "code",
      "metadata": {
        "id": "ARgZ_I2HLtxL",
        "colab_type": "code",
        "colab": {
          "base_uri": "https://localhost:8080/",
          "height": 275
        },
        "outputId": "b8e9bc0e-bd90-4914-dd01-aa89a8a2c4c3"
      },
      "source": [
        "data.info()"
      ],
      "execution_count": null,
      "outputs": [
        {
          "output_type": "stream",
          "text": [
            "<class 'pandas.core.frame.DataFrame'>\n",
            "Int64Index: 392 entries, 0 to 397\n",
            "Data columns (total 9 columns):\n",
            "mpg             392 non-null float64\n",
            "cylinders       392 non-null int64\n",
            "displacement    392 non-null float64\n",
            "horsepower      392 non-null float64\n",
            "weight          392 non-null int64\n",
            "acceleration    392 non-null float64\n",
            "model_year      392 non-null int64\n",
            "origin          392 non-null object\n",
            "name            392 non-null object\n",
            "dtypes: float64(4), int64(3), object(2)\n",
            "memory usage: 30.6+ KB\n"
          ],
          "name": "stdout"
        }
      ]
    },
    {
      "cell_type": "code",
      "metadata": {
        "id": "aahssCZmMA46",
        "colab_type": "code",
        "colab": {
          "base_uri": "https://localhost:8080/",
          "height": 319
        },
        "outputId": "5fc13c80-3f69-47ec-c9ce-85e16329143c"
      },
      "source": [
        "ax = data.plot(y='mpg',title='Самый простой способ построения графика')\n",
        "ax.set_xlabel(\"position\")\n",
        "ax.set_ylabel(\"mpg\")"
      ],
      "execution_count": null,
      "outputs": [
        {
          "output_type": "execute_result",
          "data": {
            "text/plain": [
              "Text(0, 0.5, 'mpg')"
            ]
          },
          "metadata": {
            "tags": []
          },
          "execution_count": 63
        },
        {
          "output_type": "display_data",
          "data": {
            "image/png": "[encoded data removed]",
            "text/plain": [
              "<Figure size 432x288 with 1 Axes>"
            ]
          },
          "metadata": {
            "tags": []
          }
        }
      ]
    },
    {
      "cell_type": "code",
      "metadata": {
        "id": "OsmQwBMNOevC",
        "colab_type": "code",
        "colab": {
          "base_uri": "https://localhost:8080/",
          "height": 319
        },
        "outputId": "b5bf6002-b2d2-40ce-9fec-e8dfcf81c1b4"
      },
      "source": [
        "ax = data['weight'].plot(kind='hist', title='Гистограммы')\n",
        "ax.set_xlabel(\"weight\")\n",
        "ax.set_ylabel(\"Частота\")"
      ],
      "execution_count": null,
      "outputs": [
        {
          "output_type": "execute_result",
          "data": {
            "text/plain": [
              "Text(0, 0.5, 'Частота')"
            ]
          },
          "metadata": {
            "tags": []
          },
          "execution_count": 64
        },
        {
          "output_type": "display_data",
          "data": {
            "image/png": "[encoded data removed]",
            "text/plain": [
              "<Figure size 432x288 with 1 Axes>"
            ]
          },
          "metadata": {
            "tags": []
          }
        }
      ]
    },
    {
      "cell_type": "code",
      "metadata": {
        "id": "evSm8fAdUQrV",
        "colab_type": "code",
        "colab": {
          "base_uri": "https://localhost:8080/",
          "height": 468
        },
        "outputId": "f8542435-d263-4d87-f5f3-7b38864da3f9"
      },
      "source": [
        "data.iloc[:,:-2].hist(bins=20)"
      ],
      "execution_count": null,
      "outputs": [
        {
          "output_type": "execute_result",
          "data": {
            "text/plain": [
              "array([[<matplotlib.axes._subplots.AxesSubplot object at 0x7fd7f989c518>,\n",
              "        <matplotlib.axes._subplots.AxesSubplot object at 0x7fd7f9851f60>,\n",
              "        <matplotlib.axes._subplots.AxesSubplot object at 0x7fd7f9877940>],\n",
              "       [<matplotlib.axes._subplots.AxesSubplot object at 0x7fd7f9831320>,\n",
              "        <matplotlib.axes._subplots.AxesSubplot object at 0x7fd7f97e0cc0>,\n",
              "        <matplotlib.axes._subplots.AxesSubplot object at 0x7fd7f97976a0>],\n",
              "       [<matplotlib.axes._subplots.AxesSubplot object at 0x7fd7f9753080>,\n",
              "        <matplotlib.axes._subplots.AxesSubplot object at 0x7fd7f96ffa58>,\n",
              "        <matplotlib.axes._subplots.AxesSubplot object at 0x7fd7f96ffa90>]],\n",
              "      dtype=object)"
            ]
          },
          "metadata": {
            "tags": []
          },
          "execution_count": 66
        },
        {
          "output_type": "display_data",
          "data": {
            "image/png": "[encoded data removed]",
            "text/plain": [
              "<Figure size 432x288 with 9 Axes>"
            ]
          },
          "metadata": {
            "tags": []
          }
        }
      ]
    },
    {
      "cell_type": "code",
      "metadata": {
        "id": "1HFATdSYOohv",
        "colab_type": "code",
        "colab": {
          "base_uri": "https://localhost:8080/",
          "height": 358
        },
        "outputId": "ccd59c03-242d-450f-ce96-59030e09fc7b"
      },
      "source": [
        "ax = data.plot(x='mpg',y='weight',kind='scatter',title='Поточечный график')\n",
        "ax.set_xlabel(\"mpg\")\n",
        "ax.set_ylabel(\"weight\")"
      ],
      "execution_count": null,
      "outputs": [
        {
          "output_type": "stream",
          "text": [
            "'c' argument looks like a single numeric RGB or RGBA sequence, which should be avoided as value-mapping will have precedence in case its length matches with 'x' & 'y'.  Please use a 2-D array with a single row if you really want to specify the same RGB or RGBA value for all points.\n"
          ],
          "name": "stderr"
        },
        {
          "output_type": "execute_result",
          "data": {
            "text/plain": [
              "Text(0, 0.5, 'weight')"
            ]
          },
          "metadata": {
            "tags": []
          },
          "execution_count": 67
        },
        {
          "output_type": "display_data",
          "data": {
            "image/png": "[encoded data removed]",
            "text/plain": [
              "<Figure size 432x288 with 1 Axes>"
            ]
          },
          "metadata": {
            "tags": []
          }
        }
      ]
    },
    {
      "cell_type": "code",
      "metadata": {
        "id": "mMYc2caJOHpw",
        "colab_type": "code",
        "colab": {
          "base_uri": "https://localhost:8080/",
          "height": 302
        },
        "outputId": "806f567a-fe7b-4284-f9fe-f36dbac2f1e4"
      },
      "source": [
        "data['mpg'].plot(kind='box',title='Ящик с усами')"
      ],
      "execution_count": null,
      "outputs": [
        {
          "output_type": "execute_result",
          "data": {
            "text/plain": [
              "<matplotlib.axes._subplots.AxesSubplot at 0x7fd7f9496f60>"
            ]
          },
          "metadata": {
            "tags": []
          },
          "execution_count": 68
        },
        {
          "output_type": "display_data",
          "data": {
            "image/png": "[encoded data removed]",
            "text/plain": [
              "<Figure size 432x288 with 1 Axes>"
            ]
          },
          "metadata": {
            "tags": []
          }
        }
      ]
    },
    {
      "cell_type": "code",
      "metadata": {
        "colab_type": "code",
        "id": "o63Qd6lqVWlc",
        "colab": {
          "base_uri": "https://localhost:8080/",
          "height": 358
        },
        "outputId": "62eed64c-9118-41b2-f2aa-be7f7064b60e"
      },
      "source": [
        "print('Аналог тепловой карты')\n",
        "grouped_data = data.groupby(['model_year','cylinders'])['mpg'].mean().unstack().fillna(0)\n",
        "grouped_data.style.background_gradient(cmap='Blues')"
      ],
      "execution_count": null,
      "outputs": [
        {
          "output_type": "stream",
          "text": [
            "Аналог тепловой карты\n"
          ],
          "name": "stdout"
        },
        {
          "output_type": "execute_result",
          "data": {
            "text/html": [
              "<style  type=\"text/css\" >\n",
              "    #T_0de2ff2a_49ec_11ea_a9b7_0242ac1c0002row0_col0 {\n",
              "            background-color:  #f7fbff;\n",
              "            color:  #000000;\n",
              "        }    #T_0de2ff2a_49ec_11ea_a9b7_0242ac1c0002row0_col1 {\n",
              "            background-color:  #cde0f1;\n",
              "            color:  #000000;\n",
              "        }    #T_0de2ff2a_49ec_11ea_a9b7_0242ac1c0002row0_col2 {\n",
              "            background-color:  #f7fbff;\n",
              "            color:  #000000;\n",
              "        }    #T_0de2ff2a_49ec_11ea_a9b7_0242ac1c0002row0_col3 {\n",
              "            background-color:  #2777b8;\n",
              "            color:  #000000;\n",
              "        }    #T_0de2ff2a_49ec_11ea_a9b7_0242ac1c0002row0_col4 {\n",
              "            background-color:  #61a7d2;\n",
              "            color:  #000000;\n",
              "        }    #T_0de2ff2a_49ec_11ea_a9b7_0242ac1c0002row1_col0 {\n",
              "            background-color:  #f7fbff;\n",
              "            color:  #000000;\n",
              "        }    #T_0de2ff2a_49ec_11ea_a9b7_0242ac1c0002row1_col1 {\n",
              "            background-color:  #91c3de;\n",
              "            color:  #000000;\n",
              "        }    #T_0de2ff2a_49ec_11ea_a9b7_0242ac1c0002row1_col2 {\n",
              "            background-color:  #f7fbff;\n",
              "            color:  #000000;\n",
              "        }    #T_0de2ff2a_49ec_11ea_a9b7_0242ac1c0002row1_col3 {\n",
              "            background-color:  #3f8fc5;\n",
              "            color:  #000000;\n",
              "        }    #T_0de2ff2a_49ec_11ea_a9b7_0242ac1c0002row1_col4 {\n",
              "            background-color:  #69add5;\n",
              "            color:  #000000;\n",
              "        }    #T_0de2ff2a_49ec_11ea_a9b7_0242ac1c0002row2_col0 {\n",
              "            background-color:  #1663aa;\n",
              "            color:  #f1f1f1;\n",
              "        }    #T_0de2ff2a_49ec_11ea_a9b7_0242ac1c0002row2_col1 {\n",
              "            background-color:  #ecf4fb;\n",
              "            color:  #000000;\n",
              "        }    #T_0de2ff2a_49ec_11ea_a9b7_0242ac1c0002row2_col2 {\n",
              "            background-color:  #f7fbff;\n",
              "            color:  #000000;\n",
              "        }    #T_0de2ff2a_49ec_11ea_a9b7_0242ac1c0002row2_col3 {\n",
              "            background-color:  #f7fbff;\n",
              "            color:  #000000;\n",
              "        }    #T_0de2ff2a_49ec_11ea_a9b7_0242ac1c0002row2_col4 {\n",
              "            background-color:  #66abd4;\n",
              "            color:  #000000;\n",
              "        }    #T_0de2ff2a_49ec_11ea_a9b7_0242ac1c0002row3_col0 {\n",
              "            background-color:  #1f6eb3;\n",
              "            color:  #f1f1f1;\n",
              "        }    #T_0de2ff2a_49ec_11ea_a9b7_0242ac1c0002row3_col1 {\n",
              "            background-color:  #f7fbff;\n",
              "            color:  #000000;\n",
              "        }    #T_0de2ff2a_49ec_11ea_a9b7_0242ac1c0002row3_col2 {\n",
              "            background-color:  #f7fbff;\n",
              "            color:  #000000;\n",
              "        }    #T_0de2ff2a_49ec_11ea_a9b7_0242ac1c0002row3_col3 {\n",
              "            background-color:  #3686c0;\n",
              "            color:  #000000;\n",
              "        }    #T_0de2ff2a_49ec_11ea_a9b7_0242ac1c0002row3_col4 {\n",
              "            background-color:  #6caed6;\n",
              "            color:  #000000;\n",
              "        }    #T_0de2ff2a_49ec_11ea_a9b7_0242ac1c0002row4_col0 {\n",
              "            background-color:  #f7fbff;\n",
              "            color:  #000000;\n",
              "        }    #T_0de2ff2a_49ec_11ea_a9b7_0242ac1c0002row4_col1 {\n",
              "            background-color:  #8cc0dd;\n",
              "            color:  #000000;\n",
              "        }    #T_0de2ff2a_49ec_11ea_a9b7_0242ac1c0002row4_col2 {\n",
              "            background-color:  #f7fbff;\n",
              "            color:  #000000;\n",
              "        }    #T_0de2ff2a_49ec_11ea_a9b7_0242ac1c0002row4_col3 {\n",
              "            background-color:  #4695c8;\n",
              "            color:  #000000;\n",
              "        }    #T_0de2ff2a_49ec_11ea_a9b7_0242ac1c0002row4_col4 {\n",
              "            background-color:  #60a7d2;\n",
              "            color:  #000000;\n",
              "        }    #T_0de2ff2a_49ec_11ea_a9b7_0242ac1c0002row5_col0 {\n",
              "            background-color:  #f7fbff;\n",
              "            color:  #000000;\n",
              "        }    #T_0de2ff2a_49ec_11ea_a9b7_0242ac1c0002row5_col1 {\n",
              "            background-color:  #cee0f2;\n",
              "            color:  #000000;\n",
              "        }    #T_0de2ff2a_49ec_11ea_a9b7_0242ac1c0002row5_col2 {\n",
              "            background-color:  #f7fbff;\n",
              "            color:  #000000;\n",
              "        }    #T_0de2ff2a_49ec_11ea_a9b7_0242ac1c0002row5_col3 {\n",
              "            background-color:  #4493c7;\n",
              "            color:  #000000;\n",
              "        }    #T_0de2ff2a_49ec_11ea_a9b7_0242ac1c0002row5_col4 {\n",
              "            background-color:  #4e9acb;\n",
              "            color:  #000000;\n",
              "        }    #T_0de2ff2a_49ec_11ea_a9b7_0242ac1c0002row6_col0 {\n",
              "            background-color:  #f7fbff;\n",
              "            color:  #000000;\n",
              "        }    #T_0de2ff2a_49ec_11ea_a9b7_0242ac1c0002row6_col1 {\n",
              "            background-color:  #abd0e6;\n",
              "            color:  #000000;\n",
              "        }    #T_0de2ff2a_49ec_11ea_a9b7_0242ac1c0002row6_col2 {\n",
              "            background-color:  #f7fbff;\n",
              "            color:  #000000;\n",
              "        }    #T_0de2ff2a_49ec_11ea_a9b7_0242ac1c0002row6_col3 {\n",
              "            background-color:  #2d7dbb;\n",
              "            color:  #000000;\n",
              "        }    #T_0de2ff2a_49ec_11ea_a9b7_0242ac1c0002row6_col4 {\n",
              "            background-color:  #5aa2cf;\n",
              "            color:  #000000;\n",
              "        }    #T_0de2ff2a_49ec_11ea_a9b7_0242ac1c0002row7_col0 {\n",
              "            background-color:  #08488e;\n",
              "            color:  #f1f1f1;\n",
              "        }    #T_0de2ff2a_49ec_11ea_a9b7_0242ac1c0002row7_col1 {\n",
              "            background-color:  #61a7d2;\n",
              "            color:  #000000;\n",
              "        }    #T_0de2ff2a_49ec_11ea_a9b7_0242ac1c0002row7_col2 {\n",
              "            background-color:  #f7fbff;\n",
              "            color:  #000000;\n",
              "        }    #T_0de2ff2a_49ec_11ea_a9b7_0242ac1c0002row7_col3 {\n",
              "            background-color:  #3181bd;\n",
              "            color:  #000000;\n",
              "        }    #T_0de2ff2a_49ec_11ea_a9b7_0242ac1c0002row7_col4 {\n",
              "            background-color:  #4a98c9;\n",
              "            color:  #000000;\n",
              "        }    #T_0de2ff2a_49ec_11ea_a9b7_0242ac1c0002row8_col0 {\n",
              "            background-color:  #f7fbff;\n",
              "            color:  #000000;\n",
              "        }    #T_0de2ff2a_49ec_11ea_a9b7_0242ac1c0002row8_col1 {\n",
              "            background-color:  #549fcd;\n",
              "            color:  #000000;\n",
              "        }    #T_0de2ff2a_49ec_11ea_a9b7_0242ac1c0002row8_col2 {\n",
              "            background-color:  #58a1cf;\n",
              "            color:  #000000;\n",
              "        }    #T_0de2ff2a_49ec_11ea_a9b7_0242ac1c0002row8_col3 {\n",
              "            background-color:  #3585bf;\n",
              "            color:  #000000;\n",
              "        }    #T_0de2ff2a_49ec_11ea_a9b7_0242ac1c0002row8_col4 {\n",
              "            background-color:  #2a7ab9;\n",
              "            color:  #000000;\n",
              "        }    #T_0de2ff2a_49ec_11ea_a9b7_0242ac1c0002row9_col0 {\n",
              "            background-color:  #f7fbff;\n",
              "            color:  #000000;\n",
              "        }    #T_0de2ff2a_49ec_11ea_a9b7_0242ac1c0002row9_col1 {\n",
              "            background-color:  #2676b8;\n",
              "            color:  #000000;\n",
              "        }    #T_0de2ff2a_49ec_11ea_a9b7_0242ac1c0002row9_col2 {\n",
              "            background-color:  #2f7fbc;\n",
              "            color:  #000000;\n",
              "        }    #T_0de2ff2a_49ec_11ea_a9b7_0242ac1c0002row9_col3 {\n",
              "            background-color:  #1561a9;\n",
              "            color:  #f1f1f1;\n",
              "        }    #T_0de2ff2a_49ec_11ea_a9b7_0242ac1c0002row9_col4 {\n",
              "            background-color:  #2e7ebc;\n",
              "            color:  #000000;\n",
              "        }    #T_0de2ff2a_49ec_11ea_a9b7_0242ac1c0002row10_col0 {\n",
              "            background-color:  #08306b;\n",
              "            color:  #f1f1f1;\n",
              "        }    #T_0de2ff2a_49ec_11ea_a9b7_0242ac1c0002row10_col1 {\n",
              "            background-color:  #08306b;\n",
              "            color:  #f1f1f1;\n",
              "        }    #T_0de2ff2a_49ec_11ea_a9b7_0242ac1c0002row10_col2 {\n",
              "            background-color:  #08306b;\n",
              "            color:  #f1f1f1;\n",
              "        }    #T_0de2ff2a_49ec_11ea_a9b7_0242ac1c0002row10_col3 {\n",
              "            background-color:  #08468b;\n",
              "            color:  #f1f1f1;\n",
              "        }    #T_0de2ff2a_49ec_11ea_a9b7_0242ac1c0002row10_col4 {\n",
              "            background-color:  #f7fbff;\n",
              "            color:  #000000;\n",
              "        }    #T_0de2ff2a_49ec_11ea_a9b7_0242ac1c0002row11_col0 {\n",
              "            background-color:  #f7fbff;\n",
              "            color:  #000000;\n",
              "        }    #T_0de2ff2a_49ec_11ea_a9b7_0242ac1c0002row11_col1 {\n",
              "            background-color:  #125da6;\n",
              "            color:  #f1f1f1;\n",
              "        }    #T_0de2ff2a_49ec_11ea_a9b7_0242ac1c0002row11_col2 {\n",
              "            background-color:  #f7fbff;\n",
              "            color:  #000000;\n",
              "        }    #T_0de2ff2a_49ec_11ea_a9b7_0242ac1c0002row11_col3 {\n",
              "            background-color:  #125da6;\n",
              "            color:  #f1f1f1;\n",
              "        }    #T_0de2ff2a_49ec_11ea_a9b7_0242ac1c0002row11_col4 {\n",
              "            background-color:  #08306b;\n",
              "            color:  #f1f1f1;\n",
              "        }    #T_0de2ff2a_49ec_11ea_a9b7_0242ac1c0002row12_col0 {\n",
              "            background-color:  #f7fbff;\n",
              "            color:  #000000;\n",
              "        }    #T_0de2ff2a_49ec_11ea_a9b7_0242ac1c0002row12_col1 {\n",
              "            background-color:  #1764ab;\n",
              "            color:  #f1f1f1;\n",
              "        }    #T_0de2ff2a_49ec_11ea_a9b7_0242ac1c0002row12_col2 {\n",
              "            background-color:  #f7fbff;\n",
              "            color:  #000000;\n",
              "        }    #T_0de2ff2a_49ec_11ea_a9b7_0242ac1c0002row12_col3 {\n",
              "            background-color:  #08306b;\n",
              "            color:  #f1f1f1;\n",
              "        }    #T_0de2ff2a_49ec_11ea_a9b7_0242ac1c0002row12_col4 {\n",
              "            background-color:  #f7fbff;\n",
              "            color:  #000000;\n",
              "        }</style><table id=\"T_0de2ff2a_49ec_11ea_a9b7_0242ac1c0002\" ><thead>    <tr>        <th class=\"index_name level0\" >cylinders</th>        <th class=\"col_heading level0 col0\" >3</th>        <th class=\"col_heading level0 col1\" >4</th>        <th class=\"col_heading level0 col2\" >5</th>        <th class=\"col_heading level0 col3\" >6</th>        <th class=\"col_heading level0 col4\" >8</th>    </tr>    <tr>        <th class=\"index_name level0\" >model_year</th>        <th class=\"blank\" ></th>        <th class=\"blank\" ></th>        <th class=\"blank\" ></th>        <th class=\"blank\" ></th>        <th class=\"blank\" ></th>    </tr></thead><tbody>\n",
              "                <tr>\n",
              "                        <th id=\"T_0de2ff2a_49ec_11ea_a9b7_0242ac1c0002level0_row0\" class=\"row_heading level0 row0\" >70</th>\n",
              "                        <td id=\"T_0de2ff2a_49ec_11ea_a9b7_0242ac1c0002row0_col0\" class=\"data row0 col0\" >0</td>\n",
              "                        <td id=\"T_0de2ff2a_49ec_11ea_a9b7_0242ac1c0002row0_col1\" class=\"data row0 col1\" >25.2857</td>\n",
              "                        <td id=\"T_0de2ff2a_49ec_11ea_a9b7_0242ac1c0002row0_col2\" class=\"data row0 col2\" >0</td>\n",
              "                        <td id=\"T_0de2ff2a_49ec_11ea_a9b7_0242ac1c0002row0_col3\" class=\"data row0 col3\" >20.5</td>\n",
              "                        <td id=\"T_0de2ff2a_49ec_11ea_a9b7_0242ac1c0002row0_col4\" class=\"data row0 col4\" >14.1111</td>\n",
              "            </tr>\n",
              "            <tr>\n",
              "                        <th id=\"T_0de2ff2a_49ec_11ea_a9b7_0242ac1c0002level0_row1\" class=\"row_heading level0 row1\" >71</th>\n",
              "                        <td id=\"T_0de2ff2a_49ec_11ea_a9b7_0242ac1c0002row1_col0\" class=\"data row1 col0\" >0</td>\n",
              "                        <td id=\"T_0de2ff2a_49ec_11ea_a9b7_0242ac1c0002row1_col1\" class=\"data row1 col1\" >27.6667</td>\n",
              "                        <td id=\"T_0de2ff2a_49ec_11ea_a9b7_0242ac1c0002row1_col2\" class=\"data row1 col2\" >0</td>\n",
              "                        <td id=\"T_0de2ff2a_49ec_11ea_a9b7_0242ac1c0002row1_col3\" class=\"data row1 col3\" >18</td>\n",
              "                        <td id=\"T_0de2ff2a_49ec_11ea_a9b7_0242ac1c0002row1_col4\" class=\"data row1 col4\" >13.4286</td>\n",
              "            </tr>\n",
              "            <tr>\n",
              "                        <th id=\"T_0de2ff2a_49ec_11ea_a9b7_0242ac1c0002level0_row2\" class=\"row_heading level0 row2\" >72</th>\n",
              "                        <td id=\"T_0de2ff2a_49ec_11ea_a9b7_0242ac1c0002row2_col0\" class=\"data row2 col0\" >19</td>\n",
              "                        <td id=\"T_0de2ff2a_49ec_11ea_a9b7_0242ac1c0002row2_col1\" class=\"data row2 col1\" >23.4286</td>\n",
              "                        <td id=\"T_0de2ff2a_49ec_11ea_a9b7_0242ac1c0002row2_col2\" class=\"data row2 col2\" >0</td>\n",
              "                        <td id=\"T_0de2ff2a_49ec_11ea_a9b7_0242ac1c0002row2_col3\" class=\"data row2 col3\" >0</td>\n",
              "                        <td id=\"T_0de2ff2a_49ec_11ea_a9b7_0242ac1c0002row2_col4\" class=\"data row2 col4\" >13.6154</td>\n",
              "            </tr>\n",
              "            <tr>\n",
              "                        <th id=\"T_0de2ff2a_49ec_11ea_a9b7_0242ac1c0002level0_row3\" class=\"row_heading level0 row3\" >73</th>\n",
              "                        <td id=\"T_0de2ff2a_49ec_11ea_a9b7_0242ac1c0002row3_col0\" class=\"data row3 col0\" >18</td>\n",
              "                        <td id=\"T_0de2ff2a_49ec_11ea_a9b7_0242ac1c0002row3_col1\" class=\"data row3 col1\" >22.7273</td>\n",
              "                        <td id=\"T_0de2ff2a_49ec_11ea_a9b7_0242ac1c0002row3_col2\" class=\"data row3 col2\" >0</td>\n",
              "                        <td id=\"T_0de2ff2a_49ec_11ea_a9b7_0242ac1c0002row3_col3\" class=\"data row3 col3\" >19</td>\n",
              "                        <td id=\"T_0de2ff2a_49ec_11ea_a9b7_0242ac1c0002row3_col4\" class=\"data row3 col4\" >13.2</td>\n",
              "            </tr>\n",
              "            <tr>\n",
              "                        <th id=\"T_0de2ff2a_49ec_11ea_a9b7_0242ac1c0002level0_row4\" class=\"row_heading level0 row4\" >74</th>\n",
              "                        <td id=\"T_0de2ff2a_49ec_11ea_a9b7_0242ac1c0002row4_col0\" class=\"data row4 col0\" >0</td>\n",
              "                        <td id=\"T_0de2ff2a_49ec_11ea_a9b7_0242ac1c0002row4_col1\" class=\"data row4 col1\" >27.8</td>\n",
              "                        <td id=\"T_0de2ff2a_49ec_11ea_a9b7_0242ac1c0002row4_col2\" class=\"data row4 col2\" >0</td>\n",
              "                        <td id=\"T_0de2ff2a_49ec_11ea_a9b7_0242ac1c0002row4_col3\" class=\"data row4 col3\" >17.3333</td>\n",
              "                        <td id=\"T_0de2ff2a_49ec_11ea_a9b7_0242ac1c0002row4_col4\" class=\"data row4 col4\" >14.2</td>\n",
              "            </tr>\n",
              "            <tr>\n",
              "                        <th id=\"T_0de2ff2a_49ec_11ea_a9b7_0242ac1c0002level0_row5\" class=\"row_heading level0 row5\" >75</th>\n",
              "                        <td id=\"T_0de2ff2a_49ec_11ea_a9b7_0242ac1c0002row5_col0\" class=\"data row5 col0\" >0</td>\n",
              "                        <td id=\"T_0de2ff2a_49ec_11ea_a9b7_0242ac1c0002row5_col1\" class=\"data row5 col1\" >25.25</td>\n",
              "                        <td id=\"T_0de2ff2a_49ec_11ea_a9b7_0242ac1c0002row5_col2\" class=\"data row5 col2\" >0</td>\n",
              "                        <td id=\"T_0de2ff2a_49ec_11ea_a9b7_0242ac1c0002row5_col3\" class=\"data row5 col3\" >17.5833</td>\n",
              "                        <td id=\"T_0de2ff2a_49ec_11ea_a9b7_0242ac1c0002row5_col4\" class=\"data row5 col4\" >15.6667</td>\n",
              "            </tr>\n",
              "            <tr>\n",
              "                        <th id=\"T_0de2ff2a_49ec_11ea_a9b7_0242ac1c0002level0_row6\" class=\"row_heading level0 row6\" >76</th>\n",
              "                        <td id=\"T_0de2ff2a_49ec_11ea_a9b7_0242ac1c0002row6_col0\" class=\"data row6 col0\" >0</td>\n",
              "                        <td id=\"T_0de2ff2a_49ec_11ea_a9b7_0242ac1c0002row6_col1\" class=\"data row6 col1\" >26.7667</td>\n",
              "                        <td id=\"T_0de2ff2a_49ec_11ea_a9b7_0242ac1c0002row6_col2\" class=\"data row6 col2\" >0</td>\n",
              "                        <td id=\"T_0de2ff2a_49ec_11ea_a9b7_0242ac1c0002row6_col3\" class=\"data row6 col3\" >20</td>\n",
              "                        <td id=\"T_0de2ff2a_49ec_11ea_a9b7_0242ac1c0002row6_col4\" class=\"data row6 col4\" >14.6667</td>\n",
              "            </tr>\n",
              "            <tr>\n",
              "                        <th id=\"T_0de2ff2a_49ec_11ea_a9b7_0242ac1c0002level0_row7\" class=\"row_heading level0 row7\" >77</th>\n",
              "                        <td id=\"T_0de2ff2a_49ec_11ea_a9b7_0242ac1c0002row7_col0\" class=\"data row7 col0\" >21.5</td>\n",
              "                        <td id=\"T_0de2ff2a_49ec_11ea_a9b7_0242ac1c0002row7_col1\" class=\"data row7 col1\" >29.1071</td>\n",
              "                        <td id=\"T_0de2ff2a_49ec_11ea_a9b7_0242ac1c0002row7_col2\" class=\"data row7 col2\" >0</td>\n",
              "                        <td id=\"T_0de2ff2a_49ec_11ea_a9b7_0242ac1c0002row7_col3\" class=\"data row7 col3\" >19.5</td>\n",
              "                        <td id=\"T_0de2ff2a_49ec_11ea_a9b7_0242ac1c0002row7_col4\" class=\"data row7 col4\" >16</td>\n",
              "            </tr>\n",
              "            <tr>\n",
              "                        <th id=\"T_0de2ff2a_49ec_11ea_a9b7_0242ac1c0002level0_row8\" class=\"row_heading level0 row8\" >78</th>\n",
              "                        <td id=\"T_0de2ff2a_49ec_11ea_a9b7_0242ac1c0002row8_col0\" class=\"data row8 col0\" >0</td>\n",
              "                        <td id=\"T_0de2ff2a_49ec_11ea_a9b7_0242ac1c0002row8_col1\" class=\"data row8 col1\" >29.5765</td>\n",
              "                        <td id=\"T_0de2ff2a_49ec_11ea_a9b7_0242ac1c0002row8_col2\" class=\"data row8 col2\" >20.3</td>\n",
              "                        <td id=\"T_0de2ff2a_49ec_11ea_a9b7_0242ac1c0002row8_col3\" class=\"data row8 col3\" >19.0667</td>\n",
              "                        <td id=\"T_0de2ff2a_49ec_11ea_a9b7_0242ac1c0002row8_col4\" class=\"data row8 col4\" >19.05</td>\n",
              "            </tr>\n",
              "            <tr>\n",
              "                        <th id=\"T_0de2ff2a_49ec_11ea_a9b7_0242ac1c0002level0_row9\" class=\"row_heading level0 row9\" >79</th>\n",
              "                        <td id=\"T_0de2ff2a_49ec_11ea_a9b7_0242ac1c0002row9_col0\" class=\"data row9 col0\" >0</td>\n",
              "                        <td id=\"T_0de2ff2a_49ec_11ea_a9b7_0242ac1c0002row9_col1\" class=\"data row9 col1\" >31.525</td>\n",
              "                        <td id=\"T_0de2ff2a_49ec_11ea_a9b7_0242ac1c0002row9_col2\" class=\"data row9 col2\" >25.4</td>\n",
              "                        <td id=\"T_0de2ff2a_49ec_11ea_a9b7_0242ac1c0002row9_col3\" class=\"data row9 col3\" >22.95</td>\n",
              "                        <td id=\"T_0de2ff2a_49ec_11ea_a9b7_0242ac1c0002row9_col4\" class=\"data row9 col4\" >18.63</td>\n",
              "            </tr>\n",
              "            <tr>\n",
              "                        <th id=\"T_0de2ff2a_49ec_11ea_a9b7_0242ac1c0002level0_row10\" class=\"row_heading level0 row10\" >80</th>\n",
              "                        <td id=\"T_0de2ff2a_49ec_11ea_a9b7_0242ac1c0002row10_col0\" class=\"data row10 col0\" >23.7</td>\n",
              "                        <td id=\"T_0de2ff2a_49ec_11ea_a9b7_0242ac1c0002row10_col1\" class=\"data row10 col1\" >34.8174</td>\n",
              "                        <td id=\"T_0de2ff2a_49ec_11ea_a9b7_0242ac1c0002row10_col2\" class=\"data row10 col2\" >36.4</td>\n",
              "                        <td id=\"T_0de2ff2a_49ec_11ea_a9b7_0242ac1c0002row10_col3\" class=\"data row10 col3\" >25.9</td>\n",
              "                        <td id=\"T_0de2ff2a_49ec_11ea_a9b7_0242ac1c0002row10_col4\" class=\"data row10 col4\" >0</td>\n",
              "            </tr>\n",
              "            <tr>\n",
              "                        <th id=\"T_0de2ff2a_49ec_11ea_a9b7_0242ac1c0002level0_row11\" class=\"row_heading level0 row11\" >81</th>\n",
              "                        <td id=\"T_0de2ff2a_49ec_11ea_a9b7_0242ac1c0002row11_col0\" class=\"data row11 col0\" >0</td>\n",
              "                        <td id=\"T_0de2ff2a_49ec_11ea_a9b7_0242ac1c0002row11_col1\" class=\"data row11 col1\" >32.73</td>\n",
              "                        <td id=\"T_0de2ff2a_49ec_11ea_a9b7_0242ac1c0002row11_col2\" class=\"data row11 col2\" >0</td>\n",
              "                        <td id=\"T_0de2ff2a_49ec_11ea_a9b7_0242ac1c0002row11_col3\" class=\"data row11 col3\" >23.4286</td>\n",
              "                        <td id=\"T_0de2ff2a_49ec_11ea_a9b7_0242ac1c0002row11_col4\" class=\"data row11 col4\" >26.6</td>\n",
              "            </tr>\n",
              "            <tr>\n",
              "                        <th id=\"T_0de2ff2a_49ec_11ea_a9b7_0242ac1c0002level0_row12\" class=\"row_heading level0 row12\" >82</th>\n",
              "                        <td id=\"T_0de2ff2a_49ec_11ea_a9b7_0242ac1c0002row12_col0\" class=\"data row12 col0\" >0</td>\n",
              "                        <td id=\"T_0de2ff2a_49ec_11ea_a9b7_0242ac1c0002row12_col1\" class=\"data row12 col1\" >32.4074</td>\n",
              "                        <td id=\"T_0de2ff2a_49ec_11ea_a9b7_0242ac1c0002row12_col2\" class=\"data row12 col2\" >0</td>\n",
              "                        <td id=\"T_0de2ff2a_49ec_11ea_a9b7_0242ac1c0002row12_col3\" class=\"data row12 col3\" >28.3333</td>\n",
              "                        <td id=\"T_0de2ff2a_49ec_11ea_a9b7_0242ac1c0002row12_col4\" class=\"data row12 col4\" >0</td>\n",
              "            </tr>\n",
              "    </tbody></table>"
            ],
            "text/plain": [
              "<pandas.io.formats.style.Styler at 0x7fd7f9496e48>"
            ]
          },
          "metadata": {
            "tags": []
          },
          "execution_count": 69
        }
      ]
    },
    {
      "cell_type": "code",
      "metadata": {
        "id": "Q-yhXLu_buOj",
        "colab_type": "code",
        "colab": {}
      },
      "source": [
        ""
      ],
      "execution_count": null,
      "outputs": []
    },
    {
      "cell_type": "markdown",
      "metadata": {
        "id": "5F_hHKVTNzia",
        "colab_type": "text"
      },
      "source": [
        "## Дополнительные материалы и литература"
      ]
    },
    {
      "cell_type": "markdown",
      "metadata": {
        "id": "YWhDk5dJN8NC",
        "colab_type": "text"
      },
      "source": [
        "\n",
        "\n",
        "*   Уэс Маккинли, Python и анализ данных/ Пер. с англ. Слинкин А. А. - М.: ДМК Пресс, 2015. - 482 с.: ил. С. 258"
      ]
    },
    {
      "cell_type": "code",
      "metadata": {
        "id": "bjT3_Jb6alM_",
        "colab_type": "code",
        "colab": {}
      },
      "source": [
        ""
      ],
      "execution_count": null,
      "outputs": []
    }
  ]
}