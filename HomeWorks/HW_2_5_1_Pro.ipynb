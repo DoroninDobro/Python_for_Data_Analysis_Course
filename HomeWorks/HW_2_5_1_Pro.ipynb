{
  "nbformat": 4,
  "nbformat_minor": 0,
  "metadata": {
    "colab": {
      "name": "HW_2_5_1_Pro.ipynb",
      "provenance": [],
      "collapsed_sections": []
    },
    "kernelspec": {
      "name": "python3",
      "display_name": "Python 3"
    }
  },
  "cells": [
    {
      "cell_type": "markdown",
      "metadata": {
        "id": "MH-3kVwvJYeP",
        "colab_type": "text"
      },
      "source": [
        "# Курс \"Python для анализа данных\"\n",
        "\n",
        "---\n",
        "# Домашнее задание PRO\n",
        "#2.5.1 Основы написания функций"
      ]
    },
    {
      "cell_type": "code",
      "metadata": {
        "id": "fGNSU6VDMU7f",
        "colab_type": "code",
        "colab": {}
      },
      "source": [
        "# Запустите код ниже для старта, но не правьте во избежании ошибок проверки!\n",
        "_HOMEWORK_NAME_ = '2.5.1_PRO'\n",
        "_HOMEWORK_ANSWER_DICT_ = dict()"
      ],
      "execution_count": 0,
      "outputs": []
    },
    {
      "cell_type": "markdown",
      "metadata": {
        "id": "xp_DlvMXJ8Ed",
        "colab_type": "text"
      },
      "source": [
        "## ФИО участника"
      ]
    },
    {
      "cell_type": "code",
      "metadata": {
        "id": "RHUt9t1XMw9a",
        "colab_type": "code",
        "colab": {}
      },
      "source": [
        "# Введите ваше имя и фамилию в соответствующую позицию 'NAME' и 'LAST_NAME'!\n",
        "# Пример: Иван Иванов - 'NAME' : 'Иван', 'LAST_NAME' : 'Иванов'\n",
        "_NAME_SERNAME_ = {\n",
        "    'NAME' : 'Vladimir',\n",
        "    'LAST_NAME' : 'Doronin'\n",
        "}"
      ],
      "execution_count": 0,
      "outputs": []
    },
    {
      "cell_type": "markdown",
      "metadata": {
        "id": "gMwyKhlQJ1mf",
        "colab_type": "text"
      },
      "source": [
        "## Задание 1"
      ]
    },
    {
      "cell_type": "markdown",
      "metadata": {
        "id": "Owu684lKKrjJ",
        "colab_type": "text"
      },
      "source": [
        "**Условие:** \n",
        "Напишите функцию ```multi_mean()```, которая может принимать на вход любое количество чисел и возвращает кортеж различных средних значений (среднее арифметическое, среднее геометрическое, среднее гармоническое). В ответе укажите результат работы функции для ```multi_mean(1.74, 2, 18, 24)```.\n",
        "\n",
        "**Формат ответа:** \n",
        "Кортеж чисел (например, ```(25.4, 8.2, 3.5)```)\n",
        "\n",
        "**Оценка в баллах:** 3"
      ]
    },
    {
      "cell_type": "markdown",
      "metadata": {
        "id": "OCTvo3fHLaaJ",
        "colab_type": "text"
      },
      "source": [
        "**Решение:**"
      ]
    },
    {
      "cell_type": "code",
      "metadata": {
        "id": "f9_8IGndLeRO",
        "colab_type": "code",
        "colab": {
          "base_uri": "https://localhost:8080/",
          "height": 70
        },
        "outputId": "cc7afc79-21f4-4b98-f53d-de983fae1a8e"
      },
      "source": [
        "# Wow, I didn’t know that such things happen. Although I know math for DS.\n",
        "import math\n",
        "from scipy import stats\n",
        "\n",
        "def multi_mean(*numbers):\n",
        "  '''\n",
        "  This is function for task 1.\n",
        "  It accepts any number of numbers as input.\n",
        "  Return tuple of three mean: \n",
        "  (arithmetic, geometric, harmonic)\n",
        "\n",
        "  Thank you for check my work.\n",
        "  '''\n",
        "  def prod(numbers):\n",
        "    mult = 1\n",
        "    for i in numbers:\n",
        "        mult *= i\n",
        "    return mult\n",
        "  ari = sum(numbers) / len(numbers)\n",
        "  geo = math.pow(prod(numbers), 1/len(numbers))\n",
        "  har = stats.hmean(numbers)\n",
        "  return ari, geo, har\n",
        "\n",
        "print(multi_mean(4, 5, 6, 8))\n",
        "print(\"real values == (5.75, 5.566315, 5.3932584269663)\")\n",
        "ans1 = multi_mean(1.74, 2, 18, 24)\n",
        "print(ans1)"
      ],
      "execution_count": 11,
      "outputs": [
        {
          "output_type": "stream",
          "text": [
            "(5.75, 5.566315367427481, 5.393258426966292)\n",
            "real values == (5.75, 5.566315, 5.3932584269663)\n",
            "(11.435, 6.2268119139225995, 3.4131589701675518)\n"
          ],
          "name": "stdout"
        }
      ]
    },
    {
      "cell_type": "markdown",
      "metadata": {
        "id": "p0CmJgA5LWoT",
        "colab_type": "text"
      },
      "source": [
        "**Ответ:**"
      ]
    },
    {
      "cell_type": "code",
      "metadata": {
        "id": "bL0LuTGTJShl",
        "colab_type": "code",
        "colab": {}
      },
      "source": [
        "# Не изменяйте текст до знака = во избежании ошибок проверки!\n",
        "_HOMEWORK_ANSWER_DICT_['A1'] = ans1"
      ],
      "execution_count": 0,
      "outputs": []
    },
    {
      "cell_type": "markdown",
      "metadata": {
        "colab_type": "text",
        "id": "po9IAGLrN40v"
      },
      "source": [
        "## Задание 2"
      ]
    },
    {
      "cell_type": "markdown",
      "metadata": {
        "colab_type": "text",
        "id": "d1a0uN6YN41B"
      },
      "source": [
        "**Условие:** \n",
        "Напишите функцию, которая принимает на вход в виде именованных переменных длины сторон параллелепипеда и возвращает кортеж значений (площадь параллелепипеда, объем параллелепипеда). Напишите строку документации для данной функции. В ответе укажите результат работы функции для длин сторон ```2,12,6```.\n",
        "\n",
        "**Формат ответа:** \n",
        "Кортеж чисел (например, ```(25.4, 8.2)```)\n",
        "\n",
        "**Оценка в баллах:** 3"
      ]
    },
    {
      "cell_type": "markdown",
      "metadata": {
        "colab_type": "text",
        "id": "iWPZadMmN41H"
      },
      "source": [
        "**Решение:**"
      ]
    },
    {
      "cell_type": "code",
      "metadata": {
        "colab_type": "code",
        "id": "woFKze5xN41M",
        "colab": {
          "base_uri": "https://localhost:8080/",
          "height": 34
        },
        "outputId": "9ef7492a-0819-4bc0-929a-2a59559b630e"
      },
      "source": [
        "def task_2(a = 1, b = 1, c = 1):\n",
        "  '''\n",
        "  This is function for task 2.\n",
        "  It accepts three sides of parallelepiped.\n",
        "  Return tuple of (area, volume).\n",
        "  '''\n",
        "  return 2*(a*b+ b*c+ a*c), a*b*c\n",
        "\n",
        "ans2 = task_2(2, 12, 6)\n",
        "print(ans2)"
      ],
      "execution_count": 13,
      "outputs": [
        {
          "output_type": "stream",
          "text": [
            "(216, 144)\n"
          ],
          "name": "stdout"
        }
      ]
    },
    {
      "cell_type": "markdown",
      "metadata": {
        "colab_type": "text",
        "id": "9yyVuGv1N41W"
      },
      "source": [
        "**Ответ:**"
      ]
    },
    {
      "cell_type": "code",
      "metadata": {
        "colab_type": "code",
        "id": "ORlaBUEIN41Z",
        "colab": {}
      },
      "source": [
        "# Не изменяйте текст до знака = во избежании ошибок проверки!\n",
        "_HOMEWORK_ANSWER_DICT_['A2'] = ans2"
      ],
      "execution_count": 0,
      "outputs": []
    },
    {
      "cell_type": "markdown",
      "metadata": {
        "colab_type": "text",
        "id": "ZuoZQfnXPWcB"
      },
      "source": [
        "## Задание 3"
      ]
    },
    {
      "cell_type": "markdown",
      "metadata": {
        "colab_type": "text",
        "id": "CCiiVIVzPWcF"
      },
      "source": [
        "**Условие:** \n",
        "Напишите функцию подсчета факториала числа. Найдите значение ```12!```.\n",
        "\n",
        "**Формат ответа:** \n",
        "Число (например, ```1235```)\n",
        "\n",
        "**Оценка в баллах:** 3"
      ]
    },
    {
      "cell_type": "markdown",
      "metadata": {
        "colab_type": "text",
        "id": "Flg_SH_8PWcJ"
      },
      "source": [
        "**Решение:**"
      ]
    },
    {
      "cell_type": "code",
      "metadata": {
        "colab_type": "code",
        "id": "OqMIG3a9PWcM",
        "colab": {}
      },
      "source": [
        "def factorial(n):\n",
        "  def prod(numbers):\n",
        "    mult = 1\n",
        "    for i in numbers:\n",
        "        mult *= i\n",
        "    return mult\n",
        "  numbers = [i for i in range(1, n+1)]\n",
        "  return prod(numbers)\n",
        "\n",
        "ans3 = factorial(12)\n",
        "assert ans3 == 479001600"
      ],
      "execution_count": 0,
      "outputs": []
    },
    {
      "cell_type": "markdown",
      "metadata": {
        "colab_type": "text",
        "id": "LAcF4LXfPWcU"
      },
      "source": [
        "**Ответ:**"
      ]
    },
    {
      "cell_type": "code",
      "metadata": {
        "colab_type": "code",
        "id": "BFSEBAvFPWcX",
        "colab": {}
      },
      "source": [
        "# Не изменяйте текст до знака = во избежании ошибок проверки!\n",
        "_HOMEWORK_ANSWER_DICT_['A3'] = ans3"
      ],
      "execution_count": 0,
      "outputs": []
    },
    {
      "cell_type": "markdown",
      "metadata": {
        "id": "kiKkFcn6KQFA",
        "colab_type": "text"
      },
      "source": [
        "## Комментарии участника"
      ]
    },
    {
      "cell_type": "code",
      "metadata": {
        "id": "3aI3lBQVdvaY",
        "colab_type": "code",
        "colab": {}
      },
      "source": [
        "_YOUR_COMMENT_ = 'All right!'"
      ],
      "execution_count": 0,
      "outputs": []
    },
    {
      "cell_type": "markdown",
      "metadata": {
        "id": "TvzA7RQXcywE",
        "colab_type": "text"
      },
      "source": [
        "## Создание отчета"
      ]
    },
    {
      "cell_type": "code",
      "metadata": {
        "id": "y-d24eqmdn4x",
        "colab_type": "code",
        "colab": {
          "base_uri": "https://localhost:8080/",
          "height": 34
        },
        "outputId": "62059885-6fbb-4761-dd66-8034ef9320fb"
      },
      "source": [
        "# Проверьте правильность заполнения полей выше и \n",
        "# выполните данный код для создания отчета\n",
        "# и сохранения его на локальную машину\n",
        "from google.colab import files\n",
        "import json\n",
        "try:\n",
        "  # form a report\n",
        "  _HM_REPORT_ = {'Answers':_HOMEWORK_ANSWER_DICT_,\n",
        "                'Comment':_YOUR_COMMENT_,\n",
        "                'User':_NAME_SERNAME_,\n",
        "                }\n",
        "\n",
        "  # create a report name\n",
        "  _REPORT_NAME_ = 'HM_' +\\\n",
        "                    _HOMEWORK_NAME_ + \\\n",
        "                  '_by_' + \\\n",
        "                  _NAME_SERNAME_['LAST_NAME'] + \\\n",
        "                  '.json'\n",
        "  \n",
        "  # Save a report to a file\n",
        "  f = open(_REPORT_NAME_,\"w\")\n",
        "  f.write(json.dumps(_HM_REPORT_))\n",
        "  f.close()\n",
        "\n",
        "  # Donwnload the file into a local host\n",
        "  files.download(_REPORT_NAME_) \n",
        "  print('Thanks for the work, {name}!'.format(name=_NAME_SERNAME_['NAME']))\n",
        "except Exception as error:\n",
        "   print(error)\n",
        "   print('Something went wrong! Check the data entry and try again!')"
      ],
      "execution_count": 18,
      "outputs": [
        {
          "output_type": "stream",
          "text": [
            "Thanks for the work, Vladimir!\n"
          ],
          "name": "stdout"
        }
      ]
    }
  ]
}