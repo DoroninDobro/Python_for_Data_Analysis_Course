{
  "nbformat": 4,
  "nbformat_minor": 0,
  "metadata": {
    "colab": {
      "name": "3.2.1 Быстрые поэлементные операции над массивами.ipynb",
      "provenance": [],
      "collapsed_sections": []
    },
    "kernelspec": {
      "name": "python3",
      "display_name": "Python 3"
    }
  },
  "cells": [
    {
      "cell_type": "markdown",
      "metadata": {
        "id": "moIM-S1g7SKx",
        "colab_type": "text"
      },
      "source": [
        "# Курс \"Python для анализа данных\"\n",
        "\n",
        "---\n",
        "#3.2.1 Быстрые поэлементные операции над массивами"
      ]
    },
    {
      "cell_type": "markdown",
      "metadata": {
        "id": "QZ1Arpnj7p_N",
        "colab_type": "text"
      },
      "source": [
        "## Где мы сейчас?\n"
      ]
    },
    {
      "cell_type": "markdown",
      "metadata": {
        "id": "J9A06fP5j1vS",
        "colab_type": "text"
      },
      "source": [
        "<html>\n",
        " <head>\n",
        "  <meta charset=\"utf-8\">\n",
        " </head>\n",
        " <body>\n",
        "  <ul>\n",
        "    <li>1. Введение в анализ данных и разработку на языке Python </li> <!-2.1->\n",
        "    <li>2. Основы языка </li> <!-2.1->\n",
        "    <li>3. <strong>Библиотеки NumPy и SciPy для решения задач анализа данных и машинного обучения</strong> <i><- Вот в этой главе!</i>\n",
        "     <ul>\n",
        "      <li>3.1 Математические дисциплины в анализе данных и машинном обучении</li>      \n",
        "      <li><strong>3.2 Основной объект NumPy ndarray</strong> <i><- Вот в этом параграфе!</i></li>\n",
        "       <ul>\n",
        "        <li><strong>3.2.1 Быстрые поэлементные операции над массивами</strong><i> <- Вот в этом пункте!</i></li>\n",
        "        <li>3.2.2 Индексирование и вырезание</li>\n",
        "        <li>3.2.3 Уход от циклов: обработка данных с применением массивов</li>\n",
        "        <li>3.2.4 Математические и статистические операции</li>\n",
        "        <li>3.2.5 Файловый ввод-вывод массивов</li>\n",
        "       </ul>\n",
        "      <li>3.3 Библиотека SciPy</li>\n",
        "     </ul>\n",
        "    </li>   \n",
        "  </ul>\n",
        " </body>\n",
        "</html>"
      ]
    },
    {
      "cell_type": "markdown",
      "metadata": {
        "id": "z1oJmp_4Po8K",
        "colab_type": "text"
      },
      "source": [
        "## О чем будем говорить?\n"
      ]
    },
    {
      "cell_type": "markdown",
      "metadata": {
        "id": "7X4Wlpraj7Yw",
        "colab_type": "text"
      },
      "source": [
        "О базовом и самом главном элементе библиотеки NumPy для представле­ния N-мерного массива, быстром и гибком контейнере для хранения больших наборов однородных данных в Python, а именно объекте ndarray."
      ]
    },
    {
      "cell_type": "markdown",
      "metadata": {
        "id": "NhfVXiTGAkND",
        "colab_type": "text"
      },
      "source": [
        "## Ключевые слова, понятия и выражения\n",
        "\n",
        "\n",
        "\n",
        "\n"
      ]
    },
    {
      "cell_type": "markdown",
      "metadata": {
        "id": "ixnuL5V2rZtz",
        "colab_type": "text"
      },
      "source": [
        "*   объект ```ndarray```"
      ]
    },
    {
      "cell_type": "markdown",
      "metadata": {
        "id": "2lFBeeLHjcc7",
        "colab_type": "text"
      },
      "source": [
        "## Материал"
      ]
    },
    {
      "cell_type": "markdown",
      "metadata": {
        "id": "ePaAL3Fv-GLy",
        "colab_type": "text"
      },
      "source": [
        "### Базовый пример ```ndarray```"
      ]
    },
    {
      "cell_type": "markdown",
      "metadata": {
        "id": "fRTYjbMSAJvD",
        "colab_type": "text"
      },
      "source": [
        "ndarray - это обобщенный многомерный контейнер для однородных данных,\n",
        "т. е. в нем могут храниться только элементы одного типа."
      ]
    },
    {
      "cell_type": "code",
      "metadata": {
        "id": "eDJPAy2r-OWk",
        "colab_type": "code",
        "outputId": "f2a4fccb-de73-4000-af10-026d3bf51a0a",
        "colab": {
          "base_uri": "https://localhost:8080/",
          "height": 72
        }
      },
      "source": [
        "import numpy as np\n",
        "\n",
        "data = np.array([[1.0, 2.0, 3.0],\n",
        "                [4.0, 5.0, 7.0]])\n",
        "\n",
        "print('Тип объекта data: ',type(data))\n",
        "print('Тип элементов объекта data:', data.dtype)\n",
        "print('Размер объекта data:', data.shape)"
      ],
      "execution_count": 0,
      "outputs": [
        {
          "output_type": "stream",
          "text": [
            "Тип объекта data:  <class 'numpy.ndarray'>\n",
            "Тип элементов объекта data: float64\n",
            "Размер объекта data: (2, 3)\n"
          ],
          "name": "stdout"
        }
      ]
    },
    {
      "cell_type": "markdown",
      "metadata": {
        "id": "9BwDt-_D-OzO",
        "colab_type": "text"
      },
      "source": [
        "### Создание ndarray"
      ]
    },
    {
      "cell_type": "markdown",
      "metadata": {
        "id": "6v5I0goFAOAk",
        "colab_type": "text"
      },
      "source": [
        "Функции создания массива ndarray:\n",
        "\n",
        "![alt text](https://drive.google.com/uc?id=1x1-pFEatUPospJm0LG4hLSEB85KcP5EI)"
      ]
    },
    {
      "cell_type": "code",
      "metadata": {
        "id": "a7GwijaW-USE",
        "colab_type": "code",
        "outputId": "6d4e0c44-7415-4751-cfaf-7851e8dbe7ef",
        "colab": {
          "base_uri": "https://localhost:8080/",
          "height": 35
        }
      },
      "source": [
        "data1 = [6, 7.5, 8, 0, 1]\n",
        "arr1 = np.array(data1)\n",
        "arr1"
      ],
      "execution_count": 0,
      "outputs": [
        {
          "output_type": "execute_result",
          "data": {
            "text/plain": [
              "array([6. , 7.5, 8. , 0. , 1. ])"
            ]
          },
          "metadata": {
            "tags": []
          },
          "execution_count": 2
        }
      ]
    },
    {
      "cell_type": "code",
      "metadata": {
        "id": "6wKbUU7tFEGp",
        "colab_type": "code",
        "outputId": "5acdbf76-ee11-434c-fc58-36b80dd8ac4b",
        "colab": {
          "base_uri": "https://localhost:8080/",
          "height": 54
        }
      },
      "source": [
        "data2 = [[1, 2, 3, 4], [5, 6, 7, 8]]\n",
        "arr2 = np.array(data2)\n",
        "arr2"
      ],
      "execution_count": 0,
      "outputs": [
        {
          "output_type": "execute_result",
          "data": {
            "text/plain": [
              "array([[1, 2, 3, 4],\n",
              "       [5, 6, 7, 8]])"
            ]
          },
          "metadata": {
            "tags": []
          },
          "execution_count": 3
        }
      ]
    },
    {
      "cell_type": "code",
      "metadata": {
        "id": "TJf7kQwfFFo3",
        "colab_type": "code",
        "outputId": "01ef7e8c-22b8-4717-aa78-e42ea507cebe",
        "colab": {
          "base_uri": "https://localhost:8080/",
          "height": 54
        }
      },
      "source": [
        "print('Размерность arr2:', arr2.ndim)\n",
        "print('Размер arr2:', arr2.shape)"
      ],
      "execution_count": 0,
      "outputs": [
        {
          "output_type": "stream",
          "text": [
            "Размерность arr2: 2\n",
            "Размер arr2: (2, 4)\n"
          ],
          "name": "stdout"
        }
      ]
    },
    {
      "cell_type": "code",
      "metadata": {
        "id": "e8eC3KMnFbeW",
        "colab_type": "code",
        "outputId": "f8de1a73-dddf-456b-f933-2a674143c1fd",
        "colab": {
          "base_uri": "https://localhost:8080/",
          "height": 54
        }
      },
      "source": [
        "print('Тип arr1:', arr1.dtype)\n",
        "print('Тип arr2:', arr2.dtype)"
      ],
      "execution_count": 0,
      "outputs": [
        {
          "output_type": "stream",
          "text": [
            "Тип arr1: float64\n",
            "Тип arr2: int64\n"
          ],
          "name": "stdout"
        }
      ]
    },
    {
      "cell_type": "code",
      "metadata": {
        "id": "tkTeXGF3F420",
        "colab_type": "code",
        "outputId": "e305671c-7f89-4daf-9976-5a7b6ff7762c",
        "colab": {
          "base_uri": "https://localhost:8080/",
          "height": 146
        }
      },
      "source": [
        "print('Массивы из всех нулей:')\n",
        "print(\"*\"*30)\n",
        "print(np.zeros(10))\n",
        "print(\"*\"*30)\n",
        "print(np.zeros((3, 6)))"
      ],
      "execution_count": 0,
      "outputs": [
        {
          "output_type": "stream",
          "text": [
            "Массивы из всех нулей:\n",
            "******************************\n",
            "[0. 0. 0. 0. 0. 0. 0. 0. 0. 0.]\n",
            "******************************\n",
            "[[0. 0. 0. 0. 0. 0.]\n",
            " [0. 0. 0. 0. 0. 0.]\n",
            " [0. 0. 0. 0. 0. 0.]]\n"
          ],
          "name": "stdout"
        }
      ]
    },
    {
      "cell_type": "code",
      "metadata": {
        "id": "1LTyOyxWGWFf",
        "colab_type": "code",
        "outputId": "05e4791a-60d0-45b1-d026-fa6348cd9010",
        "colab": {
          "base_uri": "https://localhost:8080/",
          "height": 146
        }
      },
      "source": [
        "np.empty((2, 3, 2))"
      ],
      "execution_count": 0,
      "outputs": [
        {
          "output_type": "execute_result",
          "data": {
            "text/plain": [
              "array([[[2.70190984e-316, 2.32210854e-322],\n",
              "        [0.00000000e+000, 0.00000000e+000],\n",
              "        [6.90285231e-310, 1.16095484e-028]],\n",
              "\n",
              "       [[4.50606156e-144, 1.05786746e+214],\n",
              "        [7.59699731e-096, 6.03461190e+151],\n",
              "        [1.33819343e+253, 2.66090406e-312]]])"
            ]
          },
          "metadata": {
            "tags": []
          },
          "execution_count": 7
        }
      ]
    },
    {
      "cell_type": "code",
      "metadata": {
        "id": "ADINSmMDGi35",
        "colab_type": "code",
        "outputId": "72e7b3b1-34be-447d-96af-05cfb5f5882f",
        "colab": {
          "base_uri": "https://localhost:8080/",
          "height": 54
        }
      },
      "source": [
        "print('Подобие функции range:')\n",
        "print(np.arange(15))"
      ],
      "execution_count": 0,
      "outputs": [
        {
          "output_type": "stream",
          "text": [
            "Подобие функции range:\n",
            "[ 0  1  2  3  4  5  6  7  8  9 10 11 12 13 14]\n"
          ],
          "name": "stdout"
        }
      ]
    },
    {
      "cell_type": "markdown",
      "metadata": {
        "id": "id9dnqCd-UyX",
        "colab_type": "text"
      },
      "source": [
        "### Тип данных для ```ndarray```"
      ]
    },
    {
      "cell_type": "markdown",
      "metadata": {
        "id": "ChKQJ1DIG4jN",
        "colab_type": "text"
      },
      "source": [
        "![alt text](https://drive.google.com/uc?id=1laOM-l8KmPfr3IAHDrj5i-G9hpf3qltv)"
      ]
    },
    {
      "cell_type": "code",
      "metadata": {
        "id": "5NfXe4a0-cYH",
        "colab_type": "code",
        "outputId": "9c6d9ee2-1932-43d4-b762-7e9abefd0cd8",
        "colab": {
          "base_uri": "https://localhost:8080/",
          "height": 54
        }
      },
      "source": [
        "arr1 = np.array([1, 2, 3], dtype=np.float64)\n",
        "arr2 = np.array([1, 2, 3], dtype=np.int32)\n",
        "print('Тип массива arr1:', arr1.dtype)\n",
        "print('Тип массива arr2:', arr2.dtype)"
      ],
      "execution_count": 0,
      "outputs": [
        {
          "output_type": "stream",
          "text": [
            "Тип массива arr1: float64\n",
            "Тип массива arr2: int32\n"
          ],
          "name": "stdout"
        }
      ]
    },
    {
      "cell_type": "code",
      "metadata": {
        "id": "bdYkdH_WH95B",
        "colab_type": "code",
        "outputId": "49a23269-0700-447d-b072-01e90a789ed9",
        "colab": {
          "base_uri": "https://localhost:8080/",
          "height": 72
        }
      },
      "source": [
        "print('Преобразование типов данных:')\n",
        "arr = np.array([1, 2, 3, 4, 5])\n",
        "print('до',arr.dtype)\n",
        "\n",
        "float_arr = arr.astype(np.float64)\n",
        "print('после',float_arr.dtype)"
      ],
      "execution_count": 0,
      "outputs": [
        {
          "output_type": "stream",
          "text": [
            "Преобразование типов данных:\n",
            "до int64\n",
            "после float64\n"
          ],
          "name": "stdout"
        }
      ]
    },
    {
      "cell_type": "code",
      "metadata": {
        "id": "FELtd_vnIYKs",
        "colab_type": "code",
        "outputId": "180417c0-3c28-4366-b652-766a21cea1fe",
        "colab": {
          "base_uri": "https://localhost:8080/",
          "height": 146
        }
      },
      "source": [
        "print('Преобразование типов данных:')\n",
        "\n",
        "arr = np.array([3.7, -1.2, -2.6, 0.5, 12.9, 10.1])\n",
        "print('Исходный массив типа', arr.dtype)\n",
        "print(arr)\n",
        "\n",
        "print('Массив типа int32')\n",
        "print(arr.astype(np.int32))\n",
        "\n",
        "print('Массив типа string_')\n",
        "print(arr.astype(np.string_))"
      ],
      "execution_count": 0,
      "outputs": [
        {
          "output_type": "stream",
          "text": [
            "Преобразование типов данных:\n",
            "Исходный массив типа float64\n",
            "[ 3.7 -1.2 -2.6  0.5 12.9 10.1]\n",
            "Массив типа int32\n",
            "[ 3 -1 -2  0 12 10]\n",
            "Массив типа string_\n",
            "[b'3.7' b'-1.2' b'-2.6' b'0.5' b'12.9' b'10.1']\n"
          ],
          "name": "stdout"
        }
      ]
    },
    {
      "cell_type": "markdown",
      "metadata": {
        "id": "gAWKFp_5-iJC",
        "colab_type": "text"
      },
      "source": [
        "### Операции между массивами и скалярами"
      ]
    },
    {
      "cell_type": "code",
      "metadata": {
        "id": "MR0LIyzo-nLG",
        "colab_type": "code",
        "outputId": "d233a780-78c1-45a0-d15b-ecee90292352",
        "colab": {
          "base_uri": "https://localhost:8080/",
          "height": 404
        }
      },
      "source": [
        "arr1 = np.array([[1., 2., 3.], [4., 5., 6.]])\n",
        "arr2 = np.array([[4., 5., 6.], [1., 2., 3.]])\n",
        "print('Арифметические операции между массивами:')\n",
        "print(arr1)\n",
        "print(arr2)\n",
        "\n",
        "print('*'*30)\n",
        "print('Поэлементное умножение:')\n",
        "print(arr1 * arr2)\n",
        "\n",
        "print('*'*30)\n",
        "print('Поэлементное деление:')\n",
        "print(arr1/arr2)\n",
        "\n",
        "print('*'*30)\n",
        "print('Поэлементное сложение:')\n",
        "print(arr1 + arr2)\n",
        "\n",
        "print('*'*30)\n",
        "print('Поэлементная разность:')\n",
        "print(arr1 - arr2)"
      ],
      "execution_count": 0,
      "outputs": [
        {
          "output_type": "stream",
          "text": [
            "Арифметические операции между массивами:\n",
            "[[1. 2. 3.]\n",
            " [4. 5. 6.]]\n",
            "[[4. 5. 6.]\n",
            " [1. 2. 3.]]\n",
            "******************************\n",
            "Поэлементное умножение:\n",
            "[[ 4. 10. 18.]\n",
            " [ 4. 10. 18.]]\n",
            "******************************\n",
            "Поэлементное деление:\n",
            "[[0.25 0.4  0.5 ]\n",
            " [4.   2.5  2.  ]]\n",
            "******************************\n",
            "Поэлементное сложение:\n",
            "[[5. 7. 9.]\n",
            " [5. 7. 9.]]\n",
            "******************************\n",
            "Поэлементная разность:\n",
            "[[-3. -3. -3.]\n",
            " [ 3.  3.  3.]]\n"
          ],
          "name": "stdout"
        }
      ]
    },
    {
      "cell_type": "code",
      "metadata": {
        "id": "CeOAZgilK_GE",
        "colab_type": "code",
        "outputId": "906e1875-24f1-4d1e-9d69-826e69c56f94",
        "colab": {
          "base_uri": "https://localhost:8080/",
          "height": 72
        }
      },
      "source": [
        "print('Поэлементное сравнение элементов массивов:')\n",
        "print(arr1 > arr2)"
      ],
      "execution_count": 0,
      "outputs": [
        {
          "output_type": "stream",
          "text": [
            "Поэлементное сравнение элементов массивов:\n",
            "[[False False False]\n",
            " [ True  True  True]]\n"
          ],
          "name": "stdout"
        }
      ]
    },
    {
      "cell_type": "code",
      "metadata": {
        "id": "cA-WVSQXLTN4",
        "colab_type": "code",
        "outputId": "400da12f-fa89-4f48-eb52-90782dfba166",
        "colab": {
          "base_uri": "https://localhost:8080/",
          "height": 183
        }
      },
      "source": [
        "print('Операция со скалярами:')\n",
        "print(arr1 * 5)\n",
        "print(arr1 / 5)\n",
        "print(arr1 + 5)\n",
        "print(arr1 - 5)"
      ],
      "execution_count": 0,
      "outputs": [
        {
          "output_type": "stream",
          "text": [
            "Операция со скалярами:\n",
            "[[ 5. 10. 15.]\n",
            " [20. 25. 30.]]\n",
            "[[0.2 0.4 0.6]\n",
            " [0.8 1.  1.2]]\n",
            "[[ 6.  7.  8.]\n",
            " [ 9. 10. 11.]]\n",
            "[[-4. -3. -2.]\n",
            " [-1.  0.  1.]]\n"
          ],
          "name": "stdout"
        }
      ]
    },
    {
      "cell_type": "markdown",
      "metadata": {
        "id": "xPUf5SlU-rRv",
        "colab_type": "text"
      },
      "source": [
        "### Быстрые поэлементарные операции над массивами"
      ]
    },
    {
      "cell_type": "markdown",
      "metadata": {
        "id": "wdBdoBGUL37a",
        "colab_type": "text"
      },
      "source": [
        "Бинарные функции\n",
        "\n",
        "![alt text](https://drive.google.com/uc?id=1fjUKRouIuFOY_whkBmZIww0SgodA8UEN)"
      ]
    },
    {
      "cell_type": "markdown",
      "metadata": {
        "id": "c83uzc5zNk5C",
        "colab_type": "text"
      },
      "source": [
        "Унарные функции\n",
        "\n",
        "![alt text](https://drive.google.com/uc?id=13mdlDmD4DOWOvCQyM2wxPJvKEiURGi8H)"
      ]
    },
    {
      "cell_type": "code",
      "metadata": {
        "id": "ZceD3MG5-zVI",
        "colab_type": "code",
        "outputId": "c7832bd8-dcf5-4d7e-8d6b-34083fd383e8",
        "colab": {
          "base_uri": "https://localhost:8080/",
          "height": 91
        }
      },
      "source": [
        "arr = np.arange(10)\n",
        "print('Возведение в квадрат всех элементов массива:')\n",
        "print(arr)\n",
        "print(np.sqrt(arr))"
      ],
      "execution_count": 0,
      "outputs": [
        {
          "output_type": "stream",
          "text": [
            "Возведение в квадрат всех элементов массива:\n",
            "[0 1 2 3 4 5 6 7 8 9]\n",
            "[0.         1.         1.41421356 1.73205081 2.         2.23606798\n",
            " 2.44948974 2.64575131 2.82842712 3.        ]\n"
          ],
          "name": "stdout"
        }
      ]
    },
    {
      "cell_type": "code",
      "metadata": {
        "id": "WWvMW1NAg5rn",
        "colab_type": "code",
        "outputId": "ac993135-0e21-46ae-edd2-cbb5c4ce93b8",
        "colab": {
          "base_uri": "https://localhost:8080/",
          "height": 72
        }
      },
      "source": [
        "arr = [1.3, 1.2, 2.0, np.nan, 3.0, 1.0]\n",
        "print('Проверка на наличие нечислового значения NaN в массиве:')\n",
        "print(arr)\n",
        "print(np.isnan(arr))"
      ],
      "execution_count": 0,
      "outputs": [
        {
          "output_type": "stream",
          "text": [
            "Проверка на наличие нечислового значения NaN в массиве:\n",
            "[1.3, 1.2, 2.0, nan, 3.0, 1.0]\n",
            "[False False False  True False False]\n"
          ],
          "name": "stdout"
        }
      ]
    },
    {
      "cell_type": "markdown",
      "metadata": {
        "id": "5F_hHKVTNzia",
        "colab_type": "text"
      },
      "source": [
        "## Дополнительные материалы и литература"
      ]
    },
    {
      "cell_type": "markdown",
      "metadata": {
        "id": "YWhDk5dJN8NC",
        "colab_type": "text"
      },
      "source": [
        "\n",
        "\n",
        "*   Уэс Маккинли, Python и анализ данных/ Пер. с англ. Слинкин А. А. - М.: ДМК Пресс, 2015. - 482 с.: ил. C. 93"
      ]
    }
  ]
}