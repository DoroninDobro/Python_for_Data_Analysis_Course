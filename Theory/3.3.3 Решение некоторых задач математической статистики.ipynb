{
  "nbformat": 4,
  "nbformat_minor": 0,
  "metadata": {
    "colab": {
      "name": "3.3.3 Решение некоторых задач математической статистики.ipynb",
      "provenance": [],
      "collapsed_sections": []
    },
    "kernelspec": {
      "name": "python3",
      "display_name": "Python 3"
    }
  },
  "cells": [
    {
      "cell_type": "markdown",
      "metadata": {
        "id": "moIM-S1g7SKx",
        "colab_type": "text"
      },
      "source": [
        "# Курс \"Python для анализа данных\"\n",
        "\n",
        "---\n",
        "#3.3.3 Решение некоторых задач математической статистики"
      ]
    },
    {
      "cell_type": "markdown",
      "metadata": {
        "id": "QZ1Arpnj7p_N",
        "colab_type": "text"
      },
      "source": [
        "## Где мы сейчас?\n"
      ]
    },
    {
      "cell_type": "markdown",
      "metadata": {
        "id": "J9A06fP5j1vS",
        "colab_type": "text"
      },
      "source": [
        "<html>\n",
        " <head>\n",
        "  <meta charset=\"utf-8\">\n",
        " </head>\n",
        " <body>\n",
        "  <ul>\n",
        "    <li>1. Введение в анализ данных и разработку на языке Python </li> <!-2.1->\n",
        "    <li>2. Основы языка </li> <!-2.1->\n",
        "    <li>3. <strong>Библиотеки NumPy и SciPy для решения задач анализа данных и машинного обучения</strong> <i><- Вот в этой главе!</i>\n",
        "     <ul>\n",
        "      <li>3.1 Математические дисциплины в анализе данных и машинном обучении</li>      \n",
        "      <li>3.2 Основной объект NumPy ndarray</li>\n",
        "      <li><strong>3.3 Библиотека SciPy</strong> <i><- Вот в этом параграфе!</i></li>\n",
        "       <ul>\n",
        "        <li>3.3.1 Обзор основных пакетов библиотеки SciPy</li>\n",
        "        <li>3.3.2 Решение некоторых задач линейной алгебры</li>\n",
        "        <li><strong>3.3.3 Решение некоторых задач математической статистики</strong><i> <- Вот в этом пункте!</i></li>\n",
        "        <li>3.3.4 Решение некоторых задач математического анализа</li>\n",
        "        <li>3.3.5 Решение специальных задач из области анализа данных и машинного обучения</li>\n",
        "       </ul>\n",
        "     </ul>\n",
        "    </li>   \n",
        "  </ul>\n",
        " </body>\n",
        "</html>\n",
        "\n",
        "\n",
        "\n",
        "\n",
        "\n"
      ]
    },
    {
      "cell_type": "markdown",
      "metadata": {
        "id": "z1oJmp_4Po8K",
        "colab_type": "text"
      },
      "source": [
        "## О чем будем говорить?\n"
      ]
    },
    {
      "cell_type": "markdown",
      "metadata": {
        "id": "7X4Wlpraj7Yw",
        "colab_type": "text"
      },
      "source": [
        "О базовых понятиях теории вероятностей и о методах модуля ```scipy.stats```, позволяющих решать задачи теории вероятностей и математической статистики.\n",
        "\n",
        "**Краткое содержание занятия**:\n",
        "\n",
        "**1. Основные распределения случайных величин, встречающихся в теории вероятностей**\n",
        "\n",
        "   1.1 Определение функции плотности и функции распределения случайной величины. Построение графиков \n",
        "   \n",
        "   1.2 Основные характеристики случайной величины: математическое ожидание, мода, медиана, дисперсия,        среднеквадратичное отклонение\n",
        "\n",
        "\n",
        "**2. Элементы статистики**\n",
        "\n",
        "   2.1 Выборка и ее характеристики. Построение гистограммы.\n",
        "   \n",
        "   2.2 Анализ одной выборки\n",
        "   \n",
        "   2.2.1 t-критерий Стьюдента для оценки вероятности того, что среднее по выборке равно теоретическому математическому ожиданию\n",
        "       \n",
        "   2.2.2 Критерий Колмогорова-Смирнова для оценки вероятности того, пренадлежит ли выборка определенному закону распределения\n",
        "       \n",
        "   2.2.3 Специальные тесты для нормального распределения\n",
        "   \n",
        "   2.3 Анализ двух выборок\n",
        "   \n",
        "   2.3.1 t-критерий Стьюдента для оценки вероятности того, что две выборки имеют идентичные средние\n",
        "       \n",
        "   2.3.2 Критерий Колмогорова-Смирнова для оценки вероятности того, что две выборки имеют идентичные средние"
      ]
    },
    {
      "cell_type": "markdown",
      "metadata": {
        "id": "NhfVXiTGAkND",
        "colab_type": "text"
      },
      "source": [
        "## Ключевые слова, понятия и выражения\n",
        "\n",
        "\n",
        "\n",
        "\n"
      ]
    },
    {
      "cell_type": "markdown",
      "metadata": {
        "id": "ixnuL5V2rZtz",
        "colab_type": "text"
      },
      "source": [
        "*   случайная величина\n",
        "*   функция плотности распределения\n",
        "*   функция распределения\n",
        "*   мода, медиана, математическое ожидание, дисперсия\n",
        "*   статистический критерий"
      ]
    },
    {
      "cell_type": "markdown",
      "metadata": {
        "id": "2lFBeeLHjcc7",
        "colab_type": "text"
      },
      "source": [
        "## Материал"
      ]
    },
    {
      "cell_type": "markdown",
      "metadata": {
        "id": "AHkhztzdW0c4",
        "colab_type": "text"
      },
      "source": [
        "### 1.Основные распределения случайных величин, встречающихся в теории вероятности\n",
        "  \n",
        "  \n",
        "   "
      ]
    },
    {
      "cell_type": "markdown",
      "metadata": {
        "id": "5wDveglwDSaF",
        "colab_type": "text"
      },
      "source": [
        "#### 1.1 Определение функции плотности и функции распределения случайной величины. Построение графиков"
      ]
    },
    {
      "cell_type": "markdown",
      "metadata": {
        "id": "SSsH9m_zW0c8",
        "colab_type": "text"
      },
      "source": [
        "Подробно разберем на примере нормального распределения. Для остальных распределений оставим только короткие комментарии."
      ]
    },
    {
      "cell_type": "code",
      "metadata": {
        "id": "TOZm9rUTW0dB",
        "colab_type": "code",
        "colab": {}
      },
      "source": [
        "import numpy as np\n",
        "import matplotlib.pyplot as plt\n",
        "import scipy.stats as sts\n",
        "%matplotlib inline"
      ],
      "execution_count": null,
      "outputs": []
    },
    {
      "cell_type": "markdown",
      "metadata": {
        "id": "f7TxHmvrW0dQ",
        "colab_type": "text"
      },
      "source": [
        "* **Нормальное распределение**"
      ]
    },
    {
      "cell_type": "markdown",
      "metadata": {
        "id": "J7rWfbWoW0dX",
        "colab_type": "text"
      },
      "source": [
        "Сгенерируем выборку из нормально распределённой случайной величины с параметрами среднего $\\mu=0.0$ и среднеквадратичным отклонением $\\sigma=1.0$:"
      ]
    },
    {
      "cell_type": "code",
      "metadata": {
        "id": "MFBTsQhKW0dc",
        "colab_type": "code",
        "colab": {
          "base_uri": "https://localhost:8080/",
          "height": 54
        },
        "outputId": "f84c2d07-e428-468f-9055-b2e87e3e63e8"
      },
      "source": [
        "# инициализируем параметры\n",
        "mu = 0.0\n",
        "sigma = 1.0\n",
        "\n",
        "# зададим нормально распределенную случайную величину\n",
        "norm_rv = sts.norm(loc=mu, scale=sigma)\n",
        "\n",
        "# сгенерируем 10 значений\n",
        "norm_rv.rvs(size=10)"
      ],
      "execution_count": null,
      "outputs": [
        {
          "output_type": "execute_result",
          "data": {
            "text/plain": [
              "array([ 1.54815983,  1.37025461, -0.74125557, -0.57586   ,  0.07903781,\n",
              "       -0.64706054, -1.22384372,  0.61888571,  2.03421504,  1.38379029])"
            ]
          },
          "metadata": {
            "tags": []
          },
          "execution_count": 69
        }
      ]
    },
    {
      "cell_type": "markdown",
      "metadata": {
        "id": "X9AroEjiW0du",
        "colab_type": "text"
      },
      "source": [
        "Для нахождения значения функции распределения случайной величины в точке можно сделать так:"
      ]
    },
    {
      "cell_type": "code",
      "metadata": {
        "id": "bDNkbX_bW0dw",
        "colab_type": "code",
        "colab": {
          "base_uri": "https://localhost:8080/",
          "height": 35
        },
        "outputId": "aac85e95-6f78-4c87-d895-0a67a8af31cb"
      },
      "source": [
        "# cdf() - функция распределения\n",
        "norm_rv.cdf(0)"
      ],
      "execution_count": null,
      "outputs": [
        {
          "output_type": "execute_result",
          "data": {
            "text/plain": [
              "0.5"
            ]
          },
          "metadata": {
            "tags": []
          },
          "execution_count": 70
        }
      ]
    },
    {
      "cell_type": "markdown",
      "metadata": {
        "id": "NIsrmpVlW0d-",
        "colab_type": "text"
      },
      "source": [
        "Теперь можно поточечно построить **функцию распределения**:"
      ]
    },
    {
      "cell_type": "code",
      "metadata": {
        "id": "U4dN4OWQW0d_",
        "colab_type": "code",
        "colab": {
          "base_uri": "https://localhost:8080/",
          "height": 297
        },
        "outputId": "48dc5197-02df-4d0f-8af8-b622aa843ae0"
      },
      "source": [
        "# получаем массив из 100 аргументов x из отрезка [-4,4] и значений функции распределения\n",
        "x = np.linspace(-4,4,100) # обратите внимание, что мы брали среднее равным 0.0\n",
        "cdf = norm_rv.cdf(x) # функция может принимать и вектор (x)\n",
        "\n",
        "# построим график \n",
        "plt.plot(x, cdf)\n",
        "plt.ylabel('$F(x)$')\n",
        "plt.grid()\n",
        "plt.xlabel('$x$')"
      ],
      "execution_count": null,
      "outputs": [
        {
          "output_type": "execute_result",
          "data": {
            "text/plain": [
              "Text(0.5, 0, '$x$')"
            ]
          },
          "metadata": {
            "tags": []
          },
          "execution_count": 71
        },
        {
          "output_type": "display_data",
          "data": {
            "image/png": "[encoded data removed]",
            "text/plain": [
              "<Figure size 432x288 with 1 Axes>"
            ]
          },
          "metadata": {
            "tags": []
          }
        }
      ]
    },
    {
      "cell_type": "markdown",
      "metadata": {
        "id": "6UN_XvnuW0eK",
        "colab_type": "text"
      },
      "source": [
        "Построим график **функции плотности** вероятности:"
      ]
    },
    {
      "cell_type": "code",
      "metadata": {
        "id": "Fa5-YDagW0eN",
        "colab_type": "code",
        "colab": {
          "base_uri": "https://localhost:8080/",
          "height": 297
        },
        "outputId": "acbb949f-bbe3-43e6-cf73-752f18dde70a"
      },
      "source": [
        "x = np.linspace(-4,4,100)\n",
        "pdf = norm_rv.pdf(x) # получаем значения функции плотности pdf()\n",
        "\n",
        "plt.plot(x, pdf)\n",
        "plt.grid()\n",
        "plt.ylabel('$f(x)$')\n",
        "plt.xlabel('$x$')"
      ],
      "execution_count": null,
      "outputs": [
        {
          "output_type": "execute_result",
          "data": {
            "text/plain": [
              "Text(0.5, 0, '$x$')"
            ]
          },
          "metadata": {
            "tags": []
          },
          "execution_count": 72
        },
        {
          "output_type": "display_data",
          "data": {
            "image/png": "[encoded data removed]",
            "text/plain": [
              "<Figure size 432x288 with 1 Axes>"
            ]
          },
          "metadata": {
            "tags": []
          }
        }
      ]
    },
    {
      "cell_type": "markdown",
      "metadata": {
        "id": "vZjzAXhuW0eW",
        "colab_type": "text"
      },
      "source": [
        "Напомним, что функция распределения и функция плотности связаны следующим соотношением:\n",
        "$$F(x)=\\int_{-\\infty}^x f(t)dt$$\n",
        "Быстро проверим это:"
      ]
    },
    {
      "cell_type": "code",
      "metadata": {
        "id": "r7G6x1gCW0eZ",
        "colab_type": "code",
        "colab": {}
      },
      "source": [
        "# алгоритм подсчета определенного интеграла \"на коленке\"\n",
        "def integral(f,a,b,dx=0.01):\n",
        "    n=int((b-a)/dx)\n",
        "    x=a\n",
        "    sum=0.0\n",
        "    for i in range(n):\n",
        "        sum+=f(x)*dx\n",
        "        x+=dx\n",
        "    return sum"
      ],
      "execution_count": null,
      "outputs": []
    },
    {
      "cell_type": "code",
      "metadata": {
        "id": "0I52Mta7W0ef",
        "colab_type": "code",
        "colab": {
          "base_uri": "https://localhost:8080/",
          "height": 54
        },
        "outputId": "63fca610-8b14-491d-cc55-895e17a66b76"
      },
      "source": [
        "# посчитаем интеграл для функции плотности от минус бесконечности ( -5 :) ) до x0\n",
        "x0 = 5.0\n",
        "print('Значение интеграла функции плотности: {}'.format(round(integral(norm_rv.pdf,-5,x0,0.01),2)))\n",
        "\n",
        "# сравним со значением функции распределения\n",
        "print('Значение функции распределения: {}'.format(round(norm_rv.cdf(x0),2)))"
      ],
      "execution_count": null,
      "outputs": [
        {
          "output_type": "stream",
          "text": [
            "Значение интеграла функции плотности: 1.0\n",
            "Значение функции распределения: 1.0\n"
          ],
          "name": "stdout"
        }
      ]
    },
    {
      "cell_type": "markdown",
      "metadata": {
        "id": "q2iKfvxjW0en",
        "colab_type": "text"
      },
      "source": [
        "* **Равномерное распределение**"
      ]
    },
    {
      "cell_type": "code",
      "metadata": {
        "id": "7L9axz5qW0ep",
        "colab_type": "code",
        "colab": {
          "base_uri": "https://localhost:8080/",
          "height": 54
        },
        "outputId": "8938f66e-cf74-42c7-ff67-f280aad8b409"
      },
      "source": [
        "# случайно выбираем точку на отрезке [1,4]\n",
        "a = 1\n",
        "b = 4\n",
        "\n",
        "#обратите внимание, что в этой функции задается левая граница и масштаб, а не левая и правая границы:\n",
        "uniform_rv = sts.uniform(a, b-a)\n",
        "\n",
        "uniform_rv.rvs(10)"
      ],
      "execution_count": null,
      "outputs": [
        {
          "output_type": "execute_result",
          "data": {
            "text/plain": [
              "array([1.32016437, 1.30223435, 3.80482223, 2.11621822, 2.42075495,\n",
              "       1.76061081, 1.77475011, 3.44021289, 1.19936194, 2.4299488 ])"
            ]
          },
          "metadata": {
            "tags": []
          },
          "execution_count": 75
        }
      ]
    },
    {
      "cell_type": "code",
      "metadata": {
        "id": "P8u2wANAW0eu",
        "colab_type": "code",
        "colab": {
          "base_uri": "https://localhost:8080/",
          "height": 297
        },
        "outputId": "2d4fcf43-4903-45f4-91eb-ab220ec7564d"
      },
      "source": [
        "# функция распределения\n",
        "x = np.linspace(0,5,100)\n",
        "cdf = uniform_rv.cdf(x)\n",
        "plt.plot(x, cdf)\n",
        "\n",
        "plt.grid()\n",
        "plt.ylabel('$F(x)$')\n",
        "plt.xlabel('$x$')"
      ],
      "execution_count": null,
      "outputs": [
        {
          "output_type": "execute_result",
          "data": {
            "text/plain": [
              "Text(0.5, 0, '$x$')"
            ]
          },
          "metadata": {
            "tags": []
          },
          "execution_count": 76
        },
        {
          "output_type": "display_data",
          "data": {
            "image/png": "[encoded data removed]",
            "text/plain": [
              "<Figure size 432x288 with 1 Axes>"
            ]
          },
          "metadata": {
            "tags": []
          }
        }
      ]
    },
    {
      "cell_type": "code",
      "metadata": {
        "id": "dlDfc5jXW0e0",
        "colab_type": "code",
        "colab": {
          "base_uri": "https://localhost:8080/",
          "height": 301
        },
        "outputId": "1601dd4d-b3e5-47b7-d08b-605df909cf0f"
      },
      "source": [
        "# функция плотности\n",
        "x = np.linspace(0,5,1000)\n",
        "pdf = uniform_rv.pdf(x)\n",
        "\n",
        "plt.grid()\n",
        "plt.plot(x, pdf)\n",
        "plt.ylabel('$f(x)$')\n",
        "plt.xlabel('$x$')"
      ],
      "execution_count": null,
      "outputs": [
        {
          "output_type": "execute_result",
          "data": {
            "text/plain": [
              "Text(0.5, 0, '$x$')"
            ]
          },
          "metadata": {
            "tags": []
          },
          "execution_count": 77
        },
        {
          "output_type": "display_data",
          "data": {
            "image/png": "[encoded data removed]",
            "text/plain": [
              "<Figure size 432x288 with 1 Axes>"
            ]
          },
          "metadata": {
            "tags": []
          }
        }
      ]
    },
    {
      "cell_type": "markdown",
      "metadata": {
        "id": "wap-1CgrW0e5",
        "colab_type": "text"
      },
      "source": [
        "* **Биномиальное распределение**"
      ]
    },
    {
      "cell_type": "code",
      "metadata": {
        "id": "kS4B4vIWW0e6",
        "colab_type": "code",
        "colab": {
          "base_uri": "https://localhost:8080/",
          "height": 35
        },
        "outputId": "d2c76f90-86b4-496c-f0ea-66abef6fff8f"
      },
      "source": [
        "# генерация 10 значений выборки,каждое из которых является числом успехов \n",
        "# в серии из 20 одинаковых независимых испытаний Бернулли \n",
        "# с вероятностью успеха 0.7 в каждом испытании\n",
        "binomial_rv = sts.binom(20, 0.7)\n",
        "binomial_rv.rvs(10)"
      ],
      "execution_count": null,
      "outputs": [
        {
          "output_type": "execute_result",
          "data": {
            "text/plain": [
              "array([16, 15, 15, 13, 15, 13, 16, 16, 13, 16])"
            ]
          },
          "metadata": {
            "tags": []
          },
          "execution_count": 78
        }
      ]
    },
    {
      "cell_type": "code",
      "metadata": {
        "id": "UDCPvHBFW0fC",
        "colab_type": "code",
        "colab": {
          "base_uri": "https://localhost:8080/",
          "height": 297
        },
        "outputId": "fbc8450d-ae0f-4e00-a5b1-cd4bf6e8a0c3"
      },
      "source": [
        "# функция распределения\n",
        "x = np.linspace(0,20,21)\n",
        "cdf = binomial_rv.cdf(x)\n",
        "\n",
        "plt.grid()\n",
        "plt.step(x, cdf)\n",
        "plt.ylabel('$F(x)$')\n",
        "plt.xlabel('$x$')"
      ],
      "execution_count": null,
      "outputs": [
        {
          "output_type": "execute_result",
          "data": {
            "text/plain": [
              "Text(0.5, 0, '$x$')"
            ]
          },
          "metadata": {
            "tags": []
          },
          "execution_count": 79
        },
        {
          "output_type": "display_data",
          "data": {
            "image/png": "[encoded data removed]",
            "text/plain": [
              "<Figure size 432x288 with 1 Axes>"
            ]
          },
          "metadata": {
            "tags": []
          }
        }
      ]
    },
    {
      "cell_type": "markdown",
      "metadata": {
        "id": "b8rhD_7OW0fH",
        "colab_type": "text"
      },
      "source": [
        "Функция вероятности pmf() для дискретных случайных величин заменяет функцию плотности pdf():"
      ]
    },
    {
      "cell_type": "code",
      "metadata": {
        "id": "i13lvIvTW0fH",
        "colab_type": "code",
        "colab": {
          "base_uri": "https://localhost:8080/",
          "height": 300
        },
        "outputId": "ace6b76e-b008-474d-d3d8-85aa91f94a20"
      },
      "source": [
        "x = np.linspace(0,20,21)\n",
        "pmf = binomial_rv.pmf(x)\n",
        "plt.plot(x, pmf, 'o')\n",
        "\n",
        "plt.ylabel('$P(X=x)$')\n",
        "plt.xlabel('$x$')"
      ],
      "execution_count": null,
      "outputs": [
        {
          "output_type": "execute_result",
          "data": {
            "text/plain": [
              "Text(0.5, 0, '$x$')"
            ]
          },
          "metadata": {
            "tags": []
          },
          "execution_count": 80
        },
        {
          "output_type": "display_data",
          "data": {
            "image/png": "[encoded data removed]",
            "text/plain": [
              "<Figure size 432x288 with 1 Axes>"
            ]
          },
          "metadata": {
            "tags": []
          }
        }
      ]
    },
    {
      "cell_type": "markdown",
      "metadata": {
        "id": "_Y_UPDN9W0fO",
        "colab_type": "text"
      },
      "source": [
        "* **Распределение Пуассона**"
      ]
    },
    {
      "cell_type": "code",
      "metadata": {
        "id": "NQ-7C_RyW0fP",
        "colab_type": "code",
        "colab": {
          "base_uri": "https://localhost:8080/",
          "height": 35
        },
        "outputId": "52f66f7f-0c87-4f28-b87a-295e67a32711"
      },
      "source": [
        "# число событий, произошедших за фиксированное время, \n",
        "# при условии, что данные события происходят с некоторой фиксированной средней интенсивностью \n",
        "# и независимо друг от друга\n",
        "poisson_rv = sts.poisson(5)\n",
        "poisson_rv.rvs(10)"
      ],
      "execution_count": null,
      "outputs": [
        {
          "output_type": "execute_result",
          "data": {
            "text/plain": [
              "array([2, 4, 5, 6, 3, 5, 3, 4, 7, 6])"
            ]
          },
          "metadata": {
            "tags": []
          },
          "execution_count": 81
        }
      ]
    },
    {
      "cell_type": "code",
      "metadata": {
        "id": "_oM-sLOHW0fV",
        "colab_type": "code",
        "colab": {
          "base_uri": "https://localhost:8080/",
          "height": 313
        },
        "outputId": "92793397-4f47-4c47-a8a8-1981b8b79830"
      },
      "source": [
        "# поизменяем значение параметра лямбда\n",
        "x = np.linspace(0,30,31)\n",
        "for l in [1, 5, 10, 15]:\n",
        "    rv = sts.poisson(l)\n",
        "    cdf = rv.cdf(x)\n",
        "    plt.step(x, cdf, label=\"$\\lambda=%s$\" % l)\n",
        "plt.legend()\n",
        "plt.title(\"CDF (poisson)\")\n",
        "\n",
        "plt.ylabel('$F(x)$')\n",
        "plt.xlabel('$x$')"
      ],
      "execution_count": null,
      "outputs": [
        {
          "output_type": "execute_result",
          "data": {
            "text/plain": [
              "Text(0.5, 0, '$x$')"
            ]
          },
          "metadata": {
            "tags": []
          },
          "execution_count": 82
        },
        {
          "output_type": "display_data",
          "data": {
            "image/png": "[encoded data removed]",
            "text/plain": [
              "<Figure size 432x288 with 1 Axes>"
            ]
          },
          "metadata": {
            "tags": []
          }
        }
      ]
    },
    {
      "cell_type": "code",
      "metadata": {
        "id": "9QerssA_W0fe",
        "colab_type": "code",
        "colab": {
          "base_uri": "https://localhost:8080/",
          "height": 313
        },
        "outputId": "95b592d4-3788-4ebe-c555-413ead525610"
      },
      "source": [
        "x = np.linspace(0,30,31)\n",
        "\n",
        "symbols = iter(['o', 's', '^', '+'])\n",
        "for l in [1, 5, 10, 15]:\n",
        "    rv = sts.poisson(l)\n",
        "    pmf = rv.pmf(x)\n",
        "    plt.plot(x, pmf, next(symbols), label=\"$\\lambda=%s$\" % l)\n",
        "plt.legend()\n",
        "plt.title(\"PMF (poisson)\")\n",
        "\n",
        "plt.ylabel('$P(X=x)$')\n",
        "plt.xlabel('$x$')"
      ],
      "execution_count": null,
      "outputs": [
        {
          "output_type": "execute_result",
          "data": {
            "text/plain": [
              "Text(0.5, 0, '$x$')"
            ]
          },
          "metadata": {
            "tags": []
          },
          "execution_count": 83
        },
        {
          "output_type": "display_data",
          "data": {
            "image/png": "[encoded data removed]",
            "text/plain": [
              "<Figure size 432x288 with 1 Axes>"
            ]
          },
          "metadata": {
            "tags": []
          }
        }
      ]
    },
    {
      "cell_type": "markdown",
      "metadata": {
        "id": "0gaxivbzW0fk",
        "colab_type": "text"
      },
      "source": [
        "* **Распределение Хи-квадрат**"
      ]
    },
    {
      "cell_type": "code",
      "metadata": {
        "id": "VdfpcS1kW0fl",
        "colab_type": "code",
        "colab": {
          "base_uri": "https://localhost:8080/",
          "height": 304
        },
        "outputId": "f6f54c12-efd8-46d0-f4be-b62ef50b39b9"
      },
      "source": [
        "# функция распределения\n",
        "x = np.linspace(0,30,100)\n",
        "for k in [1, 2, 3, 4, 6, 9]:\n",
        "    rv = sts.chi2(k)\n",
        "    cdf = rv.cdf(x)\n",
        "    plt.plot(x, cdf, label=\"$k=%s$\" % k)\n",
        "plt.legend()\n",
        "plt.title(\"CDF ($\\chi^2_k$)\")"
      ],
      "execution_count": null,
      "outputs": [
        {
          "output_type": "execute_result",
          "data": {
            "text/plain": [
              "Text(0.5, 1.0, 'CDF ($\\\\chi^2_k$)')"
            ]
          },
          "metadata": {
            "tags": []
          },
          "execution_count": 84
        },
        {
          "output_type": "display_data",
          "data": {
            "image/png": "[encoded data removed]",
            "text/plain": [
              "<Figure size 432x288 with 1 Axes>"
            ]
          },
          "metadata": {
            "tags": []
          }
        }
      ]
    },
    {
      "cell_type": "code",
      "metadata": {
        "id": "CjNmPLHaW0fq",
        "colab_type": "code",
        "colab": {
          "base_uri": "https://localhost:8080/",
          "height": 304
        },
        "outputId": "db4f6fdf-669c-4968-eeee-03ff1d3bcca8"
      },
      "source": [
        "# функция плотности\n",
        "x = np.linspace(0,30,100)\n",
        "for k in [1, 2, 3, 4, 6, 9]:\n",
        "    rv = sts.chi2(k)\n",
        "    pdf = rv.pdf(x)\n",
        "    plt.plot(x, pdf, label=\"$k=%s$\" % k)\n",
        "plt.legend()\n",
        "plt.title(\"PDF ($\\chi^2_k$)\")"
      ],
      "execution_count": null,
      "outputs": [
        {
          "output_type": "execute_result",
          "data": {
            "text/plain": [
              "Text(0.5, 1.0, 'PDF ($\\\\chi^2_k$)')"
            ]
          },
          "metadata": {
            "tags": []
          },
          "execution_count": 85
        },
        {
          "output_type": "display_data",
          "data": {
            "image/png": "[encoded data removed]",
            "text/plain": [
              "<Figure size 432x288 with 1 Axes>"
            ]
          },
          "metadata": {
            "tags": []
          }
        }
      ]
    },
    {
      "cell_type": "markdown",
      "metadata": {
        "id": "_wK8lFqHW0ft",
        "colab_type": "text"
      },
      "source": [
        "#### 1.2 Основные характеристики случайной величины: математическое ожидание, мода, медиана, дисперсия,        среднеквадратичное отклонение"
      ]
    },
    {
      "cell_type": "markdown",
      "metadata": {
        "id": "z3MXHQZnW0fu",
        "colab_type": "text"
      },
      "source": [
        "Разберем понятия **математического ожидания** и **среднеквадратичного отклонения** на примере нормального распределения, а именно, займемся их визуализацией на графике плотности."
      ]
    },
    {
      "cell_type": "code",
      "metadata": {
        "scrolled": true,
        "id": "puR49n-7W0fv",
        "colab_type": "code",
        "colab": {
          "base_uri": "https://localhost:8080/",
          "height": 313
        },
        "outputId": "9117f481-7afa-4699-a302-398374fc00ff"
      },
      "source": [
        "x = np.linspace(-4,4,100)\n",
        "pdf = norm_rv.pdf(x) # получаем значения функции плотности pdf()\n",
        "plt.title(\"Среднее и среднеквадратичное отклонение на графике плотности нормального распределения\")\n",
        "plt.plot(x, pdf)\n",
        "# отрисовываем среднее и отклонения от среднего на одну сигму\n",
        "plt.axvline(x=norm_rv.mean(),color='y',linestyle='--',label='mean')\n",
        "plt.axvline(x=norm_rv.mean()+norm_rv.std(),color='r',linestyle='--',label='+-std')\n",
        "plt.axvline(x=norm_rv.mean()-norm_rv.std(),color='r',linestyle='--')\n",
        "\n",
        "plt.ylabel('$f(x)$')\n",
        "plt.xlabel('$x$')\n",
        "plt.legend()"
      ],
      "execution_count": null,
      "outputs": [
        {
          "output_type": "execute_result",
          "data": {
            "text/plain": [
              "<matplotlib.legend.Legend at 0x7f3e2bb2bba8>"
            ]
          },
          "metadata": {
            "tags": []
          },
          "execution_count": 86
        },
        {
          "output_type": "display_data",
          "data": {
            "image/png": "[encoded data removed]",
            "text/plain": [
              "<Figure size 432x288 with 1 Axes>"
            ]
          },
          "metadata": {
            "tags": []
          }
        }
      ]
    },
    {
      "cell_type": "markdown",
      "metadata": {
        "id": "i2yGejnQW0fx",
        "colab_type": "text"
      },
      "source": [
        "В случае нормального распределения среднее, медиана и мода совпадают, что не интересно. На примере распределения Хи-квадрат покажем, как могут располагаться указанные значения в более общем случае."
      ]
    },
    {
      "cell_type": "code",
      "metadata": {
        "id": "wFTGu42vW0fy",
        "colab_type": "code",
        "colab": {
          "base_uri": "https://localhost:8080/",
          "height": 303
        },
        "outputId": "9ee1d8ce-ebfa-498e-e379-fcf95a31f0a1"
      },
      "source": [
        "# генерирум выборку\n",
        "x = np.linspace(0,30,100)\n",
        "chi2_rv= sts.chi2(10)\n",
        "# строим график плотности\n",
        "plt.title(\"Основные характеристики на графике плотности распределения $\\chi^2_{10}$\")\n",
        "pdf = chi2_rv.pdf(x)\n",
        "plt.plot(x, pdf,label='$\\chi^2_{10}$')\n",
        "# находим среднее\n",
        "plt.axvline(x=chi2_rv.mean(),color='y',linestyle='--',label='mean')\n",
        "# находим медиану\n",
        "plt.axvline(x=chi2_rv.median(),color='g',linestyle='--',label='median')\n",
        "# находим моду\n",
        "plt.axvline(x=x[np.argmax(pdf)],color='b',linestyle='--',label='mode')\n",
        "# определяем разброс от среднего в пределах одной сигмы\n",
        "plt.axvline(x=chi2_rv.mean()+chi2_rv.std(),color='r',linestyle='--',label='std')\n",
        "plt.axvline(x=chi2_rv.mean()-chi2_rv.std(),color='r',linestyle='--')\n",
        "plt.legend()"
      ],
      "execution_count": null,
      "outputs": [
        {
          "output_type": "execute_result",
          "data": {
            "text/plain": [
              "<matplotlib.legend.Legend at 0x7f3e2ba747b8>"
            ]
          },
          "metadata": {
            "tags": []
          },
          "execution_count": 87
        },
        {
          "output_type": "display_data",
          "data": {
            "image/png": "[encoded data removed]",
            "text/plain": [
              "<Figure size 432x288 with 1 Axes>"
            ]
          },
          "metadata": {
            "tags": []
          }
        }
      ]
    },
    {
      "cell_type": "markdown",
      "metadata": {
        "id": "VdCoj_XUW0f3",
        "colab_type": "text"
      },
      "source": [
        "### 2.Элементы статистики\n",
        "\n"
      ]
    },
    {
      "cell_type": "markdown",
      "metadata": {
        "id": "2LhShm-NDiKf",
        "colab_type": "text"
      },
      "source": [
        "#### 2.1 Выборка и ее характеристики. Построение гистограммы"
      ]
    },
    {
      "cell_type": "markdown",
      "metadata": {
        "id": "EvbetzUGW0f3",
        "colab_type": "text"
      },
      "source": [
        "Сгенерируем выборку объёма 100 из стандартного нормального распределения (с $\\mu=0$ и $\\sigma^2=1$):"
      ]
    },
    {
      "cell_type": "code",
      "metadata": {
        "id": "QZx6gntFW0f4",
        "colab_type": "code",
        "colab": {}
      },
      "source": [
        "norm_rv = sts.norm(0, 1)\n",
        "sample = norm_rv.rvs(100)"
      ],
      "execution_count": null,
      "outputs": []
    },
    {
      "cell_type": "markdown",
      "metadata": {
        "id": "eqDNfsfNW0f8",
        "colab_type": "text"
      },
      "source": [
        "Построим эмпирическую функцию распределения для полученной выборки:"
      ]
    },
    {
      "cell_type": "code",
      "metadata": {
        "id": "7xMJrzHJW0f9",
        "colab_type": "code",
        "colab": {
          "base_uri": "https://localhost:8080/",
          "height": 297
        },
        "outputId": "bd552266-abb6-47d0-8033-466bee91c364"
      },
      "source": [
        "x = np.linspace(-4,4,100)\n",
        "cdf = norm_rv.cdf(x)\n",
        "plt.plot(x, cdf, label='theoretical CDF')\n",
        "\n",
        "# для построения ECDF используем библиотеку statsmodels\n",
        "from statsmodels.distributions.empirical_distribution import ECDF\n",
        "ecdf = ECDF(sample)\n",
        "plt.step(ecdf.x, ecdf.y, label='ECDF')\n",
        "\n",
        "plt.ylabel('$f(x)$')\n",
        "plt.xlabel('$x$')\n",
        "plt.legend(loc='upper left')"
      ],
      "execution_count": null,
      "outputs": [
        {
          "output_type": "execute_result",
          "data": {
            "text/plain": [
              "<matplotlib.legend.Legend at 0x7f3e2c1d4b38>"
            ]
          },
          "metadata": {
            "tags": []
          },
          "execution_count": 89
        },
        {
          "output_type": "display_data",
          "data": {
            "image/png": "[encoded data removed]",
            "text/plain": [
              "<Figure size 432x288 with 1 Axes>"
            ]
          },
          "metadata": {
            "tags": []
          }
        }
      ]
    },
    {
      "cell_type": "markdown",
      "metadata": {
        "id": "Q66AOxRdW0gA",
        "colab_type": "text"
      },
      "source": [
        "Построим гистограмму:"
      ]
    },
    {
      "cell_type": "code",
      "metadata": {
        "id": "-4oQjeDEW0gA",
        "colab_type": "code",
        "colab": {
          "base_uri": "https://localhost:8080/",
          "height": 353
        },
        "outputId": "0294da51-52d3-425e-f18e-08bd411a83f3"
      },
      "source": [
        "# важно угадать с параметром bins - количество интервалов,\n",
        "# на которые разбивается выборка для подсчета частот элементов\n",
        "plt.hist(sample,bins=5,normed=True)\n",
        "plt.ylabel('fraction of samples')\n",
        "plt.xlabel('$x$')"
      ],
      "execution_count": null,
      "outputs": [
        {
          "output_type": "stream",
          "text": [
            "/usr/local/lib/python3.6/dist-packages/ipykernel_launcher.py:1: MatplotlibDeprecationWarning: \n",
            "The 'normed' kwarg was deprecated in Matplotlib 2.1 and will be removed in 3.1. Use 'density' instead.\n",
            "  \"\"\"Entry point for launching an IPython kernel.\n"
          ],
          "name": "stderr"
        },
        {
          "output_type": "execute_result",
          "data": {
            "text/plain": [
              "Text(0.5, 0, '$x$')"
            ]
          },
          "metadata": {
            "tags": []
          },
          "execution_count": 90
        },
        {
          "output_type": "display_data",
          "data": {
            "image/png": "[encoded data removed]",
            "text/plain": [
              "<Figure size 432x288 with 1 Axes>"
            ]
          },
          "metadata": {
            "tags": []
          }
        }
      ]
    },
    {
      "cell_type": "markdown",
      "metadata": {
        "id": "-hJrIoCIW0gD",
        "colab_type": "text"
      },
      "source": [
        "Для получения \"гладкой\" функции плотности можно воспользоваться ядерным сглаживанием:"
      ]
    },
    {
      "cell_type": "code",
      "metadata": {
        "id": "k8fWkrCFW0gD",
        "colab_type": "code",
        "colab": {
          "base_uri": "https://localhost:8080/",
          "height": 283
        },
        "outputId": "25a17ece-34c9-405f-db16-357f773d7f29"
      },
      "source": [
        "# сглаживание\n",
        "kde = sts.gaussian_kde(sample)\n",
        "plt.plot(x,kde(x),label='KDE')\n",
        "\n",
        "# построение теоретической функции плотности\n",
        "pdf=norm_rv.pdf(x)\n",
        "plt.plot(x, pdf, label='theoretical PDF')\n",
        "\n",
        "plt.legend()"
      ],
      "execution_count": null,
      "outputs": [
        {
          "output_type": "execute_result",
          "data": {
            "text/plain": [
              "<matplotlib.legend.Legend at 0x7f3e2c0e80f0>"
            ]
          },
          "metadata": {
            "tags": []
          },
          "execution_count": 91
        },
        {
          "output_type": "display_data",
          "data": {
            "image/png": "[encoded data removed]",
            "text/plain": [
              "<Figure size 432x288 with 1 Axes>"
            ]
          },
          "metadata": {
            "tags": []
          }
        }
      ]
    },
    {
      "cell_type": "markdown",
      "metadata": {
        "id": "Lyplc2_QW0gJ",
        "colab_type": "text"
      },
      "source": [
        "#### 2.2 Анализ одной выборки\n",
        "\n",
        "    "
      ]
    },
    {
      "cell_type": "markdown",
      "metadata": {
        "id": "Cjy1s2VNDp2-",
        "colab_type": "text"
      },
      "source": [
        "##### 2.2.1 t-критерий Стьюдента для оценки вероятности того, что среднее по выборке равно теоретическому математическому ожиданию"
      ]
    },
    {
      "cell_type": "markdown",
      "metadata": {
        "id": "OCocON1PW0gK",
        "colab_type": "text"
      },
      "source": [
        "Сгенерируем выборку из нормального распределения и сравним теоретические и выборочные параметры:"
      ]
    },
    {
      "cell_type": "code",
      "metadata": {
        "id": "8qv7HwbOW0gL",
        "colab_type": "code",
        "colab": {}
      },
      "source": [
        "# генерируем выборку\n",
        "x = sts.norm.rvs(0.0,1.0, size=1000)"
      ],
      "execution_count": null,
      "outputs": []
    },
    {
      "cell_type": "code",
      "metadata": {
        "id": "zgwfot1PW0gM",
        "colab_type": "code",
        "colab": {}
      },
      "source": [
        "# получим теоретические параметры\n",
        "# mvsk = mean, variance, skew(скошенность), kurtosis(эксцесс)\n",
        "m, v,s, k = sts.norm.stats(0.0,1.0,moments='mvsk')"
      ],
      "execution_count": null,
      "outputs": []
    },
    {
      "cell_type": "code",
      "metadata": {
        "id": "h0Cj13x2W0gO",
        "colab_type": "code",
        "colab": {}
      },
      "source": [
        "# получим параметры выборки\n",
        "n, (smin, smax), sm, sv, ss, sk = sts.describe(x)\n",
        "# !Важно: describe() использует несмещенную оценку для дисперсии"
      ],
      "execution_count": null,
      "outputs": []
    },
    {
      "cell_type": "code",
      "metadata": {
        "id": "3cybZGooW0gR",
        "colab_type": "code",
        "colab": {
          "base_uri": "https://localhost:8080/",
          "height": 54
        },
        "outputId": "88794273-a697-4095-b202-10622ab27b54"
      },
      "source": [
        "# сравним полученные результаты\n",
        "sstr = '%-14s mean = %6.4f, variance = %6.4f, skew = %6.4f, kurtosis = %6.4f'\n",
        "print(sstr % ('distribution:', m, v, s ,k))\n",
        "print(sstr % ('sample:', sm, sv, ss, sk))"
      ],
      "execution_count": null,
      "outputs": [
        {
          "output_type": "stream",
          "text": [
            "distribution:  mean = 0.0000, variance = 1.0000, skew = 0.0000, kurtosis = 0.0000\n",
            "sample:        mean = 0.0123, variance = 0.9580, skew = 0.0636, kurtosis = -0.0257\n"
          ],
          "name": "stdout"
        }
      ]
    },
    {
      "cell_type": "markdown",
      "metadata": {
        "id": "UpvT21IHW0gc",
        "colab_type": "text"
      },
      "source": [
        "Для проверки нулевой гипотезы $H_0:E(X)=m$, т.е. оценки вероятности того, что среднее по выборке равно теоретическому математическому ожиданию, используется t-критерий Стъюдента:"
      ]
    },
    {
      "cell_type": "code",
      "metadata": {
        "id": "1y5y-4DrW0gc",
        "colab_type": "code",
        "colab": {
          "base_uri": "https://localhost:8080/",
          "height": 35
        },
        "outputId": "7bba1eb3-a3e5-4ada-fcef-ec927fe2f2ce"
      },
      "source": [
        "print('t-statistic = %6.3f pvalue = %6.4f' %  sts.ttest_1samp(x, m))"
      ],
      "execution_count": null,
      "outputs": [
        {
          "output_type": "stream",
          "text": [
            "t-statistic =  0.397 pvalue = 0.6914\n"
          ],
          "name": "stdout"
        }
      ]
    },
    {
      "cell_type": "markdown",
      "metadata": {
        "id": "LMrcuMqkW0ge",
        "colab_type": "text"
      },
      "source": [
        "Значение $p = 0,83$ означает вероятность ошибки отвержения нулевой гипотезы (т.е. с вероятностью 0,83 мы ошибемся, если скажем, что выборка не подчиняется закону нормального распределения)"
      ]
    },
    {
      "cell_type": "markdown",
      "metadata": {
        "id": "n8YGerOIW0gf",
        "colab_type": "text"
      },
      "source": [
        "##### 2.2.2 Критерий Колмогорова-Смирнова для оценки вероятности того, пренадлежит ли выборка определенному закону распределения"
      ]
    },
    {
      "cell_type": "markdown",
      "metadata": {
        "id": "Okm2rtZYW0gg",
        "colab_type": "text"
      },
      "source": [
        "Тест Колмогорова-Смирнова может быть использован для проверки нулевой гипотезы: выборка подчиняется закону  нормального распределения"
      ]
    },
    {
      "cell_type": "code",
      "metadata": {
        "id": "JV7sVZEPW0gg",
        "colab_type": "code",
        "colab": {
          "base_uri": "https://localhost:8080/",
          "height": 35
        },
        "outputId": "cc8be0c3-a16d-4704-b207-8904a3504495"
      },
      "source": [
        "print('KS-statistic D = %6.3f pvalue = %6.4f' % sts.kstest(x,'norm',(0.0,)))"
      ],
      "execution_count": null,
      "outputs": [
        {
          "output_type": "stream",
          "text": [
            "KS-statistic D =  0.015 pvalue = 0.9826\n"
          ],
          "name": "stdout"
        }
      ]
    },
    {
      "cell_type": "markdown",
      "metadata": {
        "id": "KeHqKHNpW0gj",
        "colab_type": "text"
      },
      "source": [
        "##### 2.2.3 Специальные тесты для нормального распределения"
      ]
    },
    {
      "cell_type": "markdown",
      "metadata": {
        "id": "p0r7y6BXW0gj",
        "colab_type": "text"
      },
      "source": [
        "Поскольку нормальное распределение является наиболее распространенным распределением в статистике, существует несколько дополнительных функций, позволяющих проверить принадлежность выборки к нормальному распределению. Прежде всего, можно проверить, отличаются ли скос и эксцесс нашей выборки от нормального распределения: "
      ]
    },
    {
      "cell_type": "code",
      "metadata": {
        "id": "Zr2rURuOW0gj",
        "colab_type": "code",
        "colab": {
          "base_uri": "https://localhost:8080/",
          "height": 54
        },
        "outputId": "8eb40594-b394-4e6a-e321-fec341cea3c8"
      },
      "source": [
        "print('normal skewtest teststat = %6.3f pvalue = %6.4f' % sts.skewtest(x))\n",
        "print('normal kurtosistest teststat = %6.3f pvalue = %6.4f' % sts.kurtosistest(x))"
      ],
      "execution_count": null,
      "outputs": [
        {
          "output_type": "stream",
          "text": [
            "normal skewtest teststat =  0.826 pvalue = 0.4089\n",
            "normal kurtosistest teststat = -0.056 pvalue = 0.9555\n"
          ],
          "name": "stdout"
        }
      ]
    },
    {
      "cell_type": "markdown",
      "metadata": {
        "id": "dNscWHh1W0gm",
        "colab_type": "text"
      },
      "source": [
        "Эти два теста объединяются в тест на нормальность выборки "
      ]
    },
    {
      "cell_type": "code",
      "metadata": {
        "id": "3SAfA7EmW0gm",
        "colab_type": "code",
        "colab": {
          "base_uri": "https://localhost:8080/",
          "height": 35
        },
        "outputId": "3c38f5c1-f588-4bff-9872-22c670b2e392"
      },
      "source": [
        "print('normaltest teststat = %6.3f pvalue = %6.4f' % sts.normaltest(x))"
      ],
      "execution_count": null,
      "outputs": [
        {
          "output_type": "stream",
          "text": [
            "normaltest teststat =  0.685 pvalue = 0.7100\n"
          ],
          "name": "stdout"
        }
      ]
    },
    {
      "cell_type": "markdown",
      "metadata": {
        "id": "MRuclhbPW0gp",
        "colab_type": "text"
      },
      "source": [
        "Если  p-value очень низкое, то следует отклонить гипотезу о том, что наша выборка имеет скос и эксцесс нормального распределения."
      ]
    },
    {
      "cell_type": "markdown",
      "metadata": {
        "id": "_dgUcj7ZW0gq",
        "colab_type": "text"
      },
      "source": [
        "#### 2.3 Анализ двух выборок"
      ]
    },
    {
      "cell_type": "markdown",
      "metadata": {
        "id": "XU7CHEjoD6mQ",
        "colab_type": "text"
      },
      "source": [
        "##### 2.3.1 t-критерий Стьюдента для оценки вероятности того, что две выборки имеют идентичные средние"
      ]
    },
    {
      "cell_type": "markdown",
      "metadata": {
        "id": "K-k8dD62W0gq",
        "colab_type": "text"
      },
      "source": [
        "Пусть имеются две выборки, которые могут иметь одинаковые распределения. Проверим, имеют ли эти выборки одинаковые статистические свойства. "
      ]
    },
    {
      "cell_type": "code",
      "metadata": {
        "id": "BV93VMMgW0gq",
        "colab_type": "code",
        "colab": {
          "base_uri": "https://localhost:8080/",
          "height": 35
        },
        "outputId": "09270a3c-0e59-4cf6-f7da-562ffa21b184"
      },
      "source": [
        "# Испытание с выборок с идентичными средними \n",
        "rvs1 = sts.norm.rvs(loc=5, scale=10, size=500)\n",
        "rvs2 = sts.norm.rvs(loc=5, scale=10, size=500)\n",
        "sts.ttest_ind(rvs1, rvs2)"
      ],
      "execution_count": null,
      "outputs": [
        {
          "output_type": "execute_result",
          "data": {
            "text/plain": [
              "Ttest_indResult(statistic=-0.1855814634468461, pvalue=0.852810700943327)"
            ]
          },
          "metadata": {
            "tags": []
          },
          "execution_count": 100
        }
      ]
    },
    {
      "cell_type": "code",
      "metadata": {
        "id": "UO0Lls9XW0gs",
        "colab_type": "code",
        "colab": {
          "base_uri": "https://localhost:8080/",
          "height": 35
        },
        "outputId": "699f9147-885b-4892-99a3-0f67b4ee5fd6"
      },
      "source": [
        "# Испытание выборок с различными средними\n",
        "rvs3 = sts.norm.rvs(loc=8, scale=10, size=500)\n",
        "sts.ttest_ind(rvs1, rvs3)"
      ],
      "execution_count": null,
      "outputs": [
        {
          "output_type": "execute_result",
          "data": {
            "text/plain": [
              "Ttest_indResult(statistic=-5.8406654471375825, pvalue=7.029796027072606e-09)"
            ]
          },
          "metadata": {
            "tags": []
          },
          "execution_count": 101
        }
      ]
    },
    {
      "cell_type": "markdown",
      "metadata": {
        "id": "s361zBxxW0gu",
        "colab_type": "text"
      },
      "source": [
        "##### 2.3.2 Критерий Колмогорова-Смирнова для оценки вероятности того, что две выборки имеют идентичные средние"
      ]
    },
    {
      "cell_type": "code",
      "metadata": {
        "id": "8wQbX9swW0gv",
        "colab_type": "code",
        "colab": {
          "base_uri": "https://localhost:8080/",
          "height": 35
        },
        "outputId": "3ff06090-7337-458f-b8d4-6bd5b185201c"
      },
      "source": [
        "# В первом примере предыдущего пункта, где обе выборки имеют одинаковые распределения, \n",
        "# мы не можем отклонить нулевую гипотезу, поскольку p-value достаточно высоко.\n",
        "sts.ks_2samp(rvs1, rvs2)"
      ],
      "execution_count": null,
      "outputs": [
        {
          "output_type": "execute_result",
          "data": {
            "text/plain": [
              "Ks_2sampResult(statistic=0.04, pvalue=0.8191511303355717)"
            ]
          },
          "metadata": {
            "tags": []
          },
          "execution_count": 102
        }
      ]
    },
    {
      "cell_type": "code",
      "metadata": {
        "id": "lPsBrJApW0gy",
        "colab_type": "code",
        "colab": {
          "base_uri": "https://localhost:8080/",
          "height": 35
        },
        "outputId": "cedce926-a27e-44af-b16c-cdcf1f78ba06"
      },
      "source": [
        "# Во втором примере мы можем отклонить нулевую гипотезу, так как p-value меньше 1% \n",
        "sts.ks_2samp(rvs1, rvs3)"
      ],
      "execution_count": null,
      "outputs": [
        {
          "output_type": "execute_result",
          "data": {
            "text/plain": [
              "Ks_2sampResult(statistic=0.182, pvalue=1.1893503543157425e-07)"
            ]
          },
          "metadata": {
            "tags": []
          },
          "execution_count": 103
        }
      ]
    },
    {
      "cell_type": "markdown",
      "metadata": {
        "id": "5F_hHKVTNzia",
        "colab_type": "text"
      },
      "source": [
        "## Дополнительные материалы и литература"
      ]
    },
    {
      "cell_type": "markdown",
      "metadata": {
        "id": "YWhDk5dJN8NC",
        "colab_type": "text"
      },
      "source": [
        "\n",
        "\n",
        "*   https://docs.scipy.org/doc/scipy/reference/tutorial/stats.html"
      ]
    },
    {
      "cell_type": "code",
      "metadata": {
        "id": "Hsm5IgDv5jPl",
        "colab_type": "code",
        "colab": {}
      },
      "source": [
        ""
      ],
      "execution_count": null,
      "outputs": []
    }
  ]
}