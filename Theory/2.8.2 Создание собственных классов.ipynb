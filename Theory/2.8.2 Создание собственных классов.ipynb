{
  "nbformat": 4,
  "nbformat_minor": 0,
  "metadata": {
    "colab": {
      "name": "2.8.2 Создание собственных классов.ipynb",
      "provenance": [],
      "collapsed_sections": [
        "S9ZAaIc7d0Si"
      ]
    },
    "kernelspec": {
      "name": "python3",
      "display_name": "Python 3"
    }
  },
  "cells": [
    {
      "cell_type": "markdown",
      "metadata": {
        "id": "moIM-S1g7SKx",
        "colab_type": "text"
      },
      "source": [
        "# Курс \"Python для анализа данных\"\n",
        "\n",
        "---\n",
        "#2.8.2  Создание собственных классов"
      ]
    },
    {
      "cell_type": "markdown",
      "metadata": {
        "id": "QZ1Arpnj7p_N",
        "colab_type": "text"
      },
      "source": [
        "## Где мы сейчас?\n"
      ]
    },
    {
      "cell_type": "markdown",
      "metadata": {
        "id": "J9A06fP5j1vS",
        "colab_type": "text"
      },
      "source": [
        "<html>\n",
        " <head>\n",
        "  <meta charset=\"utf-8\">\n",
        " </head>\n",
        " <body>\n",
        "  <ul>\n",
        "    <li>1. Введение в анализ данных и разработку на языке Python </li>\n",
        "    <li>2. <strong>Основы языка</strong> <i><- Вот в этой главе!</i>\n",
        "     <ul>\n",
        "      <li>2.1 - 2.6</li>\n",
        "      <li>2.7 Обработка исключений</li>\n",
        "      <li><strong>2.8 Объектно-ориентированное программирование</strong> <i><- Вот в этом параграфе!</i></li>\n",
        "      <ul>\n",
        "        <li>2.8.1 Объектно-ориентированные концепции и терминология</li>\n",
        "        <li><strong>2.8.2 Создание собственных классов</strong><i> <- Вот в этом пункте!</i></li>\n",
        "        <li>2.8.3 Объектно-ориентированное программирование как ключевой элемент языка Python</li>\n",
        "       </ul>\n",
        "      <li>2.9 Обзор стандартной библиотеки языка Python</li>\n",
        "     </ul>\n",
        "    </li>   \n",
        "  </ul>\n",
        " </body>\n",
        "</html>"
      ]
    },
    {
      "cell_type": "markdown",
      "metadata": {
        "id": "z1oJmp_4Po8K",
        "colab_type": "text"
      },
      "source": [
        "## О чем будем говорить?\n"
      ]
    },
    {
      "cell_type": "markdown",
      "metadata": {
        "id": "7X4Wlpraj7Yw",
        "colab_type": "text"
      },
      "source": [
        "О том, как главные концепции объектно-ориентированного программирования: наследование, полиморфизм, инкапсуляция - реализуются в Python."
      ]
    },
    {
      "cell_type": "markdown",
      "metadata": {
        "id": "NhfVXiTGAkND",
        "colab_type": "text"
      },
      "source": [
        "## Ключевые слова, понятия и выражения\n",
        "\n",
        "\n",
        "\n",
        "\n"
      ]
    },
    {
      "cell_type": "markdown",
      "metadata": {
        "id": "ixnuL5V2rZtz",
        "colab_type": "text"
      },
      "source": [
        "*   полиморфизм\n",
        "*   наследование\n",
        "*   инкапсуляция\n",
        "\n"
      ]
    },
    {
      "cell_type": "markdown",
      "metadata": {
        "id": "H1MGw-jK3t_v",
        "colab_type": "text"
      },
      "source": [
        "## Материал"
      ]
    },
    {
      "cell_type": "markdown",
      "metadata": {
        "id": "UXtnatx8f4Z5",
        "colab_type": "text"
      },
      "source": [
        "### Постановка задачи для реализации"
      ]
    },
    {
      "cell_type": "markdown",
      "metadata": {
        "id": "BYdEPUUNf8qO",
        "colab_type": "text"
      },
      "source": [
        "Представим, что мы в команде разработчиков движка компьютерной игры. Было принято решение использовать объектно-ориентированный подход для его создания. Самым крупным классом решили сделать игру - class Game. В рамках этого класса должны появиться подклассы юнитов(class Unit), предметов(class Objects), оружия(class Weapon) и т.д. \n",
        "![alt text](https://drive.google.com/uc?id=1uCZiWZEW8XVwOpF8R0Df8V-gFyB-y54N)\n",
        "\n",
        "Нашей группе досталось проработать архитектуру класса оружия(class Weapon).\n",
        "\n",
        "![alt text](https://drive.google.com/uc?id=1-xcd4aq0F2S-4eTueIeQSoe3oPX0uR2h)"
      ]
    },
    {
      "cell_type": "markdown",
      "metadata": {
        "id": "C6lSm3fh2rEf",
        "colab_type": "text"
      },
      "source": [
        "### Объектно-ориентированное программирование: полиморфизм, наследование, инкапсуляция\n",
        "\n"
      ]
    },
    {
      "cell_type": "markdown",
      "metadata": {
        "id": "vgyvhqvI24Ob",
        "colab_type": "text"
      },
      "source": [
        "#### Наследование"
      ]
    },
    {
      "cell_type": "markdown",
      "metadata": {
        "id": "ndpGjGWdAE1w",
        "colab_type": "text"
      },
      "source": [
        "Создадим крупный класс Weapon и сделаем класс Gun подклассом общего класса Weapon."
      ]
    },
    {
      "cell_type": "code",
      "metadata": {
        "id": "-iRgoLLPa570",
        "colab_type": "code",
        "colab": {}
      },
      "source": [
        "# Родительский класс оружие с базовыми методами\n",
        "class Weapon:\n",
        "  weapon_counts = 0\n",
        "  # конструктор \n",
        "  def __init__(self):\n",
        "    Weapon.weapon_counts += 1\n",
        "    print('Now you have {}(s)'.format(Weapon.weapon_counts))\n",
        "  # метод выстрела\n",
        "  def shoot(self):\n",
        "    print(\"shoot!shoot!shoot!\")\n",
        "  # метод перезарядки оружия\n",
        "  def reload_the_weapon(self):\n",
        "    print('Reload a weapon!')\n",
        "\n",
        "# Произвольный класс Gun, который наследует функционал класса Weapon\n",
        "class Gun(Weapon):\n",
        "  # конструктор\n",
        "  def __init__(self, gun_type, magazine, silencer=None):\n",
        "    Weapon.weapon_counts += 1\n",
        "    self.gun_type = gun_type\n",
        "    self.magazine = magazine\n",
        "    if type(silencer) == dict:\n",
        "      self.silencer = silencer\n",
        "    else:\n",
        "      self.silencer = {'put_on':False, 'have_it':False}\n",
        "  \n",
        "  # метод одевания глушителя\n",
        "  def put_silencer(self):\n",
        "    if self.silencer['have_it'] and not self.silencer['put_on']:\n",
        "      self.silencer['put_on'] = True \n",
        "      print('Put on the gun silencer!')\n",
        "    elif not self.silencer['have_it']:\n",
        "      print('Have not silencer!')"
      ],
      "execution_count": 0,
      "outputs": []
    },
    {
      "cell_type": "code",
      "metadata": {
        "id": "vC7fMyqCdqqB",
        "colab_type": "code",
        "outputId": "e5101a42-c4e7-401d-bbaa-2a1b0c8fcd32",
        "colab": {
          "base_uri": "https://localhost:8080/",
          "height": 108
        }
      },
      "source": [
        "# Попробуем пострелять!\n",
        "found_gun = Gun('Colt', 10, silencer={'put_on':False, 'have_it':True})\n",
        "found_gun.put_silencer()\n",
        "print(found_gun.silencer)\n",
        "\n",
        "found_gun.shoot()\n",
        "found_gun.shoot()\n",
        "\n",
        "found_gun.reload_the_weapon()\n"
      ],
      "execution_count": 0,
      "outputs": [
        {
          "output_type": "stream",
          "text": [
            "Put on the gun silencer!\n",
            "{'put_on': True, 'have_it': True}\n",
            "shoot!shoot!shoot!\n",
            "shoot!shoot!shoot!\n",
            "Reload a weapon!\n"
          ],
          "name": "stdout"
        }
      ]
    },
    {
      "cell_type": "markdown",
      "metadata": {
        "id": "yfgp8jzmw5K4",
        "colab_type": "text"
      },
      "source": [
        "#### Полиморфизм"
      ]
    },
    {
      "cell_type": "markdown",
      "metadata": {
        "id": "Ie4rprMnZaC3",
        "colab_type": "text"
      },
      "source": [
        "Давайте поменяем выстрел из Gun, сделаем его характерным для данного типа оружия."
      ]
    },
    {
      "cell_type": "code",
      "metadata": {
        "id": "6j3MfMESefC-",
        "colab_type": "code",
        "colab": {}
      },
      "source": [
        "# Родительский класс оружие с базовыми методами\n",
        "class Weapon:\n",
        "  weapon_counts = 0\n",
        "  # конструктор \n",
        "  def __init__(self):\n",
        "    Weapon.weapon_counts += 1\n",
        "    print('Now you have {}(s)'.format(Weapon.weapon_counts))\n",
        "  # метод выстрела\n",
        "  def shoot(self):\n",
        "    print(\"shoot!shoot!shoot!\")\n",
        "  # метод перезарядки оружия\n",
        "  def reload_the_weapon(self):\n",
        "    print('Reload a weapon!')\n",
        "\n",
        "# Произвольный класс Gun, который наследует функционал класса Weapon\n",
        "class Gun(Weapon):\n",
        "  # конструктор\n",
        "  def __init__(self, gun_type, magazine, silencer=None):\n",
        "    Weapon.weapon_counts += 1\n",
        "    self.gun_type = gun_type\n",
        "    self.magazine = magazine\n",
        "    if type(silencer) == dict:\n",
        "      self.silencer = silencer\n",
        "    else:\n",
        "      self.silencer = {'put_on':False, 'have_it':False}\n",
        "  \n",
        "  # метод одевания глушителя\n",
        "  def put_silencer(self):\n",
        "    if self.silencer['have_it'] and not self.silencer['put_on']:\n",
        "      self.silencer['put_on'] = True \n",
        "      print('Put on the gun silencer!')\n",
        "    elif not self.silencer['have_it']:\n",
        "      print('Have not silencer!')\n",
        "\n",
        "  # Переопределяем метод выстрела\n",
        "  def shoot(self):\n",
        "    print(\"sht!sht!sht!puph!\")"
      ],
      "execution_count": 0,
      "outputs": []
    },
    {
      "cell_type": "code",
      "metadata": {
        "id": "zYpkI8V3e_mG",
        "colab_type": "code",
        "outputId": "5e4f3721-5136-4aec-c083-e3e05fbaf886",
        "colab": {
          "base_uri": "https://localhost:8080/",
          "height": 108
        }
      },
      "source": [
        "# Попробуем пострелять!\n",
        "found_gun = Gun('Colt', 10, silencer={'put_on':False, 'have_it':True})\n",
        "found_gun.put_silencer()\n",
        "print(found_gun.silencer)\n",
        "\n",
        "found_gun.shoot()\n",
        "found_gun.shoot()\n",
        "\n",
        "found_gun.reload_the_weapon()"
      ],
      "execution_count": 0,
      "outputs": [
        {
          "output_type": "stream",
          "text": [
            "Put on the gun silencer!\n",
            "{'put_on': True, 'have_it': True}\n",
            "sht!sht!sht!puph!\n",
            "sht!sht!sht!puph!\n",
            "Reload a weapon!\n"
          ],
          "name": "stdout"
        }
      ]
    },
    {
      "cell_type": "code",
      "metadata": {
        "id": "7SD_MdgjfLeK",
        "colab_type": "code",
        "outputId": "dd168aee-9e47-4b7f-e272-9cb73e5c01b6",
        "colab": {
          "base_uri": "https://localhost:8080/",
          "height": 53
        }
      },
      "source": [
        "found_weapon = Weapon()\n",
        "found_weapon.shoot()"
      ],
      "execution_count": 0,
      "outputs": [
        {
          "output_type": "stream",
          "text": [
            "Now you have 2(s)\n",
            "shoot!shoot!shoot!\n"
          ],
          "name": "stdout"
        }
      ]
    },
    {
      "cell_type": "markdown",
      "metadata": {
        "id": "B0C9lAgrw-0I",
        "colab_type": "text"
      },
      "source": [
        "#### Инкапсуляция "
      ]
    },
    {
      "cell_type": "markdown",
      "metadata": {
        "id": "wm-MU1yhZgph",
        "colab_type": "text"
      },
      "source": [
        "Предположим, что мы не хотим, чтобы какой-то атрибут был доступен вне класса. Например, доступ к типу нашего оружия."
      ]
    },
    {
      "cell_type": "code",
      "metadata": {
        "id": "aBk42GYXfhza",
        "colab_type": "code",
        "colab": {}
      },
      "source": [
        "  def __init__(self):\n",
        "    Weapon._weapon_counts += 1\n",
        "    print('Now you have {}(s)'.format(Weapon._weapon_counts))"
      ],
      "execution_count": 0,
      "outputs": []
    },
    {
      "cell_type": "markdown",
      "metadata": {
        "id": "S9ZAaIc7d0Si",
        "colab_type": "text"
      },
      "source": [
        "## За рамками материала"
      ]
    },
    {
      "cell_type": "markdown",
      "metadata": {
        "id": "8T-AFlP0gRsC",
        "colab_type": "text"
      },
      "source": [
        "*    Взаимодействие между подклассами\n",
        "*    Полная проработка функционала и тестирование\n",
        "*    Интеграция подклассаа в наследуемый класс\n",
        "\n"
      ]
    },
    {
      "cell_type": "markdown",
      "metadata": {
        "id": "5F_hHKVTNzia",
        "colab_type": "text"
      },
      "source": [
        "## Дополнительные материалы и литература"
      ]
    },
    {
      "cell_type": "markdown",
      "metadata": {
        "id": "YWhDk5dJN8NC",
        "colab_type": "text"
      },
      "source": [
        "\n",
        "\n",
        "*   Саммерфилд М., Программирование на Python 3. Подробное руководство. - Пер. с англ. - СПб.: Символ-Плюс, 2009. - 608 с, ил., ISBN: 978-5-93286-161-5 С. 273.\n",
        "*   https://proglib.io/p/python-oop/\n",
        "\n"
      ]
    }
  ]
}