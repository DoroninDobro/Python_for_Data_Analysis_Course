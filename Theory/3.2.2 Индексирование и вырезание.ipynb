{
  "nbformat": 4,
  "nbformat_minor": 0,
  "metadata": {
    "colab": {
      "name": "3.2.2 Индексирование и вырезание.ipynb",
      "provenance": [],
      "collapsed_sections": []
    },
    "kernelspec": {
      "name": "python3",
      "display_name": "Python 3"
    }
  },
  "cells": [
    {
      "cell_type": "markdown",
      "metadata": {
        "id": "moIM-S1g7SKx",
        "colab_type": "text"
      },
      "source": [
        "# Курс \"Python для анализа данных\"\n",
        "\n",
        "---\n",
        "#3.2.2 Индексирование и вырезание"
      ]
    },
    {
      "cell_type": "markdown",
      "metadata": {
        "id": "QZ1Arpnj7p_N",
        "colab_type": "text"
      },
      "source": [
        "## Где мы сейчас?\n"
      ]
    },
    {
      "cell_type": "markdown",
      "metadata": {
        "id": "J9A06fP5j1vS",
        "colab_type": "text"
      },
      "source": [
        "<html>\n",
        " <head>\n",
        "  <meta charset=\"utf-8\">\n",
        " </head>\n",
        " <body>\n",
        "  <ul>\n",
        "    <li>1. Введение в анализ данных и разработку на языке Python </li> <!-2.1->\n",
        "    <li>2. Основы языка </li> <!-2.1->\n",
        "    <li>3. <strong>Библиотеки NumPy и SciPy для решения задач анализа данных и машинного обучения</strong> <i><- Вот в этой главе!</i>\n",
        "     <ul>\n",
        "      <li>3.1 Математические дисциплины в анализе данных и машинном обучении</li>      \n",
        "      <li><strong>3.2 Основной объект NumPy ndarray</strong> <i><- Вот в этом параграфе!</i></li>\n",
        "       <ul>\n",
        "        <li>3.2.1 Быстрые поэлементные операции над массивами\n",
        "        <li><strong>3.2.2 Индексирование и вырезание</strong><i> <- Вот в этом пункте!</i></li></li>\n",
        "        <li>3.2.3 Уход от циклов: обработка данных с применением массивов</li>\n",
        "        <li>3.2.4 Математические и статистические операции</li>\n",
        "        <li>3.2.5 Файловый ввод-вывод массивов</li>\n",
        "       </ul>\n",
        "      <li>3.3 Библиотека SciPy</li>\n",
        "     </ul>\n",
        "    </li>   \n",
        "  </ul>\n",
        " </body>\n",
        "</html>"
      ]
    },
    {
      "cell_type": "markdown",
      "metadata": {
        "id": "z1oJmp_4Po8K",
        "colab_type": "text"
      },
      "source": [
        "## О чем будем говорить?\n"
      ]
    },
    {
      "cell_type": "markdown",
      "metadata": {
        "id": "7X4Wlpraj7Yw",
        "colab_type": "text"
      },
      "source": [
        "О том, как обращаться к данным в массиве ```ndarray``` по индексу и получать некоторое подмножество его значений с использованием операции среза данных."
      ]
    },
    {
      "cell_type": "markdown",
      "metadata": {
        "id": "NhfVXiTGAkND",
        "colab_type": "text"
      },
      "source": [
        "## Ключевые слова, понятия и выражения\n",
        "\n",
        "\n",
        "\n",
        "\n"
      ]
    },
    {
      "cell_type": "markdown",
      "metadata": {
        "id": "ixnuL5V2rZtz",
        "colab_type": "text"
      },
      "source": [
        "*    ```ndarray```\n",
        "*    индексирование\n",
        "*    срез   "
      ]
    },
    {
      "cell_type": "markdown",
      "metadata": {
        "id": "2lFBeeLHjcc7",
        "colab_type": "text"
      },
      "source": [
        "## Материал"
      ]
    },
    {
      "cell_type": "markdown",
      "metadata": {
        "id": "VlZHLxIYR6yW",
        "colab_type": "text"
      },
      "source": [
        "### Индексирование"
      ]
    },
    {
      "cell_type": "markdown",
      "metadata": {
        "id": "_LmaOrBYShXx",
        "colab_type": "text"
      },
      "source": [
        "Индексирование одномерных массивов ```ndarray``` осуществляется в точности как и обыкновенных ```list```. Для двумерных массивов можно в качестве дополнительного пояснения рассмотреть следующую картинку:\n",
        "\n",
        "![alt text](https://drive.google.com/uc?id=1_eVlCkFsQv-vrDVn6pP3a-44uCZqUsAa)"
      ]
    },
    {
      "cell_type": "code",
      "metadata": {
        "id": "mdxyFF_GR9eK",
        "colab_type": "code",
        "colab": {}
      },
      "source": [
        "import numpy as np\n",
        "arr = np.arange(10)\n",
        "print('Исходный массив\\n',arr)\n",
        "print('Элемент с индексом 5:',arr[5])\n",
        "print('Последний элемент:',arr[-1])"
      ],
      "execution_count": 0,
      "outputs": []
    },
    {
      "cell_type": "code",
      "metadata": {
        "id": "SVSFCMyZT1mV",
        "colab_type": "code",
        "colab": {}
      },
      "source": [
        "arr2d = np.array([[1, 2, 3], [4, 5, 6], [7, 8, 9]])\n",
        "print('Исходный массив\\n',arr2d)\n",
        "print('Элемент 2 строки 0 столбца:', arr2d[2][0])\n",
        "print('Элемент 2 строки 0 столбца:', arr2d[2,0])\n",
        "print('Cтрока 0:', arr2d[0])"
      ],
      "execution_count": 0,
      "outputs": []
    },
    {
      "cell_type": "markdown",
      "metadata": {
        "id": "BKIyxyHWR98R",
        "colab_type": "text"
      },
      "source": [
        "### Срез"
      ]
    },
    {
      "cell_type": "markdown",
      "metadata": {
        "id": "WoUfVTsiVaAd",
        "colab_type": "text"
      },
      "source": [
        "Операции среза также выполнены по аналогии со списками, но важно помнить, что срез ```ndarray``` не является копией массива, а только его представлением. Некоторые конфигурации срезов представлены на картинке ниже:\n",
        "\n",
        "![alt text](https://drive.google.com/uc?id=1cQpyJFuS06F8bo1ulYOdPhDyybOVW5WO)"
      ]
    },
    {
      "cell_type": "code",
      "metadata": {
        "id": "gDIwg2ljR_15",
        "colab_type": "code",
        "colab": {}
      },
      "source": [
        "arr = np.arange(10)\n",
        "print('Исходный массив:',arr[:])\n",
        "print('Элементы с индексами от 5 до 8:',arr[5:9])\n",
        "print('Элементы с индексами до 8:',arr[:9])\n",
        "print('Элементы с индексами до 8:',arr[0:9])\n",
        "print('Элементы с индексами до 8:',arr[0:-1])\n",
        "print('Последний элемент:',arr[-1:])"
      ],
      "execution_count": 0,
      "outputs": []
    },
    {
      "cell_type": "code",
      "metadata": {
        "id": "ilN-KQ0qfJxC",
        "colab_type": "code",
        "colab": {}
      },
      "source": [
        "arr2d = np.array([[1, 2, 3], [4, 5, 6], [7, 8, 9]])\n",
        "print('Исходный массив:\\n',arr2d[:,:])\n",
        "print('Все строки кроме первой:\\n', arr2d[1:])\n",
        "print('Все строки кроме первой:\\n', arr2d[1:,:])\n",
        "print('Все столбцы кроме последнего:\\n', arr2d[:,:-1])\n",
        "print('Квадратная подматрица в верхнем правом углу:\\n', arr2d[:2,1:])"
      ],
      "execution_count": 0,
      "outputs": []
    },
    {
      "cell_type": "markdown",
      "metadata": {
        "id": "O9j4HXuPgcrj",
        "colab_type": "text"
      },
      "source": [
        "### Булева индексация"
      ]
    },
    {
      "cell_type": "code",
      "metadata": {
        "id": "mFxK3j6pgUub",
        "colab_type": "code",
        "colab": {}
      },
      "source": [
        "print('Применение поэлементных логических операций:')\n",
        "bool_mask = (arr2d > 2) & (arr2d < 8) \n",
        "print(bool_mask)"
      ],
      "execution_count": 0,
      "outputs": []
    },
    {
      "cell_type": "code",
      "metadata": {
        "id": "laII6QlCh60A",
        "colab_type": "code",
        "colab": {}
      },
      "source": [
        "print(\"Выбор элементов, удовлетворяющих условию:\")\n",
        "arr2d[bool_mask]"
      ],
      "execution_count": 0,
      "outputs": []
    },
    {
      "cell_type": "code",
      "metadata": {
        "id": "XccvvqJZiJgY",
        "colab_type": "code",
        "colab": {}
      },
      "source": [
        "print(\"Замена элементов, не удовлетворяющих условию:\")\n",
        "arr2d_cut = arr2d.copy()\n",
        "arr2d_cut[~bool_mask] = 3\n",
        "print('* при использовании булевой индексации:')\n",
        "print(arr2d_cut)\n",
        "\n",
        "print('* при использовании функции np.where():')\n",
        "print(np.where(bool_mask, arr2d, 3))"
      ],
      "execution_count": 0,
      "outputs": []
    },
    {
      "cell_type": "markdown",
      "metadata": {
        "id": "f8BpkksEglvX",
        "colab_type": "text"
      },
      "source": [
        "### \"Прихотливое\" индексирование"
      ]
    },
    {
      "cell_type": "markdown",
      "metadata": {
        "id": "mM62TDZdkBIs",
        "colab_type": "text"
      },
      "source": [
        "\"Прихотливое\" индексирование - индексирование с помощью целочисленных массивов."
      ]
    },
    {
      "cell_type": "code",
      "metadata": {
        "id": "TMWUW1GC6RI3",
        "colab_type": "code",
        "colab": {}
      },
      "source": [
        "np.random.seed(1000) # Для воспроизводимости результатов"
      ],
      "execution_count": 0,
      "outputs": []
    },
    {
      "cell_type": "code",
      "metadata": {
        "id": "oNT18Thlj_8V",
        "colab_type": "code",
        "colab": {}
      },
      "source": [
        "arr = np.random.randint(5, size=(10, 10))\n",
        "print('Исходная матрица:\\n', arr)"
      ],
      "execution_count": 0,
      "outputs": []
    },
    {
      "cell_type": "code",
      "metadata": {
        "id": "Bc0W3s1qkVOB",
        "colab_type": "code",
        "colab": {}
      },
      "source": [
        "print('Подвыборка из строк 1,3,4,8:')\n",
        "arr[[1,3,4,8]]"
      ],
      "execution_count": 0,
      "outputs": []
    },
    {
      "cell_type": "code",
      "metadata": {
        "id": "zwCVEi89lJRG",
        "colab_type": "code",
        "colab": {}
      },
      "source": [
        "print('Подвыборка из столбцов 1,3,4,8:')\n",
        "arr[:,[1,3,4,8]]"
      ],
      "execution_count": 0,
      "outputs": []
    },
    {
      "cell_type": "code",
      "metadata": {
        "id": "8AdN_a6Flb8o",
        "colab_type": "code",
        "colab": {}
      },
      "source": [
        "print('Подвыборка элементов, стоящих на пересечении соответствующих  строк и столбцов с номерами 1,3,4,8:')\n",
        "arr[[1,3,4,8],[1,3,4,8]]"
      ],
      "execution_count": 0,
      "outputs": []
    },
    {
      "cell_type": "markdown",
      "metadata": {
        "id": "5F_hHKVTNzia",
        "colab_type": "text"
      },
      "source": [
        "## Дополнительные материалы и литература"
      ]
    },
    {
      "cell_type": "markdown",
      "metadata": {
        "id": "YWhDk5dJN8NC",
        "colab_type": "text"
      },
      "source": [
        "\n",
        "\n",
        "*   Уэс Маккинли, Python и анализ данных/ Пер. с англ. Слинкин А. А. - М.: ДМК Пресс, 2015. - 482 с.: ил. C. 100"
      ]
    }
  ]
}