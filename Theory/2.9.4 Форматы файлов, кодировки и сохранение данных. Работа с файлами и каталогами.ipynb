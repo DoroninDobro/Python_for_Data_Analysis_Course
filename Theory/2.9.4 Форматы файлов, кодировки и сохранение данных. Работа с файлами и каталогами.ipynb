{
  "nbformat": 4,
  "nbformat_minor": 0,
  "metadata": {
    "colab": {
      "name": "2.9.4 Форматы файлов, кодировки и сохранение данных. Работа с файлами и каталогами.ipynb",
      "provenance": [],
      "collapsed_sections": [
        "S9ZAaIc7d0Si"
      ]
    },
    "kernelspec": {
      "name": "python3",
      "display_name": "Python 3"
    }
  },
  "cells": [
    {
      "cell_type": "markdown",
      "metadata": {
        "id": "moIM-S1g7SKx",
        "colab_type": "text"
      },
      "source": [
        "# Курс \"Python для анализа данных\"\n",
        "\n",
        "---\n",
        "#2.9.4 Форматы файлов, кодировки и сохранение данных. Работа с файлами и каталогами"
      ]
    },
    {
      "cell_type": "markdown",
      "metadata": {
        "id": "QZ1Arpnj7p_N",
        "colab_type": "text"
      },
      "source": [
        "## Где мы сейчас?\n"
      ]
    },
    {
      "cell_type": "markdown",
      "metadata": {
        "id": "J9A06fP5j1vS",
        "colab_type": "text"
      },
      "source": [
        "<html>\n",
        " <head>\n",
        "  <meta charset=\"utf-8\">\n",
        " </head>\n",
        " <body>\n",
        "  <ul>\n",
        "    <li>1. Введение в анализ данных и разработку на языке Python </li>\n",
        "    <li>2. <strong>Основы языка</strong> <i><- Вот в этой главе!</i>\n",
        "     <ul>\n",
        "      <li>2.1 - 2.7</li>\n",
        "      <li>2.8 Объектно-ориентированное программирование</li>\n",
        "      <li><strong>2.9 Обзор стандартной библиотеки языка Python</strong> <i><- Вот в этом параграфе!</i></li>\n",
        "       <ul>\n",
        "        <li>2.9.1 Математические вычисления и числа, алгоритмы и типы коллекций</li>\n",
        "        <li>2.9.2 Работа с аргументами командной строки, время и дата</li>\n",
        "        <li>2.9.3 Обработка строк, регулярные выражения</li>\n",
        "        <li><strong>2.9.4 Форматы файлов, кодировки и сохранение данных. Работа с файлами и каталогами</strong><i> <- Вот в этом пункте!</i></li>\n",
        "       </ul>\n",
        "     </ul>\n",
        "    </li>   \n",
        "  </ul>\n",
        " </body>\n",
        "</html>"
      ]
    },
    {
      "cell_type": "markdown",
      "metadata": {
        "id": "z1oJmp_4Po8K",
        "colab_type": "text"
      },
      "source": [
        "## О чем будем говорить?\n"
      ]
    },
    {
      "cell_type": "markdown",
      "metadata": {
        "id": "7X4Wlpraj7Yw",
        "colab_type": "text"
      },
      "source": [
        "О наиболее распространенных типах файлов для хранения данных в разных формах и кодировках. Также познакомимся со средствами стандартной библиотеки для работы с каталогами и файлами.\n"
      ]
    },
    {
      "cell_type": "markdown",
      "metadata": {
        "id": "NhfVXiTGAkND",
        "colab_type": "text"
      },
      "source": [
        "## Ключевые слова, понятия и выражения\n",
        "\n",
        "\n",
        "\n",
        "\n"
      ]
    },
    {
      "cell_type": "markdown",
      "metadata": {
        "id": "ixnuL5V2rZtz",
        "colab_type": "text"
      },
      "source": [
        "*   файл\n",
        "*   директория\n",
        "*   типы ```txt, json, pickle```\n",
        "*   кодировки ```UTF-8, UTF-16, Windows-1251```\n",
        "*   модули ```os, sys```\n",
        "\n"
      ]
    },
    {
      "cell_type": "markdown",
      "metadata": {
        "id": "H1MGw-jK3t_v",
        "colab_type": "text"
      },
      "source": [
        "## Материал"
      ]
    },
    {
      "cell_type": "markdown",
      "metadata": {
        "id": "jCpCLwgMhmDk",
        "colab_type": "text"
      },
      "source": [
        "### Типы файлов и кодировок"
      ]
    },
    {
      "cell_type": "markdown",
      "metadata": {
        "id": "KSOfrwjB5FnG",
        "colab_type": "text"
      },
      "source": [
        "#### Встроенный метод ```open```"
      ]
    },
    {
      "cell_type": "markdown",
      "metadata": {
        "id": "mULGR-l9tj_i",
        "colab_type": "text"
      },
      "source": [
        "Режимы открытия файлов с помощью встроенной функции ```open```.\n",
        "\n",
        "![alt text](https://drive.google.com/uc?id=1RsVkilFsZZ_CUVu7S7vTNVIdTjwF_rIX)"
      ]
    },
    {
      "cell_type": "code",
      "metadata": {
        "colab_type": "code",
        "id": "2Q9h4B7kbtmp",
        "colab": {}
      },
      "source": [
        "# Создадим файл\n",
        "f = open('Hello.txt', 'w')\n",
        "f.close()"
      ],
      "execution_count": 0,
      "outputs": []
    },
    {
      "cell_type": "code",
      "metadata": {
        "colab_type": "code",
        "id": "MyC5I7sVbtaP",
        "outputId": "e0df0897-5b38-4c17-cb89-eecba81d003c",
        "colab": {
          "base_uri": "https://localhost:8080/",
          "height": 35
        }
      },
      "source": [
        "# Проверим, что в директории\n",
        "!ls"
      ],
      "execution_count": 0,
      "outputs": [
        {
          "output_type": "stream",
          "text": [
            "Hello.txt  sample_data\n"
          ],
          "name": "stdout"
        }
      ]
    },
    {
      "cell_type": "code",
      "metadata": {
        "colab_type": "code",
        "id": "aovaKiaGbtNX",
        "colab": {}
      },
      "source": [
        "# Допишем некоторую информацию в файл\n",
        "f = open('Hello.txt', 'w')\n",
        "f.write('Hello world!')\n",
        "f.close()"
      ],
      "execution_count": 0,
      "outputs": []
    },
    {
      "cell_type": "code",
      "metadata": {
        "colab_type": "code",
        "id": "fyT5lPsZbtAj",
        "outputId": "efaa2b4e-8730-4fcc-82d1-00d4edf958cb",
        "colab": {
          "base_uri": "https://localhost:8080/",
          "height": 235
        }
      },
      "source": [
        "# Считаем информацию из файла\n",
        "f = open('Hello.txt', 'r')\n",
        "data = f.read()\n",
        "f.close()\n",
        "\n",
        "print(data)"
      ],
      "execution_count": 0,
      "outputs": [
        {
          "output_type": "stream",
          "text": [
            "0\n",
            "1\n",
            "2\n",
            "3\n",
            "4\n",
            "5\n",
            "6\n",
            "7\n",
            "8\n",
            "9\n",
            "10\n",
            "\n"
          ],
          "name": "stdout"
        }
      ]
    },
    {
      "cell_type": "code",
      "metadata": {
        "colab_type": "code",
        "id": "4JFQBJP7bs0i",
        "colab": {}
      },
      "source": [
        "# Перезапишем файл\n",
        "f = open('Hello.txt', 'w')\n",
        "for i in range(5): \n",
        "  f.write(str(i) + '\\n')\n",
        "f.close()"
      ],
      "execution_count": 0,
      "outputs": []
    },
    {
      "cell_type": "code",
      "metadata": {
        "colab_type": "code",
        "id": "G27stJZXbsoL",
        "outputId": "970e2261-8354-4202-cf03-e0ebf9ff5f5d",
        "colab": {
          "base_uri": "https://localhost:8080/",
          "height": 217
        }
      },
      "source": [
        "# Прочитаем файл построчно\n",
        "f = open('Hello.txt', 'r')\n",
        "for line in f:\n",
        "  print(line)\n",
        "f.close()\n"
      ],
      "execution_count": 0,
      "outputs": [
        {
          "output_type": "stream",
          "text": [
            "0\n",
            "\n",
            "1\n",
            "\n",
            "2\n",
            "\n",
            "3\n",
            "\n",
            "4\n",
            "\n",
            "Привет всем!\n"
          ],
          "name": "stdout"
        }
      ]
    },
    {
      "cell_type": "code",
      "metadata": {
        "colab_type": "code",
        "id": "Mbd_uYfobsaN",
        "colab": {}
      },
      "source": [
        "# Допишем файл\n",
        "f = open('Hello.txt', 'a')\n",
        "for i in range(5,11): \n",
        "  f.write(str(i) + '\\n')\n",
        "f.close()"
      ],
      "execution_count": 0,
      "outputs": []
    },
    {
      "cell_type": "code",
      "metadata": {
        "colab_type": "code",
        "id": "jaciRza4br0T",
        "colab": {}
      },
      "source": [
        "# Дозапишем файл с русскими буквами\n",
        "f = open('Hello.txt', 'a')\n",
        "f.write('Привет всем!')\n",
        "f.close()"
      ],
      "execution_count": 0,
      "outputs": []
    },
    {
      "cell_type": "markdown",
      "metadata": {
        "id": "P3tFizYK_e4S",
        "colab_type": "text"
      },
      "source": [
        "#### Кодировки"
      ]
    },
    {
      "cell_type": "code",
      "metadata": {
        "colab_type": "code",
        "outputId": "785b1d63-bec8-4fda-c9c8-8a957f153c84",
        "id": "xXT638L-brqw",
        "colab": {
          "base_uri": "https://localhost:8080/",
          "height": 126
        }
      },
      "source": [
        "# Читаем в различной кодировке \n",
        "# UTF-8\n",
        "f = open('Hello.txt','r',encoding='utf-8')\n",
        "data=f.read()\n",
        "f.close()\n",
        "print(data)"
      ],
      "execution_count": 0,
      "outputs": [
        {
          "output_type": "stream",
          "text": [
            "0\n",
            "1\n",
            "2\n",
            "3\n",
            "4\n",
            "Привет всем!\n"
          ],
          "name": "stdout"
        }
      ]
    },
    {
      "cell_type": "code",
      "metadata": {
        "colab_type": "code",
        "outputId": "e1b40902-8061-470a-d1ea-ad81522d7a24",
        "id": "CjAGu3R0breN",
        "colab": {
          "base_uri": "https://localhost:8080/",
          "height": 126
        }
      },
      "source": [
        "# cp1251\n",
        "f = open('Hello.txt','r',encoding='cp1251')\n",
        "data=f.read()\n",
        "f.close()\n",
        "print(data)"
      ],
      "execution_count": 0,
      "outputs": [
        {
          "output_type": "stream",
          "text": [
            "0\n",
            "1\n",
            "2\n",
            "3\n",
            "4\n",
            "РџСЂРёРІРµС‚ РІСЃРµРј!\n"
          ],
          "name": "stdout"
        }
      ]
    },
    {
      "cell_type": "code",
      "metadata": {
        "colab_type": "code",
        "outputId": "a9218420-a70d-47c9-a90c-2d0886dbdcbb",
        "id": "KCn3SXTYbqyF",
        "colab": {
          "base_uri": "https://localhost:8080/",
          "height": 376
        }
      },
      "source": [
        "# UTF-16\n",
        "f = open('Hello.txt','r',encoding='utf-16')\n",
        "data=f.read()\n",
        "f.close()\n",
        "print(data)"
      ],
      "execution_count": 0,
      "outputs": [
        {
          "output_type": "error",
          "ename": "UnicodeError",
          "evalue": "ignored",
          "traceback": [
            "\u001b[0;31m---------------------------------------------------------------------------\u001b[0m",
            "\u001b[0;31mUnicodeError\u001b[0m                              Traceback (most recent call last)",
            "\u001b[0;32m<ipython-input-23-7e8369a399cd>\u001b[0m in \u001b[0;36m<module>\u001b[0;34m()\u001b[0m\n\u001b[1;32m      1\u001b[0m \u001b[0mf\u001b[0m \u001b[0;34m=\u001b[0m \u001b[0mopen\u001b[0m\u001b[0;34m(\u001b[0m\u001b[0;34m'Hello.txt'\u001b[0m\u001b[0;34m,\u001b[0m\u001b[0;34m'r'\u001b[0m\u001b[0;34m,\u001b[0m\u001b[0mencoding\u001b[0m\u001b[0;34m=\u001b[0m\u001b[0;34m'utf-16'\u001b[0m\u001b[0;34m)\u001b[0m\u001b[0;34m\u001b[0m\u001b[0;34m\u001b[0m\u001b[0m\n\u001b[0;32m----> 2\u001b[0;31m \u001b[0mdata\u001b[0m\u001b[0;34m=\u001b[0m\u001b[0mf\u001b[0m\u001b[0;34m.\u001b[0m\u001b[0mread\u001b[0m\u001b[0;34m(\u001b[0m\u001b[0;34m)\u001b[0m\u001b[0;34m\u001b[0m\u001b[0;34m\u001b[0m\u001b[0m\n\u001b[0m\u001b[1;32m      3\u001b[0m \u001b[0mf\u001b[0m\u001b[0;34m.\u001b[0m\u001b[0mclose\u001b[0m\u001b[0;34m(\u001b[0m\u001b[0;34m)\u001b[0m\u001b[0;34m\u001b[0m\u001b[0;34m\u001b[0m\u001b[0m\n\u001b[1;32m      4\u001b[0m \u001b[0mprint\u001b[0m\u001b[0;34m(\u001b[0m\u001b[0mdata\u001b[0m\u001b[0;34m)\u001b[0m\u001b[0;34m\u001b[0m\u001b[0;34m\u001b[0m\u001b[0m\n",
            "\u001b[0;32m/usr/lib/python3.6/codecs.py\u001b[0m in \u001b[0;36mdecode\u001b[0;34m(self, input, final)\u001b[0m\n\u001b[1;32m    319\u001b[0m         \u001b[0;31m# decode input (taking the buffer into account)\u001b[0m\u001b[0;34m\u001b[0m\u001b[0;34m\u001b[0m\u001b[0;34m\u001b[0m\u001b[0m\n\u001b[1;32m    320\u001b[0m         \u001b[0mdata\u001b[0m \u001b[0;34m=\u001b[0m \u001b[0mself\u001b[0m\u001b[0;34m.\u001b[0m\u001b[0mbuffer\u001b[0m \u001b[0;34m+\u001b[0m \u001b[0minput\u001b[0m\u001b[0;34m\u001b[0m\u001b[0;34m\u001b[0m\u001b[0m\n\u001b[0;32m--> 321\u001b[0;31m         \u001b[0;34m(\u001b[0m\u001b[0mresult\u001b[0m\u001b[0;34m,\u001b[0m \u001b[0mconsumed\u001b[0m\u001b[0;34m)\u001b[0m \u001b[0;34m=\u001b[0m \u001b[0mself\u001b[0m\u001b[0;34m.\u001b[0m\u001b[0m_buffer_decode\u001b[0m\u001b[0;34m(\u001b[0m\u001b[0mdata\u001b[0m\u001b[0;34m,\u001b[0m \u001b[0mself\u001b[0m\u001b[0;34m.\u001b[0m\u001b[0merrors\u001b[0m\u001b[0;34m,\u001b[0m \u001b[0mfinal\u001b[0m\u001b[0;34m)\u001b[0m\u001b[0;34m\u001b[0m\u001b[0;34m\u001b[0m\u001b[0m\n\u001b[0m\u001b[1;32m    322\u001b[0m         \u001b[0;31m# keep undecoded input until the next call\u001b[0m\u001b[0;34m\u001b[0m\u001b[0;34m\u001b[0m\u001b[0;34m\u001b[0m\u001b[0m\n\u001b[1;32m    323\u001b[0m         \u001b[0mself\u001b[0m\u001b[0;34m.\u001b[0m\u001b[0mbuffer\u001b[0m \u001b[0;34m=\u001b[0m \u001b[0mdata\u001b[0m\u001b[0;34m[\u001b[0m\u001b[0mconsumed\u001b[0m\u001b[0;34m:\u001b[0m\u001b[0;34m]\u001b[0m\u001b[0;34m\u001b[0m\u001b[0;34m\u001b[0m\u001b[0m\n",
            "\u001b[0;32m/usr/lib/python3.6/encodings/utf_16.py\u001b[0m in \u001b[0;36m_buffer_decode\u001b[0;34m(self, input, errors, final)\u001b[0m\n\u001b[1;32m     65\u001b[0m                 \u001b[0mself\u001b[0m\u001b[0;34m.\u001b[0m\u001b[0mdecoder\u001b[0m \u001b[0;34m=\u001b[0m \u001b[0mcodecs\u001b[0m\u001b[0;34m.\u001b[0m\u001b[0mutf_16_be_decode\u001b[0m\u001b[0;34m\u001b[0m\u001b[0;34m\u001b[0m\u001b[0m\n\u001b[1;32m     66\u001b[0m             \u001b[0;32melif\u001b[0m \u001b[0mconsumed\u001b[0m \u001b[0;34m>=\u001b[0m \u001b[0;36m2\u001b[0m\u001b[0;34m:\u001b[0m\u001b[0;34m\u001b[0m\u001b[0;34m\u001b[0m\u001b[0m\n\u001b[0;32m---> 67\u001b[0;31m                 \u001b[0;32mraise\u001b[0m \u001b[0mUnicodeError\u001b[0m\u001b[0;34m(\u001b[0m\u001b[0;34m\"UTF-16 stream does not start with BOM\"\u001b[0m\u001b[0;34m)\u001b[0m\u001b[0;34m\u001b[0m\u001b[0;34m\u001b[0m\u001b[0m\n\u001b[0m\u001b[1;32m     68\u001b[0m             \u001b[0;32mreturn\u001b[0m \u001b[0;34m(\u001b[0m\u001b[0moutput\u001b[0m\u001b[0;34m,\u001b[0m \u001b[0mconsumed\u001b[0m\u001b[0;34m)\u001b[0m\u001b[0;34m\u001b[0m\u001b[0;34m\u001b[0m\u001b[0m\n\u001b[1;32m     69\u001b[0m         \u001b[0;32mreturn\u001b[0m \u001b[0mself\u001b[0m\u001b[0;34m.\u001b[0m\u001b[0mdecoder\u001b[0m\u001b[0;34m(\u001b[0m\u001b[0minput\u001b[0m\u001b[0;34m,\u001b[0m \u001b[0mself\u001b[0m\u001b[0;34m.\u001b[0m\u001b[0merrors\u001b[0m\u001b[0;34m,\u001b[0m \u001b[0mfinal\u001b[0m\u001b[0;34m)\u001b[0m\u001b[0;34m\u001b[0m\u001b[0;34m\u001b[0m\u001b[0m\n",
            "\u001b[0;31mUnicodeError\u001b[0m: UTF-16 stream does not start with BOM"
          ]
        }
      ]
    },
    {
      "cell_type": "code",
      "metadata": {
        "colab_type": "code",
        "outputId": "47c60163-e375-4beb-dd68-23fc5d414348",
        "id": "mSha-7d1bpdW",
        "colab": {
          "base_uri": "https://localhost:8080/",
          "height": 352
        }
      },
      "source": [
        "# ASCII\n",
        "f = open('Hello.txt','r',encoding='ASCII')\n",
        "data=f.read()\n",
        "f.close()\n",
        "print(data)"
      ],
      "execution_count": 0,
      "outputs": [
        {
          "output_type": "error",
          "ename": "UnicodeDecodeError",
          "evalue": "ignored",
          "traceback": [
            "\u001b[0;31m---------------------------------------------------------------------------\u001b[0m",
            "\u001b[0;31mUnicodeDecodeError\u001b[0m                        Traceback (most recent call last)",
            "\u001b[0;32m<ipython-input-24-284f104c0024>\u001b[0m in \u001b[0;36m<module>\u001b[0;34m()\u001b[0m\n\u001b[1;32m      1\u001b[0m \u001b[0mf\u001b[0m \u001b[0;34m=\u001b[0m \u001b[0mopen\u001b[0m\u001b[0;34m(\u001b[0m\u001b[0;34m'Hello.txt'\u001b[0m\u001b[0;34m,\u001b[0m\u001b[0;34m'r'\u001b[0m\u001b[0;34m,\u001b[0m\u001b[0mencoding\u001b[0m\u001b[0;34m=\u001b[0m\u001b[0;34m'ASCII'\u001b[0m\u001b[0;34m)\u001b[0m\u001b[0;34m\u001b[0m\u001b[0;34m\u001b[0m\u001b[0m\n\u001b[0;32m----> 2\u001b[0;31m \u001b[0mdata\u001b[0m\u001b[0;34m=\u001b[0m\u001b[0mf\u001b[0m\u001b[0;34m.\u001b[0m\u001b[0mread\u001b[0m\u001b[0;34m(\u001b[0m\u001b[0;34m)\u001b[0m\u001b[0;34m\u001b[0m\u001b[0;34m\u001b[0m\u001b[0m\n\u001b[0m\u001b[1;32m      3\u001b[0m \u001b[0mf\u001b[0m\u001b[0;34m.\u001b[0m\u001b[0mclose\u001b[0m\u001b[0;34m(\u001b[0m\u001b[0;34m)\u001b[0m\u001b[0;34m\u001b[0m\u001b[0;34m\u001b[0m\u001b[0m\n\u001b[1;32m      4\u001b[0m \u001b[0mprint\u001b[0m\u001b[0;34m(\u001b[0m\u001b[0mdata\u001b[0m\u001b[0;34m)\u001b[0m\u001b[0;34m\u001b[0m\u001b[0;34m\u001b[0m\u001b[0m\n",
            "\u001b[0;32m/usr/lib/python3.6/encodings/ascii.py\u001b[0m in \u001b[0;36mdecode\u001b[0;34m(self, input, final)\u001b[0m\n\u001b[1;32m     24\u001b[0m \u001b[0;32mclass\u001b[0m \u001b[0mIncrementalDecoder\u001b[0m\u001b[0;34m(\u001b[0m\u001b[0mcodecs\u001b[0m\u001b[0;34m.\u001b[0m\u001b[0mIncrementalDecoder\u001b[0m\u001b[0;34m)\u001b[0m\u001b[0;34m:\u001b[0m\u001b[0;34m\u001b[0m\u001b[0;34m\u001b[0m\u001b[0m\n\u001b[1;32m     25\u001b[0m     \u001b[0;32mdef\u001b[0m \u001b[0mdecode\u001b[0m\u001b[0;34m(\u001b[0m\u001b[0mself\u001b[0m\u001b[0;34m,\u001b[0m \u001b[0minput\u001b[0m\u001b[0;34m,\u001b[0m \u001b[0mfinal\u001b[0m\u001b[0;34m=\u001b[0m\u001b[0;32mFalse\u001b[0m\u001b[0;34m)\u001b[0m\u001b[0;34m:\u001b[0m\u001b[0;34m\u001b[0m\u001b[0;34m\u001b[0m\u001b[0m\n\u001b[0;32m---> 26\u001b[0;31m         \u001b[0;32mreturn\u001b[0m \u001b[0mcodecs\u001b[0m\u001b[0;34m.\u001b[0m\u001b[0mascii_decode\u001b[0m\u001b[0;34m(\u001b[0m\u001b[0minput\u001b[0m\u001b[0;34m,\u001b[0m \u001b[0mself\u001b[0m\u001b[0;34m.\u001b[0m\u001b[0merrors\u001b[0m\u001b[0;34m)\u001b[0m\u001b[0;34m[\u001b[0m\u001b[0;36m0\u001b[0m\u001b[0;34m]\u001b[0m\u001b[0;34m\u001b[0m\u001b[0;34m\u001b[0m\u001b[0m\n\u001b[0m\u001b[1;32m     27\u001b[0m \u001b[0;34m\u001b[0m\u001b[0m\n\u001b[1;32m     28\u001b[0m \u001b[0;32mclass\u001b[0m \u001b[0mStreamWriter\u001b[0m\u001b[0;34m(\u001b[0m\u001b[0mCodec\u001b[0m\u001b[0;34m,\u001b[0m\u001b[0mcodecs\u001b[0m\u001b[0;34m.\u001b[0m\u001b[0mStreamWriter\u001b[0m\u001b[0;34m)\u001b[0m\u001b[0;34m:\u001b[0m\u001b[0;34m\u001b[0m\u001b[0;34m\u001b[0m\u001b[0m\n",
            "\u001b[0;31mUnicodeDecodeError\u001b[0m: 'ascii' codec can't decode byte 0xd0 in position 10: ordinal not in range(128)"
          ]
        }
      ]
    },
    {
      "cell_type": "code",
      "metadata": {
        "id": "yWwMkEqv_zsi",
        "colab_type": "code",
        "outputId": "85313cf0-95d8-499e-acd3-81ef19a37bb3",
        "colab": {
          "base_uri": "https://localhost:8080/",
          "height": 126
        }
      },
      "source": [
        "# Перезапись файла в нужной\n",
        "f = open('Hello.txt','r',encoding='utf-8')\n",
        "data=f.read()\n",
        "f.close()\n",
        "\n",
        "f_utf16 = open('Hello_UTF16.txt','w',encoding='utf-16')\n",
        "f_utf16.write(data)\n",
        "f.close()\n",
        "\n",
        "f = open('Hello_UTF16.txt','r',encoding='utf-16')\n",
        "data=f.read()\n",
        "f.close()\n",
        "print(data)"
      ],
      "execution_count": 0,
      "outputs": [
        {
          "output_type": "stream",
          "text": [
            "0\n",
            "1\n",
            "2\n",
            "3\n",
            "4\n",
            "Привет всем!\n"
          ],
          "name": "stdout"
        }
      ]
    },
    {
      "cell_type": "markdown",
      "metadata": {
        "id": "DN41p73W5Nuf",
        "colab_type": "text"
      },
      "source": [
        "#### Файлы ```json```"
      ]
    },
    {
      "cell_type": "code",
      "metadata": {
        "id": "uOB_-JcU5TGC",
        "colab_type": "code",
        "outputId": "84f2ee9c-85d7-4e4d-8376-fe08ed88ffb6",
        "colab": {
          "base_uri": "https://localhost:8080/",
          "height": 108
        }
      },
      "source": [
        "import json\n",
        "\n",
        "obj = {'one':123, 'two':[1,2,3,]}\n",
        "data = json.dumps(obj)\n",
        "print(type(data))\n",
        "print(data)\n",
        "\n",
        "with open('data.json', 'w') as f:\n",
        "  f.write(data)\n",
        "\n",
        "with open('data.json','r') as f:\n",
        "  new_data = f.read()\n",
        "print(new_data)\n",
        "\n",
        "new_data = json.loads(new_data)\n",
        "print(type(new_data))\n",
        "print(new_data.keys())"
      ],
      "execution_count": 0,
      "outputs": [
        {
          "output_type": "stream",
          "text": [
            "<class 'str'>\n",
            "{\"one\": 123, \"two\": [1, 2, 3]}\n",
            "{\"one\": 123, \"two\": [1, 2, 3]}\n",
            "<class 'dict'>\n",
            "dict_keys(['one', 'two'])\n"
          ],
          "name": "stdout"
        }
      ]
    },
    {
      "cell_type": "markdown",
      "metadata": {
        "id": "RQQPV9wc5U_i",
        "colab_type": "text"
      },
      "source": [
        "#### Файлы ```pickle```"
      ]
    },
    {
      "cell_type": "code",
      "metadata": {
        "id": "MBLdv4Vn5elu",
        "colab_type": "code",
        "colab": {}
      },
      "source": [
        "# Подключаем модуль pickle\n",
        "import pickle\n",
        "obj = {'one':123, 'two':[1,2,3,]}\n",
        "\n",
        "with open('data.pkl', 'wb') as f:\n",
        "  pickle.dump(obj, f, 2)\n"
      ],
      "execution_count": 0,
      "outputs": []
    },
    {
      "cell_type": "code",
      "metadata": {
        "id": "sDuTUWFNGSRw",
        "colab_type": "code",
        "outputId": "1bdd6d06-2ccf-4149-cfb4-b9c803a7eee4",
        "colab": {
          "base_uri": "https://localhost:8080/",
          "height": 35
        }
      },
      "source": [
        "!ls"
      ],
      "execution_count": 0,
      "outputs": [
        {
          "output_type": "stream",
          "text": [
            "data.json  data.pkl  Hello.txt\tHello_UTF16.txt  sample_data\n"
          ],
          "name": "stdout"
        }
      ]
    },
    {
      "cell_type": "code",
      "metadata": {
        "id": "STJA_6IpHqGx",
        "colab_type": "code",
        "outputId": "171ce658-0a38-4873-f37d-db7d0fd6fee9",
        "colab": {
          "base_uri": "https://localhost:8080/",
          "height": 53
        }
      },
      "source": [
        "# Считаем информацию из файла\n",
        "with open('data.pkl','rb') as f:\n",
        "  data=f.read()\n",
        "  new_obj=pickle.loads(data)\n",
        "print(type(new_obj))\n",
        "print(new_obj)"
      ],
      "execution_count": 0,
      "outputs": [
        {
          "output_type": "stream",
          "text": [
            "<class 'dict'>\n",
            "{'one': 123, 'two': [1, 2, 3]}\n"
          ],
          "name": "stdout"
        }
      ]
    },
    {
      "cell_type": "markdown",
      "metadata": {
        "id": "pqNNDDZgiebU",
        "colab_type": "text"
      },
      "source": [
        "### Работа с файловой системой"
      ]
    },
    {
      "cell_type": "code",
      "metadata": {
        "id": "Ot7gbXC9hicO",
        "colab_type": "code",
        "colab": {}
      },
      "source": [
        "# Подключение модуля\n",
        "import os"
      ],
      "execution_count": 0,
      "outputs": []
    },
    {
      "cell_type": "code",
      "metadata": {
        "id": "iLvFh7smS3OF",
        "colab_type": "code",
        "outputId": "a53b81d4-24cd-4981-f2dc-05aa8226a537",
        "colab": {
          "base_uri": "https://localhost:8080/",
          "height": 35
        }
      },
      "source": [
        "# Просмотр текущего каталога \n",
        "os.getcwd()"
      ],
      "execution_count": 0,
      "outputs": [
        {
          "output_type": "execute_result",
          "data": {
            "text/plain": [
              "'/content'"
            ]
          },
          "metadata": {
            "tags": []
          },
          "execution_count": 45
        }
      ]
    },
    {
      "cell_type": "code",
      "metadata": {
        "id": "LLHOpLliSuTo",
        "colab_type": "code",
        "outputId": "a6c36486-7c4b-4894-c659-4b2e81062f86",
        "colab": {
          "base_uri": "https://localhost:8080/",
          "height": 35
        }
      },
      "source": [
        "# Проверка наличия файла в рабочем каталоге\n",
        "os.path.exists('data.json')"
      ],
      "execution_count": 0,
      "outputs": [
        {
          "output_type": "execute_result",
          "data": {
            "text/plain": [
              "True"
            ]
          },
          "metadata": {
            "tags": []
          },
          "execution_count": 46
        }
      ]
    },
    {
      "cell_type": "code",
      "metadata": {
        "id": "utndvhNhZUJO",
        "colab_type": "code",
        "outputId": "fc83d925-755d-4ded-ddf0-6eafb595bd3c",
        "colab": {
          "base_uri": "https://localhost:8080/",
          "height": 35
        }
      },
      "source": [
        "# Размер файла\n",
        "os.path.getsize('data.json')"
      ],
      "execution_count": 0,
      "outputs": [
        {
          "output_type": "execute_result",
          "data": {
            "text/plain": [
              "30"
            ]
          },
          "metadata": {
            "tags": []
          },
          "execution_count": 47
        }
      ]
    },
    {
      "cell_type": "code",
      "metadata": {
        "id": "rr4noYJyTJQ7",
        "colab_type": "code",
        "outputId": "4fdd6ab7-438e-4f71-e07a-9509a43d2530",
        "colab": {
          "base_uri": "https://localhost:8080/",
          "height": 53
        }
      },
      "source": [
        "# Вывод файлов и подкаталогов для данного каталога\n",
        "print(os.listdir())\n",
        "print(os.listdir('sample_data'))"
      ],
      "execution_count": 0,
      "outputs": [
        {
          "output_type": "stream",
          "text": [
            "['.config', 'Hello_UTF16.txt', 'data.pkl', 'Hello.txt', 'data.json', 'sample_data']\n",
            "['README.md', 'anscombe.json', 'mnist_train_small.csv', 'california_housing_test.csv', 'mnist_test.csv', 'california_housing_train.csv']\n"
          ],
          "name": "stdout"
        }
      ]
    },
    {
      "cell_type": "code",
      "metadata": {
        "id": "7jOqnsh1VKvY",
        "colab_type": "code",
        "outputId": "f2b68380-11d4-4790-fe11-4f01f24ca2d9",
        "colab": {
          "base_uri": "https://localhost:8080/",
          "height": 126
        }
      },
      "source": [
        "# Обход методом os.walk\n",
        "tree = os.walk(os.getcwd())\n",
        "\n",
        "# tree = (Название каталога, Список подкаталогов, Список файлов)\n",
        "for i in tree:\n",
        "  print(i)"
      ],
      "execution_count": 0,
      "outputs": [
        {
          "output_type": "stream",
          "text": [
            "('/content', ['.config', 'sample_data'], ['Hello_UTF16.txt', 'data.pkl', 'Hello.txt', 'data.json'])\n",
            "('/content/.config', ['configurations', 'logs'], ['.last_update_check.json', 'active_config', '.last_survey_prompt.yaml', 'config_sentinel', 'gce', '.metricsUUID'])\n",
            "('/content/.config/configurations', [], ['config_default'])\n",
            "('/content/.config/logs', ['2019.12.18'], [])\n",
            "('/content/.config/logs/2019.12.18', [], ['16.52.31.147337.log', '16.52.34.414154.log', '16.52.05.166856.log', '16.52.35.435000.log', '16.52.20.616768.log'])\n",
            "('/content/sample_data', [], ['README.md', 'anscombe.json', 'mnist_train_small.csv', 'california_housing_test.csv', 'mnist_test.csv', 'california_housing_train.csv'])\n"
          ],
          "name": "stdout"
        }
      ]
    },
    {
      "cell_type": "code",
      "metadata": {
        "id": "HzCkv7y-Whxe",
        "colab_type": "code",
        "outputId": "3ec154ec-a987-4d84-853c-e6d998707160",
        "colab": {
          "base_uri": "https://localhost:8080/",
          "height": 417
        }
      },
      "source": [
        "# Просмотр путей всех файлов \n",
        "tree = os.walk(os.getcwd())\n",
        "for address, dirs, files in tree:\n",
        "  for file in files:\n",
        "    print(address + '/' + file)"
      ],
      "execution_count": 0,
      "outputs": [
        {
          "output_type": "stream",
          "text": [
            "/content/Hello_UTF16.txt\n",
            "/content/data.pkl\n",
            "/content/Hello.txt\n",
            "/content/data.json\n",
            "/content/.config/.last_update_check.json\n",
            "/content/.config/active_config\n",
            "/content/.config/.last_survey_prompt.yaml\n",
            "/content/.config/config_sentinel\n",
            "/content/.config/gce\n",
            "/content/.config/.metricsUUID\n",
            "/content/.config/configurations/config_default\n",
            "/content/.config/logs/2019.12.18/16.52.31.147337.log\n",
            "/content/.config/logs/2019.12.18/16.52.34.414154.log\n",
            "/content/.config/logs/2019.12.18/16.52.05.166856.log\n",
            "/content/.config/logs/2019.12.18/16.52.35.435000.log\n",
            "/content/.config/logs/2019.12.18/16.52.20.616768.log\n",
            "/content/sample_data/README.md\n",
            "/content/sample_data/anscombe.json\n",
            "/content/sample_data/mnist_train_small.csv\n",
            "/content/sample_data/california_housing_test.csv\n",
            "/content/sample_data/mnist_test.csv\n",
            "/content/sample_data/california_housing_train.csv\n"
          ],
          "name": "stdout"
        }
      ]
    },
    {
      "cell_type": "code",
      "metadata": {
        "id": "OhJELK26X3gJ",
        "colab_type": "code",
        "outputId": "835fcb23-1a6c-4ac7-fc63-d71dde7e2470",
        "colab": {
          "base_uri": "https://localhost:8080/",
          "height": 53
        }
      },
      "source": [
        "# Создание директории с поддиректориями\n",
        "os.makedirs('Fld1/Fld2/Fld3')\n",
        "!ls"
      ],
      "execution_count": 0,
      "outputs": [
        {
          "output_type": "stream",
          "text": [
            " data.json   Fld1\t       Hello.txt\t sample_data\n",
            " data.pkl   'Fld1\\Fld2\\Fld3'   Hello_UTF16.txt\n"
          ],
          "name": "stdout"
        }
      ]
    },
    {
      "cell_type": "code",
      "metadata": {
        "id": "sRJbnt0uYjRV",
        "colab_type": "code",
        "outputId": "7f3dd708-1dbc-4acc-e9ba-a2591b5e6c07",
        "colab": {
          "base_uri": "https://localhost:8080/",
          "height": 35
        }
      },
      "source": [
        "# Удаление директории\n",
        "os.removedirs('Fld1/Fld2/Fld3')\n",
        "!ls"
      ],
      "execution_count": 0,
      "outputs": [
        {
          "output_type": "stream",
          "text": [
            "data.json  data.pkl  Hello.txt\tHello_UTF16.txt  sample_data\n"
          ],
          "name": "stdout"
        }
      ]
    },
    {
      "cell_type": "code",
      "metadata": {
        "id": "rkAjLn0EZfWc",
        "colab_type": "code",
        "outputId": "cfad3bbb-1e6c-4af6-ff92-054670c5567a",
        "colab": {
          "base_uri": "https://localhost:8080/",
          "height": 35
        }
      },
      "source": [
        "# Корректное формирование пути с учетом операционной системы\n",
        "os.path.join('Fld1','Fld2','Fld3')"
      ],
      "execution_count": 0,
      "outputs": [
        {
          "output_type": "execute_result",
          "data": {
            "text/plain": [
              "'Fld1/Fld2/Fld3'"
            ]
          },
          "metadata": {
            "tags": []
          },
          "execution_count": 54
        }
      ]
    },
    {
      "cell_type": "markdown",
      "metadata": {
        "id": "S9ZAaIc7d0Si",
        "colab_type": "text"
      },
      "source": [
        "## За рамками материала"
      ]
    },
    {
      "cell_type": "markdown",
      "metadata": {
        "id": "8T-AFlP0gRsC",
        "colab_type": "text"
      },
      "source": [
        "\n",
        "\n",
        "*   сериализация объектов собственных класса\n",
        "*   глубокое погружение в модули ```sys``` и ```os```\n",
        "\n"
      ]
    },
    {
      "cell_type": "markdown",
      "metadata": {
        "id": "5F_hHKVTNzia",
        "colab_type": "text"
      },
      "source": [
        "## Дополнительные материалы и литература"
      ]
    },
    {
      "cell_type": "markdown",
      "metadata": {
        "id": "YWhDk5dJN8NC",
        "colab_type": "text"
      },
      "source": [
        "\n",
        "\n",
        "*   Саммерфилд М., Программирование на Python 3. Подробное руководство. - Пер. с англ. - СПб.: Символ-Плюс, 2009. - 608 с, ил., ISBN: 978-5-93286-161-5 С. 334."
      ]
    }
  ]
}