{
  "nbformat": 4,
  "nbformat_minor": 0,
  "metadata": {
    "colab": {
      "name": "Копия блокнота \"ДЗ-3.3.5-Pro.ipynb\"",
      "provenance": [],
      "collapsed_sections": []
    },
    "kernelspec": {
      "name": "python3",
      "display_name": "Python 3"
    }
  },
  "cells": [
    {
      "cell_type": "markdown",
      "metadata": {
        "id": "MH-3kVwvJYeP",
        "colab_type": "text"
      },
      "source": [
        "# Курс \"Python для анализа данных\"\n",
        "\n",
        "---\n",
        "# Домашнее задание PRO\n",
        "#3.3.5 Решение специальных задач из области анализа данных и машинного обучения"
      ]
    },
    {
      "cell_type": "code",
      "metadata": {
        "id": "fGNSU6VDMU7f",
        "colab_type": "code",
        "colab": {}
      },
      "source": [
        "# Запустите код ниже для старта, но не правьте во избежания ошибок проверки!\n",
        "_HOMEWORK_NAME_ = '3.3.5_PRO'\n",
        "_HOMEWORK_ANSWER_DICT_ = dict()"
      ],
      "execution_count": null,
      "outputs": []
    },
    {
      "cell_type": "markdown",
      "metadata": {
        "id": "xp_DlvMXJ8Ed",
        "colab_type": "text"
      },
      "source": [
        "## ФИО участника"
      ]
    },
    {
      "cell_type": "code",
      "metadata": {
        "id": "RHUt9t1XMw9a",
        "colab_type": "code",
        "colab": {}
      },
      "source": [
        "# Введите ваше имя и фамилию в соответствующую позицию 'NAME' и 'LAST_NAME'!\n",
        "_NAME_SERNAME_ = {\n",
        "    'NAME' : 'Vladimir',\n",
        "    'LAST_NAME' : 'Doronin'\n",
        "}"
      ],
      "execution_count": null,
      "outputs": []
    },
    {
      "cell_type": "markdown",
      "metadata": {
        "id": "gMwyKhlQJ1mf",
        "colab_type": "text"
      },
      "source": [
        "## Задание 1"
      ]
    },
    {
      "cell_type": "markdown",
      "metadata": {
        "id": "Owu684lKKrjJ",
        "colab_type": "text"
      },
      "source": [
        "**Условие:** \n",
        "В рамках блокнота с занятия повторите текст рекомендательной системы с собственными комментариями. Найдите в матрице ```X_pred``` среднее значение по столбцам и номер столбца с максимальным значением. Проделайте то же самое с матрицей ```test_data_matrix```. В ответе укажите полученные номера столбцов сперва для ```X_pred```, а потом для ```test_data_matrix```. \n",
        "\n",
        "**Формат ответа:**\n",
        "Кортеж чисел (например, ```(23,155)```)\n",
        "\n",
        "**Оценка в баллах:** 3 балла"
      ]
    },
    {
      "cell_type": "markdown",
      "metadata": {
        "id": "OCTvo3fHLaaJ",
        "colab_type": "text"
      },
      "source": [
        "**Решение:**"
      ]
    },
    {
      "cell_type": "code",
      "metadata": {
        "id": "f9_8IGndLeRO",
        "colab_type": "code",
        "colab": {}
      },
      "source": [
        "from google.colab import files\n",
        "files.upload()"
      ],
      "execution_count": null,
      "outputs": []
    },
    {
      "cell_type": "code",
      "metadata": {
        "id": "6W2px9THBexj",
        "colab_type": "code",
        "colab": {}
      },
      "source": [
        "import numpy as np\n",
        "import pandas as pd\n",
        "\n",
        "df = pd.read_csv('ratings.csv')\n",
        "# масштабируем\n",
        "input_list = df['movieId'].unique()\n",
        "\n",
        "def scale_movie_id(input_id):\n",
        "    return np.where(input_list == input_id)[0][0] + 1\n",
        "\n",
        "df['movieId'] = df['movieId'].apply(scale_movie_id)\n",
        "\n",
        "from sklearn.model_selection import train_test_split\n",
        "\n",
        "# делим данные на тренировочный и тестовый наборы\n",
        "train_data, test_data = train_test_split(df, test_size=0.20)\n",
        "train_data.head()\n",
        "\n",
        "# создаём две user-item матрицы – для обучения и для теста\n",
        "train_data_matrix = np.zeros((n_users, n_items))\n",
        "\n",
        "for line in train_data.itertuples():\n",
        "    train_data_matrix[line[1] - 1, line[2] - 1] = line[3]  \n",
        "\n",
        "test_data_matrix = np.zeros((n_users, n_items))\n",
        "\n",
        "for line in test_data.itertuples():\n",
        "    test_data_matrix[line[1] - 1, line[2] - 1] = line[3]\n",
        "\n",
        "# делаем сингулярное разложение (ну и названьице)\n",
        "import scipy.sparse as sp\n",
        "from scipy.sparse.linalg import svds\n",
        "\n",
        "u, s, vt = svds(train_data_matrix, k=10)\n",
        "\n",
        "s_diag_matrix = np.diag(s)\n",
        "\n",
        "# предсказываем\n",
        "X_pred = np.dot(np.dot(u, s_diag_matrix), vt)"
      ],
      "execution_count": null,
      "outputs": []
    },
    {
      "cell_type": "code",
      "metadata": {
        "id": "o_D8TeRFDHFq",
        "colab_type": "code",
        "colab": {}
      },
      "source": [
        "ans_ = (np.mean(X_pred, axis=0), np.argmax(X_pred.mean(axis=0)))\n",
        "ans__ = (np.mean(test_data_matrix, axis=0), np.argmax(test_data_matrix.mean(axis=0)))\n",
        "ans1 = (ans_[1], ans__[1])"
      ],
      "execution_count": null,
      "outputs": []
    },
    {
      "cell_type": "markdown",
      "metadata": {
        "id": "p0CmJgA5LWoT",
        "colab_type": "text"
      },
      "source": [
        "**Ответ:**"
      ]
    },
    {
      "cell_type": "code",
      "metadata": {
        "id": "bL0LuTGTJShl",
        "colab_type": "code",
        "colab": {}
      },
      "source": [
        "# Не изменяйте текст до знака = во избежании ошибок проверки!\n",
        "_HOMEWORK_ANSWER_DICT_['A1'] = ans1"
      ],
      "execution_count": null,
      "outputs": []
    },
    {
      "cell_type": "markdown",
      "metadata": {
        "colab_type": "text",
        "id": "g5S0h2-wKfGE"
      },
      "source": [
        "## Задание 2"
      ]
    },
    {
      "cell_type": "markdown",
      "metadata": {
        "colab_type": "text",
        "id": "orX7BUzcPKKf"
      },
      "source": [
        "**Условие:** \n",
        "В рамках блокнота занятия добавьте к вектору ```y``` вектор той же длины со значениями, которые получены из стандартного нормального распределения с параметрами $\\mu=5$ и $\\sigma=10$. Найдите с помощью метода наименьших квадратов значения ```p[0]``` и ```p[1]```. Сделайте визуальную оценку полученных результатов, исходя из графиков.\n",
        "\n",
        "**Формат ответа:** \n",
        "Кортеж чисел (например, ```(-5.23, 2.35)```)\n",
        "\n",
        "**Оценка в баллах:** 3 балла"
      ]
    },
    {
      "cell_type": "markdown",
      "metadata": {
        "colab_type": "text",
        "id": "ESSLfwqEPKKn"
      },
      "source": [
        "**Решение:**"
      ]
    },
    {
      "cell_type": "code",
      "metadata": {
        "colab_type": "code",
        "id": "y8HOlaNLPKKq",
        "colab": {}
      },
      "source": [
        "import numpy as np\n",
        "import scipy.stats as sts\n",
        "from scipy.linalg import lstsq\n",
        "import matplotlib.pyplot as plt\n",
        "\n",
        "x = np.array([1, 2.5, 3.5, 4, 5, 7, 8.5])\n",
        "y = np.array([0.3, 1.1, 1.5, 2.0, 3.2, 6.6, 8.6])\n",
        "y += sts.norm(5, 10).rvs(y.shape)\n",
        "\n",
        "x[:, np.newaxis].shape\n",
        "M = x[:, np.newaxis] ** [0, 1]\n",
        "p, res, rnk, s = lstsq(M, y)\n",
        "\n",
        "plt.plot(x, y, 'o', label='data')\n",
        "xx = np.linspace(0, 9, 101)\n",
        "yy = p[0] + p[1] * xx\n",
        "\n",
        "plt.plot(xx, yy, label='least squares fit, $y = a + bx$')\n",
        "plt.xlabel('x')\n",
        "plt.ylabel('y')\n",
        "plt.legend(framealpha=1, shadow=True)\n",
        "plt.grid(alpha=0.25)\n",
        "plt.show()\n",
        "\n",
        "ans2 = (p[0], p[1])"
      ],
      "execution_count": null,
      "outputs": []
    },
    {
      "cell_type": "markdown",
      "metadata": {
        "colab_type": "text",
        "id": "Trvrl2qPPKKx"
      },
      "source": [
        "**Ответ:**"
      ]
    },
    {
      "cell_type": "code",
      "metadata": {
        "colab_type": "code",
        "id": "iiWu4IpuKfxV",
        "colab": {}
      },
      "source": [
        "# Не изменяйте текст до знака = во избежании ошибок проверки!\n",
        "_HOMEWORK_ANSWER_DICT_['A2'] = ans2"
      ],
      "execution_count": null,
      "outputs": []
    },
    {
      "cell_type": "markdown",
      "metadata": {
        "id": "kiKkFcn6KQFA",
        "colab_type": "text"
      },
      "source": [
        "## Комментарии участника"
      ]
    },
    {
      "cell_type": "code",
      "metadata": {
        "id": "3aI3lBQVdvaY",
        "colab_type": "code",
        "colab": {}
      },
      "source": [
        "_YOUR_COMMENT_ = 'All right!'"
      ],
      "execution_count": null,
      "outputs": []
    },
    {
      "cell_type": "markdown",
      "metadata": {
        "id": "TvzA7RQXcywE",
        "colab_type": "text"
      },
      "source": [
        "## Создание отчета"
      ]
    },
    {
      "cell_type": "code",
      "metadata": {
        "id": "y-d24eqmdn4x",
        "colab_type": "code",
        "colab": {
          "base_uri": "https://localhost:8080/",
          "height": 53
        },
        "outputId": "c9c49249-028a-4860-e9d4-3ba58475bddb"
      },
      "source": [
        "# Проверьте правильность заполнения полей и \n",
        "# выполните данный код для создания отчета\n",
        "# и сохранения на локальную машину\n",
        "from google.colab import files\n",
        "import json\n",
        "try:\n",
        "  # form a report\n",
        "  _HM_REPORT_ = {'Answers':_HOMEWORK_ANSWER_DICT_,\n",
        "                'Comment':_YOUR_COMMENT_,\n",
        "                'User':_NAME_SERNAME_,\n",
        "                }\n",
        "\n",
        "  # create a report name\n",
        "  _REPORT_NAME_ = 'HM_' +\\\n",
        "                    _HOMEWORK_NAME_ + \\\n",
        "                  '_by_' + \\\n",
        "                  _NAME_SERNAME_['LAST_NAME'] + \\\n",
        "                  '.json'\n",
        "  \n",
        "  # Save a report to a file\n",
        "  f = open(_REPORT_NAME_,\"w\")\n",
        "  f.write(json.dumps(_HM_REPORT_))\n",
        "  f.close()\n",
        "\n",
        "  # Donwnload the file into a local host\n",
        "  files.download(_REPORT_NAME_) \n",
        "  print('Thanks for the work, {name}!'.format(name=_NAME_SERNAME_['NAME']))\n",
        "except Exception as error:\n",
        "   print(error)\n",
        "   print('Something went wrong! Check the data entry and try again!')"
      ],
      "execution_count": null,
      "outputs": [
        {
          "output_type": "stream",
          "text": [
            "TypeError: NetworkError when attempting to fetch resource.\n",
            "Something went wrong! Check the data entry and try again!\n"
          ],
          "name": "stdout"
        }
      ]
    }
  ]
}