{
  "nbformat": 4,
  "nbformat_minor": 0,
  "metadata": {
    "colab": {
      "name": "HW_2_8_2_Light.ipynb",
      "provenance": [],
      "collapsed_sections": []
    },
    "kernelspec": {
      "name": "python3",
      "display_name": "Python 3"
    }
  },
  "cells": [
    {
      "cell_type": "markdown",
      "metadata": {
        "id": "MH-3kVwvJYeP",
        "colab_type": "text"
      },
      "source": [
        "# Курс \"Python для анализа данных\"\n",
        "\n",
        "---\n",
        "# Домашнее задание LIGHT\n",
        "#2.8.2 Создание собственных классов"
      ]
    },
    {
      "cell_type": "code",
      "metadata": {
        "id": "fGNSU6VDMU7f",
        "colab_type": "code",
        "colab": {}
      },
      "source": [
        "# Запустите код ниже для старта, но не правьте во избежании ошибок проверки!\n",
        "_HOMEWORK_NAME_ = '2.8.2_LIGHT'\n",
        "_HOMEWORK_ANSWER_DICT_ = dict()"
      ],
      "execution_count": 0,
      "outputs": []
    },
    {
      "cell_type": "markdown",
      "metadata": {
        "id": "xp_DlvMXJ8Ed",
        "colab_type": "text"
      },
      "source": [
        "## ФИО участника"
      ]
    },
    {
      "cell_type": "code",
      "metadata": {
        "id": "RHUt9t1XMw9a",
        "colab_type": "code",
        "colab": {}
      },
      "source": [
        "# Введите ваше имя и фамилию в соответствующую позицию 'NAME' и 'LAST_NAME'!\n",
        "# Пример: Иван Иванов - 'NAME' : 'Иван', 'LAST_NAME' : 'Иванов'\n",
        "_NAME_SERNAME_ = {\n",
        "    'NAME' : 'Vladimir',\n",
        "    'LAST_NAME' : 'Doronin'\n",
        "}"
      ],
      "execution_count": 0,
      "outputs": []
    },
    {
      "cell_type": "markdown",
      "metadata": {
        "id": "gMwyKhlQJ1mf",
        "colab_type": "text"
      },
      "source": [
        "## Задание 1"
      ]
    },
    {
      "cell_type": "markdown",
      "metadata": {
        "id": "Owu684lKKrjJ",
        "colab_type": "text"
      },
      "source": [
        "**Условие:** Создайте собственный класс ```Person``` работника компании. Добавьте следующие атрибуты данных, использую конструктор ```__init__```:\n",
        "\n",
        "*   ```name```(фамилия)\n",
        "*   ```job```(должность)\n",
        "*   ```pai```(зарплата)\n",
        "\n",
        "Создайте метод класса ```person_raise(self, prcnt)```, который повышает зарплату на ```prcnt``` процентов от имеющегося значения. Создайте работника и выведите кортеж с 2мя значениями: (зарплата при создании работника, зарплата после повышения на 20%)\n",
        "\n",
        "**Формат ответа:** кортеж (например, ```(150, 200)```)\n",
        "\n",
        "**Оценка в баллах:** 3"
      ]
    },
    {
      "cell_type": "markdown",
      "metadata": {
        "id": "OCTvo3fHLaaJ",
        "colab_type": "text"
      },
      "source": [
        "**Решение:**"
      ]
    },
    {
      "cell_type": "code",
      "metadata": {
        "id": "um6VRm2FJc1M",
        "colab_type": "code",
        "colab": {}
      },
      "source": [
        "class Person:\n",
        "  \n",
        "  def __init__(self, name, job=None, pai=0): \n",
        "    # the task does not say to give them default values, but it seemed more logical to me\n",
        "    self.name = name\n",
        "    self.job = job\n",
        "    self.pai = pai\n",
        "\n",
        "  def person_raise(self, prcnt):\n",
        "    self.pai += self.pai * prcnt / 100 "
      ],
      "execution_count": 0,
      "outputs": []
    },
    {
      "cell_type": "code",
      "metadata": {
        "id": "otxqRAlBKuhZ",
        "colab_type": "code",
        "colab": {
          "base_uri": "https://localhost:8080/",
          "height": 34
        },
        "outputId": "0a4f4741-95e0-4220-92cb-dea3251c6a0f"
      },
      "source": [
        "Vasya = Person('Vasya', job='DataScinetist', pai=10000)\n",
        "old_pai = Vasya.pai\n",
        "Vasya.person_raise(20)\n",
        "new_pai = Vasya.pai\n",
        "ans1 = (old_pai, new_pai)\n",
        "print(ans1)"
      ],
      "execution_count": 11,
      "outputs": [
        {
          "output_type": "stream",
          "text": [
            "(10000, 12000.0)\n"
          ],
          "name": "stdout"
        }
      ]
    },
    {
      "cell_type": "markdown",
      "metadata": {
        "id": "7Nv-QSQxOHMl",
        "colab_type": "text"
      },
      "source": [
        "**Ответ:**"
      ]
    },
    {
      "cell_type": "code",
      "metadata": {
        "id": "an9b3XkwOILN",
        "colab_type": "code",
        "colab": {}
      },
      "source": [
        "# Не изменяйте текст до знака = во избежании ошибок проверки!\n",
        "_HOMEWORK_ANSWER_DICT_['A1'] = ans1"
      ],
      "execution_count": 0,
      "outputs": []
    },
    {
      "cell_type": "markdown",
      "metadata": {
        "colab_type": "text",
        "id": "g5S0h2-wKfGE"
      },
      "source": [
        "## Задание 2"
      ]
    },
    {
      "cell_type": "markdown",
      "metadata": {
        "colab_type": "text",
        "id": "orX7BUzcPKKf"
      },
      "source": [
        "**Условие:** Создайте класс ```Manager``` наследника класса ```Person```, который имеет дополнительный атрибут данных ```client_counts```(количество клиентов). В классе ```Manager``` создайте метод ```manager_raise()```, который \n",
        "увеличивает количество клиентов менеджера на 1 и зарплату менеджера на 1%. Выведите кортеж с 2мя значениями: (зарплата менеджера при создании, зарплата после добавления 10 клиентов). Замечание: зарплата менеджера должна быть повышена с использованием методов наследуемого класса.\n",
        "\n",
        "**Формат ответа:** кортеж (например, ```(150, 170)```)\n",
        "\n",
        "**Оценка в баллах:** 3 "
      ]
    },
    {
      "cell_type": "markdown",
      "metadata": {
        "colab_type": "text",
        "id": "ESSLfwqEPKKn"
      },
      "source": [
        "**Решение:**"
      ]
    },
    {
      "cell_type": "code",
      "metadata": {
        "colab_type": "code",
        "id": "y8HOlaNLPKKq",
        "colab": {}
      },
      "source": [
        "class Manager(Person):\n",
        "  def __init__(self, name, job='Manager', pai=5000, client_counts=0): \n",
        "    # I again take liberties with the parameters\n",
        "    self.name = name\n",
        "    self.job = job\n",
        "    self.pai = pai\n",
        "    self.client_counts = client_counts\n",
        "\n",
        "  def manager_raise(self, count=1):\n",
        "    self.pai += self.pai * count / 100\n",
        "    self.client_counts += count"
      ],
      "execution_count": 0,
      "outputs": []
    },
    {
      "cell_type": "code",
      "metadata": {
        "id": "mrDwn4zNOj_V",
        "colab_type": "code",
        "colab": {
          "base_uri": "https://localhost:8080/",
          "height": 34
        },
        "outputId": "d7fc0797-b691-4c53-bdda-5e8785ab43df"
      },
      "source": [
        "Lisa = Manager('Lisa', client_counts=70, pai=7600)\n",
        "old_pai = Lisa.pai\n",
        "Lisa.manager_raise(10)\n",
        "new_pai = Lisa.pai\n",
        "ans2 = (old_pai, new_pai)\n",
        "print(ans2)"
      ],
      "execution_count": 14,
      "outputs": [
        {
          "output_type": "stream",
          "text": [
            "(7600, 8360.0)\n"
          ],
          "name": "stdout"
        }
      ]
    },
    {
      "cell_type": "markdown",
      "metadata": {
        "colab_type": "text",
        "id": "Trvrl2qPPKKx"
      },
      "source": [
        "**Ответ:**"
      ]
    },
    {
      "cell_type": "code",
      "metadata": {
        "colab_type": "code",
        "id": "iiWu4IpuKfxV",
        "colab": {}
      },
      "source": [
        "# Не изменяйте текст до знака = во избежании ошибок проверки!\n",
        "_HOMEWORK_ANSWER_DICT_['A2'] = ans2"
      ],
      "execution_count": 0,
      "outputs": []
    },
    {
      "cell_type": "markdown",
      "metadata": {
        "id": "kiKkFcn6KQFA",
        "colab_type": "text"
      },
      "source": [
        "## Комментарии участника"
      ]
    },
    {
      "cell_type": "code",
      "metadata": {
        "id": "3aI3lBQVdvaY",
        "colab_type": "code",
        "colab": {}
      },
      "source": [
        "_YOUR_COMMENT_ = 'All right!'"
      ],
      "execution_count": 0,
      "outputs": []
    },
    {
      "cell_type": "markdown",
      "metadata": {
        "id": "TvzA7RQXcywE",
        "colab_type": "text"
      },
      "source": [
        "## Создание отчета"
      ]
    },
    {
      "cell_type": "code",
      "metadata": {
        "id": "y-d24eqmdn4x",
        "colab_type": "code",
        "colab": {
          "base_uri": "https://localhost:8080/",
          "height": 34
        },
        "outputId": "c88ea8e2-e084-4102-af10-a0576c06de43"
      },
      "source": [
        "# Проверьте правильность заполнения полей выше и \n",
        "# выполните данный код для создания отчета\n",
        "# и сохранения его на локальную машину\n",
        "from google.colab import files\n",
        "import json\n",
        "try:\n",
        "  # form a report\n",
        "  _HM_REPORT_ = {'Answers':_HOMEWORK_ANSWER_DICT_,\n",
        "                'Comment':_YOUR_COMMENT_,\n",
        "                'User':_NAME_SERNAME_,\n",
        "                }\n",
        "\n",
        "  # create a report name\n",
        "  _REPORT_NAME_ = 'HM_' +\\\n",
        "                    _HOMEWORK_NAME_ + \\\n",
        "                  '_by_' + \\\n",
        "                  _NAME_SERNAME_['LAST_NAME'] + \\\n",
        "                  '.json'\n",
        "  \n",
        "  # Save a report to a file\n",
        "  f = open(_REPORT_NAME_,\"w\")\n",
        "  f.write(json.dumps(_HM_REPORT_))\n",
        "  f.close()\n",
        "\n",
        "  # Donwnload the file into a local host\n",
        "  files.download(_REPORT_NAME_) \n",
        "  print('Thanks for the work, {name}!'.format(name=_NAME_SERNAME_['NAME']))\n",
        "except Exception as error:\n",
        "   print(error)\n",
        "   print('Something went wrong! Check the data entry and try again!')"
      ],
      "execution_count": 17,
      "outputs": [
        {
          "output_type": "stream",
          "text": [
            "Thanks for the work, Vladimir!\n"
          ],
          "name": "stdout"
        }
      ]
    }
  ]
}