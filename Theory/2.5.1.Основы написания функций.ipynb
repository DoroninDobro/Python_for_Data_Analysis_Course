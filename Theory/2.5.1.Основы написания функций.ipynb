{
  "nbformat": 4,
  "nbformat_minor": 0,
  "metadata": {
    "colab": {
      "name": "2.5.1 Основы написания функций.ipynb",
      "provenance": [],
      "collapsed_sections": []
    },
    "kernelspec": {
      "name": "python3",
      "display_name": "Python 3"
    }
  },
  "cells": [
    {
      "cell_type": "markdown",
      "metadata": {
        "id": "moIM-S1g7SKx",
        "colab_type": "text"
      },
      "source": [
        "# Курс \"Python для анализа данных\"\n",
        "\n",
        "---\n",
        "#2.5.1 Основы написания функций"
      ]
    },
    {
      "cell_type": "markdown",
      "metadata": {
        "id": "QZ1Arpnj7p_N",
        "colab_type": "text"
      },
      "source": [
        "## Где мы сейчас?\n"
      ]
    },
    {
      "cell_type": "markdown",
      "metadata": {
        "id": "J9A06fP5j1vS",
        "colab_type": "text"
      },
      "source": [
        "<html>\n",
        " <head>\n",
        "  <meta charset=\"utf-8\">\n",
        " </head>\n",
        " <body>\n",
        "  <ul>\n",
        "    <li>1. Введение в анализ данных и разработку на языке Python </li> <!-2.1->\n",
        "    <li>2. <strong>Основы языка</strong> <i><- Вот в этой главе!</i>\n",
        "     <ul>\n",
        "      <li>2.1 - 2.3</li>\n",
        "      <li>2.4 Управляющие структуры. Условные ветвления и циклы </li>\n",
        "      <li><strong>2.5 Функции</strong> <i><- Вот в этом параграфе!</i></li>\n",
        "       <ul>\n",
        "        <li><strong>2.5.1 Основы написания функций</strong><i> <- Вот в этом пункте!</i></li>\n",
        "        <li>2.5.2 Лямбда-функции и функции генераторы</li>\n",
        "       </ul>\n",
        "      <li>2.6-2.9</li>\n",
        "     </ul>\n",
        "    </li>   \n",
        "  </ul>\n",
        " </body>\n",
        "</html>"
      ]
    },
    {
      "cell_type": "markdown",
      "metadata": {
        "id": "z1oJmp_4Po8K",
        "colab_type": "text"
      },
      "source": [
        "## О чем будем говорить?\n"
      ]
    },
    {
      "cell_type": "markdown",
      "metadata": {
        "id": "7X4Wlpraj7Yw",
        "colab_type": "text"
      },
      "source": [
        "Как ни странно, поговорим о **функциях** - структурах языка Python, позволяющих уменьшать объем программного кода за счет оформления повторяющихся фрагментов в виде лаконичных названий.\n",
        "\n",
        "Также рассмотрим возможность изменения работы функций без изменения ее тела - параметризацию."
      ]
    },
    {
      "cell_type": "markdown",
      "metadata": {
        "id": "NhfVXiTGAkND",
        "colab_type": "text"
      },
      "source": [
        "## Ключевые слова, понятия и выражения\n",
        "\n",
        "\n",
        "\n",
        "\n"
      ]
    },
    {
      "cell_type": "markdown",
      "metadata": {
        "id": "ixnuL5V2rZtz",
        "colab_type": "text"
      },
      "source": [
        "*   функция\n",
        "*   глобальная функция\n",
        "*   локальная функция\n",
        "*   лямбда-функция\n",
        "*   функция генератор\n",
        "*   передача параметров функции\n",
        "*   область видимости переменных"
      ]
    },
    {
      "cell_type": "markdown",
      "metadata": {
        "id": "2lFBeeLHjcc7",
        "colab_type": "text"
      },
      "source": [
        "## Материал"
      ]
    },
    {
      "cell_type": "markdown",
      "metadata": {
        "id": "srEva3fQch-3",
        "colab_type": "text"
      },
      "source": [
        "### Какие бывают функции в Python?"
      ]
    },
    {
      "cell_type": "markdown",
      "metadata": {
        "id": "vHCBVpegcq6G",
        "colab_type": "text"
      },
      "source": [
        "В языке Python можно создать 4 типа функций:\n",
        "\n",
        "1.   *Глобальные функции* - типичный представитель семейства функций. Виден из любой точки программного кода в том же модуле, в котором находится сама функция.\n",
        "2.   *Локальные функции* (их еще называют вложенными функциями) -\n",
        "это функции, которые объявляются внутри других функций.\n",
        "3.   *Лямбда-функции* - функции, которые могут создаваться непосредственно в месте их использования (Посмотрим на них в *2.5.2 Лямбда-функции и функции генераторы*).\n",
        "4.   *Методы* - функции, ассоциированные с определенным типом данных. Будут нами подробно рассмотрены в параграфе *2.8 Объектно-ориентированное программирование*.\n",
        "\n",
        "\n",
        " "
      ]
    },
    {
      "cell_type": "markdown",
      "metadata": {
        "id": "kbbmltc6e1AV",
        "colab_type": "text"
      },
      "source": [
        "### Общий вид глобальной функции"
      ]
    },
    {
      "cell_type": "markdown",
      "metadata": {
        "id": "gjUpYtLahyD7",
        "colab_type": "text"
      },
      "source": [
        "Глобальные функции используются повсеместно, но вид их со стороны практически всегда одинаков:\n",
        "```\n",
        "def functionName(parameters):\n",
        "  suite\n",
        "```\n",
        "\n",
        "\n",
        "*   ```functionName``` - та самая аббревиатура для использования функции в дальнейшем\n",
        "*   ```parameters``` - параметры  являются необязательными и при наличии \n",
        "более одного параметра записываются как последовательность \n",
        "идентификаторов через запятую или в виде последовательности пар ```identifier=value```\n",
        "\n",
        "*   ```suite``` - тело функции, то есть последовательность выполнения определенных действий \n",
        "\n",
        "\n",
        " \n"
      ]
    },
    {
      "cell_type": "markdown",
      "metadata": {
        "id": "xtVGTYPjtXzV",
        "colab_type": "text"
      },
      "source": [
        "### Общий вид локальной функции"
      ]
    },
    {
      "cell_type": "markdown",
      "metadata": {
        "id": "5c_g3g0xtjM0",
        "colab_type": "text"
      },
      "source": [
        "Локальные функции помогают реализовывать сложные задачи в глобальной функции, взяв на себя маленькую подзадачу. Важно то, что чем меньше функция будет брать на себя задач, тем легче ее написать и протестировать. Если при этом разместить ее в области видимости глобальной функции, где она только и применяется, то можно получить удобный скрытый инструмент.\n",
        "\n",
        "```\n",
        "def GlobalfunctionName(global_parameters):\n",
        "  ...\n",
        "  def LocalfunctionName(local_parameters):\n",
        "    suite\n",
        "  ...\n",
        "```"
      ]
    },
    {
      "cell_type": "markdown",
      "metadata": {
        "id": "D4pw70qJjp9r",
        "colab_type": "text"
      },
      "source": [
        "### Что и как подавать на вход функции?"
      ]
    },
    {
      "cell_type": "markdown",
      "metadata": {
        "id": "30pzOE7Tv4E3",
        "colab_type": "text"
      },
      "source": [
        "Для изменения поведения функции необходимо использовать параметры, которые подаются ей на вход. Давайте посмотрим, как эти параметры можно передавать в функцию."
      ]
    },
    {
      "cell_type": "markdown",
      "metadata": {
        "id": "lHBBBLlukcQz",
        "colab_type": "text"
      },
      "source": [
        "Позиционные аргументы"
      ]
    },
    {
      "cell_type": "code",
      "metadata": {
        "id": "2kX_vSWCco5e",
        "colab_type": "code",
        "outputId": "49880aa7-c29d-4032-b663-95ebb2f20af8",
        "colab": {
          "base_uri": "https://localhost:8080/",
          "height": 35
        }
      },
      "source": [
        "# Подсчет периметра треугольника\n",
        "def perimetr(a, b, c):\n",
        "  p = a + b + c\n",
        "  print(p)\n",
        "  \n",
        "perimetr(3,4,5)"
      ],
      "execution_count": 0,
      "outputs": [
        {
          "output_type": "stream",
          "text": [
            "12\n"
          ],
          "name": "stdout"
        }
      ]
    },
    {
      "cell_type": "markdown",
      "metadata": {
        "id": "8YIUkX-nkuof",
        "colab_type": "text"
      },
      "source": [
        "Все позиционные сразу - распаковка аргументов"
      ]
    },
    {
      "cell_type": "code",
      "metadata": {
        "id": "V5gS7gcAkl-I",
        "colab_type": "code",
        "outputId": "193a0d5e-379a-4610-aaa2-81b95300facc",
        "colab": {
          "base_uri": "https://localhost:8080/",
          "height": 91
        }
      },
      "source": [
        "# Подсчет суммы чисел\n",
        "def my_sum(*elements):\n",
        "  res = 0\n",
        "  for i in elements:\n",
        "    res += i\n",
        "  print(elements,'->',res)\n",
        "my_sum(1)\n",
        "my_sum(1,3)\n",
        "my_sum(1,4,5,6)\n",
        "my_sum(1,3,7,9,12)"
      ],
      "execution_count": 0,
      "outputs": [
        {
          "output_type": "stream",
          "text": [
            "(1,) -> 1\n",
            "(1, 3) -> 4\n",
            "(1, 4, 5, 6) -> 16\n",
            "(1, 3, 7, 9, 12) -> 32\n"
          ],
          "name": "stdout"
        }
      ]
    },
    {
      "cell_type": "markdown",
      "metadata": {
        "id": "Ic9SwhdakgfS",
        "colab_type": "text"
      },
      "source": [
        "Именованные аргументы и аргументы по умолчанию"
      ]
    },
    {
      "cell_type": "code",
      "metadata": {
        "id": "8De63mCXk4nS",
        "colab_type": "code",
        "outputId": "c9972b41-10f1-422b-a6a0-4b1475000518",
        "colab": {
          "base_uri": "https://localhost:8080/",
          "height": 109
        }
      },
      "source": [
        "# Площадь прямоугольника\n",
        "def sqr_pr(a=2,b=4):\n",
        "  s = a * b\n",
        "  print(s)\n",
        "  \n",
        "sqr_pr()\n",
        "sqr_pr(a=3)\n",
        "sqr_pr(a=4,b=8)\n",
        "sqr_pr(4,8)\n",
        "sqr_pr(4)"
      ],
      "execution_count": 0,
      "outputs": [
        {
          "output_type": "stream",
          "text": [
            "8\n",
            "12\n",
            "32\n",
            "32\n",
            "16\n"
          ],
          "name": "stdout"
        }
      ]
    },
    {
      "cell_type": "markdown",
      "metadata": {
        "id": "_yvcNK8-lYMz",
        "colab_type": "text"
      },
      "source": [
        "Все именованные сразу - распаковка отображений"
      ]
    },
    {
      "cell_type": "code",
      "metadata": {
        "id": "HXRrW1tSlfH8",
        "colab_type": "code",
        "outputId": "0a676559-d154-46eb-f646-5753d6dac267",
        "colab": {
          "base_uri": "https://localhost:8080/",
          "height": 35
        }
      },
      "source": [
        "# Вывод всех параметров функции\n",
        "def param_list(**args):\n",
        "  print(args)\n",
        "\n",
        "param_list(a=2, b=4, c=6)"
      ],
      "execution_count": 0,
      "outputs": [
        {
          "output_type": "stream",
          "text": [
            "{'a': 2, 'b': 4, 'c': 6}\n"
          ],
          "name": "stdout"
        }
      ]
    },
    {
      "cell_type": "markdown",
      "metadata": {
        "id": "Yoy1bjyZjzq-",
        "colab_type": "text"
      },
      "source": [
        "### Что ждать на выходе функции?"
      ]
    },
    {
      "cell_type": "markdown",
      "metadata": {
        "id": "URuSUQFunePd",
        "colab_type": "text"
      },
      "source": [
        "Возращение значений - ```return```"
      ]
    },
    {
      "cell_type": "code",
      "metadata": {
        "id": "YQ9QpU4GoZQU",
        "colab_type": "code",
        "outputId": "92c53a6f-bdd9-4d4b-885f-aa288f8d8c2c",
        "colab": {
          "base_uri": "https://localhost:8080/",
          "height": 35
        }
      },
      "source": [
        "# Площадь прямоугольника\n",
        "def sqr_pr(a=2,b=4):\n",
        "  s = a * b\n",
        "  return s\n",
        "\n",
        "sq = sqr_pr(3,b=5)\n",
        "print(sq)"
      ],
      "execution_count": 0,
      "outputs": [
        {
          "output_type": "stream",
          "text": [
            "15\n"
          ],
          "name": "stdout"
        }
      ]
    },
    {
      "cell_type": "code",
      "metadata": {
        "id": "hSIjCT-G7f8v",
        "colab_type": "code",
        "outputId": "745b50dd-99df-4c01-8e31-8b7ee92a61df",
        "colab": {
          "base_uri": "https://localhost:8080/",
          "height": 54
        }
      },
      "source": [
        "# Площадь и периметр прямоугольника\n",
        "def sqr_pr(a=2,b=4):\n",
        "  s = a * b\n",
        "  p = 2*(a + b)\n",
        "  return s,p\n",
        "\n",
        "s, p = sqr_pr(4,6)\n",
        "print('s=',s)\n",
        "print('p=',p)"
      ],
      "execution_count": 0,
      "outputs": [
        {
          "output_type": "stream",
          "text": [
            "s= 24\n",
            "p= 20\n"
          ],
          "name": "stdout"
        }
      ]
    },
    {
      "cell_type": "markdown",
      "metadata": {
        "id": "FPeXXXjyoact",
        "colab_type": "text"
      },
      "source": [
        "Возвращение очередного значения - ```yeld``` - будет рассмотрено нами в пункте *2.5.2 Лямбда-функции и функции генераторы*.\n"
      ]
    },
    {
      "cell_type": "markdown",
      "metadata": {
        "id": "-5f-yCz4r3V1",
        "colab_type": "text"
      },
      "source": [
        "### Как назвать функцию?"
      ]
    },
    {
      "cell_type": "markdown",
      "metadata": {
        "id": "wAcRASLcs24w",
        "colab_type": "text"
      },
      "source": [
        "Главное правило - используйте осмысленные имена функций и их параметров. И еще:\n",
        "\n",
        "*   Используйте единую схему именования и придерживайтесь ее \n",
        "неуклонно\n",
        "*   Избегайте использовать аббревиатуры в любых именах, если эти \n",
        "аббревиатуры не являются стандартными и не получили широкого\n",
        "распространения\n",
        "*   Имя должно\n",
        "описывать скорее назначение элемента данных, чем его тип\n",
        "*   Имена функций и методов должны говорить о том, что они делают\n",
        "или что они возвращают (в зависимости от их назначения), и \n",
        "никогда -\n",
        "как они это делают, потому что эта характеристика может \n",
        "измениться со временем.\n",
        "\n"
      ]
    },
    {
      "cell_type": "markdown",
      "metadata": {
        "id": "ExAvpOBXsjT0",
        "colab_type": "text"
      },
      "source": [
        "### Документирование функции\n"
      ]
    },
    {
      "cell_type": "markdown",
      "metadata": {
        "id": "P1dz1CG80MuC",
        "colab_type": "text"
      },
      "source": [
        "Хорошим тоном, а чаще даже обязательным правилом, является добавление описания к любой функции, используя строки \n",
        "документирования -\n",
        "это обычные строки, которые следуют сразу за\n",
        "строкой с инструкцией def и перед программным кодом функции."
      ]
    },
    {
      "cell_type": "code",
      "metadata": {
        "id": "DqeKREDpsJs1",
        "colab_type": "code",
        "colab": {}
      },
      "source": [
        "# Площадь и периметр прямоугольника\n",
        "def sqr_pr(a=2,b=4):\n",
        "  '''\n",
        "     sqr_pr - подсчет площади и периметра прямоугольника\n",
        "     вход:\n",
        "         a - длина\n",
        "         b - ширина\n",
        "     выход:\n",
        "         (s,p) - площадь и периметр прямоугольника\n",
        "  '''\n",
        "  s = a * b\n",
        "  p = 2*(a + b)\n",
        "  return s,p"
      ],
      "execution_count": 0,
      "outputs": []
    },
    {
      "cell_type": "code",
      "metadata": {
        "id": "uyNdmQjQ8yOw",
        "colab_type": "code",
        "outputId": "1c39f593-c90e-43a7-efbc-757a1a6db1d1",
        "colab": {
          "base_uri": "https://localhost:8080/",
          "height": 201
        }
      },
      "source": [
        "help(sqr_pr)"
      ],
      "execution_count": 0,
      "outputs": [
        {
          "output_type": "stream",
          "text": [
            "Help on function sqr_pr in module __main__:\n",
            "\n",
            "sqr_pr(a=2, b=4)\n",
            "    sqr_pr - подсчет площади и периметра прямоугольника\n",
            "    вход:\n",
            "        a - длина\n",
            "        b - ширина\n",
            "    выход:\n",
            "        (s,p) - площадь и периметр прямоугольника\n",
            "\n"
          ],
          "name": "stdout"
        }
      ]
    },
    {
      "cell_type": "markdown",
      "metadata": {
        "id": "5F_hHKVTNzia",
        "colab_type": "text"
      },
      "source": [
        "## Дополнительные материалы и литература"
      ]
    },
    {
      "cell_type": "markdown",
      "metadata": {
        "id": "YWhDk5dJN8NC",
        "colab_type": "text"
      },
      "source": [
        "\n",
        "\n",
        "*   Саммерфилд М., Программирование на Python 3. Подробное руководство. - Пер. с англ. - СПб.: Символ-Плюс, 2009. - 608 с, ил., ISBN: 978-5-93286-161-5 С. 202.\n",
        "*   http://pythonicway.com/python-functions\n",
        "\n"
      ]
    }
  ]
}
