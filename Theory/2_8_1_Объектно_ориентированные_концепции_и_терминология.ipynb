{
  "nbformat": 4,
  "nbformat_minor": 0,
  "metadata": {
    "colab": {
      "name": "2.8.1 Объектно-ориентированные концепции и терминология.ipynb",
      "provenance": [],
      "collapsed_sections": []
    },
    "kernelspec": {
      "name": "python3",
      "display_name": "Python 3"
    }
  },
  "cells": [
    {
      "cell_type": "markdown",
      "metadata": {
        "id": "moIM-S1g7SKx",
        "colab_type": "text"
      },
      "source": [
        "# Курс \"Python для анализа данных\"\n",
        "\n",
        "---\n",
        "#2.8.1 Объектно-ориентированные концепции и терминология"
      ]
    },
    {
      "cell_type": "markdown",
      "metadata": {
        "id": "QZ1Arpnj7p_N",
        "colab_type": "text"
      },
      "source": [
        "## Где мы сейчас?\n"
      ]
    },
    {
      "cell_type": "markdown",
      "metadata": {
        "id": "J9A06fP5j1vS",
        "colab_type": "text"
      },
      "source": [
        "<html>\n",
        " <head>\n",
        "  <meta charset=\"utf-8\">\n",
        " </head>\n",
        " <body>\n",
        "  <ul>\n",
        "    <li>1. Введение в анализ данных и разработку на языке Python </li>\n",
        "    <li>2. <strong>Основы языка</strong> <i><- Вот в этой главе!</i>\n",
        "     <ul>\n",
        "      <li>2.1 - 2.6</li>\n",
        "      <li>2.7 Обработка исключений</li>\n",
        "      <li><strong>2.8 Объектно-ориентированное программирование</strong> <i><- Вот в этом параграфе!</i></li>\n",
        "      <ul>\n",
        "        <li><strong>2.8.1 Объектно-ориентированные концепции и терминология</strong><i> <- Вот в этом пункте!</i></li>\n",
        "        <li>2.8.2 Создание собственных классов</li>\n",
        "        <li>2.8.3 Объектно-ориентированное программирование как ключевой элемент языка Python</li>\n",
        "       </ul>\n",
        "      <li>2.9 Обзор стандартной библиотеки языка Python</li>\n",
        "     </ul>\n",
        "    </li>   \n",
        "  </ul>\n",
        " </body>\n",
        "</html>"
      ]
    },
    {
      "cell_type": "markdown",
      "metadata": {
        "id": "z1oJmp_4Po8K",
        "colab_type": "text"
      },
      "source": [
        "## О чем будем говорить?\n"
      ]
    },
    {
      "cell_type": "markdown",
      "metadata": {
        "id": "7X4Wlpraj7Yw",
        "colab_type": "text"
      },
      "source": [
        "Какие бывают стили программирования и с какими из них мы уже хорошо знакомы. Поговорим о том, что такое объектно-ориентированный подход, в чем его приемущества и недостатка. Пройдемся по ключевым элементам классов."
      ]
    },
    {
      "cell_type": "markdown",
      "metadata": {
        "id": "NhfVXiTGAkND",
        "colab_type": "text"
      },
      "source": [
        "## Ключевые слова, понятия и выражения\n",
        "\n",
        "\n",
        "\n",
        "\n"
      ]
    },
    {
      "cell_type": "markdown",
      "metadata": {
        "id": "ixnuL5V2rZtz",
        "colab_type": "text"
      },
      "source": [
        "*   объектно-ориентированный подход\n",
        "*   стили программирования\n",
        "*   полиморфизм\n",
        "*   инкапсуляция\n",
        "*   наследование\n",
        "*   класс\n",
        "*   объект\n",
        "*   class\n",
        "\n"
      ]
    },
    {
      "cell_type": "markdown",
      "metadata": {
        "id": "H1MGw-jK3t_v",
        "colab_type": "text"
      },
      "source": [
        "## Материал"
      ]
    },
    {
      "cell_type": "markdown",
      "metadata": {
        "id": "agFI-MITt5fI",
        "colab_type": "text"
      },
      "source": [
        "### Основные стили программирования"
      ]
    },
    {
      "cell_type": "markdown",
      "metadata": {
        "id": "gCj8rGXEt-Hk",
        "colab_type": "text"
      },
      "source": [
        "Выделим 3 основных стиля программирования в Python:\n",
        "\n",
        "*   Императивное (процедурное) - программа представляет собой последовательность операторов для изменения состояния программы, где переменные служат для хранения этого состояния\n",
        "```\n",
        "a = 2\n",
        "b = 3\n",
        "c = a + b\n",
        "```\n",
        "*   Функциональное - программа представляет собой последовательность вызовов функций для действия над данными\n",
        "```\n",
        "data = [1, 2, 3]\n",
        "sq = lambda x: x**2\n",
        "print(map(sq, data))\n",
        "```\n",
        "*   Объектно-ориентированное программирование - основой программы является объект, представляющий собой совокупность данных и правил их преобразования\n",
        "```\n",
        "class A():\n",
        "  pass\n",
        "```\n",
        "\n",
        "\n",
        "\n",
        "\n"
      ]
    },
    {
      "cell_type": "markdown",
      "metadata": {
        "id": "57JoV6uB4Ma1",
        "colab_type": "text"
      },
      "source": [
        "### Первое знакомство с ООП в Python"
      ]
    },
    {
      "cell_type": "markdown",
      "metadata": {
        "id": "r4PNjw9z4pIn",
        "colab_type": "text"
      },
      "source": [
        "#### Класс"
      ]
    },
    {
      "cell_type": "markdown",
      "metadata": {
        "id": "QRjqhFzsY10w",
        "colab_type": "text"
      },
      "source": [
        "Класс - описание данных и правил взаимодествия этих данных между собой и с остальными элементами программы."
      ]
    },
    {
      "cell_type": "code",
      "metadata": {
        "id": "Y0x8dzeGz1Jl",
        "colab_type": "code",
        "colab": {}
      },
      "source": [
        "# Создаем класс автомобилей\n",
        "class Car:\n",
        "  # создаем атрибуты класса\n",
        "  model = 'GLC'\n",
        "  mark = 'mercedes'\n",
        "  year = 2018\n",
        "\n",
        "  # создание методов класса\n",
        "  def start(self):\n",
        "    print('Поехали!')\n",
        "  def stop(self):\n",
        "    print('Остановились!')"
      ],
      "execution_count": 0,
      "outputs": []
    },
    {
      "cell_type": "markdown",
      "metadata": {
        "id": "WryOyUby5A46",
        "colab_type": "text"
      },
      "source": [
        "#### Объект"
      ]
    },
    {
      "cell_type": "markdown",
      "metadata": {
        "id": "mt0ymONjY6vi",
        "colab_type": "text"
      },
      "source": [
        "Объект - модель реальных данных или событий, которая формализована с использование класса. Описание конкретного объекта называется созданием экземпляра класса."
      ]
    },
    {
      "cell_type": "code",
      "metadata": {
        "id": "PqADA-SY0rcc",
        "colab_type": "code",
        "outputId": "27b6c2f6-6fdc-4559-ae69-0df5a5153cbf",
        "colab": {
          "base_uri": "https://localhost:8080/",
          "height": 53
        }
      },
      "source": [
        "# Создаем конкретный экземпляр класса\n",
        "my_car = Car()\n",
        "print(my_car.model)\n",
        "my_car.start()"
      ],
      "execution_count": 0,
      "outputs": [
        {
          "output_type": "stream",
          "text": [
            "GLC\n",
            "Поехали!\n"
          ],
          "name": "stdout"
        }
      ]
    },
    {
      "cell_type": "markdown",
      "metadata": {
        "id": "pz4MRCVR5_T0",
        "colab_type": "text"
      },
      "source": [
        "#### Атрибуты классов и экземпляров классов"
      ]
    },
    {
      "cell_type": "markdown",
      "metadata": {
        "id": "UY8TasuVZBZ2",
        "colab_type": "text"
      },
      "source": [
        "Атрибуты классов и экземпляров классов - данные относящиеся ко всем без исключения объектам классов и к конкретным экземплярам соответственно"
      ]
    },
    {
      "cell_type": "code",
      "metadata": {
        "id": "OYy5gt371bjq",
        "colab_type": "code",
        "outputId": "e5474326-6d1b-4be9-cff2-4cf9e22227c3",
        "colab": {
          "base_uri": "https://localhost:8080/",
          "height": 72
        }
      },
      "source": [
        "# Просмотр атрибутов класса\n",
        "print(my_car.mark)\n",
        "\n",
        "# Создание дополнительного атрибута класса\n",
        "my_car.volume = 2.0\n",
        "print(my_car.volume)\n",
        "\n",
        "# Создание еще одного экземпляра класса Car\n",
        "my_wife_car = Car()\n",
        "print(my_wife_car.model)"
      ],
      "execution_count": 0,
      "outputs": [
        {
          "output_type": "stream",
          "text": [
            "mercedes\n",
            "2.0\n",
            "GLC\n"
          ],
          "name": "stdout"
        }
      ]
    },
    {
      "cell_type": "code",
      "metadata": {
        "id": "Y0gdBPzL2BDP",
        "colab_type": "code",
        "outputId": "8fe335c5-5709-4c5f-b708-c96999e52a5e",
        "colab": {
          "base_uri": "https://localhost:8080/",
          "height": 171
        }
      },
      "source": [
        "my_wife_car.volume"
      ],
      "execution_count": 0,
      "outputs": [
        {
          "output_type": "error",
          "ename": "AttributeError",
          "evalue": "ignored",
          "traceback": [
            "\u001b[0;31m---------------------------------------------------------------------------\u001b[0m",
            "\u001b[0;31mAttributeError\u001b[0m                            Traceback (most recent call last)",
            "\u001b[0;32m<ipython-input-7-a96b498c8e76>\u001b[0m in \u001b[0;36m<module>\u001b[0;34m()\u001b[0m\n\u001b[0;32m----> 1\u001b[0;31m \u001b[0mmy_wife_car\u001b[0m\u001b[0;34m.\u001b[0m\u001b[0mvolume\u001b[0m\u001b[0;34m\u001b[0m\u001b[0;34m\u001b[0m\u001b[0m\n\u001b[0m",
            "\u001b[0;31mAttributeError\u001b[0m: 'Car' object has no attribute 'volume'"
          ]
        }
      ]
    },
    {
      "cell_type": "code",
      "metadata": {
        "id": "YhBMGziJ2KNR",
        "colab_type": "code",
        "outputId": "ea9e6c3c-9435-487b-d0b8-5d9c36da50e1",
        "colab": {
          "base_uri": "https://localhost:8080/",
          "height": 253
        }
      },
      "source": [
        "# Просмотр доступных атрибутов класса\n",
        "from pprint import pprint\n",
        "pprint(dir(Car), compact=True, width=40)"
      ],
      "execution_count": 0,
      "outputs": [
        {
          "output_type": "stream",
          "text": [
            "['__class__', '__delattr__', '__dict__',\n",
            " '__dir__', '__doc__', '__eq__',\n",
            " '__format__', '__ge__',\n",
            " '__getattribute__', '__gt__',\n",
            " '__hash__', '__init__',\n",
            " '__init_subclass__', '__le__',\n",
            " '__lt__', '__module__', '__ne__',\n",
            " '__new__', '__reduce__',\n",
            " '__reduce_ex__', '__repr__',\n",
            " '__setattr__', '__sizeof__', '__str__',\n",
            " '__subclasshook__', '__weakref__',\n",
            " 'mark', 'model', 'start', 'stop',\n",
            " 'year']\n"
          ],
          "name": "stdout"
        }
      ]
    },
    {
      "cell_type": "code",
      "metadata": {
        "id": "2f7c3YFI2meC",
        "colab_type": "code",
        "outputId": "2ce32459-7a52-4f30-bef0-d2cf3f9ca1fe",
        "colab": {
          "base_uri": "https://localhost:8080/",
          "height": 253
        }
      },
      "source": [
        "# Просмотр доступных атрибутов экземпляра класса\n",
        "pprint(dir(my_wife_car), compact=True, width=40)\n"
      ],
      "execution_count": 0,
      "outputs": [
        {
          "output_type": "stream",
          "text": [
            "['__class__', '__delattr__', '__dict__',\n",
            " '__dir__', '__doc__', '__eq__',\n",
            " '__format__', '__ge__',\n",
            " '__getattribute__', '__gt__',\n",
            " '__hash__', '__init__',\n",
            " '__init_subclass__', '__le__',\n",
            " '__lt__', '__module__', '__ne__',\n",
            " '__new__', '__reduce__',\n",
            " '__reduce_ex__', '__repr__',\n",
            " '__setattr__', '__sizeof__', '__str__',\n",
            " '__subclasshook__', '__weakref__',\n",
            " 'mark', 'model', 'start', 'stop',\n",
            " 'year']\n"
          ],
          "name": "stdout"
        }
      ]
    },
    {
      "cell_type": "markdown",
      "metadata": {
        "id": "30NGBQl050JU",
        "colab_type": "text"
      },
      "source": [
        "#### Методы класса и экземпляров класса"
      ]
    },
    {
      "cell_type": "code",
      "metadata": {
        "id": "94EWfJCv3DnJ",
        "colab_type": "code",
        "outputId": "ff1d102f-3ac8-4bf3-dded-bef1df058b8e",
        "colab": {
          "base_uri": "https://localhost:8080/",
          "height": 371
        }
      },
      "source": [
        "# Методы класса и экземпляра класса\n",
        "class Book:\n",
        "  book_count = 0\n",
        "  \n",
        "  # Метод класса\n",
        "  @staticmethod\n",
        "  def how_many_books():\n",
        "    return Book.book_count\n",
        "\n",
        "  # Метод экземпляра класса\n",
        "  def add_book(self, name, title):\n",
        "    print('Add book!')\n",
        "    self.name = name\n",
        "    self.title = title\n",
        "    Book.book_count += 1\n",
        "\n",
        "print(Book.book_count)\n",
        "\n",
        "# Добавим книгу\n",
        "book1 = Book()\n",
        "book1.add_book(name='Stephen King', title='It')\n",
        "print(Book.book_count)\n",
        "\n",
        "# Добавим еще одну книгу\n",
        "book2 = Book()\n",
        "book2.add_book(name='Stephen King', title='No it')\n",
        "print(Book.book_count)\n",
        "\n",
        "print(book1.name)\n",
        "print(Book.how_many_books())\n",
        "print(book1.how_many_books())\n",
        "print(book2.how_many_books())\n",
        "\n",
        "Book.add_book(name='Stephen King', title='No it')"
      ],
      "execution_count": 0,
      "outputs": [
        {
          "output_type": "stream",
          "text": [
            "0\n",
            "Add book!\n",
            "1\n",
            "Add book!\n",
            "2\n",
            "Stephen King\n",
            "2\n",
            "2\n",
            "2\n"
          ],
          "name": "stdout"
        },
        {
          "output_type": "error",
          "ename": "TypeError",
          "evalue": "ignored",
          "traceback": [
            "\u001b[0;31m---------------------------------------------------------------------------\u001b[0m",
            "\u001b[0;31mTypeError\u001b[0m                                 Traceback (most recent call last)",
            "\u001b[0;32m<ipython-input-20-e2c39d4f9971>\u001b[0m in \u001b[0;36m<module>\u001b[0;34m()\u001b[0m\n\u001b[1;32m     31\u001b[0m \u001b[0mprint\u001b[0m\u001b[0;34m(\u001b[0m\u001b[0mbook2\u001b[0m\u001b[0;34m.\u001b[0m\u001b[0mhow_many_books\u001b[0m\u001b[0;34m(\u001b[0m\u001b[0;34m)\u001b[0m\u001b[0;34m)\u001b[0m\u001b[0;34m\u001b[0m\u001b[0;34m\u001b[0m\u001b[0m\n\u001b[1;32m     32\u001b[0m \u001b[0;34m\u001b[0m\u001b[0m\n\u001b[0;32m---> 33\u001b[0;31m \u001b[0mBook\u001b[0m\u001b[0;34m.\u001b[0m\u001b[0madd_book\u001b[0m\u001b[0;34m(\u001b[0m\u001b[0mname\u001b[0m\u001b[0;34m=\u001b[0m\u001b[0;34m'Stephen King'\u001b[0m\u001b[0;34m,\u001b[0m \u001b[0mtitle\u001b[0m\u001b[0;34m=\u001b[0m\u001b[0;34m'No it'\u001b[0m\u001b[0;34m)\u001b[0m\u001b[0;34m\u001b[0m\u001b[0;34m\u001b[0m\u001b[0m\n\u001b[0m",
            "\u001b[0;31mTypeError\u001b[0m: add_book() missing 1 required positional argument: 'self'"
          ]
        }
      ]
    },
    {
      "cell_type": "markdown",
      "metadata": {
        "id": "0tSfGzZ27U8k",
        "colab_type": "text"
      },
      "source": [
        "#### Специальные методы"
      ]
    },
    {
      "cell_type": "markdown",
      "metadata": {
        "id": "AkF3Clj_ZLJe",
        "colab_type": "text"
      },
      "source": [
        "Специальные методы - конструкторы(создание экземпляра) и деструкторы (удаление экземпляра)"
      ]
    },
    {
      "cell_type": "code",
      "metadata": {
        "id": "Ltm0vlqY6Lue",
        "colab_type": "code",
        "outputId": "bfbe948e-8710-4762-ddc8-1183d26558f9",
        "colab": {
          "base_uri": "https://localhost:8080/",
          "height": 199
        }
      },
      "source": [
        "# Создание конструкторов и деструкторов\n",
        "class Book:\n",
        "  book_count = 0\n",
        "\n",
        "  # Создание конструктора\n",
        "  def __init__(self, name=None):\n",
        "    Book.book_count += 1\n",
        "    if name:\n",
        "      self.name = name\n",
        "    else:\n",
        "      self.name = str(Book.book_count)\n",
        "  \n",
        "  # Создание деструктора\n",
        "  def __del__(self):\n",
        "    print('Кника {} была удалена'.format(self.name))\n",
        "    Book.book_count -= 1\n",
        "\n",
        "book1 = Book('Букварь')\n",
        "print('book1=',book1.name)\n",
        "print('Количество книг:', Book.book_count)\n",
        "\n",
        "\n",
        "book2 = Book()\n",
        "print('book2=',book2.name)\n",
        "print('Количество книг:', Book.book_count)\n",
        "\n",
        "print('\\n Теперь удалим книги!')\n",
        "del book1\n",
        "print('Количество книг:', Book.book_count)\n",
        "del book2\n",
        "print('Количество книг:', Book.book_count)\n"
      ],
      "execution_count": 0,
      "outputs": [
        {
          "output_type": "stream",
          "text": [
            "book1= Букварь\n",
            "Количество книг: 1\n",
            "book2= 2\n",
            "Количество книг: 2\n",
            "\n",
            " Теперь удалим книги!\n",
            "Кника Букварь была удалена\n",
            "Количество книг: 1\n",
            "Кника 2 была удалена\n",
            "Количество книг: 0\n"
          ],
          "name": "stdout"
        }
      ]
    },
    {
      "cell_type": "markdown",
      "metadata": {
        "id": "VltnrsrNmxVW",
        "colab_type": "text"
      },
      "source": [
        "#### Модификаторы доступа - определение области видимости переменных"
      ]
    },
    {
      "cell_type": "code",
      "metadata": {
        "id": "QFg86g4j9Dze",
        "colab_type": "code",
        "outputId": "b7e96c98-faa1-41a2-9beb-fbffcc02d0aa",
        "colab": {
          "base_uri": "https://localhost:8080/",
          "height": 243
        }
      },
      "source": [
        "# Создаем класс Car\n",
        "class Car:\n",
        "  # создаем атрибуты класса\n",
        "  def __init__(self):\n",
        "    # public - доступ из любой точки программы\n",
        "    self.model = 'GLC'\n",
        "    # protected - доступ есть, но лучше не использовать за пределами класса\n",
        "    self._mark = 'mercedes'\n",
        "    # private - приватная переменная, к которой нет доступа\n",
        "    self.__year = 2018\n",
        "\n",
        "my_car = Car()\n",
        "print('model:', my_car.model)\n",
        "print('mark:', my_car._mark)\n",
        "print('year:', my_car.__year)"
      ],
      "execution_count": 0,
      "outputs": [
        {
          "output_type": "stream",
          "text": [
            "model: GLC\n",
            "mark: mercedes\n"
          ],
          "name": "stdout"
        },
        {
          "output_type": "error",
          "ename": "AttributeError",
          "evalue": "ignored",
          "traceback": [
            "\u001b[0;31m---------------------------------------------------------------------------\u001b[0m",
            "\u001b[0;31mAttributeError\u001b[0m                            Traceback (most recent call last)",
            "\u001b[0;32m<ipython-input-30-76206279a811>\u001b[0m in \u001b[0;36m<module>\u001b[0;34m()\u001b[0m\n\u001b[1;32m     12\u001b[0m \u001b[0mprint\u001b[0m\u001b[0;34m(\u001b[0m\u001b[0;34m'model:'\u001b[0m\u001b[0;34m,\u001b[0m \u001b[0mmy_car\u001b[0m\u001b[0;34m.\u001b[0m\u001b[0mmodel\u001b[0m\u001b[0;34m)\u001b[0m\u001b[0;34m\u001b[0m\u001b[0;34m\u001b[0m\u001b[0m\n\u001b[1;32m     13\u001b[0m \u001b[0mprint\u001b[0m\u001b[0;34m(\u001b[0m\u001b[0;34m'mark:'\u001b[0m\u001b[0;34m,\u001b[0m \u001b[0mmy_car\u001b[0m\u001b[0;34m.\u001b[0m\u001b[0m_mark\u001b[0m\u001b[0;34m)\u001b[0m\u001b[0;34m\u001b[0m\u001b[0;34m\u001b[0m\u001b[0m\n\u001b[0;32m---> 14\u001b[0;31m \u001b[0mprint\u001b[0m\u001b[0;34m(\u001b[0m\u001b[0;34m'year:'\u001b[0m\u001b[0;34m,\u001b[0m \u001b[0mmy_car\u001b[0m\u001b[0;34m.\u001b[0m\u001b[0m__year\u001b[0m\u001b[0;34m)\u001b[0m\u001b[0;34m\u001b[0m\u001b[0;34m\u001b[0m\u001b[0m\n\u001b[0m",
            "\u001b[0;31mAttributeError\u001b[0m: 'Car' object has no attribute '__year'"
          ]
        }
      ]
    },
    {
      "cell_type": "code",
      "metadata": {
        "id": "5-TiMXbc-iZ7",
        "colab_type": "code",
        "outputId": "3f038967-0cf2-4917-ed09-3e50e2935a70",
        "colab": {
          "base_uri": "https://localhost:8080/",
          "height": 35
        }
      },
      "source": [
        "# Однако\n",
        "print('year:', my_car._Car__year)"
      ],
      "execution_count": 0,
      "outputs": [
        {
          "output_type": "stream",
          "text": [
            "year: 2018\n"
          ],
          "name": "stdout"
        }
      ]
    },
    {
      "cell_type": "markdown",
      "metadata": {
        "id": "C6lSm3fh2rEf",
        "colab_type": "text"
      },
      "source": [
        "### Объектно-ориентированное программирование: полиморфизм, наследование, инкапсуляция\n",
        "\n"
      ]
    },
    {
      "cell_type": "markdown",
      "metadata": {
        "id": "vgyvhqvI24Ob",
        "colab_type": "text"
      },
      "source": [
        "#### Наследование"
      ]
    },
    {
      "cell_type": "markdown",
      "metadata": {
        "id": "swCZnWJZZUkB",
        "colab_type": "text"
      },
      "source": [
        "Наследование - класс может наследовать характеристики другого класса. Можно строить сложные иерархии."
      ]
    },
    {
      "cell_type": "markdown",
      "metadata": {
        "id": "yfgp8jzmw5K4",
        "colab_type": "text"
      },
      "source": [
        "#### Полиморфизм"
      ]
    },
    {
      "cell_type": "markdown",
      "metadata": {
        "id": "Ie4rprMnZaC3",
        "colab_type": "text"
      },
      "source": [
        "Полиморфизм - способность объекта производного класса по-особому реагировать на методы наследуемого класса. Или проще, интерфейс методов один - выполнения разное."
      ]
    },
    {
      "cell_type": "markdown",
      "metadata": {
        "id": "B0C9lAgrw-0I",
        "colab_type": "text"
      },
      "source": [
        "#### Инкапсуляция "
      ]
    },
    {
      "cell_type": "markdown",
      "metadata": {
        "id": "wm-MU1yhZgph",
        "colab_type": "text"
      },
      "source": [
        "Инкапсуляция - скрытие данных в рамках класса. Более точно, один класс не должен иметь прямого доступа к данным другого класса, а возможность доступа должна осуществляться через методы класса."
      ]
    },
    {
      "cell_type": "markdown",
      "metadata": {
        "id": "t6OMMaNB24jn",
        "colab_type": "text"
      },
      "source": [
        "### Плюсы и минусы объектно-ориентированного программирования"
      ]
    },
    {
      "cell_type": "markdown",
      "metadata": {
        "id": "znm57fyy3MVp",
        "colab_type": "text"
      },
      "source": [
        "**+Плюсы:**\n",
        "\n",
        "*   Уменьшение времени на разработку за счет  повторного использования кода: передача готового класса с документацией по взаимодействию с его методами и атрибутами. Уход от необходимости разбираться в деталях реализации\n",
        "*   Создание унифицированных решений для разных типов входных данных за счет использования полиморфизма\n",
        "*   Читаемый и гибкий код\n",
        "*   Удобство исправления ошибок при использовании классов для решения конкретной подзадачи в крупном проекте. Локализация кода и данных\n",
        "*   Повышение уровня безопасности за счет использования инкапсуляции критичных данных \n",
        "\n",
        "**-Минусы:**\n",
        "\n",
        "\n",
        "*   Сложность отслеживания структур классов при возрастании их количества и наследовании\n",
        "*   Необходимость в детальной проработке структуры программы перед началом разработки. Проектирование классов куда более сложная задача, чем их использование\n",
        "*   Оценка адекватности применения объектно-ориентированного стиля в разных задачах может показаться сложной для начинающих разработчиков\n",
        "\n",
        "\n",
        "\n"
      ]
    },
    {
      "cell_type": "markdown",
      "metadata": {
        "id": "S9ZAaIc7d0Si",
        "colab_type": "text"
      },
      "source": [
        "## За рамками материала"
      ]
    },
    {
      "cell_type": "markdown",
      "metadata": {
        "id": "8T-AFlP0gRsC",
        "colab_type": "text"
      },
      "source": [
        "\n",
        "\n",
        "*   глубокое знакомство с философией основных стилей программирования\n",
        "\n",
        "*   создание собственных типов данных\n",
        "\n",
        "*   детальная проработка методов инкапсуляции данных (@properties,@setter)\n",
        "\n",
        "*   множественное наследование\n",
        "\n"
      ]
    },
    {
      "cell_type": "markdown",
      "metadata": {
        "id": "5F_hHKVTNzia",
        "colab_type": "text"
      },
      "source": [
        "## Дополнительные материалы и литература"
      ]
    },
    {
      "cell_type": "markdown",
      "metadata": {
        "id": "YWhDk5dJN8NC",
        "colab_type": "text"
      },
      "source": [
        "\n",
        "\n",
        "*   Саммерфилд М., Программирование на Python 3. Подробное руководство. - Пер. с англ. - СПб.: Символ-Плюс, 2009. - 608 с, ил., ISBN: 978-5-93286-161-5 С. 273.\n",
        "*   https://proglib.io/p/python-oop/\n",
        "\n"
      ]
    }
  ]
}