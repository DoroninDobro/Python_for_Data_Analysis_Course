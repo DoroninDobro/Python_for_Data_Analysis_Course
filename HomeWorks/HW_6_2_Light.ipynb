{
  "nbformat": 4,
  "nbformat_minor": 0,
  "metadata": {
    "colab": {
      "name": "Копия блокнота \"ДЗ-6.2-Light.ipynb\"",
      "provenance": [],
      "collapsed_sections": []
    },
    "kernelspec": {
      "name": "python3",
      "display_name": "Python 3"
    }
  },
  "cells": [
    {
      "cell_type": "markdown",
      "metadata": {
        "id": "MH-3kVwvJYeP",
        "colab_type": "text"
      },
      "source": [
        "# Курс \"Python для анализа данных\"\n",
        "\n",
        "---\n",
        "# Домашнее задание LIGHT\n",
        "#6.2 Библиотека Pandas для загрузки и первичной обработки исходных данных"
      ]
    },
    {
      "cell_type": "code",
      "metadata": {
        "id": "fGNSU6VDMU7f",
        "colab_type": "code",
        "colab": {}
      },
      "source": [
        "# Запустите код ниже для старта, но не правьте во избежания ошибок проверки!\n",
        "_HOMEWORK_NAME_ = '6.2_LIGHT'\n",
        "_HOMEWORK_ANSWER_DICT_ = dict()"
      ],
      "execution_count": 1,
      "outputs": []
    },
    {
      "cell_type": "markdown",
      "metadata": {
        "id": "xp_DlvMXJ8Ed",
        "colab_type": "text"
      },
      "source": [
        "## ФИО участника"
      ]
    },
    {
      "cell_type": "code",
      "metadata": {
        "id": "RHUt9t1XMw9a",
        "colab_type": "code",
        "colab": {}
      },
      "source": [
        "# Введите ваше имя и фамилию в соответствующую позицию 'NAME' и 'LAST_NAME'!\n",
        "_NAME_SERNAME_ = {\n",
        "    'NAME' : 'Vladimir',\n",
        "    'LAST_NAME' : 'Doronin'\n",
        "}"
      ],
      "execution_count": 2,
      "outputs": []
    },
    {
      "cell_type": "markdown",
      "metadata": {
        "id": "gMwyKhlQJ1mf",
        "colab_type": "text"
      },
      "source": [
        "## Задание 1"
      ]
    },
    {
      "cell_type": "markdown",
      "metadata": {
        "id": "Owu684lKKrjJ",
        "colab_type": "text"
      },
      "source": [
        "**Условие:** \n",
        "Загрузите данные датасета ```house_train.csv```. Выведите описательную информацию о датасете. Найдите все признаки типа ```object```. \n",
        "\n",
        "**Оценка в баллах:** 3 балла"
      ]
    },
    {
      "cell_type": "markdown",
      "metadata": {
        "id": "4UhsgR8dytZq",
        "colab_type": "text"
      },
      "source": [
        "Полное описание признаков датасета:\n",
        "    \n",
        "* SalePrice - the property's sale price in dollars. This is the target variable that you're trying to predict.\n",
        "* MSSubClass: The building class\n",
        "* MSZoning: The general zoning classification\n",
        "* LotFrontage: Linear feet of street connected to property\n",
        "* LotArea: Lot size in square feet\n",
        "* Street: Type of road access\n",
        "* Alley: Type of alley access\n",
        "* LotShape: General shape of property\n",
        "* LandContour: Flatness of the property\n",
        "* Utilities: Type of utilities available\n",
        "* LotConfig: Lot configuration\n",
        "* LandSlope: Slope of property\n",
        "* Neighborhood: Physical locations within Ames city limits\n",
        "* Condition1: Proximity to main road or railroad\n",
        "* Condition2: Proximity to main road or railroad (if a second is present)\n",
        "* BldgType: Type of dwelling\n",
        "* HouseStyle: Style of dwelling\n",
        "* OverallQual: Overall material and finish quality\n",
        "* OverallCond: Overall condition rating\n",
        "* YearBuilt: Original construction date\n",
        "* YearRemodAdd: Remodel date\n",
        "* RoofStyle: Type of roof\n",
        "* RoofMatl: Roof material\n",
        "* Exterior1st: Exterior covering on house\n",
        "* Exterior2nd: Exterior covering on house (if more than one material)\n",
        "* MasVnrType: Masonry veneer type\n",
        "* MasVnrArea: Masonry veneer area in square feet\n",
        "* ExterQual: Exterior material quality\n",
        "* ExterCond: Present condition of the material on the exterior\n",
        "* Foundation: Type of foundation\n",
        "* BsmtQual: Height of the basement\n",
        "* BsmtCond: General condition of the basement\n",
        "* BsmtExposure: Walkout or garden level basement walls\n",
        "* BsmtFinType1: Quality of basement finished area\n",
        "* BsmtFinSF1: Type 1 finished square feet\n",
        "* BsmtFinType2: Quality of second finished area (if present)\n",
        "* BsmtFinSF2: Type 2 finished square feet\n",
        "* BsmtUnfSF: Unfinished square feet of basement area\n",
        "* TotalBsmtSF: Total square feet of basement area\n",
        "* Heating: Type of heating\n",
        "* HeatingQC: Heating quality and condition\n",
        "* CentralAir: Central air conditioning\n",
        "* Electrical: Electrical system\n",
        "* 1stFlrSF: First Floor square feet\n",
        "* 2ndFlrSF: Second floor square feet\n",
        "* LowQualFinSF: Low quality finished square feet (all floors)\n",
        "* GrLivArea: Above grade (ground) living area square feet\n",
        "* BsmtFullBath: Basement full bathrooms\n",
        "* BsmtHalfBath: Basement half bathrooms\n",
        "* FullBath: Full bathrooms above grade\n",
        "* HalfBath: Half baths above grade\n",
        "* Bedroom: Number of bedrooms above basement level\n",
        "* Kitchen: Number of kitchens\n",
        "* KitchenQual: Kitchen quality\n",
        "* TotRmsAbvGrd: Total rooms above grade (does not include bathrooms)\n",
        "* Functional: Home functionality rating\n",
        "* Fireplaces: Number of fireplaces\n",
        "* FireplaceQu: Fireplace quality\n",
        "* GarageType: Garage location\n",
        "* GarageYrBlt: Year garage was built\n",
        "* GarageFinish: Interior finish of the garage\n",
        "* GarageCars: Size of garage in car capacity\n",
        "* GarageArea: Size of garage in square feet\n",
        "* GarageQual: Garage quality\n",
        "* GarageCond: Garage condition\n",
        "* PavedDrive: Paved driveway\n",
        "* WoodDeckSF: Wood deck area in square feet\n",
        "* OpenPorchSF: Open porch area in square feet\n",
        "* EnclosedPorch: Enclosed porch area in square feet\n",
        "* 3SsnPorch: Three season porch area in square feet\n",
        "* ScreenPorch: Screen porch area in square feet\n",
        "* PoolArea: Pool area in square feet\n",
        "* PoolQC: Pool quality\n",
        "* Fence: Fence quality\n",
        "* MiscFeature: Miscellaneous feature not covered in other categories\n",
        "* MiscVal: Value of miscellaneous feature\n",
        "* MoSold: Month Sold\n",
        "* YrSold: Year Sold\n",
        "* SaleType: Type of sale\n",
        "* SaleCondition: Condition of sale"
      ]
    },
    {
      "cell_type": "markdown",
      "metadata": {
        "id": "OCTvo3fHLaaJ",
        "colab_type": "text"
      },
      "source": [
        "**Решение:**"
      ]
    },
    {
      "cell_type": "code",
      "metadata": {
        "id": "f9_8IGndLeRO",
        "colab_type": "code",
        "colab": {}
      },
      "source": [
        "import pandas as pd\n",
        "import numpy as np\n",
        "\n",
        "\n",
        "url = 'https://raw.githubusercontent.com/rohan-varma/house-predict-nn/master/data/house_train.csv'\n",
        "df1 = pd.read_csv(url)"
      ],
      "execution_count": 14,
      "outputs": []
    },
    {
      "cell_type": "code",
      "metadata": {
        "id": "3_3v99S9dlgQ",
        "colab_type": "code",
        "colab": {
          "base_uri": "https://localhost:8080/",
          "height": 1000
        },
        "outputId": "b28657eb-cdd7-4fa8-eba8-d674d2e54d8e"
      },
      "source": [
        "df1.info()"
      ],
      "execution_count": 4,
      "outputs": [
        {
          "output_type": "stream",
          "text": [
            "<class 'pandas.core.frame.DataFrame'>\n",
            "RangeIndex: 1460 entries, 0 to 1459\n",
            "Data columns (total 81 columns):\n",
            " #   Column         Non-Null Count  Dtype  \n",
            "---  ------         --------------  -----  \n",
            " 0   Id             1460 non-null   int64  \n",
            " 1   MSSubClass     1460 non-null   int64  \n",
            " 2   MSZoning       1460 non-null   object \n",
            " 3   LotFrontage    1201 non-null   float64\n",
            " 4   LotArea        1460 non-null   int64  \n",
            " 5   Street         1460 non-null   object \n",
            " 6   Alley          91 non-null     object \n",
            " 7   LotShape       1460 non-null   object \n",
            " 8   LandContour    1460 non-null   object \n",
            " 9   Utilities      1460 non-null   object \n",
            " 10  LotConfig      1460 non-null   object \n",
            " 11  LandSlope      1460 non-null   object \n",
            " 12  Neighborhood   1460 non-null   object \n",
            " 13  Condition1     1460 non-null   object \n",
            " 14  Condition2     1460 non-null   object \n",
            " 15  BldgType       1460 non-null   object \n",
            " 16  HouseStyle     1460 non-null   object \n",
            " 17  OverallQual    1460 non-null   int64  \n",
            " 18  OverallCond    1460 non-null   int64  \n",
            " 19  YearBuilt      1460 non-null   int64  \n",
            " 20  YearRemodAdd   1460 non-null   int64  \n",
            " 21  RoofStyle      1460 non-null   object \n",
            " 22  RoofMatl       1460 non-null   object \n",
            " 23  Exterior1st    1460 non-null   object \n",
            " 24  Exterior2nd    1460 non-null   object \n",
            " 25  MasVnrType     1452 non-null   object \n",
            " 26  MasVnrArea     1452 non-null   float64\n",
            " 27  ExterQual      1460 non-null   object \n",
            " 28  ExterCond      1460 non-null   object \n",
            " 29  Foundation     1460 non-null   object \n",
            " 30  BsmtQual       1423 non-null   object \n",
            " 31  BsmtCond       1423 non-null   object \n",
            " 32  BsmtExposure   1422 non-null   object \n",
            " 33  BsmtFinType1   1423 non-null   object \n",
            " 34  BsmtFinSF1     1460 non-null   int64  \n",
            " 35  BsmtFinType2   1422 non-null   object \n",
            " 36  BsmtFinSF2     1460 non-null   int64  \n",
            " 37  BsmtUnfSF      1460 non-null   int64  \n",
            " 38  TotalBsmtSF    1460 non-null   int64  \n",
            " 39  Heating        1460 non-null   object \n",
            " 40  HeatingQC      1460 non-null   object \n",
            " 41  CentralAir     1460 non-null   object \n",
            " 42  Electrical     1459 non-null   object \n",
            " 43  1stFlrSF       1460 non-null   int64  \n",
            " 44  2ndFlrSF       1460 non-null   int64  \n",
            " 45  LowQualFinSF   1460 non-null   int64  \n",
            " 46  GrLivArea      1460 non-null   int64  \n",
            " 47  BsmtFullBath   1460 non-null   int64  \n",
            " 48  BsmtHalfBath   1460 non-null   int64  \n",
            " 49  FullBath       1460 non-null   int64  \n",
            " 50  HalfBath       1460 non-null   int64  \n",
            " 51  BedroomAbvGr   1460 non-null   int64  \n",
            " 52  KitchenAbvGr   1460 non-null   int64  \n",
            " 53  KitchenQual    1460 non-null   object \n",
            " 54  TotRmsAbvGrd   1460 non-null   int64  \n",
            " 55  Functional     1460 non-null   object \n",
            " 56  Fireplaces     1460 non-null   int64  \n",
            " 57  FireplaceQu    770 non-null    object \n",
            " 58  GarageType     1379 non-null   object \n",
            " 59  GarageYrBlt    1379 non-null   float64\n",
            " 60  GarageFinish   1379 non-null   object \n",
            " 61  GarageCars     1460 non-null   int64  \n",
            " 62  GarageArea     1460 non-null   int64  \n",
            " 63  GarageQual     1379 non-null   object \n",
            " 64  GarageCond     1379 non-null   object \n",
            " 65  PavedDrive     1460 non-null   object \n",
            " 66  WoodDeckSF     1460 non-null   int64  \n",
            " 67  OpenPorchSF    1460 non-null   int64  \n",
            " 68  EnclosedPorch  1460 non-null   int64  \n",
            " 69  3SsnPorch      1460 non-null   int64  \n",
            " 70  ScreenPorch    1460 non-null   int64  \n",
            " 71  PoolArea       1460 non-null   int64  \n",
            " 72  PoolQC         7 non-null      object \n",
            " 73  Fence          281 non-null    object \n",
            " 74  MiscFeature    54 non-null     object \n",
            " 75  MiscVal        1460 non-null   int64  \n",
            " 76  MoSold         1460 non-null   int64  \n",
            " 77  YrSold         1460 non-null   int64  \n",
            " 78  SaleType       1460 non-null   object \n",
            " 79  SaleCondition  1460 non-null   object \n",
            " 80  SalePrice      1460 non-null   int64  \n",
            "dtypes: float64(3), int64(35), object(43)\n",
            "memory usage: 924.0+ KB\n"
          ],
          "name": "stdout"
        }
      ]
    },
    {
      "cell_type": "code",
      "metadata": {
        "id": "41h84CDldy_t",
        "colab_type": "code",
        "colab": {
          "base_uri": "https://localhost:8080/",
          "height": 817
        },
        "outputId": "80f08f05-f521-43ab-8da1-5580b2afa939"
      },
      "source": [
        "df1.dtypes[df1.dtypes==object]"
      ],
      "execution_count": 6,
      "outputs": [
        {
          "output_type": "execute_result",
          "data": {
            "text/plain": [
              "MSZoning         object\n",
              "Street           object\n",
              "Alley            object\n",
              "LotShape         object\n",
              "LandContour      object\n",
              "Utilities        object\n",
              "LotConfig        object\n",
              "LandSlope        object\n",
              "Neighborhood     object\n",
              "Condition1       object\n",
              "Condition2       object\n",
              "BldgType         object\n",
              "HouseStyle       object\n",
              "RoofStyle        object\n",
              "RoofMatl         object\n",
              "Exterior1st      object\n",
              "Exterior2nd      object\n",
              "MasVnrType       object\n",
              "ExterQual        object\n",
              "ExterCond        object\n",
              "Foundation       object\n",
              "BsmtQual         object\n",
              "BsmtCond         object\n",
              "BsmtExposure     object\n",
              "BsmtFinType1     object\n",
              "BsmtFinType2     object\n",
              "Heating          object\n",
              "HeatingQC        object\n",
              "CentralAir       object\n",
              "Electrical       object\n",
              "KitchenQual      object\n",
              "Functional       object\n",
              "FireplaceQu      object\n",
              "GarageType       object\n",
              "GarageFinish     object\n",
              "GarageQual       object\n",
              "GarageCond       object\n",
              "PavedDrive       object\n",
              "PoolQC           object\n",
              "Fence            object\n",
              "MiscFeature      object\n",
              "SaleType         object\n",
              "SaleCondition    object\n",
              "dtype: object"
            ]
          },
          "metadata": {
            "tags": []
          },
          "execution_count": 6
        }
      ]
    },
    {
      "cell_type": "markdown",
      "metadata": {
        "colab_type": "text",
        "id": "g5S0h2-wKfGE"
      },
      "source": [
        "## Задание 2"
      ]
    },
    {
      "cell_type": "markdown",
      "metadata": {
        "colab_type": "text",
        "id": "orX7BUzcPKKf"
      },
      "source": [
        "**Условие:** \n",
        "Для датасета из задания 1 найдите признаки с пропусками. Если количество пропусков в признаке больше ```50%```, то удалите весь столбец признака. Если не более ```50%```, то пропуски замените на среднее значение в случае численного признака и на наиболее часто встречаемое значение в случае категориального.\n",
        "\n",
        "**Оценка в баллах:** 3 балла"
      ]
    },
    {
      "cell_type": "markdown",
      "metadata": {
        "colab_type": "text",
        "id": "ESSLfwqEPKKn"
      },
      "source": [
        "**Решение:**"
      ]
    },
    {
      "cell_type": "code",
      "metadata": {
        "id": "29XhBiSGef0G",
        "colab_type": "code",
        "colab": {
          "base_uri": "https://localhost:8080/",
          "height": 35
        },
        "outputId": "b3a123a6-f35c-4e02-94f8-cf004da2058e"
      },
      "source": [
        "df1['PoolQC'].isnull().sum()"
      ],
      "execution_count": 11,
      "outputs": [
        {
          "output_type": "execute_result",
          "data": {
            "text/plain": [
              "1453"
            ]
          },
          "metadata": {
            "tags": []
          },
          "execution_count": 11
        }
      ]
    },
    {
      "cell_type": "code",
      "metadata": {
        "id": "vxl07XeogAu6",
        "colab_type": "code",
        "colab": {
          "base_uri": "https://localhost:8080/",
          "height": 35
        },
        "outputId": "9078b842-077d-40a8-b8f3-30adfecfd2c3"
      },
      "source": [
        "df1.shape"
      ],
      "execution_count": 15,
      "outputs": [
        {
          "output_type": "execute_result",
          "data": {
            "text/plain": [
              "(1460, 81)"
            ]
          },
          "metadata": {
            "tags": []
          },
          "execution_count": 15
        }
      ]
    },
    {
      "cell_type": "code",
      "metadata": {
        "id": "0ifwKFbkeuB9",
        "colab_type": "code",
        "colab": {
          "base_uri": "https://localhost:8080/",
          "height": 235
        },
        "outputId": "de382e75-cf90-4ebe-ad8b-e98baea22959"
      },
      "source": [
        "for col in df1.columns:\n",
        "  if df1[col].isnull().sum() > 730:\n",
        "    df1 = df1.drop([col], axis=1)\n",
        "  elif df1[col].isnull().sum() > 0:\n",
        "    if df1[col].dtypes == object:\n",
        "      df1[col] = df1[col].fillna(df1[col].value_counts().argmax())\n",
        "    else:\n",
        "      df1[col] = df1[col].fillna(df1[col].mean())\n",
        "df1.isnull().sum()"
      ],
      "execution_count": 24,
      "outputs": [
        {
          "output_type": "execute_result",
          "data": {
            "text/plain": [
              "Id               0\n",
              "MSSubClass       0\n",
              "MSZoning         0\n",
              "LotFrontage      0\n",
              "LotArea          0\n",
              "                ..\n",
              "MoSold           0\n",
              "YrSold           0\n",
              "SaleType         0\n",
              "SaleCondition    0\n",
              "SalePrice        0\n",
              "Length: 77, dtype: int64"
            ]
          },
          "metadata": {
            "tags": []
          },
          "execution_count": 24
        }
      ]
    },
    {
      "cell_type": "markdown",
      "metadata": {
        "id": "kiKkFcn6KQFA",
        "colab_type": "text"
      },
      "source": [
        "## Комментарии участника"
      ]
    },
    {
      "cell_type": "code",
      "metadata": {
        "id": "3aI3lBQVdvaY",
        "colab_type": "code",
        "colab": {}
      },
      "source": [
        "_YOUR_COMMENT_ = 'All right!'"
      ],
      "execution_count": 25,
      "outputs": []
    },
    {
      "cell_type": "markdown",
      "metadata": {
        "id": "TvzA7RQXcywE",
        "colab_type": "text"
      },
      "source": [
        "## Создание отчета"
      ]
    },
    {
      "cell_type": "code",
      "metadata": {
        "id": "y-d24eqmdn4x",
        "colab_type": "code",
        "colab": {
          "base_uri": "https://localhost:8080/",
          "height": 35
        },
        "outputId": "eb999257-a9b8-4d3c-909c-f58d7e23c3b2"
      },
      "source": [
        "# Проверьте правильность заполнения полей и \n",
        "# выполните данный код для создания отчета\n",
        "# и сохранения на локальную машину\n",
        "from google.colab import files\n",
        "import json\n",
        "try:\n",
        "  # form a report\n",
        "  _HM_REPORT_ = {'Answers':_HOMEWORK_ANSWER_DICT_,\n",
        "                'Comment':_YOUR_COMMENT_,\n",
        "                'User':_NAME_SERNAME_,\n",
        "                }\n",
        "\n",
        "  # create a report name\n",
        "  _REPORT_NAME_ = 'HM_' +\\\n",
        "                    _HOMEWORK_NAME_ + \\\n",
        "                  '_by_' + \\\n",
        "                  _NAME_SERNAME_['LAST_NAME'] + \\\n",
        "                  '.json'\n",
        "  \n",
        "  # Save a report to a file\n",
        "  f = open(_REPORT_NAME_,\"w\")\n",
        "  f.write(json.dumps(_HM_REPORT_))\n",
        "  f.close()\n",
        "\n",
        "  # Donwnload the file into a local host\n",
        "  files.download(_REPORT_NAME_) \n",
        "  print('Thanks for the work, {name}!'.format(name=_NAME_SERNAME_['NAME']))\n",
        "except Exception as error:\n",
        "   print(error)\n",
        "   print('Something went wrong! Check the data entry and try again!')"
      ],
      "execution_count": 26,
      "outputs": [
        {
          "output_type": "display_data",
          "data": {
            "application/javascript": [
              "\n",
              "    async function download(id, filename, size) {\n",
              "      if (!google.colab.kernel.accessAllowed) {\n",
              "        return;\n",
              "      }\n",
              "      const div = document.createElement('div');\n",
              "      const label = document.createElement('label');\n",
              "      label.textContent = `Downloading \"${filename}\": `;\n",
              "      div.appendChild(label);\n",
              "      const progress = document.createElement('progress');\n",
              "      progress.max = size;\n",
              "      div.appendChild(progress);\n",
              "      document.body.appendChild(div);\n",
              "\n",
              "      const buffers = [];\n",
              "      let downloaded = 0;\n",
              "\n",
              "      const channel = await google.colab.kernel.comms.open(id);\n",
              "      // Send a message to notify the kernel that we're ready.\n",
              "      channel.send({})\n",
              "\n",
              "      for await (const message of channel.messages) {\n",
              "        // Send a message to notify the kernel that we're ready.\n",
              "        channel.send({})\n",
              "        if (message.buffers) {\n",
              "          for (const buffer of message.buffers) {\n",
              "            buffers.push(buffer);\n",
              "            downloaded += buffer.byteLength;\n",
              "            progress.value = downloaded;\n",
              "          }\n",
              "        }\n",
              "      }\n",
              "      const blob = new Blob(buffers, {type: 'application/binary'});\n",
              "      const a = document.createElement('a');\n",
              "      a.href = window.URL.createObjectURL(blob);\n",
              "      a.download = filename;\n",
              "      div.appendChild(a);\n",
              "      a.click();\n",
              "      div.remove();\n",
              "    }\n",
              "  "
            ],
            "text/plain": [
              "<IPython.core.display.Javascript object>"
            ]
          },
          "metadata": {
            "tags": []
          }
        },
        {
          "output_type": "display_data",
          "data": {
            "application/javascript": [
              "download(\"download_f3110da5-41c0-4c9c-b9df-150af1f60082\", \"HM_6.2_LIGHT_by_Doronin.json\", 94)"
            ],
            "text/plain": [
              "<IPython.core.display.Javascript object>"
            ]
          },
          "metadata": {
            "tags": []
          }
        },
        {
          "output_type": "stream",
          "text": [
            "Thanks for the work, Vladimir!\n"
          ],
          "name": "stdout"
        }
      ]
    },
    {
      "cell_type": "code",
      "metadata": {
        "id": "MWxLzzAsiKxc",
        "colab_type": "code",
        "colab": {}
      },
      "source": [
        ""
      ],
      "execution_count": null,
      "outputs": []
    }
  ]
}